{
 "cells": [
  {
   "cell_type": "code",
   "execution_count": 1,
   "metadata": {
    "collapsed": true
   },
   "outputs": [],
   "source": [
    "# Import libraries necessary for this project\n",
    "import numpy as np\n",
    "import pandas as pd\n",
    "import os\n",
    "import matplotlib.pyplot as plt\n",
    "# Show matplotlib plots inline\n",
    "%matplotlib inline\n",
    "bases_dir = \"season_2_data\"\n",
    "\n",
    "# Load the data path\n",
    "TRAIN_DATA_DIR = \"season_2_data/training_data\"\n",
    "TEST_DATA_DIR = \"season_2_data/test_data\"\n",
    "\n",
    "# All the data dirs\n",
    "CLUSTER_MAP_SHEET_DIR = \"cluster_map\"\n",
    "ORDER_SHEET_DIR = \"order_data\"\n",
    "TRAFFIC_SHEET_DIR = \"traffic_data\"\n",
    "WEATHER_SHEET_DIR = \"weather_data\"\n",
    "POI_SHEET_DIR = \"poi_data\""
   ]
  },
  {
   "cell_type": "markdown",
   "metadata": {},
   "source": [
    "### MAPE"
   ]
  },
  {
   "cell_type": "code",
   "execution_count": 2,
   "metadata": {
    "collapsed": false
   },
   "outputs": [],
   "source": [
    "from sklearn.utils import assert_all_finite\n",
    "def MAPE(y_pred, y_true):\n",
    "    y_true = np.asanyarray(y_true)\n",
    "    y_pred = np.asanyarray(y_pred)\n",
    "    assert_all_finite(y_true)\n",
    "    assert_all_finite(y_pred)\n",
    "    #Filter zero values in y_true\n",
    "    sel = (y_true != 0)\n",
    "    y_true = y_true[sel]\n",
    "    y_pred = y_pred[sel]\n",
    "    \n",
    "    return np.mean(np.abs((y_true - y_pred) / y_true))"
   ]
  },
  {
   "cell_type": "markdown",
   "metadata": {},
   "source": [
    "### Standard Indexing "
   ]
  },
  {
   "cell_type": "markdown",
   "metadata": {},
   "source": [
    "## Data Load\n",
    "\n",
    "The training data: 2016-01-01 to 2016-01-21.<br>\n",
    "the number of order and traffic values for each items = `144*21*66 = 199584` <br>\n",
    "the number of weather values for each items = `144*21 = 3024`\n",
    "\n",
    "The test data: 2016-01-22, 24, 26, 28 and 30. <br>\n",
    "the number of order and traffic values for each items = `9*3*5*66 = 8910` <br>\n",
    "the number of weather values for each items = `9*3*5 = 135`\n",
    "\n",
    "The submit data: 9 time slots (i.e. 46, 58, 70, 82, 94, 106, 118, 130, and 142) in each distrct at the days in test data.<br>\n",
    "the number of rows is 2838? why.\n",
    "\n",
    "\n",
    "There are many time slots missing. The empty slots should be found first. build a standard time slots index in each district_id to compare with them, and then I choose using interpolation to fill in missing data by copying the values from nearest neighbors.\n",
    "\n",
    "\n"
   ]
  },
  {
   "cell_type": "markdown",
   "metadata": {},
   "source": [
    "### Order Data"
   ]
  },
  {
   "cell_type": "code",
   "execution_count": 3,
   "metadata": {
    "collapsed": false
   },
   "outputs": [],
   "source": [
    "import glob\n",
    "\n",
    "# Load all the order data as train_order and test_order\n",
    "train_order_path = os.path.join(TRAIN_DATA_DIR, ORDER_SHEET_DIR)\n",
    "test_order_path = os.path.join(TEST_DATA_DIR, ORDER_SHEET_DIR)\n",
    "\n",
    "train_order_files = glob.glob(os.path.join(train_order_path, \"*.csv\"))\n",
    "test_order_files = glob.glob(os.path.join(test_order_path, \"*.csv\"))\n",
    "\n",
    "train_order = pd.concat((pd.read_csv(f) for f in train_order_files))\n",
    "test_order = pd.concat((pd.read_csv(f) for f in test_order_files))"
   ]
  },
  {
   "cell_type": "markdown",
   "metadata": {},
   "source": [
    "##### Train order"
   ]
  },
  {
   "cell_type": "code",
   "execution_count": 4,
   "metadata": {
    "collapsed": false
   },
   "outputs": [
    {
     "data": {
      "text/html": [
       "<div>\n",
       "<table border=\"1\" class=\"dataframe\">\n",
       "  <thead>\n",
       "    <tr style=\"text-align: right;\">\n",
       "      <th></th>\n",
       "      <th>district_id</th>\n",
       "      <th>date</th>\n",
       "      <th>week</th>\n",
       "      <th>time</th>\n",
       "      <th>demand</th>\n",
       "      <th>supply</th>\n",
       "      <th>gap</th>\n",
       "    </tr>\n",
       "  </thead>\n",
       "  <tbody>\n",
       "    <tr>\n",
       "      <th>0</th>\n",
       "      <td>1</td>\n",
       "      <td>2016-01-01</td>\n",
       "      <td>5</td>\n",
       "      <td>1</td>\n",
       "      <td>187</td>\n",
       "      <td>178.0</td>\n",
       "      <td>9.0</td>\n",
       "    </tr>\n",
       "    <tr>\n",
       "      <th>1</th>\n",
       "      <td>1</td>\n",
       "      <td>2016-01-01</td>\n",
       "      <td>5</td>\n",
       "      <td>2</td>\n",
       "      <td>198</td>\n",
       "      <td>191.0</td>\n",
       "      <td>7.0</td>\n",
       "    </tr>\n",
       "  </tbody>\n",
       "</table>\n",
       "</div>"
      ],
      "text/plain": [
       "   district_id        date  week  time  demand  supply  gap\n",
       "0            1  2016-01-01     5     1     187   178.0  9.0\n",
       "1            1  2016-01-01     5     2     198   191.0  7.0"
      ]
     },
     "execution_count": 4,
     "metadata": {},
     "output_type": "execute_result"
    }
   ],
   "source": [
    "train_order[:2]"
   ]
  },
  {
   "cell_type": "code",
   "execution_count": 5,
   "metadata": {
    "collapsed": false
   },
   "outputs": [
    {
     "data": {
      "text/html": [
       "<div>\n",
       "<table border=\"1\" class=\"dataframe\">\n",
       "  <thead>\n",
       "    <tr style=\"text-align: right;\">\n",
       "      <th></th>\n",
       "      <th>district_id</th>\n",
       "      <th>week</th>\n",
       "      <th>time</th>\n",
       "      <th>demand</th>\n",
       "      <th>supply</th>\n",
       "      <th>gap</th>\n",
       "    </tr>\n",
       "  </thead>\n",
       "  <tbody>\n",
       "    <tr>\n",
       "      <th>count</th>\n",
       "      <td>163491.000000</td>\n",
       "      <td>163491.000000</td>\n",
       "      <td>163491.000000</td>\n",
       "      <td>163491.000000</td>\n",
       "      <td>163491.000000</td>\n",
       "      <td>163491.000000</td>\n",
       "    </tr>\n",
       "    <tr>\n",
       "      <th>mean</th>\n",
       "      <td>31.732909</td>\n",
       "      <td>4.011780</td>\n",
       "      <td>78.289814</td>\n",
       "      <td>52.239047</td>\n",
       "      <td>42.963552</td>\n",
       "      <td>9.275495</td>\n",
       "    </tr>\n",
       "    <tr>\n",
       "      <th>std</th>\n",
       "      <td>18.562100</td>\n",
       "      <td>1.999978</td>\n",
       "      <td>39.426369</td>\n",
       "      <td>112.348401</td>\n",
       "      <td>81.039485</td>\n",
       "      <td>49.817422</td>\n",
       "    </tr>\n",
       "    <tr>\n",
       "      <th>min</th>\n",
       "      <td>1.000000</td>\n",
       "      <td>1.000000</td>\n",
       "      <td>1.000000</td>\n",
       "      <td>1.000000</td>\n",
       "      <td>0.000000</td>\n",
       "      <td>0.000000</td>\n",
       "    </tr>\n",
       "    <tr>\n",
       "      <th>25%</th>\n",
       "      <td>16.000000</td>\n",
       "      <td>2.000000</td>\n",
       "      <td>49.000000</td>\n",
       "      <td>4.000000</td>\n",
       "      <td>3.000000</td>\n",
       "      <td>0.000000</td>\n",
       "    </tr>\n",
       "    <tr>\n",
       "      <th>50%</th>\n",
       "      <td>31.000000</td>\n",
       "      <td>4.000000</td>\n",
       "      <td>80.000000</td>\n",
       "      <td>12.000000</td>\n",
       "      <td>10.000000</td>\n",
       "      <td>1.000000</td>\n",
       "    </tr>\n",
       "    <tr>\n",
       "      <th>75%</th>\n",
       "      <td>47.000000</td>\n",
       "      <td>6.000000</td>\n",
       "      <td>112.000000</td>\n",
       "      <td>47.000000</td>\n",
       "      <td>41.000000</td>\n",
       "      <td>4.000000</td>\n",
       "    </tr>\n",
       "    <tr>\n",
       "      <th>max</th>\n",
       "      <td>66.000000</td>\n",
       "      <td>7.000000</td>\n",
       "      <td>144.000000</td>\n",
       "      <td>4362.000000</td>\n",
       "      <td>1084.000000</td>\n",
       "      <td>3872.000000</td>\n",
       "    </tr>\n",
       "  </tbody>\n",
       "</table>\n",
       "</div>"
      ],
      "text/plain": [
       "         district_id           week           time         demand  \\\n",
       "count  163491.000000  163491.000000  163491.000000  163491.000000   \n",
       "mean       31.732909       4.011780      78.289814      52.239047   \n",
       "std        18.562100       1.999978      39.426369     112.348401   \n",
       "min         1.000000       1.000000       1.000000       1.000000   \n",
       "25%        16.000000       2.000000      49.000000       4.000000   \n",
       "50%        31.000000       4.000000      80.000000      12.000000   \n",
       "75%        47.000000       6.000000     112.000000      47.000000   \n",
       "max        66.000000       7.000000     144.000000    4362.000000   \n",
       "\n",
       "              supply            gap  \n",
       "count  163491.000000  163491.000000  \n",
       "mean       42.963552       9.275495  \n",
       "std        81.039485      49.817422  \n",
       "min         0.000000       0.000000  \n",
       "25%         3.000000       0.000000  \n",
       "50%        10.000000       1.000000  \n",
       "75%        41.000000       4.000000  \n",
       "max      1084.000000    3872.000000  "
      ]
     },
     "execution_count": 5,
     "metadata": {},
     "output_type": "execute_result"
    }
   ],
   "source": [
    "train_order.describe()"
   ]
  },
  {
   "cell_type": "code",
   "execution_count": null,
   "metadata": {
    "collapsed": false
   },
   "outputs": [],
   "source": [
    "# gap values at all timeslots for districts 8,14,23,37,51,60 from the 2nd to the 8th of January\n",
    "data_temp_specific1 = train_order[train_order.date == '2016-01-08']\n",
    "\n",
    "for date, dgr in data_temp_specific1[data_temp_specific1.district_id == 8].groupby('date'):\n",
    "    plt.figure()\n",
    "    plt.plot(dgr.groupby('time').gap.mean(), label=str(date))\n",
    "    plt.title('gap')\n",
    "    plt.legend(loc=2,prop={'size':8})\n",
    "    plt.title('2016-01-08, district 8')\n",
    "    plt.xlabel('Time slot')\n",
    "    plt.ylabel('Actual gap')"
   ]
  },
  {
   "cell_type": "code",
   "execution_count": null,
   "metadata": {
    "collapsed": true
   },
   "outputs": [],
   "source": [
    "# show the average time slots' number in each day\n",
    "#slot_number_each_day = []\n",
    "#for date, drp in train_order.groupby('date'):\n",
    "#    slot_number_each_day.append(len(drp.time) / 66.)\n",
    "#slot_number_each_day"
   ]
  },
  {
   "cell_type": "code",
   "execution_count": 6,
   "metadata": {
    "collapsed": false
   },
   "outputs": [
    {
     "name": "stdout",
     "output_type": "stream",
     "text": [
      "<class 'pandas.core.frame.DataFrame'>\n",
      "RangeIndex: 199584 entries, 0 to 199583\n",
      "Data columns (total 4 columns):\n",
      "district_id    199584 non-null int64\n",
      "time           199584 non-null int64\n",
      "date           199584 non-null object\n",
      "week           199584 non-null int64\n",
      "dtypes: int64(3), object(1)\n",
      "memory usage: 6.1+ MB\n"
     ]
    }
   ],
   "source": [
    "# build one standard time slots index in each distric_id\n",
    "# district_id: 66, date: 21, time_slots = 144. 144*66*21 = 199584.\n",
    "train_std_index = pd.DataFrame()\n",
    "time_slot_index = []\n",
    "id_index = []\n",
    "date_index = []\n",
    "week_index = []\n",
    "for date, i_date in train_order.groupby('date'):\n",
    "    for i_id in range(1,67):\n",
    "        for i_slot in range(1,145):\n",
    "            time_slot_index.append(int(i_slot))\n",
    "            id_index.append(i_id)\n",
    "            date_index.append(date)\n",
    "            \n",
    "train_std_index['district_id'] =  id_index\n",
    "train_std_index['time'] = time_slot_index\n",
    "train_std_index['date'] = date_index\n",
    "train_std_index['week'] = pd.to_datetime(train_std_index.date).map(lambda x: x.isoweekday())\n",
    "\n",
    "train_std_index.info()"
   ]
  },
  {
   "cell_type": "code",
   "execution_count": 7,
   "metadata": {
    "collapsed": false
   },
   "outputs": [
    {
     "name": "stdout",
     "output_type": "stream",
     "text": [
      "<class 'pandas.core.frame.DataFrame'>\n",
      "Int64Index: 199584 entries, 0 to 199583\n",
      "Data columns (total 7 columns):\n",
      "district_id    199584 non-null int64\n",
      "time           199584 non-null int64\n",
      "date           199584 non-null object\n",
      "week           199584 non-null int64\n",
      "demand         199584 non-null float64\n",
      "supply         199584 non-null float64\n",
      "gap            199584 non-null float64\n",
      "dtypes: float64(3), int64(3), object(1)\n",
      "memory usage: 12.2+ MB\n"
     ]
    }
   ],
   "source": [
    "## Interpolate the missed values of train order data\n",
    "full_order = train_std_index.merge(train_order, on=['district_id', 'time', 'week', 'date'], how='left')\n",
    "\n",
    "full_order.demand = full_order.demand.interpolate()\n",
    "full_order.supply = full_order.supply.interpolate()\n",
    "full_order.gap = full_order.gap.interpolate()\n",
    "full_order.info()"
   ]
  },
  {
   "cell_type": "code",
   "execution_count": 8,
   "metadata": {
    "collapsed": true
   },
   "outputs": [],
   "source": [
    "## Add is_weekend feature into order dataset\n",
    "full_order['is_weekend'] = full_order.week > 5"
   ]
  },
  {
   "cell_type": "code",
   "execution_count": 10,
   "metadata": {
    "collapsed": false
   },
   "outputs": [
    {
     "data": {
      "text/html": [
       "<div>\n",
       "<table border=\"1\" class=\"dataframe\">\n",
       "  <thead>\n",
       "    <tr style=\"text-align: right;\">\n",
       "      <th></th>\n",
       "      <th>district_id</th>\n",
       "      <th>time</th>\n",
       "      <th>date</th>\n",
       "      <th>week</th>\n",
       "      <th>demand</th>\n",
       "      <th>supply</th>\n",
       "      <th>gap</th>\n",
       "      <th>is_weekend</th>\n",
       "    </tr>\n",
       "  </thead>\n",
       "  <tbody>\n",
       "    <tr>\n",
       "      <th>0</th>\n",
       "      <td>1</td>\n",
       "      <td>1</td>\n",
       "      <td>2016-01-01</td>\n",
       "      <td>5</td>\n",
       "      <td>187.0</td>\n",
       "      <td>178.0</td>\n",
       "      <td>9.0</td>\n",
       "      <td>False</td>\n",
       "    </tr>\n",
       "    <tr>\n",
       "      <th>1</th>\n",
       "      <td>1</td>\n",
       "      <td>2</td>\n",
       "      <td>2016-01-01</td>\n",
       "      <td>5</td>\n",
       "      <td>198.0</td>\n",
       "      <td>191.0</td>\n",
       "      <td>7.0</td>\n",
       "      <td>False</td>\n",
       "    </tr>\n",
       "  </tbody>\n",
       "</table>\n",
       "</div>"
      ],
      "text/plain": [
       "   district_id  time        date  week  demand  supply  gap is_weekend\n",
       "0            1     1  2016-01-01     5   187.0   178.0  9.0      False\n",
       "1            1     2  2016-01-01     5   198.0   191.0  7.0      False"
      ]
     },
     "execution_count": 10,
     "metadata": {},
     "output_type": "execute_result"
    }
   ],
   "source": [
    "full_order[0:2]"
   ]
  },
  {
   "cell_type": "markdown",
   "metadata": {},
   "source": [
    "##### Test order"
   ]
  },
  {
   "cell_type": "code",
   "execution_count": 11,
   "metadata": {
    "collapsed": false
   },
   "outputs": [
    {
     "data": {
      "text/html": [
       "<div>\n",
       "<table border=\"1\" class=\"dataframe\">\n",
       "  <thead>\n",
       "    <tr style=\"text-align: right;\">\n",
       "      <th></th>\n",
       "      <th>district_id</th>\n",
       "      <th>week</th>\n",
       "      <th>time</th>\n",
       "      <th>demand</th>\n",
       "      <th>supply</th>\n",
       "      <th>gap</th>\n",
       "    </tr>\n",
       "  </thead>\n",
       "  <tbody>\n",
       "    <tr>\n",
       "      <th>count</th>\n",
       "      <td>7890.000000</td>\n",
       "      <td>7890.000000</td>\n",
       "      <td>7890.000000</td>\n",
       "      <td>7890.000000</td>\n",
       "      <td>7890.000000</td>\n",
       "      <td>7890.000000</td>\n",
       "    </tr>\n",
       "    <tr>\n",
       "      <th>mean</th>\n",
       "      <td>32.628644</td>\n",
       "      <td>4.457921</td>\n",
       "      <td>93.621166</td>\n",
       "      <td>70.357795</td>\n",
       "      <td>55.246134</td>\n",
       "      <td>15.111660</td>\n",
       "    </tr>\n",
       "    <tr>\n",
       "      <th>std</th>\n",
       "      <td>18.728947</td>\n",
       "      <td>2.135258</td>\n",
       "      <td>29.395564</td>\n",
       "      <td>144.376938</td>\n",
       "      <td>97.279820</td>\n",
       "      <td>65.147298</td>\n",
       "    </tr>\n",
       "    <tr>\n",
       "      <th>min</th>\n",
       "      <td>1.000000</td>\n",
       "      <td>1.000000</td>\n",
       "      <td>43.000000</td>\n",
       "      <td>1.000000</td>\n",
       "      <td>0.000000</td>\n",
       "      <td>0.000000</td>\n",
       "    </tr>\n",
       "    <tr>\n",
       "      <th>25%</th>\n",
       "      <td>17.000000</td>\n",
       "      <td>3.000000</td>\n",
       "      <td>68.000000</td>\n",
       "      <td>5.000000</td>\n",
       "      <td>4.000000</td>\n",
       "      <td>0.000000</td>\n",
       "    </tr>\n",
       "    <tr>\n",
       "      <th>50%</th>\n",
       "      <td>32.000000</td>\n",
       "      <td>5.000000</td>\n",
       "      <td>92.000000</td>\n",
       "      <td>16.000000</td>\n",
       "      <td>14.000000</td>\n",
       "      <td>1.000000</td>\n",
       "    </tr>\n",
       "    <tr>\n",
       "      <th>75%</th>\n",
       "      <td>48.000000</td>\n",
       "      <td>6.000000</td>\n",
       "      <td>117.000000</td>\n",
       "      <td>69.000000</td>\n",
       "      <td>60.000000</td>\n",
       "      <td>6.000000</td>\n",
       "    </tr>\n",
       "    <tr>\n",
       "      <th>max</th>\n",
       "      <td>66.000000</td>\n",
       "      <td>7.000000</td>\n",
       "      <td>141.000000</td>\n",
       "      <td>1876.000000</td>\n",
       "      <td>864.000000</td>\n",
       "      <td>1185.000000</td>\n",
       "    </tr>\n",
       "  </tbody>\n",
       "</table>\n",
       "</div>"
      ],
      "text/plain": [
       "       district_id         week         time       demand       supply  \\\n",
       "count  7890.000000  7890.000000  7890.000000  7890.000000  7890.000000   \n",
       "mean     32.628644     4.457921    93.621166    70.357795    55.246134   \n",
       "std      18.728947     2.135258    29.395564   144.376938    97.279820   \n",
       "min       1.000000     1.000000    43.000000     1.000000     0.000000   \n",
       "25%      17.000000     3.000000    68.000000     5.000000     4.000000   \n",
       "50%      32.000000     5.000000    92.000000    16.000000    14.000000   \n",
       "75%      48.000000     6.000000   117.000000    69.000000    60.000000   \n",
       "max      66.000000     7.000000   141.000000  1876.000000   864.000000   \n",
       "\n",
       "               gap  \n",
       "count  7890.000000  \n",
       "mean     15.111660  \n",
       "std      65.147298  \n",
       "min       0.000000  \n",
       "25%       0.000000  \n",
       "50%       1.000000  \n",
       "75%       6.000000  \n",
       "max    1185.000000  "
      ]
     },
     "execution_count": 11,
     "metadata": {},
     "output_type": "execute_result"
    }
   ],
   "source": [
    "test_order.describe()"
   ]
  },
  {
   "cell_type": "code",
   "execution_count": 13,
   "metadata": {
    "collapsed": false
   },
   "outputs": [
    {
     "name": "stdout",
     "output_type": "stream",
     "text": [
      "<class 'pandas.core.frame.DataFrame'>\n",
      "RangeIndex: 8910 entries, 0 to 8909\n",
      "Data columns (total 4 columns):\n",
      "district_id    8910 non-null int64\n",
      "date           8910 non-null object\n",
      "week           8910 non-null int64\n",
      "time           8910 non-null int64\n",
      "dtypes: int64(3), object(1)\n",
      "memory usage: 278.5+ KB\n"
     ]
    }
   ],
   "source": [
    "## test order standard index\n",
    "test_date_index, test_time_index, test_district_index = [],[],[]\n",
    "\n",
    "## Because \n",
    "for date, drp in test_order.groupby('date'):\n",
    "    test_date_index.append(date)\n",
    "\n",
    "for time, trp in test_order.groupby('time'):\n",
    "    test_time_index.append(time)\n",
    "\n",
    "for district_id, irp in test_order.groupby('district_id'):\n",
    "    test_district_index.append(district_id)    \n",
    "    \n",
    "test_std_index = pd.DataFrame()\n",
    "time_slot_index = []\n",
    "date_index = []\n",
    "district_index = []\n",
    "for i_date in test_date_index:\n",
    "    for i_slot in test_time_index:\n",
    "        for i_district in test_district_index:\n",
    "            date_index.append(i_date)\n",
    "            time_slot_index.append(i_slot)\n",
    "            district_index.append(i_district)\n",
    "            \n",
    "test_std_index['district_id'] =  district_index\n",
    "test_std_index['date'] = date_index\n",
    "test_std_index['week'] = pd.to_datetime(test_std_index.date).map(lambda x: x.isoweekday())\n",
    "test_std_index['time'] = time_slot_index\n",
    "\n",
    "test_std_index.info()"
   ]
  },
  {
   "cell_type": "code",
   "execution_count": 14,
   "metadata": {
    "collapsed": false
   },
   "outputs": [
    {
     "name": "stdout",
     "output_type": "stream",
     "text": [
      "<class 'pandas.core.frame.DataFrame'>\n",
      "Int64Index: 8910 entries, 0 to 8909\n",
      "Data columns (total 7 columns):\n",
      "district_id    8910 non-null int64\n",
      "date           8910 non-null object\n",
      "week           8910 non-null int64\n",
      "time           8910 non-null int64\n",
      "demand         8910 non-null float64\n",
      "supply         8910 non-null float64\n",
      "gap            8910 non-null float64\n",
      "dtypes: float64(3), int64(3), object(1)\n",
      "memory usage: 556.9+ KB\n"
     ]
    }
   ],
   "source": [
    "## Interpolate the missed values of train order data\n",
    "full_test_order = test_std_index.merge(test_order, on=['district_id', 'time', 'week', 'date'], how='left')\n",
    "\n",
    "full_test_order.demand = full_test_order.demand.interpolate()\n",
    "full_test_order.supply = full_test_order.supply.interpolate()\n",
    "full_test_order.gap = full_test_order.gap.interpolate()\n",
    "full_test_order.info()"
   ]
  },
  {
   "cell_type": "code",
   "execution_count": 15,
   "metadata": {
    "collapsed": false
   },
   "outputs": [
    {
     "data": {
      "text/html": [
       "<div>\n",
       "<table border=\"1\" class=\"dataframe\">\n",
       "  <thead>\n",
       "    <tr style=\"text-align: right;\">\n",
       "      <th></th>\n",
       "      <th>district_id</th>\n",
       "      <th>date</th>\n",
       "      <th>week</th>\n",
       "      <th>time</th>\n",
       "      <th>demand</th>\n",
       "      <th>supply</th>\n",
       "      <th>gap</th>\n",
       "    </tr>\n",
       "  </thead>\n",
       "  <tbody>\n",
       "    <tr>\n",
       "      <th>0</th>\n",
       "      <td>1</td>\n",
       "      <td>2016-01-23</td>\n",
       "      <td>6</td>\n",
       "      <td>43</td>\n",
       "      <td>64.0</td>\n",
       "      <td>55.0</td>\n",
       "      <td>9.0</td>\n",
       "    </tr>\n",
       "    <tr>\n",
       "      <th>1</th>\n",
       "      <td>2</td>\n",
       "      <td>2016-01-23</td>\n",
       "      <td>6</td>\n",
       "      <td>43</td>\n",
       "      <td>5.0</td>\n",
       "      <td>5.0</td>\n",
       "      <td>0.0</td>\n",
       "    </tr>\n",
       "  </tbody>\n",
       "</table>\n",
       "</div>"
      ],
      "text/plain": [
       "   district_id        date  week  time  demand  supply  gap\n",
       "0            1  2016-01-23     6    43    64.0    55.0  9.0\n",
       "1            2  2016-01-23     6    43     5.0     5.0  0.0"
      ]
     },
     "execution_count": 15,
     "metadata": {},
     "output_type": "execute_result"
    }
   ],
   "source": [
    "full_test_order[:2]"
   ]
  },
  {
   "cell_type": "code",
   "execution_count": 16,
   "metadata": {
    "collapsed": false
   },
   "outputs": [
    {
     "data": {
      "text/html": [
       "<div>\n",
       "<table border=\"1\" class=\"dataframe\">\n",
       "  <thead>\n",
       "    <tr style=\"text-align: right;\">\n",
       "      <th></th>\n",
       "      <th>district_id</th>\n",
       "      <th>date</th>\n",
       "      <th>week</th>\n",
       "      <th>time</th>\n",
       "      <th>demand</th>\n",
       "      <th>supply</th>\n",
       "      <th>gap</th>\n",
       "      <th>is_weekend</th>\n",
       "    </tr>\n",
       "  </thead>\n",
       "  <tbody>\n",
       "    <tr>\n",
       "      <th>3400</th>\n",
       "      <td>35</td>\n",
       "      <td>2016-01-25</td>\n",
       "      <td>1</td>\n",
       "      <td>139</td>\n",
       "      <td>7.0</td>\n",
       "      <td>6.0</td>\n",
       "      <td>1.0</td>\n",
       "      <td>False</td>\n",
       "    </tr>\n",
       "    <tr>\n",
       "      <th>3401</th>\n",
       "      <td>36</td>\n",
       "      <td>2016-01-25</td>\n",
       "      <td>1</td>\n",
       "      <td>139</td>\n",
       "      <td>4.0</td>\n",
       "      <td>4.0</td>\n",
       "      <td>0.0</td>\n",
       "      <td>False</td>\n",
       "    </tr>\n",
       "  </tbody>\n",
       "</table>\n",
       "</div>"
      ],
      "text/plain": [
       "      district_id        date  week  time  demand  supply  gap is_weekend\n",
       "3400           35  2016-01-25     1   139     7.0     6.0  1.0      False\n",
       "3401           36  2016-01-25     1   139     4.0     4.0  0.0      False"
      ]
     },
     "execution_count": 16,
     "metadata": {},
     "output_type": "execute_result"
    }
   ],
   "source": [
    "## Add is_weekend feature into dataset\n",
    "full_test_order['is_weekend'] = full_test_order.week > 5\n",
    "full_test_order[3400:3402]"
   ]
  },
  {
   "cell_type": "markdown",
   "metadata": {},
   "source": [
    "### Weather data"
   ]
  },
  {
   "cell_type": "code",
   "execution_count": 17,
   "metadata": {
    "collapsed": false
   },
   "outputs": [],
   "source": [
    "# Load all the weather data as train_weather and test_weather\n",
    "train_weather_path = os.path.join(TRAIN_DATA_DIR, WEATHER_SHEET_DIR)\n",
    "test_weather_path = os.path.join(TEST_DATA_DIR, WEATHER_SHEET_DIR)\n",
    "\n",
    "train_weather_files = glob.glob(os.path.join(train_weather_path, \"*.csv\"))\n",
    "test_weather_files = glob.glob(os.path.join(test_weather_path, \"*.csv\"))\n",
    "\n",
    "train_weather = pd.concat((pd.read_csv(f) for f in train_weather_files))\n",
    "test_weather = pd.concat((pd.read_csv(f) for f in test_weather_files))"
   ]
  },
  {
   "cell_type": "markdown",
   "metadata": {},
   "source": [
    "##### Train weather"
   ]
  },
  {
   "cell_type": "code",
   "execution_count": 18,
   "metadata": {
    "collapsed": false
   },
   "outputs": [
    {
     "data": {
      "text/html": [
       "<div>\n",
       "<table border=\"1\" class=\"dataframe\">\n",
       "  <thead>\n",
       "    <tr style=\"text-align: right;\">\n",
       "      <th></th>\n",
       "      <th>week</th>\n",
       "      <th>time</th>\n",
       "      <th>Weather</th>\n",
       "      <th>temperature</th>\n",
       "      <th>PM2.5</th>\n",
       "    </tr>\n",
       "  </thead>\n",
       "  <tbody>\n",
       "    <tr>\n",
       "      <th>count</th>\n",
       "      <td>2670.000000</td>\n",
       "      <td>2670.000000</td>\n",
       "      <td>2670.000000</td>\n",
       "      <td>2670.000000</td>\n",
       "      <td>2670.000000</td>\n",
       "    </tr>\n",
       "    <tr>\n",
       "      <th>mean</th>\n",
       "      <td>4.074157</td>\n",
       "      <td>70.792509</td>\n",
       "      <td>3.140449</td>\n",
       "      <td>6.667416</td>\n",
       "      <td>122.122846</td>\n",
       "    </tr>\n",
       "    <tr>\n",
       "      <th>std</th>\n",
       "      <td>2.040735</td>\n",
       "      <td>41.585030</td>\n",
       "      <td>1.690155</td>\n",
       "      <td>3.625224</td>\n",
       "      <td>51.067905</td>\n",
       "    </tr>\n",
       "    <tr>\n",
       "      <th>min</th>\n",
       "      <td>1.000000</td>\n",
       "      <td>1.000000</td>\n",
       "      <td>1.000000</td>\n",
       "      <td>0.000000</td>\n",
       "      <td>26.000000</td>\n",
       "    </tr>\n",
       "    <tr>\n",
       "      <th>25%</th>\n",
       "      <td>2.000000</td>\n",
       "      <td>34.000000</td>\n",
       "      <td>2.000000</td>\n",
       "      <td>4.000000</td>\n",
       "      <td>86.000000</td>\n",
       "    </tr>\n",
       "    <tr>\n",
       "      <th>50%</th>\n",
       "      <td>4.000000</td>\n",
       "      <td>70.000000</td>\n",
       "      <td>3.000000</td>\n",
       "      <td>7.000000</td>\n",
       "      <td>118.000000</td>\n",
       "    </tr>\n",
       "    <tr>\n",
       "      <th>75%</th>\n",
       "      <td>6.000000</td>\n",
       "      <td>107.000000</td>\n",
       "      <td>4.000000</td>\n",
       "      <td>8.000000</td>\n",
       "      <td>159.000000</td>\n",
       "    </tr>\n",
       "    <tr>\n",
       "      <th>max</th>\n",
       "      <td>7.000000</td>\n",
       "      <td>144.000000</td>\n",
       "      <td>9.000000</td>\n",
       "      <td>19.000000</td>\n",
       "      <td>276.000000</td>\n",
       "    </tr>\n",
       "  </tbody>\n",
       "</table>\n",
       "</div>"
      ],
      "text/plain": [
       "              week         time      Weather  temperature        PM2.5\n",
       "count  2670.000000  2670.000000  2670.000000  2670.000000  2670.000000\n",
       "mean      4.074157    70.792509     3.140449     6.667416   122.122846\n",
       "std       2.040735    41.585030     1.690155     3.625224    51.067905\n",
       "min       1.000000     1.000000     1.000000     0.000000    26.000000\n",
       "25%       2.000000    34.000000     2.000000     4.000000    86.000000\n",
       "50%       4.000000    70.000000     3.000000     7.000000   118.000000\n",
       "75%       6.000000   107.000000     4.000000     8.000000   159.000000\n",
       "max       7.000000   144.000000     9.000000    19.000000   276.000000"
      ]
     },
     "execution_count": 18,
     "metadata": {},
     "output_type": "execute_result"
    }
   ],
   "source": [
    "train_weather.describe()"
   ]
  },
  {
   "cell_type": "code",
   "execution_count": 19,
   "metadata": {
    "collapsed": false
   },
   "outputs": [
    {
     "name": "stdout",
     "output_type": "stream",
     "text": [
      "<class 'pandas.core.frame.DataFrame'>\n",
      "RangeIndex: 3024 entries, 0 to 3023\n",
      "Data columns (total 3 columns):\n",
      "time    3024 non-null int64\n",
      "date    3024 non-null object\n",
      "week    3024 non-null int64\n",
      "dtypes: int64(2), object(1)\n",
      "memory usage: 70.9+ KB\n"
     ]
    }
   ],
   "source": [
    "## Build the train weather standard index\n",
    "train_weather_std_index = pd.DataFrame()\n",
    "time_slot_index = []\n",
    "id_index = []\n",
    "date_index = []\n",
    "week_index = []\n",
    "for date, i_date in train_weather.groupby('date'):\n",
    "    for i_slot in range(1,145):\n",
    "        time_slot_index.append(int(i_slot))\n",
    "        date_index.append(date)\n",
    "            \n",
    "train_weather_std_index['time'] = time_slot_index\n",
    "train_weather_std_index['date'] = date_index\n",
    "train_weather_std_index['week'] = pd.to_datetime(train_weather_std_index.date).map(lambda x: x.isoweekday())\n",
    "train_weather_std_index.info()"
   ]
  },
  {
   "cell_type": "code",
   "execution_count": 20,
   "metadata": {
    "collapsed": false
   },
   "outputs": [
    {
     "name": "stdout",
     "output_type": "stream",
     "text": [
      "<class 'pandas.core.frame.DataFrame'>\n",
      "Int64Index: 3024 entries, 0 to 3023\n",
      "Data columns (total 6 columns):\n",
      "time           3024 non-null int64\n",
      "date           3024 non-null object\n",
      "week           3024 non-null int64\n",
      "Weather        2670 non-null float64\n",
      "temperature    2670 non-null float64\n",
      "PM2.5          2670 non-null float64\n",
      "dtypes: float64(3), int64(2), object(1)\n",
      "memory usage: 165.4+ KB\n"
     ]
    }
   ],
   "source": [
    "full_weather = train_weather_std_index.merge(train_weather, on=['date','week','time'], how='left')\n",
    "full_weather.info()"
   ]
  },
  {
   "cell_type": "code",
   "execution_count": 21,
   "metadata": {
    "collapsed": false,
    "scrolled": true
   },
   "outputs": [
    {
     "name": "stdout",
     "output_type": "stream",
     "text": [
      "<class 'pandas.core.frame.DataFrame'>\n",
      "Int64Index: 3024 entries, 0 to 3023\n",
      "Data columns (total 6 columns):\n",
      "time           3024 non-null int64\n",
      "date           3024 non-null object\n",
      "week           3024 non-null int64\n",
      "Weather        3024 non-null float64\n",
      "temperature    3024 non-null float64\n",
      "PM2.5          3024 non-null float64\n",
      "dtypes: float64(3), int64(2), object(1)\n",
      "memory usage: 165.4+ KB\n"
     ]
    }
   ],
   "source": [
    "#Interpolate\n",
    "full_weather['PM2.5'] = full_weather['PM2.5'].interpolate(method='nearest').bfill()\n",
    "full_weather['Weather'] = full_weather['Weather'].interpolate(method='nearest').bfill()\n",
    "full_weather['temperature'] = full_weather['temperature'].interpolate(method='nearest').ffill().bfill()\n",
    "\n",
    "full_weather.info()"
   ]
  },
  {
   "cell_type": "markdown",
   "metadata": {},
   "source": [
    "##### Test weather"
   ]
  },
  {
   "cell_type": "code",
   "execution_count": 22,
   "metadata": {
    "collapsed": false
   },
   "outputs": [
    {
     "data": {
      "text/html": [
       "<div>\n",
       "<table border=\"1\" class=\"dataframe\">\n",
       "  <thead>\n",
       "    <tr style=\"text-align: right;\">\n",
       "      <th></th>\n",
       "      <th>date</th>\n",
       "      <th>week</th>\n",
       "      <th>time</th>\n",
       "      <th>Weather</th>\n",
       "      <th>temperature</th>\n",
       "      <th>PM2.5</th>\n",
       "    </tr>\n",
       "  </thead>\n",
       "  <tbody>\n",
       "    <tr>\n",
       "      <th>0</th>\n",
       "      <td>2016-01-23</td>\n",
       "      <td>6</td>\n",
       "      <td>43</td>\n",
       "      <td>4</td>\n",
       "      <td>1.0</td>\n",
       "      <td>94</td>\n",
       "    </tr>\n",
       "    <tr>\n",
       "      <th>1</th>\n",
       "      <td>2016-01-23</td>\n",
       "      <td>6</td>\n",
       "      <td>68</td>\n",
       "      <td>3</td>\n",
       "      <td>-1.0</td>\n",
       "      <td>107</td>\n",
       "    </tr>\n",
       "  </tbody>\n",
       "</table>\n",
       "</div>"
      ],
      "text/plain": [
       "         date  week  time  Weather  temperature  PM2.5\n",
       "0  2016-01-23     6    43        4          1.0     94\n",
       "1  2016-01-23     6    68        3         -1.0    107"
      ]
     },
     "execution_count": 22,
     "metadata": {},
     "output_type": "execute_result"
    }
   ],
   "source": [
    "test_weather[:2]"
   ]
  },
  {
   "cell_type": "code",
   "execution_count": 23,
   "metadata": {
    "collapsed": false
   },
   "outputs": [
    {
     "data": {
      "text/html": [
       "<div>\n",
       "<table border=\"1\" class=\"dataframe\">\n",
       "  <thead>\n",
       "    <tr style=\"text-align: right;\">\n",
       "      <th></th>\n",
       "      <th>week</th>\n",
       "      <th>time</th>\n",
       "      <th>Weather</th>\n",
       "      <th>temperature</th>\n",
       "      <th>PM2.5</th>\n",
       "    </tr>\n",
       "  </thead>\n",
       "  <tbody>\n",
       "    <tr>\n",
       "      <th>count</th>\n",
       "      <td>87.000000</td>\n",
       "      <td>87.000000</td>\n",
       "      <td>87.000000</td>\n",
       "      <td>87.000000</td>\n",
       "      <td>87.000000</td>\n",
       "    </tr>\n",
       "    <tr>\n",
       "      <th>mean</th>\n",
       "      <td>4.275862</td>\n",
       "      <td>99.712644</td>\n",
       "      <td>3.045977</td>\n",
       "      <td>2.241379</td>\n",
       "      <td>68.172414</td>\n",
       "    </tr>\n",
       "    <tr>\n",
       "      <th>std</th>\n",
       "      <td>2.138733</td>\n",
       "      <td>30.656730</td>\n",
       "      <td>1.829398</td>\n",
       "      <td>2.610201</td>\n",
       "      <td>23.134695</td>\n",
       "    </tr>\n",
       "    <tr>\n",
       "      <th>min</th>\n",
       "      <td>1.000000</td>\n",
       "      <td>43.000000</td>\n",
       "      <td>1.000000</td>\n",
       "      <td>-6.000000</td>\n",
       "      <td>29.000000</td>\n",
       "    </tr>\n",
       "    <tr>\n",
       "      <th>25%</th>\n",
       "      <td>3.000000</td>\n",
       "      <td>79.000000</td>\n",
       "      <td>2.000000</td>\n",
       "      <td>1.000000</td>\n",
       "      <td>48.000000</td>\n",
       "    </tr>\n",
       "    <tr>\n",
       "      <th>50%</th>\n",
       "      <td>5.000000</td>\n",
       "      <td>103.000000</td>\n",
       "      <td>3.000000</td>\n",
       "      <td>3.000000</td>\n",
       "      <td>69.000000</td>\n",
       "    </tr>\n",
       "    <tr>\n",
       "      <th>75%</th>\n",
       "      <td>6.000000</td>\n",
       "      <td>128.000000</td>\n",
       "      <td>4.000000</td>\n",
       "      <td>4.000000</td>\n",
       "      <td>77.000000</td>\n",
       "    </tr>\n",
       "    <tr>\n",
       "      <th>max</th>\n",
       "      <td>7.000000</td>\n",
       "      <td>141.000000</td>\n",
       "      <td>8.000000</td>\n",
       "      <td>6.000000</td>\n",
       "      <td>117.000000</td>\n",
       "    </tr>\n",
       "  </tbody>\n",
       "</table>\n",
       "</div>"
      ],
      "text/plain": [
       "            week        time    Weather  temperature       PM2.5\n",
       "count  87.000000   87.000000  87.000000    87.000000   87.000000\n",
       "mean    4.275862   99.712644   3.045977     2.241379   68.172414\n",
       "std     2.138733   30.656730   1.829398     2.610201   23.134695\n",
       "min     1.000000   43.000000   1.000000    -6.000000   29.000000\n",
       "25%     3.000000   79.000000   2.000000     1.000000   48.000000\n",
       "50%     5.000000  103.000000   3.000000     3.000000   69.000000\n",
       "75%     6.000000  128.000000   4.000000     4.000000   77.000000\n",
       "max     7.000000  141.000000   8.000000     6.000000  117.000000"
      ]
     },
     "execution_count": 23,
     "metadata": {},
     "output_type": "execute_result"
    }
   ],
   "source": [
    "test_weather.describe()"
   ]
  },
  {
   "cell_type": "code",
   "execution_count": 24,
   "metadata": {
    "collapsed": false
   },
   "outputs": [
    {
     "name": "stdout",
     "output_type": "stream",
     "text": [
      "<class 'pandas.core.frame.DataFrame'>\n",
      "RangeIndex: 135 entries, 0 to 134\n",
      "Data columns (total 3 columns):\n",
      "date    135 non-null object\n",
      "week    135 non-null int64\n",
      "time    135 non-null int64\n",
      "dtypes: int64(2), object(1)\n",
      "memory usage: 3.2+ KB\n"
     ]
    }
   ],
   "source": [
    "## test weather standard index\n",
    "## there are too many values missed in weather data, so the test_order data is used to build the weather standart index.\n",
    "\n",
    "test_weather_std_index = pd.DataFrame()\n",
    "time_slot_index = []\n",
    "date_index = []\n",
    "for i_date in test_date_index:\n",
    "    for i_slot in test_time_index:\n",
    "        date_index.append(i_date)\n",
    "        time_slot_index.append(int(i_slot))\n",
    "\n",
    "test_weather_std_index['date'] = date_index\n",
    "test_weather_std_index['week'] = pd.to_datetime(test_weather_std_index.date).map(lambda x: x.isoweekday())\n",
    "test_weather_std_index['time'] = time_slot_index\n",
    "test_weather_std_index.info()"
   ]
  },
  {
   "cell_type": "code",
   "execution_count": 25,
   "metadata": {
    "collapsed": false
   },
   "outputs": [
    {
     "name": "stdout",
     "output_type": "stream",
     "text": [
      "<class 'pandas.core.frame.DataFrame'>\n",
      "Int64Index: 135 entries, 0 to 134\n",
      "Data columns (total 6 columns):\n",
      "date           135 non-null object\n",
      "week           135 non-null int64\n",
      "time           135 non-null int64\n",
      "Weather        87 non-null float64\n",
      "temperature    87 non-null float64\n",
      "PM2.5          87 non-null float64\n",
      "dtypes: float64(3), int64(2), object(1)\n",
      "memory usage: 7.4+ KB\n"
     ]
    }
   ],
   "source": [
    "full_test_weather = test_weather_std_index.merge(test_weather, on=['date','week','time'], how='left')\n",
    "full_test_weather.info()"
   ]
  },
  {
   "cell_type": "code",
   "execution_count": 26,
   "metadata": {
    "collapsed": false
   },
   "outputs": [
    {
     "name": "stdout",
     "output_type": "stream",
     "text": [
      "<class 'pandas.core.frame.DataFrame'>\n",
      "Int64Index: 135 entries, 0 to 134\n",
      "Data columns (total 6 columns):\n",
      "date           135 non-null object\n",
      "week           135 non-null int64\n",
      "time           135 non-null int64\n",
      "Weather        135 non-null float64\n",
      "temperature    135 non-null float64\n",
      "PM2.5          135 non-null float64\n",
      "dtypes: float64(3), int64(2), object(1)\n",
      "memory usage: 7.4+ KB\n"
     ]
    }
   ],
   "source": [
    "# Interpolate\n",
    "full_test_weather['PM2.5'] = full_test_weather['PM2.5'].interpolate(method='nearest').bfill()\n",
    "full_test_weather['Weather'] = full_test_weather['Weather'].interpolate(method='nearest').bfill()\n",
    "full_test_weather['temperature'] = full_test_weather['temperature'].interpolate(method='nearest').ffill().bfill()\n",
    "\n",
    "full_test_weather.info()"
   ]
  },
  {
   "cell_type": "markdown",
   "metadata": {},
   "source": [
    "### POI Data"
   ]
  },
  {
   "cell_type": "code",
   "execution_count": 27,
   "metadata": {
    "collapsed": false
   },
   "outputs": [],
   "source": [
    "# Load all the poi data\n",
    "train_poi_path = os.path.join(TRAIN_DATA_DIR, POI_SHEET_DIR)\n",
    "test_poi_path = os.path.join(TEST_DATA_DIR, POI_SHEET_DIR)\n",
    "\n",
    "train_poi_files = glob.glob(os.path.join(train_poi_path, \"*.csv\"))\n",
    "test_poi_files = glob.glob(os.path.join(test_poi_path, \"*.csv\"))\n",
    "\n",
    "train_poi = pd.concat((pd.read_csv(f) for f in train_poi_files))\n",
    "test_poi = pd.concat((pd.read_csv(f) for f in test_poi_files))"
   ]
  },
  {
   "cell_type": "code",
   "execution_count": 28,
   "metadata": {
    "collapsed": false
   },
   "outputs": [
    {
     "name": "stdout",
     "output_type": "stream",
     "text": [
      "<class 'pandas.core.frame.DataFrame'>\n",
      "Int64Index: 66 entries, 0 to 65\n",
      "Columns: 156 entries, 1_1 to district_id\n",
      "dtypes: int64(156)\n",
      "memory usage: 81.0 KB\n"
     ]
    }
   ],
   "source": [
    "train_poi.info()"
   ]
  },
  {
   "cell_type": "code",
   "execution_count": 29,
   "metadata": {
    "collapsed": false
   },
   "outputs": [
    {
     "name": "stdout",
     "output_type": "stream",
     "text": [
      "<class 'pandas.core.frame.DataFrame'>\n",
      "Int64Index: 66 entries, 0 to 65\n",
      "Columns: 156 entries, 1_1 to district_id\n",
      "dtypes: int64(156)\n",
      "memory usage: 81.0 KB\n"
     ]
    }
   ],
   "source": [
    "test_poi.info()"
   ]
  },
  {
   "cell_type": "markdown",
   "metadata": {},
   "source": [
    "### Traffic Data"
   ]
  },
  {
   "cell_type": "code",
   "execution_count": 30,
   "metadata": {
    "collapsed": true
   },
   "outputs": [],
   "source": [
    "# Load all the traffic data\n",
    "train_traffic_path = os.path.join(TRAIN_DATA_DIR, TRAFFIC_SHEET_DIR)\n",
    "test_traffic_path = os.path.join(TEST_DATA_DIR, TRAFFIC_SHEET_DIR)\n",
    "\n",
    "train_traffic_files = glob.glob(os.path.join(train_traffic_path, \"*.csv\"))\n",
    "test_traffic_files = glob.glob(os.path.join(test_traffic_path, \"*.csv\"))\n",
    "\n",
    "train_traffic = pd.concat((pd.read_csv(f) for f in train_traffic_files))\n",
    "test_traffic = pd.concat((pd.read_csv(f) for f in test_traffic_files))"
   ]
  },
  {
   "cell_type": "markdown",
   "metadata": {},
   "source": [
    "##### Train traffic"
   ]
  },
  {
   "cell_type": "code",
   "execution_count": 31,
   "metadata": {
    "collapsed": false
   },
   "outputs": [
    {
     "data": {
      "text/html": [
       "<div>\n",
       "<table border=\"1\" class=\"dataframe\">\n",
       "  <thead>\n",
       "    <tr style=\"text-align: right;\">\n",
       "      <th></th>\n",
       "      <th>traffic_1</th>\n",
       "      <th>traffic_2</th>\n",
       "      <th>traffic_3</th>\n",
       "      <th>traffic_4</th>\n",
       "      <th>date</th>\n",
       "      <th>week</th>\n",
       "      <th>time</th>\n",
       "      <th>district_id</th>\n",
       "    </tr>\n",
       "  </thead>\n",
       "  <tbody>\n",
       "    <tr>\n",
       "      <th>0</th>\n",
       "      <td>1399</td>\n",
       "      <td>318</td>\n",
       "      <td>102</td>\n",
       "      <td>94</td>\n",
       "      <td>2016-01-01</td>\n",
       "      <td>5</td>\n",
       "      <td>2</td>\n",
       "      <td>1</td>\n",
       "    </tr>\n",
       "    <tr>\n",
       "      <th>1</th>\n",
       "      <td>1491</td>\n",
       "      <td>322</td>\n",
       "      <td>99</td>\n",
       "      <td>64</td>\n",
       "      <td>2016-01-01</td>\n",
       "      <td>5</td>\n",
       "      <td>3</td>\n",
       "      <td>1</td>\n",
       "    </tr>\n",
       "  </tbody>\n",
       "</table>\n",
       "</div>"
      ],
      "text/plain": [
       "   traffic_1  traffic_2  traffic_3  traffic_4        date  week  time  \\\n",
       "0       1399        318        102         94  2016-01-01     5     2   \n",
       "1       1491        322         99         64  2016-01-01     5     3   \n",
       "\n",
       "   district_id  \n",
       "0            1  \n",
       "1            1  "
      ]
     },
     "execution_count": 31,
     "metadata": {},
     "output_type": "execute_result"
    }
   ],
   "source": [
    "train_traffic[:2]"
   ]
  },
  {
   "cell_type": "code",
   "execution_count": 32,
   "metadata": {
    "collapsed": false
   },
   "outputs": [
    {
     "data": {
      "text/html": [
       "<div>\n",
       "<table border=\"1\" class=\"dataframe\">\n",
       "  <thead>\n",
       "    <tr style=\"text-align: right;\">\n",
       "      <th></th>\n",
       "      <th>traffic_1</th>\n",
       "      <th>traffic_2</th>\n",
       "      <th>traffic_3</th>\n",
       "      <th>traffic_4</th>\n",
       "      <th>week</th>\n",
       "      <th>time</th>\n",
       "      <th>district_id</th>\n",
       "    </tr>\n",
       "  </thead>\n",
       "  <tbody>\n",
       "    <tr>\n",
       "      <th>count</th>\n",
       "      <td>193553.000000</td>\n",
       "      <td>193553.000000</td>\n",
       "      <td>193553.00000</td>\n",
       "      <td>193553.000000</td>\n",
       "      <td>193553.000000</td>\n",
       "      <td>193553.000000</td>\n",
       "      <td>193553.000000</td>\n",
       "    </tr>\n",
       "    <tr>\n",
       "      <th>mean</th>\n",
       "      <td>603.522338</td>\n",
       "      <td>128.780282</td>\n",
       "      <td>38.72173</td>\n",
       "      <td>26.097756</td>\n",
       "      <td>4.007672</td>\n",
       "      <td>72.641271</td>\n",
       "      <td>33.197594</td>\n",
       "    </tr>\n",
       "    <tr>\n",
       "      <th>std</th>\n",
       "      <td>704.277587</td>\n",
       "      <td>216.896741</td>\n",
       "      <td>67.77862</td>\n",
       "      <td>42.035663</td>\n",
       "      <td>2.005752</td>\n",
       "      <td>41.189142</td>\n",
       "      <td>19.025079</td>\n",
       "    </tr>\n",
       "    <tr>\n",
       "      <th>min</th>\n",
       "      <td>0.000000</td>\n",
       "      <td>0.000000</td>\n",
       "      <td>0.00000</td>\n",
       "      <td>0.000000</td>\n",
       "      <td>1.000000</td>\n",
       "      <td>2.000000</td>\n",
       "      <td>1.000000</td>\n",
       "    </tr>\n",
       "    <tr>\n",
       "      <th>25%</th>\n",
       "      <td>147.000000</td>\n",
       "      <td>16.000000</td>\n",
       "      <td>5.00000</td>\n",
       "      <td>3.000000</td>\n",
       "      <td>2.000000</td>\n",
       "      <td>37.000000</td>\n",
       "      <td>17.000000</td>\n",
       "    </tr>\n",
       "    <tr>\n",
       "      <th>50%</th>\n",
       "      <td>323.000000</td>\n",
       "      <td>49.000000</td>\n",
       "      <td>15.00000</td>\n",
       "      <td>10.000000</td>\n",
       "      <td>4.000000</td>\n",
       "      <td>73.000000</td>\n",
       "      <td>33.000000</td>\n",
       "    </tr>\n",
       "    <tr>\n",
       "      <th>75%</th>\n",
       "      <td>779.000000</td>\n",
       "      <td>146.000000</td>\n",
       "      <td>43.00000</td>\n",
       "      <td>30.000000</td>\n",
       "      <td>6.000000</td>\n",
       "      <td>108.000000</td>\n",
       "      <td>49.000000</td>\n",
       "    </tr>\n",
       "    <tr>\n",
       "      <th>max</th>\n",
       "      <td>4223.000000</td>\n",
       "      <td>2084.000000</td>\n",
       "      <td>863.00000</td>\n",
       "      <td>486.000000</td>\n",
       "      <td>7.000000</td>\n",
       "      <td>144.000000</td>\n",
       "      <td>66.000000</td>\n",
       "    </tr>\n",
       "  </tbody>\n",
       "</table>\n",
       "</div>"
      ],
      "text/plain": [
       "           traffic_1      traffic_2     traffic_3      traffic_4  \\\n",
       "count  193553.000000  193553.000000  193553.00000  193553.000000   \n",
       "mean      603.522338     128.780282      38.72173      26.097756   \n",
       "std       704.277587     216.896741      67.77862      42.035663   \n",
       "min         0.000000       0.000000       0.00000       0.000000   \n",
       "25%       147.000000      16.000000       5.00000       3.000000   \n",
       "50%       323.000000      49.000000      15.00000      10.000000   \n",
       "75%       779.000000     146.000000      43.00000      30.000000   \n",
       "max      4223.000000    2084.000000     863.00000     486.000000   \n",
       "\n",
       "                week           time    district_id  \n",
       "count  193553.000000  193553.000000  193553.000000  \n",
       "mean        4.007672      72.641271      33.197594  \n",
       "std         2.005752      41.189142      19.025079  \n",
       "min         1.000000       2.000000       1.000000  \n",
       "25%         2.000000      37.000000      17.000000  \n",
       "50%         4.000000      73.000000      33.000000  \n",
       "75%         6.000000     108.000000      49.000000  \n",
       "max         7.000000     144.000000      66.000000  "
      ]
     },
     "execution_count": 32,
     "metadata": {},
     "output_type": "execute_result"
    }
   ],
   "source": [
    "train_traffic.describe()"
   ]
  },
  {
   "cell_type": "code",
   "execution_count": 33,
   "metadata": {
    "collapsed": false
   },
   "outputs": [
    {
     "data": {
      "text/html": [
       "<div>\n",
       "<table border=\"1\" class=\"dataframe\">\n",
       "  <thead>\n",
       "    <tr style=\"text-align: right;\">\n",
       "      <th></th>\n",
       "      <th>district_id</th>\n",
       "      <th>time</th>\n",
       "      <th>date</th>\n",
       "      <th>week</th>\n",
       "    </tr>\n",
       "  </thead>\n",
       "  <tbody>\n",
       "    <tr>\n",
       "      <th>0</th>\n",
       "      <td>1</td>\n",
       "      <td>1</td>\n",
       "      <td>2016-01-01</td>\n",
       "      <td>5</td>\n",
       "    </tr>\n",
       "    <tr>\n",
       "      <th>1</th>\n",
       "      <td>1</td>\n",
       "      <td>2</td>\n",
       "      <td>2016-01-01</td>\n",
       "      <td>5</td>\n",
       "    </tr>\n",
       "  </tbody>\n",
       "</table>\n",
       "</div>"
      ],
      "text/plain": [
       "   district_id  time        date  week\n",
       "0            1     1  2016-01-01     5\n",
       "1            1     2  2016-01-01     5"
      ]
     },
     "execution_count": 33,
     "metadata": {},
     "output_type": "execute_result"
    }
   ],
   "source": [
    "# Standard index\n",
    "train_std_index[:2]"
   ]
  },
  {
   "cell_type": "code",
   "execution_count": 34,
   "metadata": {
    "collapsed": false,
    "scrolled": true
   },
   "outputs": [
    {
     "name": "stdout",
     "output_type": "stream",
     "text": [
      "<class 'pandas.core.frame.DataFrame'>\n",
      "Int64Index: 199584 entries, 0 to 199583\n",
      "Data columns (total 8 columns):\n",
      "district_id    199584 non-null int64\n",
      "time           199584 non-null int64\n",
      "date           199584 non-null object\n",
      "week           199584 non-null int64\n",
      "traffic_1      193553 non-null float64\n",
      "traffic_2      193553 non-null float64\n",
      "traffic_3      193553 non-null float64\n",
      "traffic_4      193553 non-null float64\n",
      "dtypes: float64(4), int64(3), object(1)\n",
      "memory usage: 13.7+ MB\n"
     ]
    }
   ],
   "source": [
    "full_traffic = train_std_index.merge(train_traffic, on=['district_id','date', 'week', 'time'], how = 'left')\n",
    "full_traffic.info()"
   ]
  },
  {
   "cell_type": "code",
   "execution_count": 35,
   "metadata": {
    "collapsed": false
   },
   "outputs": [
    {
     "data": {
      "text/html": [
       "<div>\n",
       "<table border=\"1\" class=\"dataframe\">\n",
       "  <thead>\n",
       "    <tr style=\"text-align: right;\">\n",
       "      <th></th>\n",
       "      <th>district_id</th>\n",
       "      <th>time</th>\n",
       "      <th>date</th>\n",
       "      <th>week</th>\n",
       "      <th>traffic_1</th>\n",
       "      <th>traffic_2</th>\n",
       "      <th>traffic_3</th>\n",
       "      <th>traffic_4</th>\n",
       "    </tr>\n",
       "  </thead>\n",
       "  <tbody>\n",
       "    <tr>\n",
       "      <th>0</th>\n",
       "      <td>1</td>\n",
       "      <td>1</td>\n",
       "      <td>2016-01-01</td>\n",
       "      <td>5</td>\n",
       "      <td>NaN</td>\n",
       "      <td>NaN</td>\n",
       "      <td>NaN</td>\n",
       "      <td>NaN</td>\n",
       "    </tr>\n",
       "    <tr>\n",
       "      <th>1</th>\n",
       "      <td>1</td>\n",
       "      <td>2</td>\n",
       "      <td>2016-01-01</td>\n",
       "      <td>5</td>\n",
       "      <td>1399.0</td>\n",
       "      <td>318.0</td>\n",
       "      <td>102.0</td>\n",
       "      <td>94.0</td>\n",
       "    </tr>\n",
       "    <tr>\n",
       "      <th>2</th>\n",
       "      <td>1</td>\n",
       "      <td>3</td>\n",
       "      <td>2016-01-01</td>\n",
       "      <td>5</td>\n",
       "      <td>1491.0</td>\n",
       "      <td>322.0</td>\n",
       "      <td>99.0</td>\n",
       "      <td>64.0</td>\n",
       "    </tr>\n",
       "  </tbody>\n",
       "</table>\n",
       "</div>"
      ],
      "text/plain": [
       "   district_id  time        date  week  traffic_1  traffic_2  traffic_3  \\\n",
       "0            1     1  2016-01-01     5        NaN        NaN        NaN   \n",
       "1            1     2  2016-01-01     5     1399.0      318.0      102.0   \n",
       "2            1     3  2016-01-01     5     1491.0      322.0       99.0   \n",
       "\n",
       "   traffic_4  \n",
       "0        NaN  \n",
       "1       94.0  \n",
       "2       64.0  "
      ]
     },
     "execution_count": 35,
     "metadata": {},
     "output_type": "execute_result"
    }
   ],
   "source": [
    "full_traffic.loc[0:2]"
   ]
  },
  {
   "cell_type": "code",
   "execution_count": 36,
   "metadata": {
    "collapsed": false
   },
   "outputs": [
    {
     "data": {
      "text/html": [
       "<div>\n",
       "<table border=\"1\" class=\"dataframe\">\n",
       "  <thead>\n",
       "    <tr style=\"text-align: right;\">\n",
       "      <th></th>\n",
       "      <th>traffic_1</th>\n",
       "      <th>traffic_2</th>\n",
       "      <th>traffic_3</th>\n",
       "      <th>traffic_4</th>\n",
       "      <th>date</th>\n",
       "      <th>week</th>\n",
       "      <th>time</th>\n",
       "      <th>district_id</th>\n",
       "    </tr>\n",
       "  </thead>\n",
       "  <tbody>\n",
       "  </tbody>\n",
       "</table>\n",
       "</div>"
      ],
      "text/plain": [
       "Empty DataFrame\n",
       "Columns: [traffic_1, traffic_2, traffic_3, traffic_4, date, week, time, district_id]\n",
       "Index: []"
      ]
     },
     "execution_count": 36,
     "metadata": {},
     "output_type": "execute_result"
    }
   ],
   "source": [
    "train_traffic[train_traffic.district_id == 54]"
   ]
  },
  {
   "cell_type": "markdown",
   "metadata": {},
   "source": [
    "### Processing the missed traffic values\n",
    "All of the traffic values of time slot 1 in every day are missing, it seems becasue the system restart. These missed values can be interpolated using the next point. <br>\n",
    "In addition, the traffic infomation on district 54 is missing, I will use the MSE to evaluate which district has a most same traffic condition using the order's gap.\n",
    "\n",
    "The order data has many missed values, so the interpolated order data is prefered."
   ]
  },
  {
   "cell_type": "code",
   "execution_count": 37,
   "metadata": {
    "collapsed": false
   },
   "outputs": [
    {
     "data": {
      "text/html": [
       "<div>\n",
       "<table border=\"1\" class=\"dataframe\">\n",
       "  <thead>\n",
       "    <tr style=\"text-align: right;\">\n",
       "      <th></th>\n",
       "      <th>district_id</th>\n",
       "      <th>gap_mse</th>\n",
       "    </tr>\n",
       "  </thead>\n",
       "  <tbody>\n",
       "    <tr>\n",
       "      <th>53</th>\n",
       "      <td>54</td>\n",
       "      <td>0.000000</td>\n",
       "    </tr>\n",
       "    <tr>\n",
       "      <th>65</th>\n",
       "      <td>66</td>\n",
       "      <td>1.839064</td>\n",
       "    </tr>\n",
       "    <tr>\n",
       "      <th>54</th>\n",
       "      <td>55</td>\n",
       "      <td>1.847145</td>\n",
       "    </tr>\n",
       "  </tbody>\n",
       "</table>\n",
       "</div>"
      ],
      "text/plain": [
       "    district_id   gap_mse\n",
       "53           54  0.000000\n",
       "65           66  1.839064\n",
       "54           55  1.847145"
      ]
     },
     "execution_count": 37,
     "metadata": {},
     "output_type": "execute_result"
    }
   ],
   "source": [
    "from sklearn.metrics import mean_squared_error\n",
    "\n",
    "id_temp = []\n",
    "gap_mse_temp = []\n",
    "order_similarity = pd.DataFrame()\n",
    "\n",
    "for district_id, drp in full_order[['district_id','gap']].groupby('district_id'):\n",
    "    id_temp.append(district_id)\n",
    "    gap_mse_temp.append(mean_squared_error(drp['gap'], full_order[full_order.district_id == 54]['gap']))\n",
    "\n",
    "order_similarity['district_id'] = id_temp\n",
    "order_similarity['gap_mse'] = gap_mse_temp\n",
    "order_similarity.sort_values('gap_mse')[:3]"
   ]
  },
  {
   "cell_type": "markdown",
   "metadata": {},
   "source": [
    "The above table shows the district 66 has a lowest mse score with the district 54. So I decided to use the traffic values of district 66 to replace the missed traffic condion of district 54."
   ]
  },
  {
   "cell_type": "code",
   "execution_count": 38,
   "metadata": {
    "collapsed": false
   },
   "outputs": [
    {
     "name": "stderr",
     "output_type": "stream",
     "text": [
      "C:\\Users\\wang\\Anaconda2\\lib\\site-packages\\ipykernel\\__main__.py:2: SettingWithCopyWarning: \n",
      "A value is trying to be set on a copy of a slice from a DataFrame.\n",
      "Try using .loc[row_indexer,col_indexer] = value instead\n",
      "\n",
      "See the caveats in the documentation: http://pandas.pydata.org/pandas-docs/stable/indexing.html#indexing-view-versus-copy\n",
      "  from ipykernel import kernelapp as app\n"
     ]
    }
   ],
   "source": [
    "traffic_66 = full_traffic[full_traffic.district_id == 66]\n",
    "traffic_66['district_id'] = 54"
   ]
  },
  {
   "cell_type": "code",
   "execution_count": 39,
   "metadata": {
    "collapsed": false
   },
   "outputs": [
    {
     "name": "stdout",
     "output_type": "stream",
     "text": [
      "<class 'pandas.core.frame.DataFrame'>\n",
      "Int64Index: 199584 entries, 0 to 196559\n",
      "Data columns (total 8 columns):\n",
      "district_id    199584 non-null int64\n",
      "time           199584 non-null int64\n",
      "date           199584 non-null object\n",
      "week           199584 non-null int64\n",
      "traffic_1      196533 non-null float64\n",
      "traffic_2      196533 non-null float64\n",
      "traffic_3      196533 non-null float64\n",
      "traffic_4      196533 non-null float64\n",
      "dtypes: float64(4), int64(3), object(1)\n",
      "memory usage: 13.7+ MB\n"
     ]
    }
   ],
   "source": [
    "full_traffic = pd.concat([full_traffic[full_traffic.district_id != 54],traffic_66], axis=0, \n",
    "                                ignore_index=True).sort_values(['date','district_id','time'])\n",
    "full_traffic.info()"
   ]
  },
  {
   "cell_type": "code",
   "execution_count": 41,
   "metadata": {
    "collapsed": false
   },
   "outputs": [
    {
     "data": {
      "text/html": [
       "<div>\n",
       "<table border=\"1\" class=\"dataframe\">\n",
       "  <thead>\n",
       "    <tr style=\"text-align: right;\">\n",
       "      <th></th>\n",
       "      <th>district_id</th>\n",
       "      <th>time</th>\n",
       "      <th>date</th>\n",
       "      <th>week</th>\n",
       "      <th>traffic_1</th>\n",
       "      <th>traffic_2</th>\n",
       "      <th>traffic_3</th>\n",
       "      <th>traffic_4</th>\n",
       "    </tr>\n",
       "  </thead>\n",
       "  <tbody>\n",
       "    <tr>\n",
       "      <th>7631</th>\n",
       "      <td>53</td>\n",
       "      <td>144</td>\n",
       "      <td>2016-01-01</td>\n",
       "      <td>5</td>\n",
       "      <td>247.0</td>\n",
       "      <td>17.0</td>\n",
       "      <td>9.0</td>\n",
       "      <td>2.0</td>\n",
       "    </tr>\n",
       "    <tr>\n",
       "      <th>196560</th>\n",
       "      <td>54</td>\n",
       "      <td>1</td>\n",
       "      <td>2016-01-01</td>\n",
       "      <td>5</td>\n",
       "      <td>NaN</td>\n",
       "      <td>NaN</td>\n",
       "      <td>NaN</td>\n",
       "      <td>NaN</td>\n",
       "    </tr>\n",
       "    <tr>\n",
       "      <th>196561</th>\n",
       "      <td>54</td>\n",
       "      <td>2</td>\n",
       "      <td>2016-01-01</td>\n",
       "      <td>5</td>\n",
       "      <td>212.0</td>\n",
       "      <td>48.0</td>\n",
       "      <td>15.0</td>\n",
       "      <td>11.0</td>\n",
       "    </tr>\n",
       "  </tbody>\n",
       "</table>\n",
       "</div>"
      ],
      "text/plain": [
       "        district_id  time        date  week  traffic_1  traffic_2  traffic_3  \\\n",
       "7631             53   144  2016-01-01     5      247.0       17.0        9.0   \n",
       "196560           54     1  2016-01-01     5        NaN        NaN        NaN   \n",
       "196561           54     2  2016-01-01     5      212.0       48.0       15.0   \n",
       "\n",
       "        traffic_4  \n",
       "7631          2.0  \n",
       "196560        NaN  \n",
       "196561       11.0  "
      ]
     },
     "execution_count": 41,
     "metadata": {},
     "output_type": "execute_result"
    }
   ],
   "source": [
    "full_traffic[53*144-1:53*144+2]"
   ]
  },
  {
   "cell_type": "code",
   "execution_count": 42,
   "metadata": {
    "collapsed": false
   },
   "outputs": [
    {
     "name": "stdout",
     "output_type": "stream",
     "text": [
      "<class 'pandas.core.frame.DataFrame'>\n",
      "Int64Index: 199584 entries, 0 to 196559\n",
      "Data columns (total 8 columns):\n",
      "district_id    199584 non-null int64\n",
      "time           199584 non-null int64\n",
      "date           199584 non-null object\n",
      "week           199584 non-null int64\n",
      "traffic_1      199584 non-null float64\n",
      "traffic_2      199584 non-null float64\n",
      "traffic_3      199584 non-null float64\n",
      "traffic_4      199584 non-null float64\n",
      "dtypes: float64(4), int64(3), object(1)\n",
      "memory usage: 13.7+ MB\n"
     ]
    }
   ],
   "source": [
    "full_traffic['traffic_1'] = full_traffic['traffic_1'].interpolate(method='nearest').bfill()\n",
    "full_traffic['traffic_2'] = full_traffic['traffic_2'].interpolate(method='nearest').bfill()\n",
    "full_traffic['traffic_3'] = full_traffic['traffic_3'].interpolate(method='nearest').ffill().bfill()\n",
    "full_traffic['traffic_4'] = full_traffic['traffic_4'].interpolate(method='nearest').ffill().bfill()\n",
    "full_traffic.info()"
   ]
  },
  {
   "cell_type": "markdown",
   "metadata": {},
   "source": [
    "##### Test traffic"
   ]
  },
  {
   "cell_type": "code",
   "execution_count": 43,
   "metadata": {
    "collapsed": false
   },
   "outputs": [
    {
     "data": {
      "text/html": [
       "<div>\n",
       "<table border=\"1\" class=\"dataframe\">\n",
       "  <thead>\n",
       "    <tr style=\"text-align: right;\">\n",
       "      <th></th>\n",
       "      <th>traffic_1</th>\n",
       "      <th>traffic_2</th>\n",
       "      <th>traffic_3</th>\n",
       "      <th>traffic_4</th>\n",
       "      <th>date</th>\n",
       "      <th>week</th>\n",
       "      <th>time</th>\n",
       "      <th>district_id</th>\n",
       "    </tr>\n",
       "  </thead>\n",
       "  <tbody>\n",
       "    <tr>\n",
       "      <th>0</th>\n",
       "      <td>1176</td>\n",
       "      <td>156</td>\n",
       "      <td>62</td>\n",
       "      <td>39</td>\n",
       "      <td>2016-01-23</td>\n",
       "      <td>6</td>\n",
       "      <td>43</td>\n",
       "      <td>1</td>\n",
       "    </tr>\n",
       "    <tr>\n",
       "      <th>1</th>\n",
       "      <td>1215</td>\n",
       "      <td>216</td>\n",
       "      <td>56</td>\n",
       "      <td>56</td>\n",
       "      <td>2016-01-23</td>\n",
       "      <td>6</td>\n",
       "      <td>44</td>\n",
       "      <td>1</td>\n",
       "    </tr>\n",
       "  </tbody>\n",
       "</table>\n",
       "</div>"
      ],
      "text/plain": [
       "   traffic_1  traffic_2  traffic_3  traffic_4        date  week  time  \\\n",
       "0       1176        156         62         39  2016-01-23     6    43   \n",
       "1       1215        216         56         56  2016-01-23     6    44   \n",
       "\n",
       "   district_id  \n",
       "0            1  \n",
       "1            1  "
      ]
     },
     "execution_count": 43,
     "metadata": {},
     "output_type": "execute_result"
    }
   ],
   "source": [
    "test_traffic[:2]"
   ]
  },
  {
   "cell_type": "code",
   "execution_count": 44,
   "metadata": {
    "collapsed": false
   },
   "outputs": [
    {
     "name": "stdout",
     "output_type": "stream",
     "text": [
      "<class 'pandas.core.frame.DataFrame'>\n",
      "Int64Index: 8385 entries, 0 to 1754\n",
      "Data columns (total 8 columns):\n",
      "traffic_1      8385 non-null int64\n",
      "traffic_2      8385 non-null int64\n",
      "traffic_3      8385 non-null int64\n",
      "traffic_4      8385 non-null int64\n",
      "date           8385 non-null object\n",
      "week           8385 non-null int64\n",
      "time           8385 non-null int64\n",
      "district_id    8385 non-null int64\n",
      "dtypes: int64(7), object(1)\n",
      "memory usage: 589.6+ KB\n"
     ]
    }
   ],
   "source": [
    "test_traffic.info()"
   ]
  },
  {
   "cell_type": "code",
   "execution_count": 45,
   "metadata": {
    "collapsed": false
   },
   "outputs": [
    {
     "name": "stdout",
     "output_type": "stream",
     "text": [
      "<class 'pandas.core.frame.DataFrame'>\n",
      "RangeIndex: 8910 entries, 0 to 8909\n",
      "Data columns (total 4 columns):\n",
      "district_id    8910 non-null int64\n",
      "date           8910 non-null object\n",
      "week           8910 non-null int64\n",
      "time           8910 non-null int64\n",
      "dtypes: int64(3), object(1)\n",
      "memory usage: 278.5+ KB\n"
     ]
    }
   ],
   "source": [
    "test_std_index.info()"
   ]
  },
  {
   "cell_type": "code",
   "execution_count": 46,
   "metadata": {
    "collapsed": false
   },
   "outputs": [],
   "source": [
    "## The traffic standard index is same with which of test order index.\n",
    "## Interpolate the missed values of train order data\n",
    "full_test_traffic = test_std_index.merge(test_traffic, on=['district_id','date', 'week', 'time'], how = 'left')"
   ]
  },
  {
   "cell_type": "code",
   "execution_count": 47,
   "metadata": {
    "collapsed": false
   },
   "outputs": [
    {
     "name": "stderr",
     "output_type": "stream",
     "text": [
      "C:\\Users\\wang\\Anaconda2\\lib\\site-packages\\ipykernel\\__main__.py:2: SettingWithCopyWarning: \n",
      "A value is trying to be set on a copy of a slice from a DataFrame.\n",
      "Try using .loc[row_indexer,col_indexer] = value instead\n",
      "\n",
      "See the caveats in the documentation: http://pandas.pydata.org/pandas-docs/stable/indexing.html#indexing-view-versus-copy\n",
      "  from ipykernel import kernelapp as app\n"
     ]
    }
   ],
   "source": [
    "test_traffic_66 = full_test_traffic[full_test_traffic.district_id == 66]\n",
    "test_traffic_66['district_id'] = 54"
   ]
  },
  {
   "cell_type": "code",
   "execution_count": 48,
   "metadata": {
    "collapsed": false
   },
   "outputs": [
    {
     "name": "stdout",
     "output_type": "stream",
     "text": [
      "<class 'pandas.core.frame.DataFrame'>\n",
      "Int64Index: 8910 entries, 0 to 8774\n",
      "Data columns (total 8 columns):\n",
      "district_id    8910 non-null int64\n",
      "date           8910 non-null object\n",
      "week           8910 non-null int64\n",
      "time           8910 non-null int64\n",
      "traffic_1      8514 non-null float64\n",
      "traffic_2      8514 non-null float64\n",
      "traffic_3      8514 non-null float64\n",
      "traffic_4      8514 non-null float64\n",
      "dtypes: float64(4), int64(3), object(1)\n",
      "memory usage: 626.5+ KB\n"
     ]
    }
   ],
   "source": [
    "full_test_traffic = pd.concat([full_test_traffic[full_test_traffic.district_id != 54],test_traffic_66], axis=0, \n",
    "                                ignore_index=True).sort_values(['date','district_id','time'])\n",
    "full_test_traffic.info()"
   ]
  },
  {
   "cell_type": "code",
   "execution_count": 49,
   "metadata": {
    "collapsed": false
   },
   "outputs": [
    {
     "name": "stdout",
     "output_type": "stream",
     "text": [
      "<class 'pandas.core.frame.DataFrame'>\n",
      "Int64Index: 8910 entries, 0 to 8774\n",
      "Data columns (total 8 columns):\n",
      "district_id    8910 non-null int64\n",
      "date           8910 non-null object\n",
      "week           8910 non-null int64\n",
      "time           8910 non-null int64\n",
      "traffic_1      8910 non-null float64\n",
      "traffic_2      8910 non-null float64\n",
      "traffic_3      8910 non-null float64\n",
      "traffic_4      8910 non-null float64\n",
      "dtypes: float64(4), int64(3), object(1)\n",
      "memory usage: 626.5+ KB\n"
     ]
    }
   ],
   "source": [
    "full_test_traffic['traffic_1'] = full_test_traffic['traffic_1'].interpolate(method='nearest').bfill()\n",
    "full_test_traffic['traffic_2'] = full_test_traffic['traffic_2'].interpolate(method='nearest').bfill()\n",
    "full_test_traffic['traffic_3'] = full_test_traffic['traffic_3'].interpolate(method='nearest').ffill().bfill()\n",
    "full_test_traffic['traffic_4'] = full_test_traffic['traffic_4'].interpolate(method='nearest').ffill().bfill()\n",
    "full_test_traffic.info()"
   ]
  },
  {
   "cell_type": "markdown",
   "metadata": {},
   "source": [
    "### Submited Data"
   ]
  },
  {
   "cell_type": "code",
   "execution_count": 50,
   "metadata": {
    "collapsed": false
   },
   "outputs": [
    {
     "data": {
      "text/html": [
       "<div>\n",
       "<table border=\"1\" class=\"dataframe\">\n",
       "  <thead>\n",
       "    <tr style=\"text-align: right;\">\n",
       "      <th></th>\n",
       "      <th>Time</th>\n",
       "    </tr>\n",
       "  </thead>\n",
       "  <tbody>\n",
       "    <tr>\n",
       "      <th>0</th>\n",
       "      <td>2016-01-23-46</td>\n",
       "    </tr>\n",
       "    <tr>\n",
       "      <th>1</th>\n",
       "      <td>2016-01-23-58</td>\n",
       "    </tr>\n",
       "  </tbody>\n",
       "</table>\n",
       "</div>"
      ],
      "text/plain": [
       "            Time\n",
       "0  2016-01-23-46\n",
       "1  2016-01-23-58"
      ]
     },
     "execution_count": 50,
     "metadata": {},
     "output_type": "execute_result"
    }
   ],
   "source": [
    "# Season_2 test.csv has been changed, so I need to build a new test2.csv\n",
    "# It contains the district_id, date-timgslot, and gap\n",
    "# Load readme2\n",
    "test2_time = pd.read_csv('season_2/test_set_2/read_me_2.txt', header= None)\n",
    "test2_time.columns = [\"Time\"]\n",
    "test2_time[:2]"
   ]
  },
  {
   "cell_type": "code",
   "execution_count": 51,
   "metadata": {
    "collapsed": false
   },
   "outputs": [
    {
     "name": "stdout",
     "output_type": "stream",
     "text": [
      "(2838L,) (2838L,) (2838L,)\n"
     ]
    }
   ],
   "source": [
    "test2_data = pd.DataFrame()\n",
    "test2_district_index, test2_Time_index, test2_gap_index = [],[],[]\n",
    "test2_Time = test2_time['Time'].values.tolist()\n",
    "\n",
    "for i_id in range(1,67):\n",
    "    test2_n = 0\n",
    "    while test2_n < len(test2_Time):\n",
    "        test2_district_index.append(i_id)\n",
    "        test2_gap_index.append(0)\n",
    "        test2_n=test2_n+1\n",
    "    test2_Time_index.extend(test2_Time)\n",
    "    \n",
    "print np.array(test2_district_index).shape, np.array(test2_Time_index).shape, np.array(test2_gap_index).shape"
   ]
  },
  {
   "cell_type": "code",
   "execution_count": 52,
   "metadata": {
    "collapsed": false
   },
   "outputs": [],
   "source": [
    "test2_data['district_id'] = test2_district_index\n",
    "test2_data['Time'] = test2_Time_index\n",
    "test2_data['gap'] = test2_gap_index"
   ]
  },
  {
   "cell_type": "code",
   "execution_count": 53,
   "metadata": {
    "collapsed": false
   },
   "outputs": [
    {
     "data": {
      "text/html": [
       "<div>\n",
       "<table border=\"1\" class=\"dataframe\">\n",
       "  <thead>\n",
       "    <tr style=\"text-align: right;\">\n",
       "      <th></th>\n",
       "      <th>district_id</th>\n",
       "      <th>Time</th>\n",
       "      <th>gap</th>\n",
       "    </tr>\n",
       "  </thead>\n",
       "  <tbody>\n",
       "    <tr>\n",
       "      <th>0</th>\n",
       "      <td>1</td>\n",
       "      <td>2016-01-23-46</td>\n",
       "      <td>0</td>\n",
       "    </tr>\n",
       "    <tr>\n",
       "      <th>1</th>\n",
       "      <td>1</td>\n",
       "      <td>2016-01-23-58</td>\n",
       "      <td>0</td>\n",
       "    </tr>\n",
       "  </tbody>\n",
       "</table>\n",
       "</div>"
      ],
      "text/plain": [
       "   district_id           Time  gap\n",
       "0            1  2016-01-23-46    0\n",
       "1            1  2016-01-23-58    0"
      ]
     },
     "execution_count": 53,
     "metadata": {},
     "output_type": "execute_result"
    }
   ],
   "source": [
    "test2_data[:2]"
   ]
  },
  {
   "cell_type": "code",
   "execution_count": null,
   "metadata": {
    "collapsed": false
   },
   "outputs": [],
   "source": [
    "# Load test.csv\n",
    "#test_data = pd.read_csv('season_1/test.csv', header= None)\n",
    "#test_data.columns = [\"district_id\", \"Time\",\"gap\"]\n",
    "#test_data.groupby('Time')"
   ]
  },
  {
   "cell_type": "code",
   "execution_count": 54,
   "metadata": {
    "collapsed": false
   },
   "outputs": [
    {
     "data": {
      "text/html": [
       "<div>\n",
       "<table border=\"1\" class=\"dataframe\">\n",
       "  <thead>\n",
       "    <tr style=\"text-align: right;\">\n",
       "      <th></th>\n",
       "      <th>district_id</th>\n",
       "      <th>gap</th>\n",
       "      <th>week</th>\n",
       "      <th>date</th>\n",
       "      <th>time</th>\n",
       "    </tr>\n",
       "  </thead>\n",
       "  <tbody>\n",
       "    <tr>\n",
       "      <th>0</th>\n",
       "      <td>1</td>\n",
       "      <td>0</td>\n",
       "      <td>6</td>\n",
       "      <td>2016-01-23</td>\n",
       "      <td>46</td>\n",
       "    </tr>\n",
       "    <tr>\n",
       "      <th>1</th>\n",
       "      <td>1</td>\n",
       "      <td>0</td>\n",
       "      <td>6</td>\n",
       "      <td>2016-01-23</td>\n",
       "      <td>58</td>\n",
       "    </tr>\n",
       "  </tbody>\n",
       "</table>\n",
       "</div>"
      ],
      "text/plain": [
       "   district_id  gap  week        date  time\n",
       "0            1    0     6  2016-01-23    46\n",
       "1            1    0     6  2016-01-23    58"
      ]
     },
     "execution_count": 54,
     "metadata": {},
     "output_type": "execute_result"
    }
   ],
   "source": [
    "test2_date =  test2_data.Time.map(lambda x: x[:10])\n",
    "test2_time_slice = pd.to_datetime(test2_date, unit='s')\n",
    "\n",
    "test2_data[\"week\"] = test2_time_slice.map(lambda x: x.isoweekday())\n",
    "test2_data[\"date\"] = test2_time_slice.map(lambda x: x.date())\n",
    "test2_data[\"time\"] = test2_data.Time.map(lambda x: x[11:]).map(int)\n",
    "\n",
    "#del test2_data[\"gap\"]\n",
    "del test2_data[\"Time\"]\n",
    "test2_data[:2]"
   ]
  },
  {
   "cell_type": "code",
   "execution_count": 55,
   "metadata": {
    "collapsed": false
   },
   "outputs": [],
   "source": [
    "test2_data['is_weekend'] = test2_data.week >5"
   ]
  },
  {
   "cell_type": "code",
   "execution_count": null,
   "metadata": {
    "collapsed": true
   },
   "outputs": [],
   "source": []
  },
  {
   "cell_type": "code",
   "execution_count": null,
   "metadata": {
    "collapsed": false
   },
   "outputs": [],
   "source": [
    "## Add the gap of previous 3 time slots into dataset\n",
    "test2_data['gap_p1'] = test2_data.gap.shift(1).interpolate(method='nearest').bfill()\n",
    "test2_data['gap_p2'] = test2_data.gap.shift(2).interpolate(method='nearest').bfill()\n",
    "test2_data['gap_p3'] = test2_data.gap.shift(3).interpolate(method='nearest').bfill()"
   ]
  },
  {
   "cell_type": "code",
   "execution_count": 56,
   "metadata": {
    "collapsed": false
   },
   "outputs": [
    {
     "data": {
      "text/html": [
       "<div>\n",
       "<table border=\"1\" class=\"dataframe\">\n",
       "  <thead>\n",
       "    <tr style=\"text-align: right;\">\n",
       "      <th></th>\n",
       "      <th>district_id</th>\n",
       "      <th>gap</th>\n",
       "      <th>week</th>\n",
       "      <th>date</th>\n",
       "      <th>time</th>\n",
       "      <th>is_weekend</th>\n",
       "    </tr>\n",
       "  </thead>\n",
       "  <tbody>\n",
       "    <tr>\n",
       "      <th>0</th>\n",
       "      <td>1</td>\n",
       "      <td>0</td>\n",
       "      <td>6</td>\n",
       "      <td>2016-01-23</td>\n",
       "      <td>46</td>\n",
       "      <td>True</td>\n",
       "    </tr>\n",
       "    <tr>\n",
       "      <th>1</th>\n",
       "      <td>1</td>\n",
       "      <td>0</td>\n",
       "      <td>6</td>\n",
       "      <td>2016-01-23</td>\n",
       "      <td>58</td>\n",
       "      <td>True</td>\n",
       "    </tr>\n",
       "  </tbody>\n",
       "</table>\n",
       "</div>"
      ],
      "text/plain": [
       "   district_id  gap  week        date  time is_weekend\n",
       "0            1    0     6  2016-01-23    46       True\n",
       "1            1    0     6  2016-01-23    58       True"
      ]
     },
     "execution_count": 56,
     "metadata": {},
     "output_type": "execute_result"
    }
   ],
   "source": [
    "test2_data[:2]"
   ]
  },
  {
   "cell_type": "markdown",
   "metadata": {},
   "source": [
    "## Data Analysis"
   ]
  },
  {
   "cell_type": "markdown",
   "metadata": {},
   "source": [
    "### Show the average gap in each weekday"
   ]
  },
  {
   "cell_type": "code",
   "execution_count": null,
   "metadata": {
    "collapsed": false
   },
   "outputs": [],
   "source": [
    "for work, wgr in full_order.groupby('week'):\n",
    "    plt.figure()\n",
    "    for date, dgr in wgr.groupby('date'):\n",
    "        plt.plot(dgr.groupby('time').gap.mean(), label=str(date))\n",
    "    plt.title('Average gap')\n",
    "    plt.legend(loc=2,prop={'size':8})\n",
    "    plt.xlabel('Time slot')"
   ]
  },
  {
   "cell_type": "markdown",
   "metadata": {},
   "source": [
    "### Show the average gap of each day"
   ]
  },
  {
   "cell_type": "code",
   "execution_count": null,
   "metadata": {
    "collapsed": false
   },
   "outputs": [],
   "source": [
    "# show the average gap of each day\n",
    "for date, drp in full_order.groupby('date'):\n",
    "    \n",
    "    plt.figure()\n",
    "    plt.plot(drp.groupby('district_id').gap.mean(), label=str(date))\n",
    "    #plt.title('Average gap')\n",
    "    plt.legend(loc=2,prop={'size':8})\n",
    "    plt.xlabel('District ID')\n",
    "    plt.ylabel('Average gap')"
   ]
  },
  {
   "cell_type": "code",
   "execution_count": null,
   "metadata": {
    "collapsed": false
   },
   "outputs": [],
   "source": [
    "# show the specific district gap info\n",
    "# 2016-01-11,  district_id = 51\n",
    "\n",
    "data_temp_specific1 = full_order[full_order.date == '2016-01-11']\n",
    "\n",
    "for date, dgr in data_temp_specific1[data_temp_specific1.district_id == 51].groupby('date'):\n",
    "    plt.figure()\n",
    "    plt.plot(dgr.groupby('time').gap.mean(), label=str(date))\n",
    "    plt.title('gap')\n",
    "    plt.legend(loc=2,prop={'size':8})\n",
    "    plt.title('2016-01-11, district 51')\n",
    "    plt.xlabel('Time slot')\n",
    "    plt.ylabel('Actual gap')"
   ]
  },
  {
   "cell_type": "code",
   "execution_count": null,
   "metadata": {
    "collapsed": false
   },
   "outputs": [],
   "source": [
    "#data_temp_specific1 = full_order[full_order.date == '2016-01-11']\n",
    "\n",
    "for date, dgr in full_order[full_order.district_id == 57].groupby('date'):\n",
    "    #plt.figure()\n",
    "    plt.plot(dgr.groupby('time').gap.mean(), label=str(date))\n",
    "    plt.title('gap')\n",
    "    plt.legend(loc=2,prop={'size':8})\n",
    "    plt.title('district 57')\n",
    "    plt.xlabel('Time slot')\n",
    "    plt.ylabel('Actual gap')"
   ]
  },
  {
   "cell_type": "code",
   "execution_count": null,
   "metadata": {
    "collapsed": false,
    "scrolled": true
   },
   "outputs": [],
   "source": [
    "for date, dgr in full_order[full_order.district_id == 54].groupby('date'):\n",
    "    #plt.figure()\n",
    "    plt.plot(dgr.groupby('time').gap.mean(), label=str(date))\n",
    "    plt.title('gap')\n",
    "    plt.legend(loc=2,prop={'size':8})\n",
    "    plt.title('district 54')\n",
    "    plt.xlabel('Time slot')\n",
    "    plt.ylabel('Actual gap')"
   ]
  },
  {
   "cell_type": "code",
   "execution_count": null,
   "metadata": {
    "collapsed": false
   },
   "outputs": [],
   "source": [
    "for date, dgr in full_order[full_order.district_id == 66].groupby('date'):\n",
    "    #plt.figure()\n",
    "    plt.plot(dgr.groupby('time').gap.mean(), label=str(date))\n",
    "    plt.title('gap')\n",
    "    plt.legend(loc=2,prop={'size':8})\n",
    "    plt.title('district 66')\n",
    "    plt.xlabel('Time slot')\n",
    "    plt.ylabel('Actual gap')"
   ]
  },
  {
   "cell_type": "markdown",
   "metadata": {},
   "source": [
    "The order gap is similar between district 54 and 57. So I will fill the missed traffic values of district 54 using the info of 57."
   ]
  },
  {
   "cell_type": "markdown",
   "metadata": {},
   "source": [
    "### Show the average gap in each week\n",
    "There are four figures. i.e 4 weeks.<br>\n",
    "week 1: 1-3<br>\n",
    "week 2: 4-10<br>\n",
    "week 3: 11-17<br>\n",
    "week 4: 18-21<br>"
   ]
  },
  {
   "cell_type": "code",
   "execution_count": 174,
   "metadata": {
    "collapsed": false
   },
   "outputs": [
    {
     "data": {
      "image/png": "[encoded data removed]",
      "text/plain": [
       "<matplotlib.figure.Figure at 0xa773f98>"
      ]
     },
     "metadata": {},
     "output_type": "display_data"
    }
   ],
   "source": [
    "data_temp_week01 = full_order[full_order.date < '2016-01-04']\n",
    "for date, drp in data_temp_week01.groupby('date'):\n",
    "    plt.plot(drp.groupby('time').gap.mean(), label=str(date))\n",
    "    plt.title('Average gap of Week 1')\n",
    "    plt.legend(loc=1,prop={'size':8})\n",
    "    plt.xlabel('Time slots')\n",
    "    plt.ylabel('Average gap')"
   ]
  },
  {
   "cell_type": "code",
   "execution_count": null,
   "metadata": {
    "collapsed": false
   },
   "outputs": [],
   "source": [
    "data_temp_week1 = full_order[full_order.date > '2016-01-03']\n",
    "for date, drp in data_temp_week1[data_temp_week1.date < '2016-01-11'].groupby('date'):\n",
    "    plt.plot(drp.groupby('time').gap.mean(), label=str(date))\n",
    "    plt.title('Average gap of Week 2')\n",
    "    plt.legend(loc=1, prop={'size':8})\n",
    "    plt.xlabel('Time slots')\n",
    "    plt.ylabel('Average gap')"
   ]
  },
  {
   "cell_type": "code",
   "execution_count": null,
   "metadata": {
    "collapsed": false
   },
   "outputs": [],
   "source": [
    "data_temp_week2 = full_order[full_order.date > '2016-01-10']\n",
    "for date, drp in data_temp_week2[data_temp_week2.date < '2016-01-18'].groupby('date'):\n",
    "    plt.plot(drp.groupby('time').gap.mean(), label=str(date))\n",
    "    plt.title('Average gap of Week 3')\n",
    "    plt.legend(loc=2,prop={'size':8})\n",
    "    plt.xlabel('Time slots')\n",
    "    plt.ylabel('Average gap')"
   ]
  },
  {
   "cell_type": "code",
   "execution_count": null,
   "metadata": {
    "collapsed": false
   },
   "outputs": [],
   "source": [
    "data_temp_week3 = full_order[full_order.date > '2016-01-17']\n",
    "for date, drp in data_temp_week3.groupby('date'):\n",
    "    plt.plot(drp.groupby('time').gap.mean(), label=str(date))\n",
    "    plt.title('Average gap of Week 4')\n",
    "    plt.legend(loc=2,prop={'size':8})\n",
    "    plt.xlabel('Time slots')\n",
    "    plt.ylabel('Average gap')"
   ]
  },
  {
   "cell_type": "markdown",
   "metadata": {},
   "source": [
    "### Show the average gap of weekend or workday"
   ]
  },
  {
   "cell_type": "code",
   "execution_count": null,
   "metadata": {
    "collapsed": false
   },
   "outputs": [],
   "source": [
    "data_temp_weekend = full_order[full_order.week > 5]\n",
    "\n",
    "for date, wgr in data_temp_weekend.groupby('date'):\n",
    "    plt.plot(wgr.groupby('time').gap.mean(), label=str(date))\n",
    "    plt.title('Weekend gap')\n",
    "    plt.legend(loc=2,prop={'size':8})"
   ]
  },
  {
   "cell_type": "code",
   "execution_count": null,
   "metadata": {
    "collapsed": false
   },
   "outputs": [],
   "source": [
    "data_temp_notweekend = full_order[full_order.week < 6]\n",
    "\n",
    "for date, wgr in data_temp_notweekend.groupby('date'):\n",
    "    plt.plot(wgr.groupby('time').gap.mean(), label=str(date))\n",
    "    plt.title('workday gap')\n",
    "    plt.legend(loc=1,prop={'size':7})"
   ]
  },
  {
   "cell_type": "code",
   "execution_count": null,
   "metadata": {
    "collapsed": false
   },
   "outputs": [],
   "source": [
    "full_order.describe()"
   ]
  },
  {
   "cell_type": "code",
   "execution_count": null,
   "metadata": {
    "collapsed": false
   },
   "outputs": [],
   "source": [
    "full_order.sort_values('gap', ascending=False)[:20]"
   ]
  },
  {
   "cell_type": "code",
   "execution_count": null,
   "metadata": {
    "collapsed": true
   },
   "outputs": [],
   "source": [
    "gap_values_less_than_30 = full_order[full_order.gap < 31]"
   ]
  },
  {
   "cell_type": "code",
   "execution_count": null,
   "metadata": {
    "collapsed": false
   },
   "outputs": [],
   "source": [
    "gap_values_less_than_30.describe()"
   ]
  },
  {
   "cell_type": "code",
   "execution_count": null,
   "metadata": {
    "collapsed": false
   },
   "outputs": [],
   "source": [
    "plt.hist(gap_values_less_than_30.gap,30);\n",
    "plt.xlabel('Gap number');"
   ]
  },
  {
   "cell_type": "markdown",
   "metadata": {},
   "source": [
    "### POI data analysis"
   ]
  },
  {
   "cell_type": "code",
   "execution_count": 135,
   "metadata": {
    "collapsed": false
   },
   "outputs": [
    {
     "data": {
      "image/png": "[encoded data removed]",
      "text/plain": [
       "<matplotlib.figure.Figure at 0x19357048>"
      ]
     },
     "metadata": {},
     "output_type": "display_data"
    }
   ],
   "source": [
    "from matplotlib.ticker import MultipleLocator\n",
    "\n",
    "xmajorLocator = MultipleLocator(3) \n",
    "xminorLocator = MultipleLocator(2) \n",
    "\n",
    "for poi_name in train_poi.columns:\n",
    "    if poi_name == \"district\":\n",
    "        continue\n",
    "    x = poi_df.district_id\n",
    "    y = poi_df[poi_name]\n",
    "\n",
    "    plt.plot(x, y, linestyle = \"-\", marker = \"o\")\n",
    "    ax = plt.gca()\n",
    "    ax.set_xlabel(\"distirct\")\n",
    "    ax.set_ylabel(poi_name)\n",
    "    ax.xaxis.set_major_locator(xmajorLocator)\n",
    "    ax.xaxis.set_minor_locator(xminorLocator)\n",
    "    ax.xaxis.grid(True, which='minor')"
   ]
  },
  {
   "cell_type": "code",
   "execution_count": 151,
   "metadata": {
    "collapsed": false
   },
   "outputs": [
    {
     "data": {
      "text/html": [
       "<div>\n",
       "<table border=\"1\" class=\"dataframe\">\n",
       "  <thead>\n",
       "    <tr style=\"text-align: right;\">\n",
       "      <th></th>\n",
       "      <th>1_1</th>\n",
       "      <th>1_2</th>\n",
       "      <th>1_3</th>\n",
       "      <th>1_4</th>\n",
       "      <th>1_5</th>\n",
       "      <th>1_6</th>\n",
       "      <th>1_7</th>\n",
       "      <th>1_8</th>\n",
       "      <th>1_9</th>\n",
       "      <th>1_10</th>\n",
       "      <th>...</th>\n",
       "      <th>25_1</th>\n",
       "      <th>25_2</th>\n",
       "      <th>25_3</th>\n",
       "      <th>25_4</th>\n",
       "      <th>25_5</th>\n",
       "      <th>25_6</th>\n",
       "      <th>25_7</th>\n",
       "      <th>25_8</th>\n",
       "      <th>25_9</th>\n",
       "      <th>district_id</th>\n",
       "    </tr>\n",
       "  </thead>\n",
       "  <tbody>\n",
       "    <tr>\n",
       "      <th>0</th>\n",
       "      <td>498</td>\n",
       "      <td>1909</td>\n",
       "      <td>0</td>\n",
       "      <td>83</td>\n",
       "      <td>8051</td>\n",
       "      <td>83</td>\n",
       "      <td>0</td>\n",
       "      <td>4814</td>\n",
       "      <td>0</td>\n",
       "      <td>498</td>\n",
       "      <td>...</td>\n",
       "      <td>83</td>\n",
       "      <td>83</td>\n",
       "      <td>0</td>\n",
       "      <td>0</td>\n",
       "      <td>0</td>\n",
       "      <td>166</td>\n",
       "      <td>1411</td>\n",
       "      <td>1079</td>\n",
       "      <td>3984</td>\n",
       "      <td>1</td>\n",
       "    </tr>\n",
       "    <tr>\n",
       "      <th>1</th>\n",
       "      <td>83</td>\n",
       "      <td>913</td>\n",
       "      <td>0</td>\n",
       "      <td>83</td>\n",
       "      <td>5644</td>\n",
       "      <td>166</td>\n",
       "      <td>0</td>\n",
       "      <td>747</td>\n",
       "      <td>0</td>\n",
       "      <td>0</td>\n",
       "      <td>...</td>\n",
       "      <td>0</td>\n",
       "      <td>83</td>\n",
       "      <td>415</td>\n",
       "      <td>0</td>\n",
       "      <td>83</td>\n",
       "      <td>581</td>\n",
       "      <td>3486</td>\n",
       "      <td>1162</td>\n",
       "      <td>2988</td>\n",
       "      <td>2</td>\n",
       "    </tr>\n",
       "  </tbody>\n",
       "</table>\n",
       "<p>2 rows × 156 columns</p>\n",
       "</div>"
      ],
      "text/plain": [
       "   1_1   1_2  1_3  1_4   1_5  1_6  1_7   1_8  1_9  1_10     ...       25_1  \\\n",
       "0  498  1909    0   83  8051   83    0  4814    0   498     ...         83   \n",
       "1   83   913    0   83  5644  166    0   747    0     0     ...          0   \n",
       "\n",
       "   25_2  25_3  25_4  25_5  25_6  25_7  25_8  25_9  district_id  \n",
       "0    83     0     0     0   166  1411  1079  3984            1  \n",
       "1    83   415     0    83   581  3486  1162  2988            2  \n",
       "\n",
       "[2 rows x 156 columns]"
      ]
     },
     "execution_count": 151,
     "metadata": {},
     "output_type": "execute_result"
    }
   ],
   "source": [
    "train_poi[:2]"
   ]
  },
  {
   "cell_type": "code",
   "execution_count": null,
   "metadata": {
    "collapsed": true
   },
   "outputs": [],
   "source": []
  },
  {
   "cell_type": "code",
   "execution_count": 150,
   "metadata": {
    "collapsed": false
   },
   "outputs": [
    {
     "data": {
      "text/html": [
       "<div>\n",
       "<table border=\"1\" class=\"dataframe\">\n",
       "  <thead>\n",
       "    <tr style=\"text-align: right;\">\n",
       "      <th></th>\n",
       "      <th>Dimension 1</th>\n",
       "      <th>Dimension 2</th>\n",
       "      <th>Dimension 3</th>\n",
       "      <th>Dimension 4</th>\n",
       "      <th>Dimension 5</th>\n",
       "      <th>Dimension 6</th>\n",
       "      <th>Dimension 7</th>\n",
       "      <th>Dimension 8</th>\n",
       "      <th>Dimension 9</th>\n",
       "      <th>Dimension 10</th>\n",
       "    </tr>\n",
       "  </thead>\n",
       "  <tbody>\n",
       "    <tr>\n",
       "      <th>0</th>\n",
       "      <td>-51879.256495</td>\n",
       "      <td>-4244.804475</td>\n",
       "      <td>-1336.908672</td>\n",
       "      <td>-28768.800429</td>\n",
       "      <td>24272.760949</td>\n",
       "      <td>4324.005832</td>\n",
       "      <td>-5225.077465</td>\n",
       "      <td>8848.812141</td>\n",
       "      <td>-1381.545220</td>\n",
       "      <td>1756.505901</td>\n",
       "    </tr>\n",
       "    <tr>\n",
       "      <th>1</th>\n",
       "      <td>4689.411485</td>\n",
       "      <td>-36590.612180</td>\n",
       "      <td>-4788.325262</td>\n",
       "      <td>-7736.597727</td>\n",
       "      <td>-3535.139426</td>\n",
       "      <td>-3289.029376</td>\n",
       "      <td>1673.802010</td>\n",
       "      <td>3566.910829</td>\n",
       "      <td>-5785.002211</td>\n",
       "      <td>-2372.051410</td>\n",
       "    </tr>\n",
       "  </tbody>\n",
       "</table>\n",
       "</div>"
      ],
      "text/plain": [
       "    Dimension 1   Dimension 2  Dimension 3   Dimension 4   Dimension 5  \\\n",
       "0 -51879.256495  -4244.804475 -1336.908672 -28768.800429  24272.760949   \n",
       "1   4689.411485 -36590.612180 -4788.325262  -7736.597727  -3535.139426   \n",
       "\n",
       "   Dimension 6  Dimension 7  Dimension 8  Dimension 9  Dimension 10  \n",
       "0  4324.005832 -5225.077465  8848.812141 -1381.545220   1756.505901  \n",
       "1 -3289.029376  1673.802010  3566.910829 -5785.002211  -2372.051410  "
      ]
     },
     "execution_count": 150,
     "metadata": {},
     "output_type": "execute_result"
    }
   ],
   "source": [
    "from sklearn.decomposition import PCA\n",
    "\n",
    "# Apply PCA to the good data with the same number of dimensions as features\n",
    "pca = PCA(n_components=10)\n",
    "pca.fit(train_poi)\n",
    "\n",
    "reduced_poi = pca.transform(train_poi)\n",
    "reduced_poi = pd.DataFrame(reduced_poi, columns = ['Dimension 1', 'Dimension 2', 'Dimension 3', 'Dimension 4', 'Dimension 5'\n",
    "                                                   , 'Dimension 6', 'Dimension 7', 'Dimension 8', 'Dimension 9', 'Dimension 10'])\n",
    "reduced_poi[:2]"
   ]
  },
  {
   "cell_type": "code",
   "execution_count": 153,
   "metadata": {
    "collapsed": false
   },
   "outputs": [
    {
     "name": "stdout",
     "output_type": "stream",
     "text": [
      "Cumulative explained variance:\n",
      "Dimension 1     0.9393\n",
      "Dimension 2     0.9688\n",
      "Dimension 3     0.9827\n",
      "Dimension 4     0.9923\n",
      "Dimension 5     0.9950\n",
      "Dimension 6     0.9964\n",
      "Dimension 7     0.9973\n",
      "Dimension 8     0.9979\n",
      "Dimension 9     0.9983\n",
      "Dimension 10    0.9986\n",
      "Name: Explained Variance, dtype: float64\n"
     ]
    },
    {
     "data": {
      "image/png": "[encoded data removed]",
      "text/plain": [
       "<matplotlib.figure.Figure at 0x196ce898>"
      ]
     },
     "metadata": {},
     "output_type": "display_data"
    }
   ],
   "source": [
    "import renders as rs\n",
    "\n",
    "# Generate PCA results plot\n",
    "pca_results = rs.pca_results(train_poi, pca)\n",
    "\n",
    "print \"Cumulative explained variance:\\n\", pca_results['Explained Variance'].cumsum()"
   ]
  },
  {
   "cell_type": "markdown",
   "metadata": {},
   "source": [
    "### Traffic data analysis"
   ]
  },
  {
   "cell_type": "code",
   "execution_count": 132,
   "metadata": {
    "collapsed": true
   },
   "outputs": [],
   "source": [
    "from collections import OrderedDict\n",
    "from matplotlib.ticker import MultipleLocator, FormatStrFormatter\n",
    "from mpl_toolkits.mplot3d import Axes3D"
   ]
  },
  {
   "cell_type": "code",
   "execution_count": 163,
   "metadata": {
    "collapsed": false
   },
   "outputs": [
    {
     "name": "stdout",
     "output_type": "stream",
     "text": [
      "traffic_1\n",
      "traffic_2\n",
      "traffic_3\n",
      "traffic_4\n"
     ]
    }
   ],
   "source": [
    "def traffic_plot_singal_day(df):\n",
    "    df_t = df[[\"traffic_1\",\"traffic_2\",\"traffic_3\",\"traffic_4\"]]\n",
    "    traffic_1 = df[\"traffic_1\"]\n",
    "    traffic_2 = df[\"traffic_2\"]\n",
    "    traffic_3 = df[\"traffic_3\"]\n",
    "    traffic_4 = df[\"traffic_4\"]\n",
    "    columns_traffic = [\"y_traffic_1\",\"y_traffic_2\",\"y_traffic_3\",\"y_traffic_4\"]\n",
    "    \n",
    "\n",
    "    x_time = df[\"time\"]\n",
    "    x_district = df[\"district_id\"]\n",
    "    for i in df_t.columns:\n",
    "        #fig = plt.figure()\n",
    "        #ax = fig.add_subplot(111, projection='3d')\n",
    "        #ax.scatter(x_time, x_district, i)\n",
    "        print i\n",
    "    \n",
    "traffic_plot_singal_day(full_traffic)"
   ]
  },
  {
   "cell_type": "code",
   "execution_count": 171,
   "metadata": {
    "collapsed": false
   },
   "outputs": [
    {
     "ename": "ValueError",
     "evalue": "setting an array element with a sequence.",
     "output_type": "error",
     "traceback": [
      "\u001b[1;31m---------------------------------------------------------------------------\u001b[0m",
      "\u001b[1;31mValueError\u001b[0m                                Traceback (most recent call last)",
      "\u001b[1;32m<ipython-input-171-c65d3c8ecec0>\u001b[0m in \u001b[0;36m<module>\u001b[1;34m()\u001b[0m\n\u001b[0;32m     47\u001b[0m \u001b[1;33m\u001b[0m\u001b[0m\n\u001b[0;32m     48\u001b[0m \u001b[1;33m\u001b[0m\u001b[0m\n\u001b[1;32m---> 49\u001b[1;33m \u001b[0mplot_single_day_district_traffic_all_level\u001b[0m\u001b[1;33m(\u001b[0m\u001b[0mfull_traffic\u001b[0m\u001b[1;33m,\u001b[0m \u001b[1;36m2\u001b[0m\u001b[1;33m)\u001b[0m\u001b[1;33m\u001b[0m\u001b[0m\n\u001b[0m",
      "\u001b[1;32m<ipython-input-171-c65d3c8ecec0>\u001b[0m in \u001b[0;36mplot_single_day_district_traffic_all_level\u001b[1;34m(df, district_num)\u001b[0m\n\u001b[0;32m     22\u001b[0m \u001b[1;33m\u001b[0m\u001b[0m\n\u001b[0;32m     23\u001b[0m \u001b[1;32mdef\u001b[0m \u001b[0mplot_single_day_district_traffic_all_level\u001b[0m\u001b[1;33m(\u001b[0m\u001b[0mdf\u001b[0m\u001b[1;33m,\u001b[0m \u001b[0mdistrict_num\u001b[0m\u001b[1;33m)\u001b[0m\u001b[1;33m:\u001b[0m\u001b[1;33m\u001b[0m\u001b[0m\n\u001b[1;32m---> 24\u001b[1;33m     \u001b[0mtf_levels_count_time_slices\u001b[0m \u001b[1;33m=\u001b[0m \u001b[0mtraffic_level_this_district\u001b[0m\u001b[1;33m(\u001b[0m\u001b[0mdf\u001b[0m\u001b[1;33m,\u001b[0m \u001b[0mdistrict_num\u001b[0m\u001b[1;33m)\u001b[0m\u001b[1;33m\u001b[0m\u001b[0m\n\u001b[0m\u001b[0;32m     25\u001b[0m     \u001b[0mtime_s\u001b[0m \u001b[1;33m=\u001b[0m \u001b[0mrange\u001b[0m\u001b[1;33m(\u001b[0m\u001b[1;36m1\u001b[0m\u001b[1;33m,\u001b[0m \u001b[1;36m145\u001b[0m\u001b[1;33m)\u001b[0m\u001b[1;33m\u001b[0m\u001b[0m\n\u001b[0;32m     26\u001b[0m     \u001b[0mxmajorLocator\u001b[0m \u001b[1;33m=\u001b[0m \u001b[0mMultipleLocator\u001b[0m\u001b[1;33m(\u001b[0m\u001b[1;36m6\u001b[0m\u001b[1;33m)\u001b[0m \u001b[1;31m#将x主刻度标签设置为6的倍数\u001b[0m\u001b[1;33m\u001b[0m\u001b[0m\n",
      "\u001b[1;32m<ipython-input-171-c65d3c8ecec0>\u001b[0m in \u001b[0;36mtraffic_level_this_district\u001b[1;34m(df, d)\u001b[0m\n\u001b[0;32m     10\u001b[0m     \u001b[1;32mfor\u001b[0m \u001b[1;33m(\u001b[0m\u001b[0mdis\u001b[0m\u001b[1;33m,\u001b[0m \u001b[0mtime\u001b[0m\u001b[1;33m)\u001b[0m\u001b[1;33m,\u001b[0m \u001b[0mgroup\u001b[0m \u001b[1;32min\u001b[0m \u001b[0msplited_df\u001b[0m\u001b[1;33m:\u001b[0m\u001b[1;33m\u001b[0m\u001b[0m\n\u001b[0;32m     11\u001b[0m         \u001b[1;32mif\u001b[0m \u001b[0md\u001b[0m \u001b[1;33m==\u001b[0m \u001b[0mdis\u001b[0m\u001b[1;33m:\u001b[0m\u001b[1;33m\u001b[0m\u001b[0m\n\u001b[1;32m---> 12\u001b[1;33m             \u001b[0mtime_slices_level1_count\u001b[0m\u001b[1;33m[\u001b[0m\u001b[0mtime\u001b[0m \u001b[1;33m-\u001b[0m \u001b[1;36m1\u001b[0m\u001b[1;33m]\u001b[0m \u001b[1;33m=\u001b[0m \u001b[0mgroup\u001b[0m\u001b[1;33m.\u001b[0m\u001b[0mtraffic_1\u001b[0m\u001b[1;33m\u001b[0m\u001b[0m\n\u001b[0m\u001b[0;32m     13\u001b[0m             \u001b[0mtime_slices_level2_count\u001b[0m\u001b[1;33m[\u001b[0m\u001b[0mtime\u001b[0m \u001b[1;33m-\u001b[0m \u001b[1;36m1\u001b[0m\u001b[1;33m]\u001b[0m \u001b[1;33m=\u001b[0m \u001b[0mgroup\u001b[0m\u001b[1;33m.\u001b[0m\u001b[0mtraffic_2\u001b[0m\u001b[1;33m\u001b[0m\u001b[0m\n\u001b[0;32m     14\u001b[0m             \u001b[0mtime_slices_level3_count\u001b[0m\u001b[1;33m[\u001b[0m\u001b[0mtime\u001b[0m \u001b[1;33m-\u001b[0m \u001b[1;36m1\u001b[0m\u001b[1;33m]\u001b[0m \u001b[1;33m=\u001b[0m \u001b[0mgroup\u001b[0m\u001b[1;33m.\u001b[0m\u001b[0mtraffic_3\u001b[0m\u001b[1;33m\u001b[0m\u001b[0m\n",
      "\u001b[1;31mValueError\u001b[0m: setting an array element with a sequence."
     ]
    }
   ],
   "source": [
    "#from collections import OrderedDict\n",
    "\n",
    "def traffic_level_this_district(df, d):\n",
    "    splited_df = df.groupby(by = [\"district_id\", \"time\"])\n",
    "    time_slices_level1_count = -1 * np.ones((144,))\n",
    "    time_slices_level2_count = -1 * np.ones((144,))\n",
    "    time_slices_level3_count = -1 * np.ones((144,))\n",
    "    time_slices_level4_count = -1 * np.ones((144,))\n",
    "\n",
    "    for (dis, time), group in splited_df:\n",
    "        if d == dis:\n",
    "            time_slices_level1_count[time - 1] = group.traffic_1\n",
    "            time_slices_level2_count[time - 1] = group.traffic_2\n",
    "            time_slices_level3_count[time - 1] = group.traffic_3\n",
    "            time_slices_level4_count[time - 1] = group.traffic_4\n",
    "    tf_levels_count_time_slices = OrderedDict()\n",
    "    tf_levels_count_time_slices[\"traffic_1\"] = time_slices_level1_count\n",
    "    tf_levels_count_time_slices[\"traffic_2\"] = time_slices_level2_count\n",
    "    tf_levels_count_time_slices[\"traffic_3\"] = time_slices_level3_count\n",
    "    tf_levels_count_time_slices[\"traffic_4\"] = time_slices_level4_count\n",
    "    return tf_levels_count_time_slices\n",
    "\n",
    "def plot_single_day_district_traffic_all_level(df, district_num):\n",
    "    tf_levels_count_time_slices = traffic_level_this_district(df, district_num)\n",
    "    time_s = range(1, 145)\n",
    "    xmajorLocator = MultipleLocator(6) #将x主刻度标签设置为6的倍数\n",
    "    xminorLocator = MultipleLocator(3) #将x轴次刻度标签设置为3的倍数\n",
    "\n",
    "    for tf_key in tf_levels_count_time_slices.keys():\n",
    "        #plt.scatter(x, y, s, c, marker, cmap, norm, vmin, vmax, alpha, linewidths, verts, edgecolors, hold, **data)\n",
    "        plt.plot(time_s, tf_levels_count_time_slices[tf_key], \n",
    "                    label = tf_key, linestyle = line_style[tf_key], \n",
    "                    c = colors[tf_key], marker = markers_scatter[tf_key])\n",
    "        ax = plt.gca()\n",
    "        ax.set_title(\"district: \" + str(district_num) + \"  traffic level count\")\n",
    "            \n",
    "        ax.legend(prop={'size':6})\n",
    "        ax.xaxis.set_major_locator(xmajorLocator)\n",
    "        ax.xaxis.set_minor_locator(xminorLocator)\n",
    "        ax.xaxis.grid(True, which='minor') #x坐标轴的网格使用主刻度\n",
    "        #ax.xaxis.set_tick_params(length = 15)\n",
    "\n",
    "        ax.set_xlim(0, 144)\n",
    "        ax.set_ylim(bottom = -2)\n",
    "        ax.set_xlabel(\"time slices\")\n",
    "        ax.set_ylabel(\"level count\")\n",
    "\n",
    "\n",
    "plot_single_day_district_traffic_all_level(full_traffic, 2)"
   ]
  },
  {
   "cell_type": "code",
   "execution_count": 203,
   "metadata": {
    "collapsed": false
   },
   "outputs": [
    {
     "data": {
      "image/png": "[encoded data removed]",
      "text/plain": [
       "<matplotlib.figure.Figure at 0x20b15128>"
      ]
     },
     "metadata": {},
     "output_type": "display_data"
    },
    {
     "data": {
      "image/png": "[encoded data removed]",
      "text/plain": [
       "<matplotlib.figure.Figure at 0x20b150f0>"
      ]
     },
     "metadata": {},
     "output_type": "display_data"
    },
    {
     "data": {
      "image/png": "[encoded data removed]",
      "text/plain": [
       "<matplotlib.figure.Figure at 0x1dcdd780>"
      ]
     },
     "metadata": {},
     "output_type": "display_data"
    },
    {
     "data": {
      "image/png": "[encoded data removed]",
      "text/plain": [
       "<matplotlib.figure.Figure at 0x1dd104a8>"
      ]
     },
     "metadata": {},
     "output_type": "display_data"
    },
    {
     "data": {
      "image/png": "[encoded data removed]",
      "text/plain": [
       "<matplotlib.figure.Figure at 0x1a8422e8>"
      ]
     },
     "metadata": {},
     "output_type": "display_data"
    },
    {
     "data": {
      "image/png": "[encoded data removed]",
      "text/plain": [
       "<matplotlib.figure.Figure at 0x20087240>"
      ]
     },
     "metadata": {},
     "output_type": "display_data"
    },
    {
     "data": {
      "image/png": "[encoded data removed]",
      "text/plain": [
       "<matplotlib.figure.Figure at 0x35492080>"
      ]
     },
     "metadata": {},
     "output_type": "display_data"
    },
    {
     "data": {
      "image/png": "[encoded data removed]",
      "text/plain": [
       "<matplotlib.figure.Figure at 0x3603e5f8>"
      ]
     },
     "metadata": {},
     "output_type": "display_data"
    },
    {
     "data": {
      "image/png": "[encoded data removed]",
      "text/plain": [
       "<matplotlib.figure.Figure at 0x35d709e8>"
      ]
     },
     "metadata": {},
     "output_type": "display_data"
    },
    {
     "data": {
      "image/png": "[encoded data removed]",
      "text/plain": [
       "<matplotlib.figure.Figure at 0x1954d710>"
      ]
     },
     "metadata": {},
     "output_type": "display_data"
    },
    {
     "data": {
      "image/png": "[encoded data removed]",
      "text/plain": [
       "<matplotlib.figure.Figure at 0x20b15358>"
      ]
     },
     "metadata": {},
     "output_type": "display_data"
    },
    {
     "data": {
      "image/png": "[encoded data removed]",
      "text/plain": [
       "<matplotlib.figure.Figure at 0x1f726048>"
      ]
     },
     "metadata": {},
     "output_type": "display_data"
    },
    {
     "data": {
      "image/png": "[encoded data removed]",
      "text/plain": [
       "<matplotlib.figure.Figure at 0x194cf8d0>"
      ]
     },
     "metadata": {},
     "output_type": "display_data"
    },
    {
     "data": {
      "image/png": "[encoded data removed]",
      "text/plain": [
       "<matplotlib.figure.Figure at 0x1a1288d0>"
      ]
     },
     "metadata": {},
     "output_type": "display_data"
    },
    {
     "data": {
      "image/png": "[encoded data removed]",
      "text/plain": [
       "<matplotlib.figure.Figure at 0x1d5736d8>"
      ]
     },
     "metadata": {},
     "output_type": "display_data"
    },
    {
     "data": {
      "image/png": "[encoded data removed]",
      "text/plain": [
       "<matplotlib.figure.Figure at 0x11355c18>"
      ]
     },
     "metadata": {},
     "output_type": "display_data"
    },
    {
     "data": {
      "image/png": "[encoded data removed]",
      "text/plain": [
       "<matplotlib.figure.Figure at 0x1a9929b0>"
      ]
     },
     "metadata": {},
     "output_type": "display_data"
    },
    {
     "data": {
      "image/png": "[encoded data removed]",
      "text/plain": [
       "<matplotlib.figure.Figure at 0x33be6a58>"
      ]
     },
     "metadata": {},
     "output_type": "display_data"
    },
    {
     "data": {
      "image/png": "[encoded data removed]",
      "text/plain": [
       "<matplotlib.figure.Figure at 0x1a2d9e48>"
      ]
     },
     "metadata": {},
     "output_type": "display_data"
    },
    {
     "data": {
      "image/png": "[encoded data removed]",
      "text/plain": [
       "<matplotlib.figure.Figure at 0x194b62e8>"
      ]
     },
     "metadata": {},
     "output_type": "display_data"
    },
    {
     "data": {
      "image/png": "[encoded data removed]",
      "text/plain": [
       "<matplotlib.figure.Figure at 0x20b75da0>"
      ]
     },
     "metadata": {},
     "output_type": "display_data"
    }
   ],
   "source": [
    "def plot_traffic_specific_district(df, district_num):\n",
    "    #for (district, time), rp in df.groupby([\"district_id\", \"time\"]):\n",
    "    for district, rp in df.groupby(\"district_id\"):\n",
    "        if district == district_num:\n",
    "            for date, drp in rp.groupby('date'):\n",
    "                plt.figure()\n",
    "                plt.plot(drp.groupby('time').traffic_1)\n",
    "                plt.title('Traffic condition:'+ str(district_num))\n",
    "                plt.legend(loc=2,prop={'size':8})  \n",
    "                \n",
    "\n",
    "plot_traffic_specific_district(full_traffic, 4)\n",
    "\n",
    "#data_temp_week01 = full_order[full_order.date < '2016-01-04']\n",
    "#for date, drp in data_temp_week01.groupby('date'):\n",
    "##    plt.plot(drp.groupby('time').gap.mean(), label=str(date))\n",
    "#    plt.title('Average gap of Week 1')\n",
    "#    plt.legend(loc=1,prop={'size':8})\n",
    "#    plt.xlabel('Time slots')\n",
    "#    plt.ylabel('Average gap')"
   ]
  },
  {
   "cell_type": "code",
   "execution_count": null,
   "metadata": {
    "collapsed": true
   },
   "outputs": [],
   "source": [
    "           \n",
    "for date, wgr in data_temp_weekend.groupby('date'):\n",
    "    plt.plot(wgr.groupby('time').gap.mean(), label=str(date))\n",
    "    plt.title('Weekend gap')\n",
    "    plt.legend(loc=2,prop={'size':8})            "
   ]
  },
  {
   "cell_type": "markdown",
   "metadata": {},
   "source": [
    "### The data analysis \n",
    "- New Year's day holiday (Jan. 1-3). Jan. 3 is normal, Jan.1-2 delete"
   ]
  },
  {
   "cell_type": "markdown",
   "metadata": {},
   "source": [
    "## Select data after 2016-01-03"
   ]
  },
  {
   "cell_type": "markdown",
   "metadata": {},
   "source": [
    "#### Select train data"
   ]
  },
  {
   "cell_type": "code",
   "execution_count": 57,
   "metadata": {
    "collapsed": false
   },
   "outputs": [
    {
     "data": {
      "text/html": [
       "<div>\n",
       "<table border=\"1\" class=\"dataframe\">\n",
       "  <thead>\n",
       "    <tr style=\"text-align: right;\">\n",
       "      <th></th>\n",
       "      <th>district_id</th>\n",
       "      <th>time</th>\n",
       "      <th>date</th>\n",
       "      <th>week</th>\n",
       "      <th>demand</th>\n",
       "      <th>supply</th>\n",
       "      <th>gap</th>\n",
       "      <th>is_weekend</th>\n",
       "    </tr>\n",
       "  </thead>\n",
       "  <tbody>\n",
       "    <tr>\n",
       "      <th>28512</th>\n",
       "      <td>1</td>\n",
       "      <td>1</td>\n",
       "      <td>2016-01-04</td>\n",
       "      <td>1</td>\n",
       "      <td>52.0</td>\n",
       "      <td>49.0</td>\n",
       "      <td>3.0</td>\n",
       "      <td>False</td>\n",
       "    </tr>\n",
       "    <tr>\n",
       "      <th>28513</th>\n",
       "      <td>1</td>\n",
       "      <td>2</td>\n",
       "      <td>2016-01-04</td>\n",
       "      <td>1</td>\n",
       "      <td>47.0</td>\n",
       "      <td>42.0</td>\n",
       "      <td>5.0</td>\n",
       "      <td>False</td>\n",
       "    </tr>\n",
       "  </tbody>\n",
       "</table>\n",
       "</div>"
      ],
      "text/plain": [
       "       district_id  time        date  week  demand  supply  gap is_weekend\n",
       "28512            1     1  2016-01-04     1    52.0    49.0  3.0      False\n",
       "28513            1     2  2016-01-04     1    47.0    42.0  5.0      False"
      ]
     },
     "execution_count": 57,
     "metadata": {},
     "output_type": "execute_result"
    }
   ],
   "source": [
    "full_order_selected = full_order[full_order.date > '2016-01-03']\n",
    "full_order_selected[:2]"
   ]
  },
  {
   "cell_type": "code",
   "execution_count": 58,
   "metadata": {
    "collapsed": false
   },
   "outputs": [
    {
     "name": "stdout",
     "output_type": "stream",
     "text": [
      "<class 'pandas.core.frame.DataFrame'>\n",
      "Int64Index: 171072 entries, 28512 to 199583\n",
      "Data columns (total 8 columns):\n",
      "district_id    171072 non-null int64\n",
      "time           171072 non-null int64\n",
      "date           171072 non-null object\n",
      "week           171072 non-null int64\n",
      "demand         171072 non-null float64\n",
      "supply         171072 non-null float64\n",
      "gap            171072 non-null float64\n",
      "is_weekend     171072 non-null bool\n",
      "dtypes: bool(1), float64(3), int64(3), object(1)\n",
      "memory usage: 10.6+ MB\n"
     ]
    }
   ],
   "source": [
    "full_order_selected.info()"
   ]
  },
  {
   "cell_type": "code",
   "execution_count": 59,
   "metadata": {
    "collapsed": false
   },
   "outputs": [
    {
     "data": {
      "text/html": [
       "<div>\n",
       "<table border=\"1\" class=\"dataframe\">\n",
       "  <thead>\n",
       "    <tr style=\"text-align: right;\">\n",
       "      <th></th>\n",
       "      <th>time</th>\n",
       "      <th>date</th>\n",
       "      <th>week</th>\n",
       "      <th>Weather</th>\n",
       "      <th>temperature</th>\n",
       "      <th>PM2.5</th>\n",
       "    </tr>\n",
       "  </thead>\n",
       "  <tbody>\n",
       "    <tr>\n",
       "      <th>432</th>\n",
       "      <td>1</td>\n",
       "      <td>2016-01-04</td>\n",
       "      <td>1</td>\n",
       "      <td>2.0</td>\n",
       "      <td>13.0</td>\n",
       "      <td>187.0</td>\n",
       "    </tr>\n",
       "    <tr>\n",
       "      <th>433</th>\n",
       "      <td>2</td>\n",
       "      <td>2016-01-04</td>\n",
       "      <td>1</td>\n",
       "      <td>2.0</td>\n",
       "      <td>13.0</td>\n",
       "      <td>187.0</td>\n",
       "    </tr>\n",
       "  </tbody>\n",
       "</table>\n",
       "</div>"
      ],
      "text/plain": [
       "     time        date  week  Weather  temperature  PM2.5\n",
       "432     1  2016-01-04     1      2.0         13.0  187.0\n",
       "433     2  2016-01-04     1      2.0         13.0  187.0"
      ]
     },
     "execution_count": 59,
     "metadata": {},
     "output_type": "execute_result"
    }
   ],
   "source": [
    "full_weather_selected = full_weather[full_weather.date > '2016-01-03']\n",
    "full_weather_selected[:2]"
   ]
  },
  {
   "cell_type": "code",
   "execution_count": 60,
   "metadata": {
    "collapsed": false
   },
   "outputs": [
    {
     "name": "stdout",
     "output_type": "stream",
     "text": [
      "<class 'pandas.core.frame.DataFrame'>\n",
      "Int64Index: 2592 entries, 432 to 3023\n",
      "Data columns (total 6 columns):\n",
      "time           2592 non-null int64\n",
      "date           2592 non-null object\n",
      "week           2592 non-null int64\n",
      "Weather        2592 non-null float64\n",
      "temperature    2592 non-null float64\n",
      "PM2.5          2592 non-null float64\n",
      "dtypes: float64(3), int64(2), object(1)\n",
      "memory usage: 141.8+ KB\n"
     ]
    }
   ],
   "source": [
    "full_weather_selected.info()"
   ]
  },
  {
   "cell_type": "code",
   "execution_count": 61,
   "metadata": {
    "collapsed": false
   },
   "outputs": [
    {
     "data": {
      "text/html": [
       "<div>\n",
       "<table border=\"1\" class=\"dataframe\">\n",
       "  <thead>\n",
       "    <tr style=\"text-align: right;\">\n",
       "      <th></th>\n",
       "      <th>district_id</th>\n",
       "      <th>time</th>\n",
       "      <th>date</th>\n",
       "      <th>week</th>\n",
       "      <th>traffic_1</th>\n",
       "      <th>traffic_2</th>\n",
       "      <th>traffic_3</th>\n",
       "      <th>traffic_4</th>\n",
       "    </tr>\n",
       "  </thead>\n",
       "  <tbody>\n",
       "    <tr>\n",
       "      <th>28080</th>\n",
       "      <td>1</td>\n",
       "      <td>1</td>\n",
       "      <td>2016-01-04</td>\n",
       "      <td>1</td>\n",
       "      <td>223.0</td>\n",
       "      <td>34.0</td>\n",
       "      <td>7.0</td>\n",
       "      <td>11.0</td>\n",
       "    </tr>\n",
       "    <tr>\n",
       "      <th>28081</th>\n",
       "      <td>1</td>\n",
       "      <td>2</td>\n",
       "      <td>2016-01-04</td>\n",
       "      <td>1</td>\n",
       "      <td>1110.0</td>\n",
       "      <td>184.0</td>\n",
       "      <td>51.0</td>\n",
       "      <td>45.0</td>\n",
       "    </tr>\n",
       "  </tbody>\n",
       "</table>\n",
       "</div>"
      ],
      "text/plain": [
       "       district_id  time        date  week  traffic_1  traffic_2  traffic_3  \\\n",
       "28080            1     1  2016-01-04     1      223.0       34.0        7.0   \n",
       "28081            1     2  2016-01-04     1     1110.0      184.0       51.0   \n",
       "\n",
       "       traffic_4  \n",
       "28080       11.0  \n",
       "28081       45.0  "
      ]
     },
     "execution_count": 61,
     "metadata": {},
     "output_type": "execute_result"
    }
   ],
   "source": [
    "full_traffic_selected = full_traffic[full_traffic.date > '2016-01-03']\n",
    "full_traffic_selected[:2]"
   ]
  },
  {
   "cell_type": "code",
   "execution_count": 62,
   "metadata": {
    "collapsed": false
   },
   "outputs": [
    {
     "name": "stdout",
     "output_type": "stream",
     "text": [
      "<class 'pandas.core.frame.DataFrame'>\n",
      "Int64Index: 171072 entries, 28080 to 196559\n",
      "Data columns (total 8 columns):\n",
      "district_id    171072 non-null int64\n",
      "time           171072 non-null int64\n",
      "date           171072 non-null object\n",
      "week           171072 non-null int64\n",
      "traffic_1      171072 non-null float64\n",
      "traffic_2      171072 non-null float64\n",
      "traffic_3      171072 non-null float64\n",
      "traffic_4      171072 non-null float64\n",
      "dtypes: float64(4), int64(3), object(1)\n",
      "memory usage: 11.7+ MB\n"
     ]
    }
   ],
   "source": [
    "full_traffic_selected.info()"
   ]
  },
  {
   "cell_type": "markdown",
   "metadata": {},
   "source": [
    "## Simple prediction based on average gap in each time slot"
   ]
  },
  {
   "cell_type": "markdown",
   "metadata": {},
   "source": [
    "### Average gap prediction"
   ]
  },
  {
   "cell_type": "code",
   "execution_count": null,
   "metadata": {
    "collapsed": false
   },
   "outputs": [],
   "source": [
    "data_average_gap = full_order_selected.groupby(['district_id','week', 'time']).mean().reset_index()\n",
    "data_average_gap.describe()"
   ]
  },
  {
   "cell_type": "code",
   "execution_count": null,
   "metadata": {
    "collapsed": false
   },
   "outputs": [],
   "source": [
    "data_average_gap[:2]"
   ]
  },
  {
   "cell_type": "code",
   "execution_count": null,
   "metadata": {
    "collapsed": false
   },
   "outputs": [],
   "source": [
    "test_order[:2]"
   ]
  },
  {
   "cell_type": "code",
   "execution_count": null,
   "metadata": {
    "collapsed": true
   },
   "outputs": [],
   "source": [
    "# sp = simple prediction\n",
    "gap_true_sp = test_order['gap']"
   ]
  },
  {
   "cell_type": "code",
   "execution_count": null,
   "metadata": {
    "collapsed": true
   },
   "outputs": [],
   "source": [
    "simple_predictor = test_order.merge(data_average_gap, on = ['district_id','week', 'time'], how='left' )"
   ]
  },
  {
   "cell_type": "code",
   "execution_count": null,
   "metadata": {
    "collapsed": false
   },
   "outputs": [],
   "source": [
    "simple_predictor[:2]"
   ]
  },
  {
   "cell_type": "code",
   "execution_count": null,
   "metadata": {
    "collapsed": false
   },
   "outputs": [],
   "source": [
    "gap_pred_sp = simple_predictor['gap_y']\n",
    "gap_pred_sp[:2]"
   ]
  },
  {
   "cell_type": "code",
   "execution_count": null,
   "metadata": {
    "collapsed": false
   },
   "outputs": [],
   "source": [
    "MAPE(gap_pred_sp,gap_true_sp)"
   ]
  },
  {
   "cell_type": "markdown",
   "metadata": {},
   "source": [
    "### Predict the gap based on average gap"
   ]
  },
  {
   "cell_type": "code",
   "execution_count": null,
   "metadata": {
    "collapsed": false
   },
   "outputs": [],
   "source": [
    "result = test_data.merge(data_average_gap, on = ['district_id','week', 'time'], how='left' )\n",
    "result[:2]"
   ]
  },
  {
   "cell_type": "code",
   "execution_count": null,
   "metadata": {
    "collapsed": false
   },
   "outputs": [],
   "source": [
    "result.info()"
   ]
  },
  {
   "cell_type": "code",
   "execution_count": null,
   "metadata": {
    "collapsed": false
   },
   "outputs": [],
   "source": [
    "for date, drp in result.groupby('date'):\n",
    "    plt.plot(drp.groupby('time').gap.mean(), label=str(date))\n",
    "plt.legend()"
   ]
  },
  {
   "cell_type": "code",
   "execution_count": null,
   "metadata": {
    "collapsed": false
   },
   "outputs": [],
   "source": [
    "# Reformat to meet the submit format\n",
    "result['Time'] = result['date'].map(str) + '-' + result['time'].map(str)\n",
    "result_data = result.loc[:, ['district_id', 'Time', 'gap']]\n",
    "result_data.info()"
   ]
  },
  {
   "cell_type": "code",
   "execution_count": null,
   "metadata": {
    "collapsed": false
   },
   "outputs": [],
   "source": [
    "# Cehck\n",
    "result_data[:5]"
   ]
  },
  {
   "cell_type": "code",
   "execution_count": null,
   "metadata": {
    "collapsed": false
   },
   "outputs": [],
   "source": [
    "# The prediction result output as *.csv\n",
    "result_data.to_csv('result0606.csv', index=False, header=False)"
   ]
  },
  {
   "cell_type": "markdown",
   "metadata": {},
   "source": [
    "## Prediction using regressor"
   ]
  },
  {
   "cell_type": "markdown",
   "metadata": {},
   "source": [
    "### Merge all train data together"
   ]
  },
  {
   "cell_type": "markdown",
   "metadata": {},
   "source": [
    "##### Train data merge"
   ]
  },
  {
   "cell_type": "code",
   "execution_count": 63,
   "metadata": {
    "collapsed": false
   },
   "outputs": [
    {
     "name": "stdout",
     "output_type": "stream",
     "text": [
      "<class 'pandas.core.frame.DataFrame'>\n",
      "Int64Index: 171072 entries, 28512 to 199583\n",
      "Data columns (total 6 columns):\n",
      "district_id    171072 non-null int64\n",
      "date           171072 non-null object\n",
      "time           171072 non-null int64\n",
      "week           171072 non-null int64\n",
      "is_weekend     171072 non-null bool\n",
      "gap            171072 non-null float64\n",
      "dtypes: bool(1), float64(1), int64(3), object(1)\n",
      "memory usage: 8.0+ MB\n"
     ]
    }
   ],
   "source": [
    "# Merge all types of data into one dataframe.\n",
    "full_training_data = full_order_selected[['district_id', 'date', 'time', 'week','is_weekend',  'gap']]\n",
    "full_training_data.info()"
   ]
  },
  {
   "cell_type": "code",
   "execution_count": null,
   "metadata": {
    "collapsed": false
   },
   "outputs": [],
   "source": [
    "full_weather_selected[:2]"
   ]
  },
  {
   "cell_type": "code",
   "execution_count": 64,
   "metadata": {
    "collapsed": false
   },
   "outputs": [
    {
     "name": "stdout",
     "output_type": "stream",
     "text": [
      "<class 'pandas.core.frame.DataFrame'>\n",
      "Int64Index: 171072 entries, 0 to 171071\n",
      "Data columns (total 9 columns):\n",
      "district_id    171072 non-null int64\n",
      "date           171072 non-null object\n",
      "time           171072 non-null int64\n",
      "week           171072 non-null int64\n",
      "is_weekend     171072 non-null bool\n",
      "gap            171072 non-null float64\n",
      "Weather        171072 non-null float64\n",
      "temperature    171072 non-null float64\n",
      "PM2.5          171072 non-null float64\n",
      "dtypes: bool(1), float64(4), int64(3), object(1)\n",
      "memory usage: 11.9+ MB\n"
     ]
    }
   ],
   "source": [
    "full_training_data = full_training_data.merge(full_weather_selected, on=['date', 'week', 'time'], how = 'left')\n",
    "full_training_data.info()"
   ]
  },
  {
   "cell_type": "code",
   "execution_count": null,
   "metadata": {
    "collapsed": false
   },
   "outputs": [],
   "source": [
    "full_traffic_selected[:2]"
   ]
  },
  {
   "cell_type": "code",
   "execution_count": 65,
   "metadata": {
    "collapsed": false
   },
   "outputs": [
    {
     "name": "stdout",
     "output_type": "stream",
     "text": [
      "<class 'pandas.core.frame.DataFrame'>\n",
      "Int64Index: 171072 entries, 0 to 171071\n",
      "Data columns (total 13 columns):\n",
      "district_id    171072 non-null int64\n",
      "date           171072 non-null object\n",
      "time           171072 non-null int64\n",
      "week           171072 non-null int64\n",
      "is_weekend     171072 non-null bool\n",
      "gap            171072 non-null float64\n",
      "Weather        171072 non-null float64\n",
      "temperature    171072 non-null float64\n",
      "PM2.5          171072 non-null float64\n",
      "traffic_1      171072 non-null float64\n",
      "traffic_2      171072 non-null float64\n",
      "traffic_3      171072 non-null float64\n",
      "traffic_4      171072 non-null float64\n",
      "dtypes: bool(1), float64(8), int64(3), object(1)\n",
      "memory usage: 17.1+ MB\n"
     ]
    }
   ],
   "source": [
    "full_training_data = full_training_data.merge(full_traffic_selected, on=['district_id', 'date', 'week', 'time'], how = 'left')\n",
    "full_training_data.info()"
   ]
  },
  {
   "cell_type": "code",
   "execution_count": null,
   "metadata": {
    "collapsed": false
   },
   "outputs": [],
   "source": [
    "train_poi[:2]"
   ]
  },
  {
   "cell_type": "code",
   "execution_count": null,
   "metadata": {
    "collapsed": false
   },
   "outputs": [],
   "source": [
    "full_training_data = full_training_data.merge(train_poi, on=['district_id'], how = 'left')\n",
    "full_training_data.info()"
   ]
  },
  {
   "cell_type": "code",
   "execution_count": null,
   "metadata": {
    "collapsed": false
   },
   "outputs": [],
   "source": [
    "full_training_data.info()"
   ]
  },
  {
   "cell_type": "markdown",
   "metadata": {},
   "source": [
    "##### Test data merge"
   ]
  },
  {
   "cell_type": "code",
   "execution_count": 66,
   "metadata": {
    "collapsed": false
   },
   "outputs": [
    {
     "name": "stdout",
     "output_type": "stream",
     "text": [
      "<class 'pandas.core.frame.DataFrame'>\n",
      "Int64Index: 8910 entries, 0 to 8909\n",
      "Data columns (total 6 columns):\n",
      "district_id    8910 non-null int64\n",
      "date           8910 non-null object\n",
      "time           8910 non-null int64\n",
      "week           8910 non-null int64\n",
      "is_weekend     8910 non-null bool\n",
      "gap            8910 non-null float64\n",
      "dtypes: bool(1), float64(1), int64(3), object(1)\n",
      "memory usage: 426.4+ KB\n"
     ]
    }
   ],
   "source": [
    "full_test_data = full_test_order[['district_id', 'date', 'time', 'week', 'is_weekend','gap']]\n",
    "full_test_data.info()"
   ]
  },
  {
   "cell_type": "code",
   "execution_count": 67,
   "metadata": {
    "collapsed": false
   },
   "outputs": [
    {
     "name": "stdout",
     "output_type": "stream",
     "text": [
      "<class 'pandas.core.frame.DataFrame'>\n",
      "Int64Index: 8910 entries, 0 to 8909\n",
      "Data columns (total 9 columns):\n",
      "district_id    8910 non-null int64\n",
      "date           8910 non-null object\n",
      "time           8910 non-null int64\n",
      "week           8910 non-null int64\n",
      "is_weekend     8910 non-null bool\n",
      "gap            8910 non-null float64\n",
      "Weather        8910 non-null float64\n",
      "temperature    8910 non-null float64\n",
      "PM2.5          8910 non-null float64\n",
      "dtypes: bool(1), float64(4), int64(3), object(1)\n",
      "memory usage: 635.2+ KB\n"
     ]
    }
   ],
   "source": [
    "full_test_data = full_test_data.merge(full_test_weather, on=['date', 'week', 'time'], how = 'left')\n",
    "full_test_data.info()"
   ]
  },
  {
   "cell_type": "code",
   "execution_count": 68,
   "metadata": {
    "collapsed": false
   },
   "outputs": [
    {
     "name": "stdout",
     "output_type": "stream",
     "text": [
      "<class 'pandas.core.frame.DataFrame'>\n",
      "Int64Index: 8910 entries, 0 to 8909\n",
      "Data columns (total 13 columns):\n",
      "district_id    8910 non-null int64\n",
      "date           8910 non-null object\n",
      "time           8910 non-null int64\n",
      "week           8910 non-null int64\n",
      "is_weekend     8910 non-null bool\n",
      "gap            8910 non-null float64\n",
      "Weather        8910 non-null float64\n",
      "temperature    8910 non-null float64\n",
      "PM2.5          8910 non-null float64\n",
      "traffic_1      8910 non-null float64\n",
      "traffic_2      8910 non-null float64\n",
      "traffic_3      8910 non-null float64\n",
      "traffic_4      8910 non-null float64\n",
      "dtypes: bool(1), float64(8), int64(3), object(1)\n",
      "memory usage: 913.6+ KB\n"
     ]
    }
   ],
   "source": [
    "full_test_data = full_test_data.merge(full_test_traffic, on=['district_id', 'date', 'week', 'time'], how = 'left')\n",
    "full_test_data.info()"
   ]
  },
  {
   "cell_type": "code",
   "execution_count": null,
   "metadata": {
    "collapsed": false
   },
   "outputs": [],
   "source": [
    "full_test_data = full_test_data.merge(test_poi, on=['district_id'], how = 'left')\n",
    "full_test_data.info()"
   ]
  },
  {
   "cell_type": "markdown",
   "metadata": {},
   "source": [
    "### Training data split\n",
    "\n",
    "We have 3 time slots' data to predict the target gap, so I prepare to add the previous 3 gaps into the training data.\n"
   ]
  },
  {
   "cell_type": "code",
   "execution_count": null,
   "metadata": {
    "collapsed": false
   },
   "outputs": [],
   "source": [
    "full_training_data.info()"
   ]
  },
  {
   "cell_type": "code",
   "execution_count": null,
   "metadata": {
    "collapsed": false
   },
   "outputs": [],
   "source": [
    "full_test_data.info()"
   ]
  },
  {
   "cell_type": "code",
   "execution_count": null,
   "metadata": {
    "collapsed": false
   },
   "outputs": [],
   "source": [
    "# Merge all train and test data together\n",
    "# Now it doesn't need to implement\n",
    "#All_data_train_test = pd.concat([full_training_data, full_test_data],axis=0, join='outer')\n",
    "#All_data_train_test.info()"
   ]
  },
  {
   "cell_type": "markdown",
   "metadata": {},
   "source": [
    "### Add the gap of previous 3 time slots into training dataset"
   ]
  },
  {
   "cell_type": "code",
   "execution_count": 69,
   "metadata": {
    "collapsed": true
   },
   "outputs": [],
   "source": [
    "## Add the gap of previous 3 time slots into dataset\n",
    "full_training_data['gap_p1'] = full_training_data.gap.shift(1).interpolate(method='nearest').bfill()\n",
    "full_training_data['gap_p2'] = full_training_data.gap.shift(2).interpolate(method='nearest').bfill()\n",
    "full_training_data['gap_p3'] = full_training_data.gap.shift(3).interpolate(method='nearest').bfill()"
   ]
  },
  {
   "cell_type": "code",
   "execution_count": 70,
   "metadata": {
    "collapsed": false
   },
   "outputs": [
    {
     "data": {
      "text/html": [
       "<div>\n",
       "<table border=\"1\" class=\"dataframe\">\n",
       "  <thead>\n",
       "    <tr style=\"text-align: right;\">\n",
       "      <th></th>\n",
       "      <th>time</th>\n",
       "      <th>gap</th>\n",
       "      <th>gap_p1</th>\n",
       "      <th>gap_p2</th>\n",
       "      <th>gap_p3</th>\n",
       "    </tr>\n",
       "  </thead>\n",
       "  <tbody>\n",
       "    <tr>\n",
       "      <th>0</th>\n",
       "      <td>1</td>\n",
       "      <td>3.0</td>\n",
       "      <td>3.0</td>\n",
       "      <td>3.0</td>\n",
       "      <td>3.0</td>\n",
       "    </tr>\n",
       "    <tr>\n",
       "      <th>1</th>\n",
       "      <td>2</td>\n",
       "      <td>5.0</td>\n",
       "      <td>3.0</td>\n",
       "      <td>3.0</td>\n",
       "      <td>3.0</td>\n",
       "    </tr>\n",
       "    <tr>\n",
       "      <th>2</th>\n",
       "      <td>3</td>\n",
       "      <td>7.0</td>\n",
       "      <td>5.0</td>\n",
       "      <td>3.0</td>\n",
       "      <td>3.0</td>\n",
       "    </tr>\n",
       "    <tr>\n",
       "      <th>3</th>\n",
       "      <td>4</td>\n",
       "      <td>5.0</td>\n",
       "      <td>7.0</td>\n",
       "      <td>5.0</td>\n",
       "      <td>3.0</td>\n",
       "    </tr>\n",
       "  </tbody>\n",
       "</table>\n",
       "</div>"
      ],
      "text/plain": [
       "   time  gap  gap_p1  gap_p2  gap_p3\n",
       "0     1  3.0     3.0     3.0     3.0\n",
       "1     2  5.0     3.0     3.0     3.0\n",
       "2     3  7.0     5.0     3.0     3.0\n",
       "3     4  5.0     7.0     5.0     3.0"
      ]
     },
     "execution_count": 70,
     "metadata": {},
     "output_type": "execute_result"
    }
   ],
   "source": [
    "full_training_data[['time', 'gap', 'gap_p1','gap_p2','gap_p3']][:4]"
   ]
  },
  {
   "cell_type": "code",
   "execution_count": 71,
   "metadata": {
    "collapsed": false
   },
   "outputs": [
    {
     "name": "stdout",
     "output_type": "stream",
     "text": [
      "<class 'pandas.core.frame.DataFrame'>\n",
      "Int64Index: 171072 entries, 0 to 171071\n",
      "Data columns (total 16 columns):\n",
      "district_id    171072 non-null int64\n",
      "date           171072 non-null object\n",
      "time           171072 non-null int64\n",
      "week           171072 non-null int64\n",
      "is_weekend     171072 non-null bool\n",
      "gap            171072 non-null float64\n",
      "Weather        171072 non-null float64\n",
      "temperature    171072 non-null float64\n",
      "PM2.5          171072 non-null float64\n",
      "traffic_1      171072 non-null float64\n",
      "traffic_2      171072 non-null float64\n",
      "traffic_3      171072 non-null float64\n",
      "traffic_4      171072 non-null float64\n",
      "gap_p1         171072 non-null float64\n",
      "gap_p2         171072 non-null float64\n",
      "gap_p3         171072 non-null float64\n",
      "dtypes: bool(1), float64(11), int64(3), object(1)\n",
      "memory usage: 21.0+ MB\n"
     ]
    }
   ],
   "source": [
    "full_training_data.info()"
   ]
  },
  {
   "cell_type": "markdown",
   "metadata": {},
   "source": [
    "## Add the gap of previous 3 time slots into test dataset"
   ]
  },
  {
   "cell_type": "markdown",
   "metadata": {},
   "source": [
    "In the test_data, we will predict the gaps in 46,58,70,82,94,106,118,130, and 142 time slots in days of 22,24,26,28, and 30.\n",
    "\n",
    "**Notes:** In date of 24 and 28, there is no 46 timeslot. So there are `66*9*5-66*2 = 2970-132 = 2838` values to predict."
   ]
  },
  {
   "cell_type": "markdown",
   "metadata": {},
   "source": [
    "To predict the target timslot, we should add the previous gaps into this dataset, because we have added these infomation into training data.\n",
    "\n",
    "- I will merge the `test.csv` and test data together\n",
    "- and then add the previous 3 timeslots' gap and other features (traffic, weather, poi..)>\n",
    "- At last, extract the test.csv out of that."
   ]
  },
  {
   "cell_type": "code",
   "execution_count": 72,
   "metadata": {
    "collapsed": false
   },
   "outputs": [
    {
     "data": {
      "text/html": [
       "<div>\n",
       "<table border=\"1\" class=\"dataframe\">\n",
       "  <thead>\n",
       "    <tr style=\"text-align: right;\">\n",
       "      <th></th>\n",
       "      <th>district_id</th>\n",
       "      <th>date</th>\n",
       "      <th>time</th>\n",
       "      <th>week</th>\n",
       "      <th>is_weekend</th>\n",
       "      <th>gap</th>\n",
       "      <th>Weather</th>\n",
       "      <th>temperature</th>\n",
       "      <th>PM2.5</th>\n",
       "      <th>traffic_1</th>\n",
       "      <th>traffic_2</th>\n",
       "      <th>traffic_3</th>\n",
       "      <th>traffic_4</th>\n",
       "    </tr>\n",
       "  </thead>\n",
       "  <tbody>\n",
       "    <tr>\n",
       "      <th>0</th>\n",
       "      <td>1</td>\n",
       "      <td>2016-01-23</td>\n",
       "      <td>43</td>\n",
       "      <td>6</td>\n",
       "      <td>True</td>\n",
       "      <td>9.0</td>\n",
       "      <td>4.0</td>\n",
       "      <td>1.0</td>\n",
       "      <td>94.0</td>\n",
       "      <td>1176.0</td>\n",
       "      <td>156.0</td>\n",
       "      <td>62.0</td>\n",
       "      <td>39.0</td>\n",
       "    </tr>\n",
       "    <tr>\n",
       "      <th>1</th>\n",
       "      <td>2</td>\n",
       "      <td>2016-01-23</td>\n",
       "      <td>43</td>\n",
       "      <td>6</td>\n",
       "      <td>True</td>\n",
       "      <td>0.0</td>\n",
       "      <td>4.0</td>\n",
       "      <td>1.0</td>\n",
       "      <td>94.0</td>\n",
       "      <td>578.0</td>\n",
       "      <td>46.0</td>\n",
       "      <td>10.0</td>\n",
       "      <td>12.0</td>\n",
       "    </tr>\n",
       "  </tbody>\n",
       "</table>\n",
       "</div>"
      ],
      "text/plain": [
       "   district_id        date  time  week is_weekend  gap  Weather  temperature  \\\n",
       "0            1  2016-01-23    43     6       True  9.0      4.0          1.0   \n",
       "1            2  2016-01-23    43     6       True  0.0      4.0          1.0   \n",
       "\n",
       "   PM2.5  traffic_1  traffic_2  traffic_3  traffic_4  \n",
       "0   94.0     1176.0      156.0       62.0       39.0  \n",
       "1   94.0      578.0       46.0       10.0       12.0  "
      ]
     },
     "execution_count": 72,
     "metadata": {},
     "output_type": "execute_result"
    }
   ],
   "source": [
    "full_test_data[:2]"
   ]
  },
  {
   "cell_type": "code",
   "execution_count": null,
   "metadata": {
    "collapsed": false
   },
   "outputs": [],
   "source": [
    "#test_data_temp = full_test_data[['date','district_id','time','week', 'is_weekend','gap']]\n",
    "#test_data_temp.info()"
   ]
  },
  {
   "cell_type": "code",
   "execution_count": 73,
   "metadata": {
    "collapsed": false
   },
   "outputs": [
    {
     "name": "stdout",
     "output_type": "stream",
     "text": [
      "<class 'pandas.core.frame.DataFrame'>\n",
      "Int64Index: 11748 entries, 0 to 11747\n",
      "Data columns (total 13 columns):\n",
      "PM2.5          8910 non-null float64\n",
      "Weather        8910 non-null float64\n",
      "date           11748 non-null object\n",
      "district_id    11748 non-null int64\n",
      "gap            11748 non-null float64\n",
      "is_weekend     11748 non-null bool\n",
      "temperature    8910 non-null float64\n",
      "time           11748 non-null int64\n",
      "traffic_1      8910 non-null float64\n",
      "traffic_2      8910 non-null float64\n",
      "traffic_3      8910 non-null float64\n",
      "traffic_4      8910 non-null float64\n",
      "week           11748 non-null int64\n",
      "dtypes: bool(1), float64(8), int64(3), object(1)\n",
      "memory usage: 1.2+ MB\n"
     ]
    }
   ],
   "source": [
    "test_submit_concat_data = pd.concat([full_test_data, test2_data], axis=0, ignore_index=True)\n",
    "test_submit_concat_data.info()"
   ]
  },
  {
   "cell_type": "code",
   "execution_count": 74,
   "metadata": {
    "collapsed": false
   },
   "outputs": [],
   "source": [
    "test_submit_concat_data.to_csv('out.csv', index=False,)"
   ]
  },
  {
   "cell_type": "code",
   "execution_count": 75,
   "metadata": {
    "collapsed": false
   },
   "outputs": [],
   "source": [
    "test_submit_concat_data = pd.read_csv('out.csv')"
   ]
  },
  {
   "cell_type": "code",
   "execution_count": 76,
   "metadata": {
    "collapsed": false
   },
   "outputs": [
    {
     "data": {
      "text/html": [
       "<div>\n",
       "<table border=\"1\" class=\"dataframe\">\n",
       "  <thead>\n",
       "    <tr style=\"text-align: right;\">\n",
       "      <th></th>\n",
       "      <th>PM2.5</th>\n",
       "      <th>Weather</th>\n",
       "      <th>date</th>\n",
       "      <th>district_id</th>\n",
       "      <th>gap</th>\n",
       "      <th>is_weekend</th>\n",
       "      <th>temperature</th>\n",
       "      <th>time</th>\n",
       "      <th>traffic_1</th>\n",
       "      <th>traffic_2</th>\n",
       "      <th>traffic_3</th>\n",
       "      <th>traffic_4</th>\n",
       "      <th>week</th>\n",
       "    </tr>\n",
       "  </thead>\n",
       "  <tbody>\n",
       "    <tr>\n",
       "      <th>132</th>\n",
       "      <td>94.0</td>\n",
       "      <td>4.0</td>\n",
       "      <td>2016-01-23</td>\n",
       "      <td>1</td>\n",
       "      <td>6.0</td>\n",
       "      <td>True</td>\n",
       "      <td>1.0</td>\n",
       "      <td>45</td>\n",
       "      <td>1369.0</td>\n",
       "      <td>165.0</td>\n",
       "      <td>37.0</td>\n",
       "      <td>36.0</td>\n",
       "      <td>6</td>\n",
       "    </tr>\n",
       "    <tr>\n",
       "      <th>8910</th>\n",
       "      <td>NaN</td>\n",
       "      <td>NaN</td>\n",
       "      <td>2016-01-23</td>\n",
       "      <td>1</td>\n",
       "      <td>0.0</td>\n",
       "      <td>True</td>\n",
       "      <td>NaN</td>\n",
       "      <td>46</td>\n",
       "      <td>NaN</td>\n",
       "      <td>NaN</td>\n",
       "      <td>NaN</td>\n",
       "      <td>NaN</td>\n",
       "      <td>6</td>\n",
       "    </tr>\n",
       "  </tbody>\n",
       "</table>\n",
       "</div>"
      ],
      "text/plain": [
       "      PM2.5  Weather        date  district_id  gap is_weekend  temperature  \\\n",
       "132    94.0      4.0  2016-01-23            1  6.0       True          1.0   \n",
       "8910    NaN      NaN  2016-01-23            1  0.0       True          NaN   \n",
       "\n",
       "      time  traffic_1  traffic_2  traffic_3  traffic_4  week  \n",
       "132     45     1369.0      165.0       37.0       36.0     6  \n",
       "8910    46        NaN        NaN        NaN        NaN     6  "
      ]
     },
     "execution_count": 76,
     "metadata": {},
     "output_type": "execute_result"
    }
   ],
   "source": [
    "test_submit_concat_data = test_submit_concat_data.sort_values(['date','district_id','time'])\n",
    "test_submit_concat_data[2:4]"
   ]
  },
  {
   "cell_type": "code",
   "execution_count": 77,
   "metadata": {
    "collapsed": true
   },
   "outputs": [],
   "source": [
    "## Add the gap of previous 3 time slots into dataset\n",
    "test_submit_concat_data['gap_p1'] =test_submit_concat_data.gap.shift(1).interpolate(method='nearest').bfill()\n",
    "test_submit_concat_data['gap_p2'] = test_submit_concat_data.gap.shift(2).interpolate(method='nearest').bfill()\n",
    "test_submit_concat_data['gap_p3'] = test_submit_concat_data.gap.shift(3).interpolate(method='nearest').bfill()"
   ]
  },
  {
   "cell_type": "code",
   "execution_count": 78,
   "metadata": {
    "collapsed": false
   },
   "outputs": [
    {
     "data": {
      "text/html": [
       "<div>\n",
       "<table border=\"1\" class=\"dataframe\">\n",
       "  <thead>\n",
       "    <tr style=\"text-align: right;\">\n",
       "      <th></th>\n",
       "      <th>PM2.5</th>\n",
       "      <th>Weather</th>\n",
       "      <th>date</th>\n",
       "      <th>district_id</th>\n",
       "      <th>gap</th>\n",
       "      <th>is_weekend</th>\n",
       "      <th>temperature</th>\n",
       "      <th>time</th>\n",
       "      <th>traffic_1</th>\n",
       "      <th>traffic_2</th>\n",
       "      <th>traffic_3</th>\n",
       "      <th>traffic_4</th>\n",
       "      <th>week</th>\n",
       "      <th>gap_p1</th>\n",
       "      <th>gap_p2</th>\n",
       "      <th>gap_p3</th>\n",
       "    </tr>\n",
       "  </thead>\n",
       "  <tbody>\n",
       "    <tr>\n",
       "      <th>132</th>\n",
       "      <td>94.0</td>\n",
       "      <td>4.0</td>\n",
       "      <td>2016-01-23</td>\n",
       "      <td>1</td>\n",
       "      <td>6.0</td>\n",
       "      <td>True</td>\n",
       "      <td>1.0</td>\n",
       "      <td>45</td>\n",
       "      <td>1369.0</td>\n",
       "      <td>165.0</td>\n",
       "      <td>37.0</td>\n",
       "      <td>36.0</td>\n",
       "      <td>6</td>\n",
       "      <td>11.0</td>\n",
       "      <td>9.0</td>\n",
       "      <td>9.0</td>\n",
       "    </tr>\n",
       "    <tr>\n",
       "      <th>8910</th>\n",
       "      <td>94.0</td>\n",
       "      <td>4.0</td>\n",
       "      <td>2016-01-23</td>\n",
       "      <td>1</td>\n",
       "      <td>0.0</td>\n",
       "      <td>True</td>\n",
       "      <td>1.0</td>\n",
       "      <td>46</td>\n",
       "      <td>1369.0</td>\n",
       "      <td>165.0</td>\n",
       "      <td>37.0</td>\n",
       "      <td>36.0</td>\n",
       "      <td>6</td>\n",
       "      <td>6.0</td>\n",
       "      <td>11.0</td>\n",
       "      <td>9.0</td>\n",
       "    </tr>\n",
       "  </tbody>\n",
       "</table>\n",
       "</div>"
      ],
      "text/plain": [
       "      PM2.5  Weather        date  district_id  gap is_weekend  temperature  \\\n",
       "132    94.0      4.0  2016-01-23            1  6.0       True          1.0   \n",
       "8910   94.0      4.0  2016-01-23            1  0.0       True          1.0   \n",
       "\n",
       "      time  traffic_1  traffic_2  traffic_3  traffic_4  week  gap_p1  gap_p2  \\\n",
       "132     45     1369.0      165.0       37.0       36.0     6    11.0     9.0   \n",
       "8910    46     1369.0      165.0       37.0       36.0     6     6.0    11.0   \n",
       "\n",
       "      gap_p3  \n",
       "132      9.0  \n",
       "8910     9.0  "
      ]
     },
     "execution_count": 78,
     "metadata": {},
     "output_type": "execute_result"
    }
   ],
   "source": [
    "result1 = test_submit_concat_data.interpolate(method='nearest').ffill()\n",
    "result1[2:4]"
   ]
  },
  {
   "cell_type": "code",
   "execution_count": 79,
   "metadata": {
    "collapsed": false
   },
   "outputs": [],
   "source": [
    "# Build a time slot index in the submit data to eatract the data from above dataframe\n",
    "time_slot_test = []\n",
    "for time, trp in test2_data.groupby('time'):\n",
    "    time_slot_test.append(time)\n",
    "time_slot_test\n",
    "\n",
    "# select rows from above dataframe based on the target time slots\n",
    "result_temp = result1[result1.time.map(lambda x: x in time_slot_test)]\n",
    "\n",
    "# drop the gap column, because it is the value to predict, this colum is useless interpolated stuff.\n",
    "submit_train = result_temp.drop(['gap', 'date'],axis=1)"
   ]
  },
  {
   "cell_type": "code",
   "execution_count": 80,
   "metadata": {
    "collapsed": false
   },
   "outputs": [
    {
     "name": "stdout",
     "output_type": "stream",
     "text": [
      "<class 'pandas.core.frame.DataFrame'>\n",
      "Int64Index: 2838 entries, 8910 to 11747\n",
      "Data columns (total 14 columns):\n",
      "PM2.5          2838 non-null float64\n",
      "Weather        2838 non-null float64\n",
      "district_id    2838 non-null int64\n",
      "is_weekend     2838 non-null bool\n",
      "temperature    2838 non-null float64\n",
      "time           2838 non-null int64\n",
      "traffic_1      2838 non-null float64\n",
      "traffic_2      2838 non-null float64\n",
      "traffic_3      2838 non-null float64\n",
      "traffic_4      2838 non-null float64\n",
      "week           2838 non-null int64\n",
      "gap_p1         2838 non-null float64\n",
      "gap_p2         2838 non-null float64\n",
      "gap_p3         2838 non-null float64\n",
      "dtypes: bool(1), float64(10), int64(3)\n",
      "memory usage: 313.2 KB\n"
     ]
    }
   ],
   "source": [
    "submit_train.info()"
   ]
  },
  {
   "cell_type": "code",
   "execution_count": null,
   "metadata": {
    "collapsed": false
   },
   "outputs": [],
   "source": [
    "from sklearn import cross_validation\n",
    "from sklearn import metrics\n",
    "scores = cross_validation.cross_val_score(clf1, X, y,cv=5)\n",
    "scores"
   ]
  },
  {
   "cell_type": "markdown",
   "metadata": {},
   "source": [
    "## Training regressor"
   ]
  },
  {
   "cell_type": "code",
   "execution_count": 81,
   "metadata": {
    "collapsed": false
   },
   "outputs": [
    {
     "data": {
      "text/html": [
       "<div>\n",
       "<table border=\"1\" class=\"dataframe\">\n",
       "  <thead>\n",
       "    <tr style=\"text-align: right;\">\n",
       "      <th></th>\n",
       "      <th>district_id</th>\n",
       "      <th>date</th>\n",
       "      <th>time</th>\n",
       "      <th>week</th>\n",
       "      <th>is_weekend</th>\n",
       "      <th>gap</th>\n",
       "      <th>Weather</th>\n",
       "      <th>temperature</th>\n",
       "      <th>PM2.5</th>\n",
       "      <th>traffic_1</th>\n",
       "      <th>traffic_2</th>\n",
       "      <th>traffic_3</th>\n",
       "      <th>traffic_4</th>\n",
       "      <th>gap_p1</th>\n",
       "      <th>gap_p2</th>\n",
       "      <th>gap_p3</th>\n",
       "    </tr>\n",
       "  </thead>\n",
       "  <tbody>\n",
       "    <tr>\n",
       "      <th>0</th>\n",
       "      <td>1</td>\n",
       "      <td>2016-01-04</td>\n",
       "      <td>1</td>\n",
       "      <td>1</td>\n",
       "      <td>False</td>\n",
       "      <td>3.0</td>\n",
       "      <td>2.0</td>\n",
       "      <td>13.0</td>\n",
       "      <td>187.0</td>\n",
       "      <td>223.0</td>\n",
       "      <td>34.0</td>\n",
       "      <td>7.0</td>\n",
       "      <td>11.0</td>\n",
       "      <td>3.0</td>\n",
       "      <td>3.0</td>\n",
       "      <td>3.0</td>\n",
       "    </tr>\n",
       "    <tr>\n",
       "      <th>1</th>\n",
       "      <td>1</td>\n",
       "      <td>2016-01-04</td>\n",
       "      <td>2</td>\n",
       "      <td>1</td>\n",
       "      <td>False</td>\n",
       "      <td>5.0</td>\n",
       "      <td>2.0</td>\n",
       "      <td>13.0</td>\n",
       "      <td>187.0</td>\n",
       "      <td>1110.0</td>\n",
       "      <td>184.0</td>\n",
       "      <td>51.0</td>\n",
       "      <td>45.0</td>\n",
       "      <td>3.0</td>\n",
       "      <td>3.0</td>\n",
       "      <td>3.0</td>\n",
       "    </tr>\n",
       "  </tbody>\n",
       "</table>\n",
       "</div>"
      ],
      "text/plain": [
       "   district_id        date  time  week is_weekend  gap  Weather  temperature  \\\n",
       "0            1  2016-01-04     1     1      False  3.0      2.0         13.0   \n",
       "1            1  2016-01-04     2     1      False  5.0      2.0         13.0   \n",
       "\n",
       "   PM2.5  traffic_1  traffic_2  traffic_3  traffic_4  gap_p1  gap_p2  gap_p3  \n",
       "0  187.0      223.0       34.0        7.0       11.0     3.0     3.0     3.0  \n",
       "1  187.0     1110.0      184.0       51.0       45.0     3.0     3.0     3.0  "
      ]
     },
     "execution_count": 81,
     "metadata": {},
     "output_type": "execute_result"
    }
   ],
   "source": [
    "full_training_data[:2]"
   ]
  },
  {
   "cell_type": "code",
   "execution_count": 95,
   "metadata": {
    "collapsed": true
   },
   "outputs": [],
   "source": [
    "# set the gap type as int to use classifier\n",
    "full_training_data['gap'] =full_training_data['gap'].astype(int)"
   ]
  },
  {
   "cell_type": "code",
   "execution_count": 96,
   "metadata": {
    "collapsed": true
   },
   "outputs": [],
   "source": [
    "import sklearn.cross_validation as cv\n",
    "from sklearn.ensemble import RandomForestClassifier\n",
    "from sklearn.ensemble import RandomForestRegressor"
   ]
  },
  {
   "cell_type": "code",
   "execution_count": 97,
   "metadata": {
    "collapsed": false
   },
   "outputs": [],
   "source": [
    "# Split training and test data\n",
    "cols = (list(set(full_training_data.columns).intersection(full_test_data.columns)\n",
    "                                   .difference(['gap', 'date'])))\n",
    "\n",
    "X = full_training_data[cols]\n",
    "y = full_training_data['gap']\n",
    "index = np.array(full_training_data[['district_id', 'time']]) #convert to np.array temporarily\n",
    "\n",
    "X_fit, X_val, y_fit, y_val, index_fit, index_val = cv.train_test_split(X, y, index, \n",
    "                                                                       test_size=0.2,\n",
    "                                                                       random_state=42)\n",
    "\n",
    "index_val = pd.DataFrame(index_val, columns=['district_id', 'time'])\n",
    "\n",
    "X_test = full_test_data[cols]\n",
    "index_test = full_test_data[['district_id', 'date', 'time']] #keep as pandas"
   ]
  },
  {
   "cell_type": "code",
   "execution_count": 123,
   "metadata": {
    "collapsed": false
   },
   "outputs": [],
   "source": [
    "# Load ML algorithms used\n",
    "clf1 = RandomForestClassifier(n_estimators=10, max_features=4)\n",
    "reg1 = RandomForestRegressor(n_estimators=10, max_features=4)\n",
    "\n",
    "from sklearn.ensemble import BaggingClassifier\n",
    "from sklearn.neighbors import KNeighborsClassifier\n",
    "bagging = BaggingClassifier(KNeighborsClassifier(),max_samples=1000, max_features=4)"
   ]
  },
  {
   "cell_type": "code",
   "execution_count": 124,
   "metadata": {
    "collapsed": false
   },
   "outputs": [
    {
     "data": {
      "text/plain": [
       "0.70823493171783547"
      ]
     },
     "execution_count": 124,
     "metadata": {},
     "output_type": "execute_result"
    }
   ],
   "source": [
    "bagging.fit(X_fit, y_fit)\n",
    "gap_pred = bagging.predict(X_val)\n",
    "\n",
    "MAPE(gap_pred, y_val)"
   ]
  },
  {
   "cell_type": "code",
   "execution_count": 98,
   "metadata": {
    "collapsed": false
   },
   "outputs": [
    {
     "data": {
      "text/plain": [
       "0.68672348290378893"
      ]
     },
     "execution_count": 98,
     "metadata": {},
     "output_type": "execute_result"
    }
   ],
   "source": [
    "clf1.fit(X_fit, y_fit)\n",
    "gap_pred = clf1.predict(X_val)\n",
    "\n",
    "MAPE(gap_pred, y_val)"
   ]
  },
  {
   "cell_type": "code",
   "execution_count": 92,
   "metadata": {
    "collapsed": false
   },
   "outputs": [
    {
     "name": "stdout",
     "output_type": "stream",
     "text": [
      "(34215L,) 1.0\n"
     ]
    }
   ],
   "source": [
    "# Gap baseline is set to 1.\n",
    "gap_pred_baseline = []\n",
    "i = 0\n",
    "while i < len(gap_pred):\n",
    "    gap_pred_baseline.append(1.)\n",
    "    i=i+1\n",
    "    \n",
    "# Check the baseline length and value\n",
    "print np.array(gap_pred_baseline).shape, np.array(gap_pred_baseline).mean()"
   ]
  },
  {
   "cell_type": "code",
   "execution_count": 93,
   "metadata": {
    "collapsed": false
   },
   "outputs": [
    {
     "data": {
      "text/plain": [
       "0.66214047919556906"
      ]
     },
     "execution_count": 93,
     "metadata": {},
     "output_type": "execute_result"
    }
   ],
   "source": [
    "MAPE(gap_pred_baseline, y_val)"
   ]
  },
  {
   "cell_type": "code",
   "execution_count": null,
   "metadata": {
    "collapsed": true
   },
   "outputs": [],
   "source": [
    "#X_fit, X_val, y_fit, y_val = cv.ShuffleSplit(X, y, test_size=0.20, random_state=42)\n",
    "#import sklearn.cross_validation as cv"
   ]
  },
  {
   "cell_type": "code",
   "execution_count": null,
   "metadata": {
    "collapsed": true
   },
   "outputs": [],
   "source": []
  },
  {
   "cell_type": "code",
   "execution_count": null,
   "metadata": {
    "collapsed": false
   },
   "outputs": [],
   "source": [
    "# K-Fold crossvalidation\n",
    "kf = cv.KFold(len(y), n_folds=2, random_state=0)\n",
    "\n",
    "mape_reg_gather = []\n",
    "mape_clf_gather = []\n",
    "for train_index, test_index in kf:\n",
    "    X_train, X_test = X.iloc[train_index], X.iloc[test_index]\n",
    "    y_train, y_test = y.iloc[train_index], y[test_index]\n",
    "\n",
    "    reg1.fit(X_train, y_train)\n",
    "    gap_pred_reg = reg1.predict(X_test)\n",
    "    mape_reg = MAPE(gap_pred_reg, y_test)\n",
    "    mape_reg_baseline = MAPE(gap_pred_reg, y_test)\n",
    "    mape_reg_gather.append(mape_reg)\n",
    "\n",
    "    clf1.fit(X_train, y_train)\n",
    "    gap_pred_clf = clf1.predict(X_test)\n",
    "    mape_clf = MAPE(gap_pred_clf, y_test)\n",
    "    mape_clf_baseline =  MAPE(gap_pred_clf, y_test)\n",
    "    mape_clf_gather.append(mape_clf)\n",
    "\n",
    "    print 'Reg:',mape_reg, 'Baseline:',mape_reg_baseline , 'Clf:', mape_clf, 'Baseline:', mape_clf_baseline\n",
    "print '--------------------'\n",
    "print 'Reg score mean:', np.array(mape_reg_gather).mean(), '; Clf score mean:', np.array(mape_clf_gather).mean()"
   ]
  },
  {
   "cell_type": "code",
   "execution_count": null,
   "metadata": {
    "collapsed": true
   },
   "outputs": [],
   "source": [
    "cols = (list(set(full_training_data.columns).intersection(submit_train.columns)\n",
    "                                   .difference(['gap', 'date'])))\n",
    "\n",
    "X = full_training_data[cols]\n",
    "y = full_training_data['gap']\n",
    "index = np.array(full_training_data[['district_id', 'time']]) #convert to np.array temporarily"
   ]
  },
  {
   "cell_type": "code",
   "execution_count": null,
   "metadata": {
    "collapsed": false
   },
   "outputs": [],
   "source": [
    "# K-Fold crossvalidation\n",
    "kf = cv.KFold(len(y), n_folds=5, random_state=0)\n",
    "\n",
    "mape_reg_gather = []\n",
    "mape_clf_gather = []\n",
    "for train_index, test_index in kf:\n",
    "    X_train, X_test = X.iloc[train_index], X.iloc[test_index]\n",
    "    y_train, y_test = y.iloc[train_index], y[test_index]\n",
    "\n",
    "    reg1.fit(X_train, y_train)\n",
    "    gap_pred_reg = reg1.predict(X_test)\n",
    "    mape_reg = MAPE(gap_pred_reg, y_test)\n",
    "    mape_reg_baseline = MAPE(gap_pred_reg, y_test)\n",
    "    mape_reg_gather.append(mape_reg)\n",
    "\n",
    "    clf1.fit(X_train, y_train)\n",
    "    gap_pred_clf = clf1.predict(X_test)\n",
    "    mape_clf = MAPE(gap_pred_clf, y_test)\n",
    "    mape_clf_baseline =  MAPE(gap_pred_clf, y_test)\n",
    "    mape_clf_gather = append(mape_clf)\n",
    "\n",
    "    print 'Reg:',mape_reg, 'Baseline:',mape_reg_baseline , 'Clf:', mape_clf, 'Baseline:', mape_clf_baseline\n",
    "print '--------------------'\n",
    "print 'Reg score mean:', np.array(mape_reg_gather).mean(), '; Clf score mean:', np.array(mape_clf_gather).mean()"
   ]
  },
  {
   "cell_type": "code",
   "execution_count": null,
   "metadata": {
    "collapsed": false
   },
   "outputs": [],
   "source": [
    "y_test.describe()"
   ]
  },
  {
   "cell_type": "code",
   "execution_count": null,
   "metadata": {
    "collapsed": false
   },
   "outputs": [],
   "source": [
    "MAPE(gap_pred_baseline,y_test)"
   ]
  },
  {
   "cell_type": "code",
   "execution_count": null,
   "metadata": {
    "collapsed": false
   },
   "outputs": [],
   "source": [
    "gap_pred_clf.shape"
   ]
  },
  {
   "cell_type": "code",
   "execution_count": null,
   "metadata": {
    "collapsed": false
   },
   "outputs": [],
   "source": [
    "gap_pred = clf1.predict(X_test)\n",
    "\n",
    "MAPE(gap_pred, y_test)"
   ]
  },
  {
   "cell_type": "code",
   "execution_count": null,
   "metadata": {
    "collapsed": false
   },
   "outputs": [],
   "source": [
    "gap_pred = reg1.predict(X_test)\n",
    "\n",
    "MAPE(gap_pred, y_test)"
   ]
  },
  {
   "cell_type": "code",
   "execution_count": null,
   "metadata": {
    "collapsed": false
   },
   "outputs": [],
   "source": [
    "# Baseline mape score\n",
    "MAPE(gap_pred_baseline, y_test)"
   ]
  },
  {
   "cell_type": "code",
   "execution_count": null,
   "metadata": {
    "collapsed": false
   },
   "outputs": [],
   "source": [
    "# Submit gap prediction\n",
    "submit_gap_pred = clf_opt.predict(submit_train)\n",
    "\n",
    "# Check the length\n",
    "print 'The length of predicted gap:', len(submit_gap_pred)"
   ]
  },
  {
   "cell_type": "code",
   "execution_count": null,
   "metadata": {
    "collapsed": false
   },
   "outputs": [],
   "source": [
    "result_temp['gap'] = submit_gap_pred"
   ]
  },
  {
   "cell_type": "code",
   "execution_count": null,
   "metadata": {
    "collapsed": false
   },
   "outputs": [],
   "source": [
    "result_temp.info()"
   ]
  },
  {
   "cell_type": "code",
   "execution_count": null,
   "metadata": {
    "collapsed": false
   },
   "outputs": [],
   "source": [
    "submit_data = result_temp[['district_id', 'date','time','gap']].sort_values(['date','time'])\n",
    "submit_data[:2]"
   ]
  },
  {
   "cell_type": "code",
   "execution_count": null,
   "metadata": {
    "collapsed": false
   },
   "outputs": [],
   "source": [
    "# Reformat to meet the submit format\n",
    "submit_data['Time'] = submit_data['date'].map(str) + '-' + submit_data['time'].map(str)\n",
    "final_file = submit_data.loc[:, ['district_id', 'Time', 'gap']]\n",
    "final_file.info()"
   ]
  },
  {
   "cell_type": "code",
   "execution_count": null,
   "metadata": {
    "collapsed": false
   },
   "outputs": [],
   "source": [
    "final_file.describe()"
   ]
  },
  {
   "cell_type": "code",
   "execution_count": null,
   "metadata": {
    "collapsed": false
   },
   "outputs": [],
   "source": [
    "final_file[:2]"
   ]
  },
  {
   "cell_type": "code",
   "execution_count": null,
   "metadata": {
    "collapsed": true
   },
   "outputs": [],
   "source": [
    "# The prediction result output as *.csv\n",
    "final_file.to_csv('result0610.csv', index=False, header=False)"
   ]
  },
  {
   "cell_type": "code",
   "execution_count": null,
   "metadata": {
    "collapsed": true
   },
   "outputs": [],
   "source": []
  },
  {
   "cell_type": "code",
   "execution_count": null,
   "metadata": {
    "collapsed": true
   },
   "outputs": [],
   "source": [
    "# Optimize the regressor parameters using GridSearchCV\n",
    "\n",
    "from sklearn.grid_search import GridSearchCV\n",
    "from sklearn.metrics import mean_squared_error, make_scorer\n",
    "\n",
    "clf_o = RandomForestRegressor()"
   ]
  },
  {
   "cell_type": "code",
   "execution_count": null,
   "metadata": {
    "collapsed": false
   },
   "outputs": [],
   "source": [
    "# Create the parameters list I want to tune\n",
    "parameters = {'max_features':[3,4,5,7,10], \n",
    "              'max_depth':[1,5,10,15,20],\n",
    "              'oob_score':[True,False],'min_samples_split':[1,2,3,4], 'n_estimators':[30,50]}\n",
    "#parameters = {'max_features':[3,4,5], 'oob_score':[True,False],'n_estimators':[50]}\n",
    "\n",
    "# Make mse scoring function using 'make_scorer' \n",
    "mse = make_scorer(mean_squared_error, greater_is_better=False)\n",
    "\n",
    "# Perform grid search on the classifier using the mse as the scoring method\n",
    "grid_obj = GridSearchCV(clf_o, parameters, mse)\n",
    "\n",
    "# Fit the grid search object to the training data and find the optimal parameters\n",
    "grid_obj = grid_obj.fit(X_train, y_train)\n",
    "\n",
    "# Get the estimator\n",
    "clf_opt = grid_obj.best_estimator_\n",
    "\n",
    "gap_pred_opt = clf_opt.predict(X_test)\n",
    "\n",
    "MAPE(gap_pred_opt, y_test)"
   ]
  },
  {
   "cell_type": "code",
   "execution_count": null,
   "metadata": {
    "collapsed": false
   },
   "outputs": [],
   "source": [
    "clf_opt"
   ]
  },
  {
   "cell_type": "code",
   "execution_count": null,
   "metadata": {
    "collapsed": true
   },
   "outputs": [],
   "source": [
    "# refer to: https://github.com/ztultrebor/Project5\n",
    "\n",
    "def train_val_split(X, y, index):\n",
    "    train, val = [], []\n",
    "    np.random.seed(5150)\n",
    "    size = y.shape[0]\n",
    "    vals = np.random.choice(size, size/100, replace=False)\n",
    "    trains = list(set(xrange(size)).difference(vals))\n",
    "    return X[trains, :], X[vals, :], y[trains], y[vals], index[trains, :], index[vals, :]"
   ]
  },
  {
   "cell_type": "code",
   "execution_count": null,
   "metadata": {
    "collapsed": false
   },
   "outputs": [],
   "source": [
    "from sklearn.ensemble import RandomForestRegressor\n",
    "clf = RandomForestRegressor(n_estimators=100, max_depth= 3)\n",
    "clf.fit(order_data_selected.values[:,0:3], order_data_selected.values[:,5])"
   ]
  },
  {
   "cell_type": "code",
   "execution_count": null,
   "metadata": {
    "collapsed": false
   },
   "outputs": [],
   "source": [
    "from sklearn.tree import DecisionTreeRegressor\n",
    "clf1 = DecisionTreeRegressor(max_depth = 10)\n",
    "clf1.fit(order_data_selected.values[:,0:3], order_data_selected.values[:,5])"
   ]
  },
  {
   "cell_type": "code",
   "execution_count": null,
   "metadata": {
    "collapsed": false
   },
   "outputs": [],
   "source": [
    "from sklearn import svm\n",
    "clf2 = svm.SVR()\n",
    "clf2.fit(order_data_selected.values[:,0:3], order_data_selected.values[:,5])"
   ]
  },
  {
   "cell_type": "code",
   "execution_count": null,
   "metadata": {
    "collapsed": false
   },
   "outputs": [],
   "source": [
    "gap_pred = clf.predict(test_order1.values[:,0:3])\n",
    "gap_true = test_order1.values[:,6]\n",
    "\n",
    "MAPE(gap_pred, gap_true)"
   ]
  },
  {
   "cell_type": "code",
   "execution_count": null,
   "metadata": {
    "collapsed": false
   },
   "outputs": [],
   "source": [
    "gap_pred[:2]"
   ]
  },
  {
   "cell_type": "code",
   "execution_count": null,
   "metadata": {
    "collapsed": false
   },
   "outputs": [],
   "source": [
    "test_data.info()"
   ]
  },
  {
   "cell_type": "code",
   "execution_count": null,
   "metadata": {
    "collapsed": false
   },
   "outputs": [],
   "source": [
    "test_temp = test_data.drop('date',axis=1)\n",
    "test_temp[:2]"
   ]
  },
  {
   "cell_type": "code",
   "execution_count": null,
   "metadata": {
    "collapsed": false
   },
   "outputs": [],
   "source": [
    "result_pred = clf1.predict(test_temp.values)"
   ]
  },
  {
   "cell_type": "code",
   "execution_count": null,
   "metadata": {
    "collapsed": false
   },
   "outputs": [],
   "source": [
    "result_pred.shape"
   ]
  },
  {
   "cell_type": "code",
   "execution_count": null,
   "metadata": {
    "collapsed": false
   },
   "outputs": [],
   "source": [
    "test_data[:2]"
   ]
  },
  {
   "cell_type": "code",
   "execution_count": null,
   "metadata": {
    "collapsed": true
   },
   "outputs": [],
   "source": [
    "test_data['gap'] = result_pred "
   ]
  },
  {
   "cell_type": "code",
   "execution_count": null,
   "metadata": {
    "collapsed": false
   },
   "outputs": [],
   "source": [
    "test_data[:2]"
   ]
  },
  {
   "cell_type": "code",
   "execution_count": null,
   "metadata": {
    "collapsed": false
   },
   "outputs": [],
   "source": [
    "for date, drp in test_data.groupby('date'):\n",
    "    plt.plot(drp.groupby('time').gap.mean(), label=str(date))\n",
    "plt.legend()"
   ]
  },
  {
   "cell_type": "code",
   "execution_count": null,
   "metadata": {
    "collapsed": false
   },
   "outputs": [],
   "source": [
    "# Reformat to meet the submit format\n",
    "test_data['Time'] = test_data['date'].map(str) + '-' + test_data['time'].map(str)\n",
    "result_data = test_data.loc[:, ['district_id', 'Time', 'gap']]\n",
    "result_data.info()"
   ]
  },
  {
   "cell_type": "code",
   "execution_count": null,
   "metadata": {
    "collapsed": false
   },
   "outputs": [],
   "source": [
    "#check\n",
    "result_data[:2]"
   ]
  },
  {
   "cell_type": "code",
   "execution_count": null,
   "metadata": {
    "collapsed": false
   },
   "outputs": [],
   "source": [
    "# The prediction result output as *.csv\n",
    "result_data.to_csv('result0605.csv', index=False, header=False)"
   ]
  },
  {
   "cell_type": "code",
   "execution_count": null,
   "metadata": {
    "collapsed": false
   },
   "outputs": [],
   "source": [
    "size = result_data.shape[0]\n",
    "vals = np.random.choice(size, size/100, replace=False)\n",
    "vals"
   ]
  },
  {
   "cell_type": "code",
   "execution_count": null,
   "metadata": {
    "collapsed": false
   },
   "outputs": [],
   "source": [
    "n = len(full_data)\n",
    "cols = list(set(full_data.index[1:n+1].intersection(result_data.columns).difference(['gap','week'])))\n",
    "cols"
   ]
  },
  {
   "cell_type": "code",
   "execution_count": null,
   "metadata": {
    "collapsed": false
   },
   "outputs": [],
   "source": [
    "X = np.array(full_data[cols])\n",
    "X[:2]"
   ]
  },
  {
   "cell_type": "code",
   "execution_count": null,
   "metadata": {
    "collapsed": false
   },
   "outputs": [],
   "source": [
    "trains = list(set(xrange(size)).difference(vals))\n",
    "#trains"
   ]
  },
  {
   "cell_type": "code",
   "execution_count": null,
   "metadata": {
    "collapsed": false
   },
   "outputs": [],
   "source": [
    "result_data.columns"
   ]
  }
 ],
 "metadata": {
  "kernelspec": {
   "display_name": "Python 3",
   "language": "python",
   "name": "python3"
  },
  "language_info": {
   "codemirror_mode": {
    "name": "ipython",
    "version": 3
   },
   "file_extension": ".py",
   "mimetype": "text/x-python",
   "name": "python",
   "nbconvert_exporter": "python",
   "pygments_lexer": "ipython3",
   "version": "3.5.3"
  }
 },
 "nbformat": 4,
 "nbformat_minor": 0
}
