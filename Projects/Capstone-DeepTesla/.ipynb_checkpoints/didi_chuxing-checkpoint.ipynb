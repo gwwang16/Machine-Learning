{
 "cells": [
  {
   "cell_type": "markdown",
   "metadata": {},
   "source": [
    "# Machine Learning Engineer Nanodegree\n",
    "## P5: Capstion Project\n",
    "## Di-Tech Competition"
   ]
  },
  {
   "cell_type": "markdown",
   "metadata": {},
   "source": [
    "## Background\n",
    "\n",
    "> [Di-Tech Competition](http://research.xiaojukeji.com/competition/detail.action?competitionId=DiTech2016) \n",
    "\n",
    "> As less than 10% of China’s 1.4 billion citizens own automobiles, the frequency at which Chinese citizens commute on taxis, buses, trains, and planes is the highest in the world. Didi Chuxing, the dominant ride-hailing company in China, processes over 11 million trips, plans over 9 billion routes and collects over 50TB of data per day. To meet needs of riders, Didi must continually innovate to improve cloud computing and big data technologies and algorithms in order to process this massive amount of data and uphold service reliability.\n",
    "\n",
    ">Supply-demand forecasting is critical to enabling Didi to maximise utilisation of drivers and ensure that riders can always get a car whenever and wherever they may need a ride. Supply-demand forecasting helps to predict the volume of drivers and riders at a certain time period in a specific geographic area. For instance, demand tends to surge in residential areas in the mornings and in business districts in the evenings. Supply-demand forecasting allows Didi to predict demand surges and guide drivers to those areas. The end result is higher earnings for drivers and no surge pricing for riders!"
   ]
  },
  {
   "cell_type": "markdown",
   "metadata": {},
   "source": [
    "## Definition and Evaluation Criteria"
   ]
  },
  {
   "cell_type": "markdown",
   "metadata": {},
   "source": [
    "### Definition\n",
    "\n",
    "<script type=\"text/javascript\" src=\"https://cdn.mathjax.org/mathjax/latest/MathJax.js?config=TeX-MML-AM_CHTML\"></script>\n",
    "\n",
    "\n",
    "A passenger calls a ride(request)by entering the place of origin and destination and clicking “Request Pickup” on the Didi app. A driver answers the request (answer) by taking the order.\n",
    "\n",
    "Didi divides a city into $n$ non-overlapping square districts $D={d_1,d_2,⋯,d_n}$ and divides one day uniformly into 144 time slots $t_1, t_2,..., t_{144}$, each 10 minutes long.\n",
    "In district $d_i$, and time slot $t_j$> , the number of passengers' requests is denoted as $r_{ij}$, and drivers' answers as $a_{ij}$ .\n",
    "\n",
    "In district $d_i$, and time slot $t_j$, the demand is denoted as $demand_{ij}$=$r_{ij}$ and the supply as $supply_{ij}$=$a_{ij}$, and the demand supply gap is: $gap_{ij}：gap_{ij} = r_{ij}- a_{ij}$ Given the data of every district and time slot $t_j, t_{j-1}$, you need to predict $gap_{i,j+1}, ∀d_i ∈ D$."
   ]
  },
  {
   "cell_type": "markdown",
   "metadata": {},
   "source": [
    "### Evaluation Metrics\n",
    "Consider $d_i$ districts and $t_j$ time slots, and the supply-demand gap $gap_{ij}$ , and your prediction is $s_{ij}$, we use as the evaluation metrics:\n",
    "\n",
    "$$MAPE=\\frac{1}{n}\\sum_{d_i}^{ }(\\frac{1}{q}\\sum_{t_j}^{ }|\\frac{gap_{ij}-s_{ij}}{gap_{ij}}|),  \\forall gap_{ij}>0 $$ \n",
    "\n",
    "The lowest MAPE will be the best.\n",
    "\n",
    "### Format of results\n",
    "The result you submitted needs to be in the following format: district ID, time slot, prediction value. For example:\n",
    "\n",
    ">1,2016-01-23-1,30.0<br>\n",
    "1,2016-01-23-4,5.0<br>\n",
    "1,2016-01-23-10,6.0<br>\n",
    "2,2016-01-23-1,30.0<br>\n",
    "2,2016-01-23-4,5.0<br>\n",
    "\n",
    "The detailed description of each field is as follows:\n",
    "\n",
    "|Data name       |Data type|Example                                             |\n",
    "|:--------------:|:-------:|:--------------------------------------------------:|\n",
    "|District ID     |string   |1,2,3,4 (the same as district mapping ID)           |\n",
    "|Time slot       |string   |2016-01-23-1 (The first time slot on Jan. 23rd, 2016|\n",
    "|Prediction value|double   |6.0                                                 |\n",
    "\n",
    "*Note:one day is uniformly divided into 144 ten minute time slots*"
   ]
  },
  {
   "cell_type": "markdown",
   "metadata": {},
   "source": [
    "## Analysis"
   ]
  },
  {
   "cell_type": "markdown",
   "metadata": {},
   "source": [
    "### Data Exploration\n",
    "The <i>training set</i> contains three consecutive weeks of data for City M in 2016, and you need to forecast the supply-demand gap for a certain period in the fourth and fifth weeks of City M. The <i>test set</i> contains the data of half an hour before the predicted time slot. The specific time slots where you need to predict the supply-demand gap are shown in the explanation document in the test set.\n",
    "\n",
    "The Order Info Table, Weather Info Table and POI Info Table are available in the database, while the District Definition Table and Traffic Jam Info Table are derived from other tables in the database. All sensitive data has been anonymised.\n",
    "\n",
    "#### Order Info Table\n",
    "\n",
    "|Field\t|Type\t|Meaning\t|Example|\n",
    "|:-----:|:-----:|:---------:|:-----:|\n",
    "|order_id|\tstring|\torder ID|\t70fc7c2bd2caf386bb50f8fd5dfef0cf|\n",
    "|driver_id|\tstring|\tdriver ID|\t56018323b921dd2c5444f98fb45509de|\n",
    "|passenger_id|\tstring|\tuser ID|\t238de35f44bbe8a67bdea86a5b0f4719|\n",
    "|start_district_hash|\tstring|\tdeparture\t|d4ec2125aff74eded207d2d915ef682f|\n",
    "|dest_district_hash|\tstring|\tdestination|\t929ec6c160e6f52c20a4217c7978f681|\n",
    "|Price|\tdouble|\tPrice|\t37.5|\n",
    "|Time|\tstring\t|Timestamp of the order|\t2016-01-15 00:35:11|\n",
    "\n",
    "The Order Info Table shows the basic information of an order, including the passenger and the driver (if driver_id =NULL, it means the order was not answered by any driver), place of origin, destination, price and time. The fields order_id, driver_id, passenger_id, start_hash, and dest_hash are made not sensitive.\n",
    "\n",
    "#### District Info Table\n",
    "\n",
    "|Field|\tType\t|Meaning|\tExample|\n",
    "|:--:|:--:|:--:|:--:|\n",
    "|district_hash\t|string\t|District hash|\t90c5a34f06ac86aee0fd70e2adce7d8a|\n",
    "|district_id\t|string\t|District ID|\t1|\n",
    "\n",
    "The District Info Table shows the information about the districts to be evaluated in the contest. You need to do the prediction given the districts from the District Definition Table. In the submission of the results, you need to map the district hash value to district mapped ID.\n",
    "\n",
    "#### POI Information Table\n",
    "\n",
    "|Field|\tType|\tMeaning\t|Example|\n",
    "|:----:|:----:|:----:|:----:|\n",
    "|district_hash|\tstring\t|District hash|\t74c1c25f4b283fa74a5514307b0d0278|\n",
    "|poi_class\t|string\t|POI class and its number|\t1#1:41 2#1:22 2#2:32|\n",
    "\n",
    "The POI Info Table shows the attributes of a district, such as the number of different facilities. For example, 2#1:22 means in this district, there are 22 facilities of the facility class 2#1. 2#1 means the first level class is 2 and the second level is 1, such as entertainment#theater, shopping#home appliance, sports#others. Each class and its number is separated by \\t.\n",
    "\n",
    "#### Traffic Jam Info Table\n",
    "\n",
    "|Field|\tType|\tMeaning|\tExample|\n",
    "|:----:|:----:|:----:|:----:|\n",
    "|district_hash\t|string|\tHash value of the district|\t1ecbb52d73c522f184a6fc53128b1ea1|\n",
    "|tj_level|\tstring|\tNumber of road sections at different congestion levels|\t1:231 2:33 3:13 4:10|\n",
    "|tj_time|\tstring|\tTimestamp\t|2016-01-15 00:35:11|\n",
    "\n",
    "The Traffic Jam Info Table shows the overall traffic status on the road in a district, including the number of roads at different traffic jam levels in different time periods and different districts. Higher values mean heavier traffic.\n",
    "\n",
    "#### Weather Info Table\n",
    "\n",
    "|Field|\tType|\tMeaning|\tExample|\n",
    "|:----:|:----:|:----:|:----:|\n",
    "|Time\t|string\t|Timestamp|\t2016-01-15 00:35:11|\n",
    "|Weather|\tint|\tWeather|\t7|\n",
    "|temperature|\tdouble|\tTemperature|\t-9|\n",
    "|PM2.5\t|double|\tpm25|\t66|\n",
    "\n",
    "The Weather Info Table shows the weather info every 10 minutes each city. The weather field gives the weather conditions such as sunny, rainy, and snowy etc; all sensitive information has been removed. The unit of temperature is Celsius degree, and PM2.5 is the level of air pollutions."
   ]
  },
  {
   "cell_type": "markdown",
   "metadata": {},
   "source": [
    "#### Preliminary Ideas\n",
    "- The `Time` format in the dataset is not meet with the prediction fromat(i.e. time slot), they should be transfered into the correct format.\n",
    "- The week information should be added in the dataset, becasue the demand would be very different between workday and weekend."
   ]
  },
  {
   "cell_type": "markdown",
   "metadata": {},
   "source": [
    "### Exploratory Visualization"
   ]
  },
  {
   "cell_type": "code",
   "execution_count": 3,
   "metadata": {
    "collapsed": true
   },
   "outputs": [],
   "source": [
    "# Import libraries necessary for this project\n",
    "import numpy as np\n",
    "import pandas as pd\n",
    "import matplotlib.pyplot as plt\n",
    "# Show matplotlib plots inline\n",
    "%matplotlib inline\n",
    "\n",
    "# Load the data path\n",
    "mode_flag = True\n",
    "if mode_flag == True:\n",
    "    LOAD_DATA_DIR = \"season_1/training_data/\"\n",
    "    SAVE_DATA_DIR = \"season_1_data/training_data/\"\n",
    "else:\n",
    "    LOAD_DATA_DIR = \"season_1/test_set_1/\"\n",
    "    SAVE_DATA_DIR = \"season_1_data/test_data/\"\n",
    "    \n",
    "# All the data dirs\n",
    "CLUSTER_MAP_SHEET_DIR = \"cluster_map\"\n",
    "ORDER_SHEET_DIR = \"order_data\"\n",
    "TRAFFIC_SHEET_DIR = \"traffic_data\"\n",
    "WEATHER_SHEET_DIR = \"weather_data\"\n",
    "POI_SHEET_DIR = \"poi_data\""
   ]
  },
  {
   "cell_type": "code",
   "execution_count": 110,
   "metadata": {
    "collapsed": true
   },
   "outputs": [],
   "source": [
    "# Load order data \n",
    "def order_data():\n",
    "    order_sheet_path = os.path.join(LOAD_DATA_DIR, ORDER_SHEET_DIR)\n",
    "    save_path = os.path.join(SAVE_DATA_DIR, ORDER_SHEET_DIR)\n",
    "    data_gaps = []\n",
    "    days = []\n",
    "    for file in os.listdir(order_sheet_path):\n",
    "        data = pd.read_csv(os.path.join(order_sheet_path, file), header = -1, delimiter='\\t')\n",
    "        data.columns = [\"order_id\", \"driver_id\", \"passenger_id\", \"start_district_hash\", \n",
    "                        \"dest_district_hash\", \"Price\",\"Time\"]\n",
    "        data_gap = data.count()['order_id'] - data.count()['driver_id']\n",
    "        data_gaps.append(data_gap)\n",
    "        days.append(file[19:])\n",
    "    return data_gaps, days\n",
    "gap, day = order_data()"
   ]
  },
  {
   "cell_type": "code",
   "execution_count": 112,
   "metadata": {
    "collapsed": false
   },
   "outputs": [
    {
     "data": {
      "image/png": "[encoded data removed]",
      "text/plain": [
       "<matplotlib.figure.Figure at 0x1a801f98>"
      ]
     },
     "metadata": {},
     "output_type": "display_data"
    }
   ],
   "source": [
    "plt.plot(day,gap);"
   ]
  },
  {
   "cell_type": "code",
   "execution_count": 173,
   "metadata": {
    "collapsed": false
   },
   "outputs": [
    {
     "data": {
      "text/html": [
       "<div>\n",
       "<table border=\"1\" class=\"dataframe\">\n",
       "  <thead>\n",
       "    <tr style=\"text-align: right;\">\n",
       "      <th></th>\n",
       "      <th>district_hash</th>\n",
       "      <th>district_id</th>\n",
       "    </tr>\n",
       "  </thead>\n",
       "  <tbody>\n",
       "    <tr>\n",
       "      <th>0</th>\n",
       "      <td>90c5a34f06ac86aee0fd70e2adce7d8a</td>\n",
       "      <td>1</td>\n",
       "    </tr>\n",
       "    <tr>\n",
       "      <th>1</th>\n",
       "      <td>f2c8c4bb99e6377d21de71275afd6cd2</td>\n",
       "      <td>2</td>\n",
       "    </tr>\n",
       "    <tr>\n",
       "      <th>2</th>\n",
       "      <td>58c7a4888306d8ff3a641d1c0feccbe3</td>\n",
       "      <td>3</td>\n",
       "    </tr>\n",
       "    <tr>\n",
       "      <th>3</th>\n",
       "      <td>b26a240205c852804ff8758628c0a86a</td>\n",
       "      <td>4</td>\n",
       "    </tr>\n",
       "    <tr>\n",
       "      <th>4</th>\n",
       "      <td>4b9e4cf2fbdc8281b8a1f9f12b80ce4d</td>\n",
       "      <td>5</td>\n",
       "    </tr>\n",
       "  </tbody>\n",
       "</table>\n",
       "</div>"
      ],
      "text/plain": [
       "                      district_hash  district_id\n",
       "0  90c5a34f06ac86aee0fd70e2adce7d8a            1\n",
       "1  f2c8c4bb99e6377d21de71275afd6cd2            2\n",
       "2  58c7a4888306d8ff3a641d1c0feccbe3            3\n",
       "3  b26a240205c852804ff8758628c0a86a            4\n",
       "4  4b9e4cf2fbdc8281b8a1f9f12b80ce4d            5"
      ]
     },
     "execution_count": 173,
     "metadata": {},
     "output_type": "execute_result"
    }
   ],
   "source": [
    "# Load poi data\n",
    "def poi_data():\n",
    "    return None\n",
    "\n",
    "# Load cluster data\n",
    "def cluster_data():\n",
    "    cluster_map_sheet_path = os.path.join(LOAD_DATA_DIR, CLUSTER_MAP_SHEET_DIR)\n",
    "    save_path = os.path.join(SAVE_DATA_DIR, CLUSTER_MAP_SHEET_DIR)\n",
    "    file = \"cluster_map\"\n",
    "    data = pd.read_csv(os.path.join(cluster_map_sheet_path, file), header = -1, delimiter='\\t')\n",
    "    data.columns = [\"district_hash\", \"district_id\"]\n",
    "    return data\n",
    "\n",
    "cluster_data = cluster_data()\n",
    "cluster_data.head()"
   ]
  },
  {
   "cell_type": "code",
   "execution_count": 4,
   "metadata": {
    "collapsed": false
   },
   "outputs": [
    {
     "ename": "NameError",
     "evalue": "name 'os' is not defined",
     "output_type": "error",
     "traceback": [
      "\u001b[1;31m---------------------------------------------------------------------------\u001b[0m",
      "\u001b[1;31mNameError\u001b[0m                                 Traceback (most recent call last)",
      "\u001b[1;32m<ipython-input-4-dd7dde990672>\u001b[0m in \u001b[0;36m<module>\u001b[1;34m()\u001b[0m\n\u001b[0;32m      1\u001b[0m \u001b[1;31m# Load the 2016-01-01 data, visulization\u001b[0m\u001b[1;33m\u001b[0m\u001b[1;33m\u001b[0m\u001b[0m\n\u001b[1;32m----> 2\u001b[1;33m \u001b[0morder_sheet_path\u001b[0m \u001b[1;33m=\u001b[0m \u001b[0mos\u001b[0m\u001b[1;33m.\u001b[0m\u001b[0mpath\u001b[0m\u001b[1;33m.\u001b[0m\u001b[0mjoin\u001b[0m\u001b[1;33m(\u001b[0m\u001b[0mLOAD_DATA_DIR\u001b[0m\u001b[1;33m,\u001b[0m \u001b[0mORDER_SHEET_DIR\u001b[0m\u001b[1;33m)\u001b[0m\u001b[1;33m\u001b[0m\u001b[0m\n\u001b[0m\u001b[0;32m      3\u001b[0m \u001b[0msave_path\u001b[0m \u001b[1;33m=\u001b[0m \u001b[0mos\u001b[0m\u001b[1;33m.\u001b[0m\u001b[0mpath\u001b[0m\u001b[1;33m.\u001b[0m\u001b[0mjoin\u001b[0m\u001b[1;33m(\u001b[0m\u001b[0mSAVE_DATA_DIR\u001b[0m\u001b[1;33m,\u001b[0m \u001b[0mORDER_SHEET_DIR\u001b[0m\u001b[1;33m)\u001b[0m\u001b[1;33m\u001b[0m\u001b[0m\n\u001b[0;32m      4\u001b[0m \u001b[1;33m\u001b[0m\u001b[0m\n\u001b[0;32m      5\u001b[0m \u001b[0morder_01\u001b[0m \u001b[1;33m=\u001b[0m \u001b[0mpd\u001b[0m\u001b[1;33m.\u001b[0m\u001b[0mread_csv\u001b[0m\u001b[1;33m(\u001b[0m\u001b[0mos\u001b[0m\u001b[1;33m.\u001b[0m\u001b[0mpath\u001b[0m\u001b[1;33m.\u001b[0m\u001b[0mjoin\u001b[0m\u001b[1;33m(\u001b[0m\u001b[0msave_path\u001b[0m\u001b[1;33m,\u001b[0m \u001b[1;34m\"order_data_2016-01-01.csv\"\u001b[0m\u001b[1;33m)\u001b[0m\u001b[1;33m)\u001b[0m\u001b[1;33m\u001b[0m\u001b[0m\n",
      "\u001b[1;31mNameError\u001b[0m: name 'os' is not defined"
     ]
    }
   ],
   "source": [
    "# Load the 2016-01-01 data, visulization\n",
    "order_sheet_path = os.path.join(LOAD_DATA_DIR, ORDER_SHEET_DIR)\n",
    "save_path = os.path.join(SAVE_DATA_DIR, ORDER_SHEET_DIR)\n",
    "\n",
    "order_01 = pd.read_csv(os.path.join(save_path, \"order_data_2016-01-01.csv\"))\n",
    "order_01.head(3)"
   ]
  },
  {
   "cell_type": "code",
   "execution_count": 1,
   "metadata": {
    "collapsed": false
   },
   "outputs": [
    {
     "ename": "NameError",
     "evalue": "name 'order_01' is not defined",
     "output_type": "error",
     "traceback": [
      "\u001b[1;31m---------------------------------------------------------------------------\u001b[0m",
      "\u001b[1;31mNameError\u001b[0m                                 Traceback (most recent call last)",
      "\u001b[1;32m<ipython-input-1-5e2d34d55940>\u001b[0m in \u001b[0;36m<module>\u001b[1;34m()\u001b[0m\n\u001b[1;32m----> 1\u001b[1;33m \u001b[0morder_01\u001b[0m\u001b[1;33m[\u001b[0m\u001b[1;33m:\u001b[0m\u001b[1;36m2\u001b[0m\u001b[1;33m]\u001b[0m\u001b[1;33m\u001b[0m\u001b[0m\n\u001b[0m",
      "\u001b[1;31mNameError\u001b[0m: name 'order_01' is not defined"
     ]
    }
   ],
   "source": [
    "order_01[:2]"
   ]
  },
  {
   "cell_type": "code",
   "execution_count": 176,
   "metadata": {
    "collapsed": false
   },
   "outputs": [
    {
     "data": {
      "text/html": [
       "<div>\n",
       "<table border=\"1\" class=\"dataframe\">\n",
       "  <thead>\n",
       "    <tr style=\"text-align: right;\">\n",
       "      <th></th>\n",
       "      <th>date</th>\n",
       "      <th>time</th>\n",
       "      <th>week</th>\n",
       "      <th>district_id</th>\n",
       "      <th>Price</th>\n",
       "      <th>Resp</th>\n",
       "    </tr>\n",
       "  </thead>\n",
       "  <tbody>\n",
       "    <tr>\n",
       "      <th>30</th>\n",
       "      <td>2016-01-01</td>\n",
       "      <td>96</td>\n",
       "      <td>5</td>\n",
       "      <td>23</td>\n",
       "      <td>18.9</td>\n",
       "      <td>True</td>\n",
       "    </tr>\n",
       "    <tr>\n",
       "      <th>31</th>\n",
       "      <td>2016-01-01</td>\n",
       "      <td>110</td>\n",
       "      <td>5</td>\n",
       "      <td>23</td>\n",
       "      <td>13.0</td>\n",
       "      <td>True</td>\n",
       "    </tr>\n",
       "    <tr>\n",
       "      <th>32</th>\n",
       "      <td>2016-01-01</td>\n",
       "      <td>18</td>\n",
       "      <td>5</td>\n",
       "      <td>23</td>\n",
       "      <td>31.0</td>\n",
       "      <td>True</td>\n",
       "    </tr>\n",
       "    <tr>\n",
       "      <th>33</th>\n",
       "      <td>2016-01-01</td>\n",
       "      <td>61</td>\n",
       "      <td>5</td>\n",
       "      <td>23</td>\n",
       "      <td>8.7</td>\n",
       "      <td>False</td>\n",
       "    </tr>\n",
       "    <tr>\n",
       "      <th>34</th>\n",
       "      <td>2016-01-01</td>\n",
       "      <td>108</td>\n",
       "      <td>5</td>\n",
       "      <td>23</td>\n",
       "      <td>13.9</td>\n",
       "      <td>True</td>\n",
       "    </tr>\n",
       "  </tbody>\n",
       "</table>\n",
       "</div>"
      ],
      "text/plain": [
       "          date  time  week  district_id  Price   Resp\n",
       "30  2016-01-01    96     5           23   18.9   True\n",
       "31  2016-01-01   110     5           23   13.0   True\n",
       "32  2016-01-01    18     5           23   31.0   True\n",
       "33  2016-01-01    61     5           23    8.7  False\n",
       "34  2016-01-01   108     5           23   13.9   True"
      ]
     },
     "execution_count": 176,
     "metadata": {},
     "output_type": "execute_result"
    }
   ],
   "source": [
    "full_order = order_01.merge(cluster_data, left_on='start_district_hash', right_on='district_hash')\n",
    "\n",
    "\n",
    "full_order['Resp'] = full_order['driver_id'].notnull()\n",
    "\n",
    "small_order = full_order.loc[:, ['date', 'time', 'week','district_id', 'Price', 'Resp']]\n",
    "#small_order_file = os.path.join(base_name, f + \".csv\")\n",
    "#small_order.to_csv(small_order_file, index = False)\n",
    "#print time.time() - prev\n",
    "small_order[30:35]"
   ]
  },
  {
   "cell_type": "code",
   "execution_count": 187,
   "metadata": {
    "collapsed": false
   },
   "outputs": [],
   "source": [
    "group_all = small_order.loc[:, ['district_id', 'date', 'time', 'week','Resp']].groupby(['district_id', 'date', 'week','time'])\n",
    "sd_data = group_all.count()\n",
    "sd_data['supply'] = group_all.Resp.sum()\n",
    "sd_data['gap'] = sd_data.Resp - sd_data.supply\n",
    "sd_data.columns = ['demand', 'supply', 'gap']\n",
    "\n",
    "sd_df = sd_data.reset_index(level = ['district_id', 'date', 'week','time'])\n"
   ]
  },
  {
   "cell_type": "code",
   "execution_count": 188,
   "metadata": {
    "collapsed": false
   },
   "outputs": [
    {
     "data": {
      "text/html": [
       "<div>\n",
       "<table border=\"1\" class=\"dataframe\">\n",
       "  <thead>\n",
       "    <tr style=\"text-align: right;\">\n",
       "      <th></th>\n",
       "      <th></th>\n",
       "      <th></th>\n",
       "      <th></th>\n",
       "      <th>demand</th>\n",
       "      <th>supply</th>\n",
       "      <th>gap</th>\n",
       "    </tr>\n",
       "    <tr>\n",
       "      <th>district_id</th>\n",
       "      <th>date</th>\n",
       "      <th>week</th>\n",
       "      <th>time</th>\n",
       "      <th></th>\n",
       "      <th></th>\n",
       "      <th></th>\n",
       "    </tr>\n",
       "  </thead>\n",
       "  <tbody>\n",
       "    <tr>\n",
       "      <th rowspan=\"4\" valign=\"top\">1</th>\n",
       "      <th rowspan=\"4\" valign=\"top\">2016-01-01</th>\n",
       "      <th rowspan=\"4\" valign=\"top\">5</th>\n",
       "      <th>141</th>\n",
       "      <td>113</td>\n",
       "      <td>112.0</td>\n",
       "      <td>1.0</td>\n",
       "    </tr>\n",
       "    <tr>\n",
       "      <th>142</th>\n",
       "      <td>115</td>\n",
       "      <td>111.0</td>\n",
       "      <td>4.0</td>\n",
       "    </tr>\n",
       "    <tr>\n",
       "      <th>143</th>\n",
       "      <td>90</td>\n",
       "      <td>89.0</td>\n",
       "      <td>1.0</td>\n",
       "    </tr>\n",
       "    <tr>\n",
       "      <th>144</th>\n",
       "      <td>84</td>\n",
       "      <td>82.0</td>\n",
       "      <td>2.0</td>\n",
       "    </tr>\n",
       "    <tr>\n",
       "      <th rowspan=\"6\" valign=\"top\">2</th>\n",
       "      <th rowspan=\"6\" valign=\"top\">2016-01-01</th>\n",
       "      <th rowspan=\"6\" valign=\"top\">5</th>\n",
       "      <th>1</th>\n",
       "      <td>9</td>\n",
       "      <td>8.0</td>\n",
       "      <td>1.0</td>\n",
       "    </tr>\n",
       "    <tr>\n",
       "      <th>2</th>\n",
       "      <td>19</td>\n",
       "      <td>19.0</td>\n",
       "      <td>0.0</td>\n",
       "    </tr>\n",
       "    <tr>\n",
       "      <th>3</th>\n",
       "      <td>13</td>\n",
       "      <td>13.0</td>\n",
       "      <td>0.0</td>\n",
       "    </tr>\n",
       "    <tr>\n",
       "      <th>4</th>\n",
       "      <td>10</td>\n",
       "      <td>10.0</td>\n",
       "      <td>0.0</td>\n",
       "    </tr>\n",
       "    <tr>\n",
       "      <th>5</th>\n",
       "      <td>11</td>\n",
       "      <td>11.0</td>\n",
       "      <td>0.0</td>\n",
       "    </tr>\n",
       "    <tr>\n",
       "      <th>6</th>\n",
       "      <td>16</td>\n",
       "      <td>16.0</td>\n",
       "      <td>0.0</td>\n",
       "    </tr>\n",
       "  </tbody>\n",
       "</table>\n",
       "</div>"
      ],
      "text/plain": [
       "                                  demand  supply  gap\n",
       "district_id date       week time                     \n",
       "1           2016-01-01 5    141      113   112.0  1.0\n",
       "                            142      115   111.0  4.0\n",
       "                            143       90    89.0  1.0\n",
       "                            144       84    82.0  2.0\n",
       "2           2016-01-01 5    1          9     8.0  1.0\n",
       "                            2         19    19.0  0.0\n",
       "                            3         13    13.0  0.0\n",
       "                            4         10    10.0  0.0\n",
       "                            5         11    11.0  0.0\n",
       "                            6         16    16.0  0.0"
      ]
     },
     "execution_count": 188,
     "metadata": {},
     "output_type": "execute_result"
    }
   ],
   "source": [
    "sd_data[140:150]"
   ]
  },
  {
   "cell_type": "code",
   "execution_count": 189,
   "metadata": {
    "collapsed": false
   },
   "outputs": [
    {
     "data": {
      "text/html": [
       "<div>\n",
       "<table border=\"1\" class=\"dataframe\">\n",
       "  <thead>\n",
       "    <tr style=\"text-align: right;\">\n",
       "      <th></th>\n",
       "      <th>district_id</th>\n",
       "      <th>date</th>\n",
       "      <th>week</th>\n",
       "      <th>time</th>\n",
       "      <th>demand</th>\n",
       "      <th>supply</th>\n",
       "      <th>gap</th>\n",
       "    </tr>\n",
       "  </thead>\n",
       "  <tbody>\n",
       "    <tr>\n",
       "      <th>0</th>\n",
       "      <td>1</td>\n",
       "      <td>2016-01-01</td>\n",
       "      <td>5</td>\n",
       "      <td>1</td>\n",
       "      <td>187</td>\n",
       "      <td>178.0</td>\n",
       "      <td>9.0</td>\n",
       "    </tr>\n",
       "    <tr>\n",
       "      <th>1</th>\n",
       "      <td>1</td>\n",
       "      <td>2016-01-01</td>\n",
       "      <td>5</td>\n",
       "      <td>2</td>\n",
       "      <td>198</td>\n",
       "      <td>191.0</td>\n",
       "      <td>7.0</td>\n",
       "    </tr>\n",
       "    <tr>\n",
       "      <th>2</th>\n",
       "      <td>1</td>\n",
       "      <td>2016-01-01</td>\n",
       "      <td>5</td>\n",
       "      <td>3</td>\n",
       "      <td>192</td>\n",
       "      <td>182.0</td>\n",
       "      <td>10.0</td>\n",
       "    </tr>\n",
       "    <tr>\n",
       "      <th>3</th>\n",
       "      <td>1</td>\n",
       "      <td>2016-01-01</td>\n",
       "      <td>5</td>\n",
       "      <td>4</td>\n",
       "      <td>172</td>\n",
       "      <td>167.0</td>\n",
       "      <td>5.0</td>\n",
       "    </tr>\n",
       "    <tr>\n",
       "      <th>4</th>\n",
       "      <td>1</td>\n",
       "      <td>2016-01-01</td>\n",
       "      <td>5</td>\n",
       "      <td>5</td>\n",
       "      <td>153</td>\n",
       "      <td>152.0</td>\n",
       "      <td>1.0</td>\n",
       "    </tr>\n",
       "  </tbody>\n",
       "</table>\n",
       "</div>"
      ],
      "text/plain": [
       "   district_id        date  week  time  demand  supply   gap\n",
       "0            1  2016-01-01     5     1     187   178.0   9.0\n",
       "1            1  2016-01-01     5     2     198   191.0   7.0\n",
       "2            1  2016-01-01     5     3     192   182.0  10.0\n",
       "3            1  2016-01-01     5     4     172   167.0   5.0\n",
       "4            1  2016-01-01     5     5     153   152.0   1.0"
      ]
     },
     "execution_count": 189,
     "metadata": {},
     "output_type": "execute_result"
    }
   ],
   "source": [
    "sd_df.head()"
   ]
  },
  {
   "cell_type": "code",
   "execution_count": 194,
   "metadata": {
    "collapsed": false
   },
   "outputs": [],
   "source": [
    "# Load the 2016-01-01 data, visulization weather\n",
    "traffic_sheet_path = os.path.join(LOAD_DATA_DIR, TRAFFIC_SHEET_DIR)\n",
    "save_path = os.path.join(SAVE_DATA_DIR, TRAFFIC_SHEET_DIR)\n",
    "\n",
    "traffic_01 = pd.read_csv(os.path.join(save_path, \"traffic_data_2016-01-01.csv\"))"
   ]
  },
  {
   "cell_type": "code",
   "execution_count": 204,
   "metadata": {
    "collapsed": false
   },
   "outputs": [
    {
     "data": {
      "text/html": [
       "<div>\n",
       "<table border=\"1\" class=\"dataframe\">\n",
       "  <thead>\n",
       "    <tr style=\"text-align: right;\">\n",
       "      <th></th>\n",
       "      <th>tj_level1_count</th>\n",
       "      <th>tj_level2_count</th>\n",
       "      <th>tj_level3_count</th>\n",
       "      <th>tj_level4_count</th>\n",
       "      <th>week</th>\n",
       "      <th>date</th>\n",
       "      <th>time</th>\n",
       "      <th>district_id</th>\n",
       "    </tr>\n",
       "  </thead>\n",
       "  <tbody>\n",
       "    <tr>\n",
       "      <th>0</th>\n",
       "      <td>231</td>\n",
       "      <td>33</td>\n",
       "      <td>13</td>\n",
       "      <td>10</td>\n",
       "      <td>5</td>\n",
       "      <td>2016-01-01</td>\n",
       "      <td>142</td>\n",
       "      <td>66</td>\n",
       "    </tr>\n",
       "    <tr>\n",
       "      <th>1</th>\n",
       "      <td>305</td>\n",
       "      <td>69</td>\n",
       "      <td>13</td>\n",
       "      <td>16</td>\n",
       "      <td>5</td>\n",
       "      <td>2016-01-01</td>\n",
       "      <td>56</td>\n",
       "      <td>66</td>\n",
       "    </tr>\n",
       "  </tbody>\n",
       "</table>\n",
       "</div>"
      ],
      "text/plain": [
       "   tj_level1_count  tj_level2_count  tj_level3_count  tj_level4_count  week  \\\n",
       "0              231               33               13               10     5   \n",
       "1              305               69               13               16     5   \n",
       "\n",
       "         date  time  district_id  \n",
       "0  2016-01-01   142           66  \n",
       "1  2016-01-01    56           66  "
      ]
     },
     "execution_count": 204,
     "metadata": {},
     "output_type": "execute_result"
    }
   ],
   "source": [
    "cluster_traffic = traffic_01.merge(cluster_data, left_on='district_hash', right_on='district_hash')\n",
    "simplified_traffic = cluster_traffic.drop('district_hash',axis=1)\n",
    "simplified_traffic[:2]"
   ]
  },
  {
   "cell_type": "code",
   "execution_count": null,
   "metadata": {
    "collapsed": true
   },
   "outputs": [],
   "source": []
  },
  {
   "cell_type": "markdown",
   "metadata": {},
   "source": [
    "### Algorithms and Techniques\n",
    "\n",
    "### Benchmark"
   ]
  },
  {
   "cell_type": "markdown",
   "metadata": {},
   "source": [
    "## Methodology\n",
    "### Data Preprocessing\n",
    "- Transfer the data format into `time slot` format\n",
    "- Calculate the `weekday` info based on `Time` info\n",
    "- Calculate the gap info in each `time slot` and `district_id` based on `order` info \n",
    "- Get the weather info with `time slot` and `district_id` index\n",
    "- Get the traffic info with `time slot` and `district_id`index\n",
    "- Merge these data sheets into one, which concludes `gap`, `weather`, `traffic`, and `weekday` with `time slot` and `district_id` index.\n",
    "- Input: `time slot`, and `distric_id`. Output: `gap`.\n",
    "\n",
    "**Time slot **<br>\n",
    "`time_slice = pd.to_datetime(data.Time, unit='s')`<br>\n",
    "`time_slice.map(lambda x: x.hour * 6 + x.minute /10 + 1)`<br>\n",
    "**Weekday**<br>\n",
    "`time_slice.map(lambda x: x.isoweekday())`<br>\n",
    "**Implementation code**<br>\n",
    " `main_data_preprocessing.order_sheet_info_pre()`<br>\n",
    " "
   ]
  },
  {
   "cell_type": "markdown",
   "metadata": {},
   "source": [
    "### Implementation"
   ]
  },
  {
   "cell_type": "code",
   "execution_count": null,
   "metadata": {
    "collapsed": true
   },
   "outputs": [],
   "source": []
  },
  {
   "cell_type": "markdown",
   "metadata": {},
   "source": [
    "### Refinement"
   ]
  },
  {
   "cell_type": "markdown",
   "metadata": {},
   "source": [
    "## Getting Started"
   ]
  }
 ],
 "metadata": {
  "kernelspec": {
   "display_name": "Python 3",
   "language": "python",
   "name": "python3"
  },
  "language_info": {
   "codemirror_mode": {
    "name": "ipython",
    "version": 3
   },
   "file_extension": ".py",
   "mimetype": "text/x-python",
   "name": "python",
   "nbconvert_exporter": "python",
   "pygments_lexer": "ipython3",
   "version": "3.5.3"
  }
 },
 "nbformat": 4,
 "nbformat_minor": 0
}
