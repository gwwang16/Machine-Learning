{
 "cells": [
  {
   "cell_type": "markdown",
   "metadata": {
    "deletable": true,
    "editable": true
   },
   "source": [
    "# Machine Learning Engineer Nanodegree\n",
    "## Capstone Project : DeepTesla\n",
    "Guangwei Wang  \n",
    "March 20st, 2017"
   ]
  },
  {
   "cell_type": "markdown",
   "metadata": {
    "deletable": true,
    "editable": true
   },
   "source": [
    "## Definition\n",
    "### Project Overview\n",
    "\n",
    "This project is based on Course [MIT 6.S094: Deep Learning for Self-Driving Cars](http://selfdrivingcars.mit.edu/deeptesl/)\n"
   ]
  },
  {
   "cell_type": "markdown",
   "metadata": {
    "deletable": true,
    "editable": true
   },
   "source": [
    "### Problem Statement\n",
    "\n",
    "This project is an end-to-end learning problem. The goal is to predict the steering wheel angel from Tesla dataset based on the video of the forward roadway."
   ]
  },
  {
   "cell_type": "markdown",
   "metadata": {
    "deletable": true,
    "editable": true
   },
   "source": [
    "### Datasets and Inputs\n",
    "\n",
    "Databases with real-traffic video data captured and extracted 10 video clips of highway driving from Tesla:\n",
    "\n",
    "- The wheel value was extracted from the in-vehicle CAN\n",
    "\n",
    "- A window from each video frame is cropped/extracted and provide a CSV linking the window to a wheel value.\n",
    "\n",
    "A snapshot of video frame:\n",
    "<img src=\"./images/img/frame_1173.jpg\" width = \"320\" height = \"180\" align=center />\n",
    "    \n",
    "The CSV data format:\n",
    "\n",
    "\n",
    "|  ts_micro         | frame_index | wheel |\n",
    "|:-----------------:|:-----------:|:-----:|\n",
    "|  1464305394391807 | 0           | -0.5  |\n",
    "| 1464305394425141  | 1           | -0.5  | \n",
    "| 1464305394458474  | 2           | -0.5  |\n"
   ]
  },
  {
   "cell_type": "markdown",
   "metadata": {
    "deletable": true,
    "editable": true
   },
   "source": [
    "### Evaluation Metrics\n",
    "\n",
    "This is a regression problem, MSE metrics is adopted here.\n",
    "\n",
    "$$MSE = \\frac{1}{N} \\sum_{N}^{i=1}\\sqrt{y_{p} - y}$$\n",
    "where, $y_p$ is the predicted steering wheel angle, $y$ denotes the reference steering wheel angle, and the sample number is `N`. The lower MSE is preferred.\n"
   ]
  },
  {
   "cell_type": "code",
   "execution_count": 1,
   "metadata": {
    "collapsed": false,
    "deletable": true,
    "editable": true
   },
   "outputs": [],
   "source": [
    "import numpy as np\n",
    "import pandas as pd\n",
    "import matplotlib.pyplot as plt\n",
    "import os\n",
    "%matplotlib inline\n",
    "%config InlineBackend.figure_format = 'retina'"
   ]
  },
  {
   "cell_type": "code",
   "execution_count": 2,
   "metadata": {
    "collapsed": false,
    "deletable": true,
    "editable": true
   },
   "outputs": [],
   "source": [
    "# Import local env\n",
    "import params\n",
    "import helper\n",
    "import preprocess\n",
    "\n",
    "data_dir = params.data_dir\n",
    "out_dir = params.out_dir\n",
    "model_dir = params.model_dir\n",
    "\n",
    "img_height = params.img_height\n",
    "img_width = params.img_width\n",
    "img_channels = params.img_channels\n",
    "batch_size = params.batch_size"
   ]
  },
  {
   "cell_type": "markdown",
   "metadata": {
    "deletable": true,
    "editable": true
   },
   "source": [
    "### Steering angle info"
   ]
  },
  {
   "cell_type": "code",
   "execution_count": null,
   "metadata": {
    "collapsed": false,
    "deletable": true,
    "editable": true
   },
   "outputs": [],
   "source": [
    "import glob\n",
    "csv_files = glob.glob(os.path.join(data_dir, \"*steering.csv\"))\n",
    "steering_csv = pd.concat((pd.read_csv(f) for f in csv_files))"
   ]
  },
  {
   "cell_type": "code",
   "execution_count": null,
   "metadata": {
    "collapsed": false,
    "deletable": true,
    "editable": true
   },
   "outputs": [],
   "source": [
    "steering_csv[-3:]"
   ]
  },
  {
   "cell_type": "code",
   "execution_count": null,
   "metadata": {
    "collapsed": false,
    "deletable": true,
    "editable": true
   },
   "outputs": [],
   "source": [
    "steering_csv.describe()"
   ]
  },
  {
   "cell_type": "code",
   "execution_count": null,
   "metadata": {
    "collapsed": false,
    "deletable": true,
    "editable": true
   },
   "outputs": [],
   "source": [
    "steering_csv.wheel.describe()"
   ]
  },
  {
   "cell_type": "code",
   "execution_count": null,
   "metadata": {
    "collapsed": false,
    "deletable": true,
    "editable": true
   },
   "outputs": [],
   "source": [
    "wheel = steering_csv['wheel']\n",
    "plt.figure\n",
    "plt.hist(wheel,50);"
   ]
  },
  {
   "cell_type": "markdown",
   "metadata": {},
   "source": [
    "### Video Info"
   ]
  },
  {
   "cell_type": "code",
   "execution_count": null,
   "metadata": {
    "collapsed": false,
    "deletable": true,
    "editable": true
   },
   "outputs": [],
   "source": [
    "import cv2\n",
    "import matplotlib.image as mpimg\n",
    "img=mpimg.imread(\"images/img/frame_1173.jpg\")\n",
    "imgplot = plt.imshow(img)"
   ]
  },
  {
   "cell_type": "code",
   "execution_count": null,
   "metadata": {
    "collapsed": false,
    "deletable": true,
    "editable": true
   },
   "outputs": [],
   "source": [
    "img = preprocess.preprocess(img)\n",
    "imgplot = plt.imshow(img)"
   ]
  },
  {
   "cell_type": "code",
   "execution_count": null,
   "metadata": {
    "collapsed": false,
    "deletable": true,
    "editable": true
   },
   "outputs": [],
   "source": [
    "cap = cv2.VideoCapture(\"epochs/epoch03_front.mkv\")\n",
    "length = int(cap.get(cv2.CAP_PROP_FRAME_COUNT))\n",
    "width  = int(cap.get(cv2.CAP_PROP_FRAME_WIDTH))\n",
    "height = int(cap.get(cv2.CAP_PROP_FRAME_HEIGHT))\n",
    "fps    = int(cap.get(cv2.CAP_PROP_FPS))\n",
    "\n",
    "print (length,width,height,fps)"
   ]
  },
  {
   "cell_type": "markdown",
   "metadata": {
    "deletable": true,
    "editable": true
   },
   "source": [
    "The frame count of video is large than csv 2 frame counts"
   ]
  },
  {
   "cell_type": "markdown",
   "metadata": {
    "deletable": true,
    "editable": true
   },
   "source": [
    "- Merge all frames together with corresponding steering wheel angle.\n",
    "- Show one frame of the preprocessed data."
   ]
  },
  {
   "cell_type": "markdown",
   "metadata": {
    "deletable": true,
    "editable": true
   },
   "source": [
    "## Data Processing V2\n",
    "Load all data together, and then select ~1/10 data as valid data. "
   ]
  },
  {
   "cell_type": "code",
   "execution_count": 3,
   "metadata": {
    "collapsed": false,
    "deletable": true,
    "editable": true
   },
   "outputs": [
    {
     "data": {
      "text/plain": [
       "<matplotlib.image.AxesImage at 0x7f2b04f47ef0>"
      ]
     },
     "execution_count": 3,
     "metadata": {},
     "output_type": "execute_result"
    },
    {
     "data": {
      "image/png": "[encoded data removed]",
      "text/plain": [
       "<matplotlib.figure.Figure at 0x7f2bb83a6160>"
      ]
     },
     "metadata": {
      "image/png": {
       "height": 144,
       "width": 370
      }
     },
     "output_type": "display_data"
    }
   ],
   "source": [
    "imgs_train, wheels_train = preprocess.load_data_v2('train')\n",
    "plt.imshow(imgs_train[1])"
   ]
  },
  {
   "cell_type": "code",
   "execution_count": 4,
   "metadata": {
    "collapsed": false,
    "deletable": true,
    "editable": true
   },
   "outputs": [
    {
     "data": {
      "text/plain": [
       "(24300, 66, 200, 3)"
      ]
     },
     "execution_count": 4,
     "metadata": {},
     "output_type": "execute_result"
    }
   ],
   "source": [
    "np.array(imgs_train).shape"
   ]
  },
  {
   "cell_type": "code",
   "execution_count": null,
   "metadata": {
    "collapsed": true,
    "deletable": true,
    "editable": true
   },
   "outputs": [],
   "source": []
  },
  {
   "cell_type": "code",
   "execution_count": null,
   "metadata": {
    "collapsed": true,
    "deletable": true,
    "editable": true
   },
   "outputs": [],
   "source": []
  },
  {
   "cell_type": "code",
   "execution_count": null,
   "metadata": {
    "collapsed": true,
    "deletable": true,
    "editable": true
   },
   "outputs": [],
   "source": [
    "# To do. Save the check point data\n",
    "# pikle has memory error, hasn't solved"
   ]
  },
  {
   "cell_type": "markdown",
   "metadata": {
    "deletable": true,
    "editable": true
   },
   "source": [
    "## Check point\n",
    "\n",
    "The data has been processed by\n",
    "- Merge data together\n",
    "- Shuffle\n",
    "- Normalize"
   ]
  },
  {
   "cell_type": "code",
   "execution_count": null,
   "metadata": {
    "collapsed": true,
    "deletable": true,
    "editable": true
   },
   "outputs": [],
   "source": []
  },
  {
   "cell_type": "markdown",
   "metadata": {
    "deletable": true,
    "editable": true
   },
   "source": [
    "### Convolution and Max Pooling Layer"
   ]
  },
  {
   "cell_type": "code",
   "execution_count": 12,
   "metadata": {
    "collapsed": true,
    "deletable": true,
    "editable": true
   },
   "outputs": [],
   "source": [
    "import tensorflow as tf\n",
    "\n",
    "def conv2d(x_tensor, conv_num_outputs, conv_ksize, conv_strides):\n",
    "    \"\"\"\n",
    "    Apply convolution to x_tensor\n",
    "    :param x_tensor: TensorFlow Tensor\n",
    "    :param conv_num_outputs: Number of outputs for the convolutional layer\n",
    "    :param conv_strides: Stride 2-D Tuple for convolution\n",
    "    :return: A tensor that represents convolution of x_tensor\n",
    "    \"\"\"\n",
    "    _,_,_,input_depth = x_tensor.get_shape()\n",
    "    weight = tf.Variable(tf.truncated_normal((*conv_ksize,int(input_depth),conv_num_outputs),\n",
    "                                             mean=0.0, stddev=0.1), name='weight')\n",
    "    bias = tf.Variable(tf.truncated_normal([conv_num_outputs]), name='bias')\n",
    "    \n",
    "    # Apply a convolution, add bias, and add nonlinear activation\n",
    "    x_tensor = tf.nn.conv2d(x_tensor, \n",
    "                            weight, \n",
    "                            strides = [1,*conv_strides,1], \n",
    "                            padding = 'SAME')\n",
    "    x_tensor = tf.nn.bias_add(x_tensor, bias)\n",
    "    return tf.nn.relu(x_tensor)\n",
    "\n",
    "def max_pool(x_tensor, pool_ksize, pool_strides):\n",
    "    \"\"\"\n",
    "    Apply max pooling to x_tensor\n",
    "    :param x_tensor: TensorFlow Tensor\n",
    "    :param pool_ksize: kernal size 2-D Tuple for pool\n",
    "    :param pool_strides: Stride 2-D Tuple for pool\n",
    "    :return: A tensor that represents max pooling of x_tensor\n",
    "    \"\"\"\n",
    "    return tf.nn.max_pool(x_tensor, \n",
    "                          ksize = [1,*pool_ksize,1], \n",
    "                          strides = [1,*pool_strides,1], \n",
    "                          padding = 'SAME')"
   ]
  },
  {
   "cell_type": "markdown",
   "metadata": {
    "deletable": true,
    "editable": true
   },
   "source": [
    "### Flatten Layer"
   ]
  },
  {
   "cell_type": "code",
   "execution_count": 13,
   "metadata": {
    "collapsed": true,
    "deletable": true,
    "editable": true
   },
   "outputs": [],
   "source": [
    "def flatten(x_tensor):\n",
    "    \"\"\"\n",
    "    Flatten x_tensor to (Batch Size, Flattened Image Size)\n",
    "    : x_tensor: A tensor of size (Batch Size, ...), where ... are the image dimensions.\n",
    "    : return: A tensor of size (Batch Size, Flattened Image Size).\n",
    "    \"\"\"\n",
    "    # TODO: Implement Function\n",
    "    # If one component of shape is the special value -1, \n",
    "    # the size of that dimension is computed so that the total size remains constant.\n",
    "    _, size_x, size_y, depth = x_tensor.get_shape()\n",
    "    return tf.reshape(x_tensor, [-1, int(size_x)*int(size_y)*int(depth)])"
   ]
  },
  {
   "cell_type": "markdown",
   "metadata": {
    "deletable": true,
    "editable": true
   },
   "source": [
    "### Fully-Connected Layer"
   ]
  },
  {
   "cell_type": "code",
   "execution_count": 14,
   "metadata": {
    "collapsed": true,
    "deletable": true,
    "editable": true
   },
   "outputs": [],
   "source": [
    "def fully_conn(x_tensor, num_outputs):\n",
    "    \"\"\"\n",
    "    Apply a fully connected layer to x_tensor using weight and bias\n",
    "    : x_tensor: A 2-D tensor where the first dimension is batch size.\n",
    "    : num_outputs: The number of output that the new tensor should be.\n",
    "    : return: A 2-D tensor where the second dimension is num_outputs.\n",
    "    \"\"\"\n",
    "    # TODO: Implement Function\n",
    "    weight = tf.Variable(tf.truncated_normal((int(x_tensor.get_shape()[1]),num_outputs),\n",
    "                                             mean=0.0, stddev=0.05))\n",
    "    bias = tf.Variable(tf.truncated_normal([num_outputs]))\n",
    "    y = tf.nn.bias_add(tf.matmul(x_tensor, weight), bias)\n",
    "    return tf.nn.relu(y)"
   ]
  },
  {
   "cell_type": "markdown",
   "metadata": {
    "deletable": true,
    "editable": true
   },
   "source": [
    "### Output Layer"
   ]
  },
  {
   "cell_type": "code",
   "execution_count": 15,
   "metadata": {
    "collapsed": true,
    "deletable": true,
    "editable": true
   },
   "outputs": [],
   "source": [
    "def output(x_tensor, num_outputs):\n",
    "    \"\"\"\n",
    "    Apply a output layer to x_tensor using weight and bias\n",
    "    : x_tensor: A 2-D tensor where the first dimension is batch size.\n",
    "    : num_outputs: The number of output that the new tensor should be.\n",
    "    : return: A 2-D tensor where the second dimension is num_outputs.\n",
    "    \"\"\"\n",
    "    # TODO: Implement Function\n",
    "    weight = tf.Variable(tf.truncated_normal((int(x_tensor.get_shape()[1]),num_outputs),\n",
    "                                             mean=0.0, stddev=0.05))\n",
    "    bias = tf.Variable(tf.truncated_normal([num_outputs]))\n",
    "    return tf.nn.bias_add(tf.matmul(x_tensor, weight), bias)"
   ]
  },
  {
   "cell_type": "markdown",
   "metadata": {
    "deletable": true,
    "editable": true
   },
   "source": [
    "### Convolutional Model"
   ]
  },
  {
   "cell_type": "code",
   "execution_count": 16,
   "metadata": {
    "collapsed": true,
    "deletable": true,
    "editable": true
   },
   "outputs": [],
   "source": [
    "def conv_net(x, keep_prob):\n",
    "    \"\"\"\n",
    "    Create a convolutional neural network model\n",
    "    : x: Placeholder tensor that holds image data.\n",
    "    : keep_prob: Placeholder tensor that hold dropout keep probability.\n",
    "    : return: Tensor that represents logits\n",
    "    \"\"\"\n",
    "    conv_1 = conv2d(x_tensor=x,\n",
    "                           conv_num_outputs=24,\n",
    "                           conv_ksize=[3,3],\n",
    "                           conv_strides=[1,1])\n",
    "    conv_1 = max_pool(x_tensor = conv_1,\n",
    "                      pool_ksize=[3,3],\n",
    "                      pool_strides=[2,2])\n",
    "    \n",
    "    conv_2 = conv2d(x_tensor=conv_1,\n",
    "                    conv_num_outputs=36,\n",
    "                    conv_ksize=[3,3],\n",
    "                    conv_strides=[1,1])\n",
    "    conv_2 = max_pool(x_tensor = conv_2,\n",
    "                     pool_ksize=[3,3],\n",
    "                     pool_strides=[2,2])\n",
    "    \n",
    "    conv_3 = conv2d(x_tensor=conv_2,\n",
    "                    conv_num_outputs=48,\n",
    "                    conv_ksize=[3,3],\n",
    "                    conv_strides=[1,1])\n",
    "    conv_3 = max_pool(x_tensor = conv_3,\n",
    "                     pool_ksize=[3,3],\n",
    "                     pool_strides=[2,2])\n",
    "    \n",
    "    conv_4 = conv2d(x_tensor=conv_3,\n",
    "                    conv_num_outputs=64,\n",
    "                    conv_ksize=[3,3],\n",
    "                    conv_strides=[1,1])\n",
    "    conv_4 = max_pool(x_tensor = conv_4,\n",
    "                     pool_ksize=[3,3],\n",
    "                     pool_strides=[2,2])\n",
    "    \n",
    "    \n",
    "    fc0 = flatten(conv_4)\n",
    "    \n",
    "    fc1 = fully_conn(fc0, 256)     \n",
    "    fc1 = tf.nn.dropout(fc1, keep_prob)\n",
    "    \n",
    "    fc2 = fully_conn(fc1, 256)     \n",
    "    fc2 = tf.nn.dropout(fc2, keep_prob)\n",
    "    \n",
    "    out = output(fc2, 1)\n",
    "    return out"
   ]
  },
  {
   "cell_type": "code",
   "execution_count": null,
   "metadata": {
    "collapsed": true,
    "deletable": true,
    "editable": true
   },
   "outputs": [],
   "source": [
    "##############################\n",
    "## Build the Neural Network ##\n",
    "##############################\n",
    "\n",
    "# Remove previous weights, bias, inputs, etc..\n",
    "tf.reset_default_graph()\n",
    "\n",
    "# Inputs\n",
    "x = tf.placeholder(tf.float32,\n",
    "                   [None, params.img_height, params.img_width, params.img_channels], \n",
    "                   name='x')\n",
    "y_ = tf.placeholder(tf.float32, [None, 1], name='y_')\n",
    "keep_prob = tf.placeholder(tf.float32, name='keep_prob')\n",
    "\n",
    "\n",
    "# Model\n",
    "y = conv_net(x, keep_prob)\n",
    "y = tf.identity(y, name='y')\n",
    "\n",
    "# Lost and Optimizer\n",
    "loss = tf.reduce_mean(tf.square(tf.sub(y_, y)))\n",
    "train_step = tf.train.AdamOptimizer(1e-4).minimize(loss)"
   ]
  },
  {
   "cell_type": "code",
   "execution_count": 9,
   "metadata": {
    "collapsed": true,
    "deletable": true,
    "editable": true
   },
   "outputs": [],
   "source": [
    "epochs = 1000\n",
    "batch_size = 128\n",
    "keep_probability = 0.5"
   ]
  },
  {
   "cell_type": "code",
   "execution_count": 18,
   "metadata": {
    "collapsed": false,
    "deletable": true,
    "editable": true,
    "scrolled": true
   },
   "outputs": [
    {
     "name": "stdout",
     "output_type": "stream",
     "text": [
      "Checking the Training on a Single Batch...\n",
      "step 10 of 1000, train loss 29.355796813964844, val loss 5.637911796569824\n",
      "step 20 of 1000, train loss 35.885528564453125, val loss 24.41329002380371\n",
      "step 30 of 1000, train loss 24.78249740600586, val loss 3.9814462661743164\n",
      "step 40 of 1000, train loss 20.724552154541016, val loss 4.219688415527344\n",
      "step 50 of 1000, train loss 16.765239715576172, val loss 5.494463920593262\n",
      "step 60 of 1000, train loss 19.15953254699707, val loss 8.186609268188477\n",
      "step 70 of 1000, train loss 20.43023109436035, val loss 6.391333103179932\n",
      "step 80 of 1000, train loss 26.663049697875977, val loss 5.14324951171875\n",
      "step 90 of 1000, train loss 21.25088119506836, val loss 4.7052998542785645\n",
      "step 100 of 1000, train loss 17.65384292602539, val loss 5.324472904205322\n",
      "Model saved. Time passed: 26. \n",
      "step 110 of 1000, train loss 18.033891677856445, val loss 3.8881983757019043\n",
      "step 120 of 1000, train loss 22.150775909423828, val loss 3.4446511268615723\n",
      "step 130 of 1000, train loss 20.830280303955078, val loss 3.4342520236968994\n",
      "step 140 of 1000, train loss 16.877269744873047, val loss 3.227419376373291\n",
      "step 150 of 1000, train loss 22.199222564697266, val loss 3.4286551475524902\n",
      "step 160 of 1000, train loss 14.447317123413086, val loss 3.583451747894287\n",
      "step 170 of 1000, train loss 19.920961380004883, val loss 3.4394173622131348\n",
      "step 180 of 1000, train loss 22.454919815063477, val loss 4.067615985870361\n",
      "step 190 of 1000, train loss 14.392436981201172, val loss 3.974261999130249\n",
      "step 200 of 1000, train loss 18.112857818603516, val loss 3.396894693374634\n",
      "Model saved. Time passed: 52. \n",
      "step 210 of 1000, train loss 17.785900115966797, val loss 3.119047164916992\n",
      "step 220 of 1000, train loss 12.444366455078125, val loss 3.8966217041015625\n",
      "step 230 of 1000, train loss 15.310714721679688, val loss 3.0827620029449463\n",
      "step 240 of 1000, train loss 17.080936431884766, val loss 2.800841808319092\n",
      "step 250 of 1000, train loss 16.520015716552734, val loss 2.7665181159973145\n",
      "step 260 of 1000, train loss 22.285924911499023, val loss 2.8278541564941406\n",
      "step 270 of 1000, train loss 17.329755783081055, val loss 3.164316415786743\n",
      "step 280 of 1000, train loss 12.95750617980957, val loss 3.8027870655059814\n",
      "step 290 of 1000, train loss 19.61753273010254, val loss 2.737508535385132\n",
      "step 300 of 1000, train loss 17.64035415649414, val loss 2.9477951526641846\n",
      "Model saved. Time passed: 78. \n",
      "step 310 of 1000, train loss 16.16965675354004, val loss 2.655947208404541\n",
      "step 320 of 1000, train loss 15.296730041503906, val loss 2.8655200004577637\n",
      "step 330 of 1000, train loss 21.203596115112305, val loss 2.6774370670318604\n",
      "step 340 of 1000, train loss 14.741727828979492, val loss 2.7746400833129883\n",
      "step 350 of 1000, train loss 15.680160522460938, val loss 2.590513229370117\n",
      "step 360 of 1000, train loss 15.958163261413574, val loss 2.6917433738708496\n",
      "step 370 of 1000, train loss 17.680068969726562, val loss 2.4701197147369385\n",
      "step 380 of 1000, train loss 15.459493637084961, val loss 2.7688820362091064\n",
      "step 390 of 1000, train loss 13.999960899353027, val loss 3.1674227714538574\n",
      "step 400 of 1000, train loss 16.453439712524414, val loss 2.775869369506836\n",
      "Model saved. Time passed: 104. \n",
      "step 410 of 1000, train loss 15.828889846801758, val loss 2.8527355194091797\n",
      "step 420 of 1000, train loss 20.774738311767578, val loss 2.745722532272339\n",
      "step 430 of 1000, train loss 14.245197296142578, val loss 2.6803247928619385\n",
      "step 440 of 1000, train loss 13.107782363891602, val loss 2.7463796138763428\n",
      "step 450 of 1000, train loss 15.353594779968262, val loss 3.032176971435547\n",
      "step 460 of 1000, train loss 17.851581573486328, val loss 2.830888509750366\n",
      "step 470 of 1000, train loss 15.383539199829102, val loss 2.682640552520752\n",
      "step 480 of 1000, train loss 17.240161895751953, val loss 2.808220386505127\n",
      "step 490 of 1000, train loss 7.8501482009887695, val loss 3.1343908309936523\n",
      "step 500 of 1000, train loss 14.810317993164062, val loss 2.6152870655059814\n",
      "Model saved. Time passed: 130. \n",
      "step 510 of 1000, train loss 18.387474060058594, val loss 2.957554817199707\n",
      "step 520 of 1000, train loss 15.570239067077637, val loss 2.7407822608947754\n",
      "step 530 of 1000, train loss 12.345051765441895, val loss 2.912612199783325\n",
      "step 540 of 1000, train loss 13.179356575012207, val loss 2.7689027786254883\n",
      "step 550 of 1000, train loss 14.853050231933594, val loss 2.973371744155884\n",
      "step 560 of 1000, train loss 14.433000564575195, val loss 2.690236806869507\n",
      "step 570 of 1000, train loss 13.324236869812012, val loss 2.77655029296875\n",
      "step 580 of 1000, train loss 13.679411888122559, val loss 2.661875009536743\n",
      "step 590 of 1000, train loss 14.437541007995605, val loss 2.597985029220581\n",
      "step 600 of 1000, train loss 14.425670623779297, val loss 2.768439531326294\n",
      "Model saved. Time passed: 156. \n",
      "step 610 of 1000, train loss 14.256155014038086, val loss 2.620452642440796\n",
      "step 620 of 1000, train loss 15.73087215423584, val loss 3.3126869201660156\n",
      "step 630 of 1000, train loss 11.099601745605469, val loss 2.5373928546905518\n",
      "step 640 of 1000, train loss 9.705008506774902, val loss 2.6904711723327637\n",
      "step 650 of 1000, train loss 12.332033157348633, val loss 2.4022388458251953\n",
      "step 660 of 1000, train loss 15.42197036743164, val loss 2.7450673580169678\n",
      "step 670 of 1000, train loss 12.002252578735352, val loss 2.719512701034546\n",
      "step 680 of 1000, train loss 15.666474342346191, val loss 2.673788070678711\n",
      "step 690 of 1000, train loss 15.54373550415039, val loss 2.6227941513061523\n",
      "step 700 of 1000, train loss 9.737726211547852, val loss 2.6948957443237305\n",
      "Model saved. Time passed: 182. \n",
      "step 710 of 1000, train loss 7.174546718597412, val loss 2.49100399017334\n",
      "step 720 of 1000, train loss 9.602743148803711, val loss 2.537205219268799\n",
      "step 730 of 1000, train loss 10.379878997802734, val loss 2.920966148376465\n",
      "step 740 of 1000, train loss 14.984806060791016, val loss 2.764294147491455\n",
      "step 750 of 1000, train loss 9.679635047912598, val loss 2.8550426959991455\n",
      "step 760 of 1000, train loss 13.233034133911133, val loss 2.6235902309417725\n",
      "step 770 of 1000, train loss 10.56303596496582, val loss 2.5446557998657227\n",
      "step 780 of 1000, train loss 9.639320373535156, val loss 2.7214341163635254\n",
      "step 790 of 1000, train loss 13.134535789489746, val loss 3.0531585216522217\n",
      "step 800 of 1000, train loss 12.702598571777344, val loss 2.4530928134918213\n",
      "Model saved. Time passed: 209. \n",
      "step 810 of 1000, train loss 11.0133056640625, val loss 2.6938467025756836\n",
      "step 820 of 1000, train loss 10.598990440368652, val loss 2.6576573848724365\n",
      "step 830 of 1000, train loss 9.719441413879395, val loss 2.7752268314361572\n",
      "step 840 of 1000, train loss 14.027837753295898, val loss 2.6194207668304443\n",
      "step 850 of 1000, train loss 13.844717025756836, val loss 2.786470651626587\n",
      "step 860 of 1000, train loss 11.566083908081055, val loss 2.401735544204712\n",
      "step 870 of 1000, train loss 12.208415985107422, val loss 2.7832536697387695\n",
      "step 880 of 1000, train loss 12.018171310424805, val loss 3.915921688079834\n",
      "step 890 of 1000, train loss 9.182111740112305, val loss 2.7650909423828125\n",
      "step 900 of 1000, train loss 9.543463706970215, val loss 2.2806029319763184\n",
      "Model saved. Time passed: 235. \n",
      "step 910 of 1000, train loss 12.196645736694336, val loss 2.67171311378479\n",
      "step 920 of 1000, train loss 9.252103805541992, val loss 2.6987414360046387\n",
      "step 930 of 1000, train loss 8.890522956848145, val loss 2.7427480220794678\n",
      "step 940 of 1000, train loss 9.71544075012207, val loss 2.4564878940582275\n",
      "step 950 of 1000, train loss 11.024837493896484, val loss 2.660627603530884\n",
      "step 960 of 1000, train loss 8.457226753234863, val loss 2.8794119358062744\n",
      "step 970 of 1000, train loss 9.316939353942871, val loss 2.6820225715637207\n",
      "step 980 of 1000, train loss 12.086637496948242, val loss 2.528881072998047\n",
      "step 990 of 1000, train loss 9.918098449707031, val loss 2.409247398376465\n",
      "step 1000 of 1000, train loss 7.401581764221191, val loss 2.543236255645752\n",
      "Model saved. Time passed: 261. \n"
     ]
    }
   ],
   "source": [
    "import time\n",
    "saver = tf.train.Saver()\n",
    "time_start = time.time()\n",
    "\n",
    "print('Checking the Training on a Single Batch...')\n",
    "with tf.Session() as sess:\n",
    "    # Initializing the variables\n",
    "    sess.run(tf.global_variables_initializer())\n",
    "    \n",
    "    # Training cycle\n",
    "    for epoch in range(epochs):\n",
    "        txx, tyy = helper.load_batch_v2(imgs_train[:-2000], wheels_train[:-2000])\n",
    "        tyy = np.reshape(tyy,(batch_size,1))\n",
    "        train_step.run(feed_dict={x: txx, y_: tyy, keep_prob: keep_probability})\n",
    "        \n",
    "        \n",
    "        #for batch_features, batch_targetss in txx, tyy:\n",
    "        #    train_neural_network(sess, optimizer, keep_probability, batch_features, batch_targets)\n",
    "        #if (i+1) % 10 == 0:\n",
    "        #vxx, vyy = imgs_val, wheels_val\n",
    "        if (epoch+1) % 10 == 0:\n",
    "            vxx, vyy = imgs_train[-2000:], wheels_train[-2000:]\n",
    "            vyy = np.reshape(vyy,(len(vyy),1))\n",
    "            t_loss = loss.eval(feed_dict={x: txx, y_: tyy, keep_prob: 1.0})\n",
    "            v_loss = loss.eval(feed_dict={x: vxx, y_: vyy, keep_prob: 1.0})\n",
    "            print (\"step {} of {}, train loss {}, val loss {}\".format(epoch+1, epochs, t_loss, v_loss))\n",
    "            \n",
    "        if (epoch+1) % 100 == 0:\n",
    "            if not os.path.exists(params.model_dir):\n",
    "                os.makedirs(params.save_dir)\n",
    "            checkpoint_path = os.path.join(params.model_dir, \"model.ckpt\")\n",
    "            filename = saver.save(sess, checkpoint_path)\n",
    "            time_end = time.time()\n",
    "            time_passed = int(round(time_end - time_start))\n",
    "            print ('Model saved. Time passed: {}s. '.format(time_passed))"
   ]
  },
  {
   "cell_type": "markdown",
   "metadata": {
    "collapsed": true,
    "deletable": true,
    "editable": true
   },
   "source": [
    "## Checkpoint\n",
    "The model has been saved.\n",
    "\n",
    "## Test Model\n",
    "\n",
    "Test the trained model on epoch 10 video."
   ]
  },
  {
   "cell_type": "code",
   "execution_count": 5,
   "metadata": {
    "collapsed": true,
    "deletable": true,
    "editable": true
   },
   "outputs": [],
   "source": [
    "import numpy as np\n",
    "import pandas as pd\n",
    "import matplotlib.pyplot as plt\n",
    "import os\n",
    "%matplotlib inline\n",
    "%config InlineBackend.figure_format = 'retina'\n",
    "\n",
    "import tensorflow as tf\n",
    "import pickle\n",
    "import helper, params, preprocess\n",
    "import random"
   ]
  },
  {
   "cell_type": "code",
   "execution_count": 6,
   "metadata": {
    "collapsed": false,
    "deletable": true,
    "editable": true
   },
   "outputs": [
    {
     "data": {
      "text/plain": [
       "<matplotlib.image.AxesImage at 0x1a6cb6ce390>"
      ]
     },
     "execution_count": 6,
     "metadata": {},
     "output_type": "execute_result"
    },
    {
     "data": {
      "image/png": "[encoded data removed]",
      "text/plain": [
       "<matplotlib.figure.Figure at 0x1a6cae229e8>"
      ]
     },
     "metadata": {
      "image/png": {
       "height": 144,
       "width": 370
      }
     },
     "output_type": "display_data"
    }
   ],
   "source": [
    "imgs_test, wheels_test = preprocess.load_data_v2('test')\n",
    "plt.imshow(imgs_test[1])"
   ]
  },
  {
   "cell_type": "code",
   "execution_count": 7,
   "metadata": {
    "collapsed": true
   },
   "outputs": [],
   "source": [
    "def test_model():\n",
    "    '''Test the saved model against the epoch 10 video'''\n",
    "    with tf.Session() as sess:\n",
    "    # Initializing the variables\n",
    "        sess.run(tf.global_variables_initializer())\n",
    "        checkpoint_path = os.path.join(params.model_dir, \"model.ckpt\")\n",
    "        loader = tf.train.import_meta_graph(checkpoint_path + '.meta')\n",
    "        loader.restore(sess, checkpoint_path)\n",
    "        \n",
    "        test_xx, test_yy = helper.load_batch_v2(imgs_test, wheels_test)\n",
    "        test_yy = np.reshape(test_yy,(batch_size,1))\n",
    "        test_loss = loss.eval(feed_dict={x: test_xx, y_: test_yy, keep_prob: 1.0})\n",
    "        print('Testing Loss: {}\\n'.format(test_loss))"
   ]
  },
  {
   "cell_type": "code",
   "execution_count": 20,
   "metadata": {
    "collapsed": false
   },
   "outputs": [
    {
     "name": "stdout",
     "output_type": "stream",
     "text": [
      "Testing Loss: 920.123291015625\n",
      "\n"
     ]
    }
   ],
   "source": [
    "test_model()"
   ]
  },
  {
   "cell_type": "code",
   "execution_count": null,
   "metadata": {
    "collapsed": true
   },
   "outputs": [],
   "source": []
  }
 ],
 "metadata": {
  "anaconda-cloud": {},
  "kernelspec": {
   "display_name": "Python 3",
   "language": "python",
   "name": "python3"
  },
  "language_info": {
   "codemirror_mode": {
    "name": "ipython",
    "version": 3
   },
   "file_extension": ".py",
   "mimetype": "text/x-python",
   "name": "python",
   "nbconvert_exporter": "python",
   "pygments_lexer": "ipython3",
   "version": "3.5.3"
  }
 },
 "nbformat": 4,
 "nbformat_minor": 0
}
