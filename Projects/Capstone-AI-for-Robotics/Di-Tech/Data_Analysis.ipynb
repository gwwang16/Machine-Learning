{
 "cells": [
  {
   "cell_type": "code",
   "execution_count": 1,
   "metadata": {
    "collapsed": true
   },
   "outputs": [],
   "source": [
    "# Import libraries necessary for this project\n",
    "import numpy as np\n",
    "import pandas as pd\n",
    "import os\n",
    "import matplotlib.pyplot as plt\n",
    "# Show matplotlib plots inline\n",
    "%matplotlib inline\n",
    "bases_dir = \"season_1_data\"\n",
    "\n",
    "# Load the data path\n",
    "TRAIN_DATA_DIR = \"season_1_data/training_data\"\n",
    "TEST_DATA_DIR = \"season_1_data/test_data\"\n",
    "\n",
    "# All the data dirs\n",
    "CLUSTER_MAP_SHEET_DIR = \"cluster_map\"\n",
    "ORDER_SHEET_DIR = \"order_data\"\n",
    "TRAFFIC_SHEET_DIR = \"traffic_data\"\n",
    "WEATHER_SHEET_DIR = \"weather_data\"\n",
    "POI_SHEET_DIR = \"poi_data\""
   ]
  },
  {
   "cell_type": "markdown",
   "metadata": {},
   "source": [
    "### MAPE"
   ]
  },
  {
   "cell_type": "code",
   "execution_count": 2,
   "metadata": {
    "collapsed": false
   },
   "outputs": [],
   "source": [
    "from sklearn.utils import assert_all_finite\n",
    "def MAPE(y_pred, y_true):\n",
    "    y_true = np.asanyarray(y_true)\n",
    "    y_pred = np.asanyarray(y_pred)\n",
    "    assert_all_finite(y_true)\n",
    "    assert_all_finite(y_pred)\n",
    "    #Filter zero values in y_true\n",
    "    sel = (y_true != 0)\n",
    "    y_true = y_true[sel]\n",
    "    y_pred = y_pred[sel]\n",
    "    \n",
    "    return np.mean(np.abs((y_true - y_pred) / y_true))"
   ]
  },
  {
   "cell_type": "markdown",
   "metadata": {},
   "source": [
    "### Standard Indexing "
   ]
  },
  {
   "cell_type": "code",
   "execution_count": 110,
   "metadata": {
    "collapsed": false
   },
   "outputs": [
    {
     "name": "stdout",
     "output_type": "stream",
     "text": [
      "<class 'pandas.core.frame.DataFrame'>\n",
      "RangeIndex: 199584 entries, 0 to 199583\n",
      "Data columns (total 4 columns):\n",
      "district_id    199584 non-null int64\n",
      "time           199584 non-null int64\n",
      "date           199584 non-null object\n",
      "week           199584 non-null int64\n",
      "dtypes: int64(3), object(1)\n",
      "memory usage: 6.1+ MB\n"
     ]
    }
   ],
   "source": [
    "# build one standard time slots index in each distric_id\n",
    "# district_id: 66, date: 21 + 5, time_slots = 144 \n",
    "train_std_index = pd.DataFrame()\n",
    "time_slot_index = []\n",
    "id_index = []\n",
    "date_index = []\n",
    "week_index = []\n",
    "for date, i_date in train_order.groupby('date'):\n",
    "    for i_id in range(1,67):\n",
    "        for i_slot in range(1,145):\n",
    "            time_slot_index.append(int(i_slot))\n",
    "            id_index.append(i_id)\n",
    "            date_index.append(date)\n",
    "            \n",
    "train_std_index['district_id'] =  id_index\n",
    "train_std_index['time'] = time_slot_index\n",
    "train_std_index['date'] = date_index\n",
    "train_std_index['week'] = pd.to_datetime(train_std_index.date).map(lambda x: x.isoweekday())\n",
    "\n",
    "train_std_index.info()"
   ]
  },
  {
   "cell_type": "code",
   "execution_count": 114,
   "metadata": {
    "collapsed": false
   },
   "outputs": [
    {
     "name": "stdout",
     "output_type": "stream",
     "text": [
      "<class 'pandas.core.frame.DataFrame'>\n",
      "RangeIndex: 9504 entries, 0 to 9503\n",
      "Data columns (total 2 columns):\n",
      "district_id    9504 non-null int64\n",
      "time           9504 non-null int64\n",
      "dtypes: int64(2)\n",
      "memory usage: 148.6 KB\n"
     ]
    }
   ],
   "source": [
    "# build one standard time slots index in each distric_id\n",
    "# district_id: 66, time_slots = 144 \n",
    "std_index = pd.DataFrame()\n",
    "time_slot_index = []\n",
    "id_index = []\n",
    "\n",
    "for i_id in range(1,67):\n",
    "    for i_slot in range(1,145):\n",
    "        time_slot_index.append(int(i_slot))\n",
    "        id_index.append(i_id)\n",
    "      \n",
    "std_index['district_id'] =  id_index\n",
    "std_index['time'] = time_slot_index\n",
    "\n",
    "std_index.info()"
   ]
  },
  {
   "cell_type": "code",
   "execution_count": 115,
   "metadata": {
    "collapsed": false
   },
   "outputs": [
    {
     "name": "stdout",
     "output_type": "stream",
     "text": [
      "<class 'pandas.core.frame.DataFrame'>\n",
      "RangeIndex: 144 entries, 0 to 143\n",
      "Data columns (total 1 columns):\n",
      "time    144 non-null int64\n",
      "dtypes: int64(1)\n",
      "memory usage: 1.2 KB\n"
     ]
    }
   ],
   "source": [
    "# build one standard time slots index in each distric_id\n",
    "# time_slots = 144 \n",
    "std_time_index = pd.DataFrame()\n",
    "time_slot_index = []\n",
    "\n",
    "for i_slot in range(1,145):\n",
    "    time_slot_index.append(int(i_slot))\n",
    "\n",
    "std_time_index['time'] = time_slot_index\n",
    "\n",
    "std_time_index.info()"
   ]
  },
  {
   "cell_type": "code",
   "execution_count": null,
   "metadata": {
    "collapsed": true
   },
   "outputs": [],
   "source": []
  },
  {
   "cell_type": "markdown",
   "metadata": {},
   "source": [
    "### Order Data Analysis"
   ]
  },
  {
   "cell_type": "code",
   "execution_count": 3,
   "metadata": {
    "collapsed": false
   },
   "outputs": [],
   "source": [
    "import glob\n",
    "\n",
    "# Load all the order data as train_order and test_order\n",
    "train_order_path = os.path.join(TRAIN_DATA_DIR, ORDER_SHEET_DIR)\n",
    "test_order_path = os.path.join(TEST_DATA_DIR, ORDER_SHEET_DIR)\n",
    "\n",
    "train_order_files = glob.glob(os.path.join(train_order_path, \"*.csv\"))\n",
    "test_order_files = glob.glob(os.path.join(test_order_path, \"*.csv\"))\n",
    "\n",
    "train_order = pd.concat((pd.read_csv(f) for f in train_order_files))\n",
    "test_order = pd.concat((pd.read_csv(f) for f in test_order_files))"
   ]
  },
  {
   "cell_type": "code",
   "execution_count": 138,
   "metadata": {
    "collapsed": false
   },
   "outputs": [
    {
     "data": {
      "text/html": [
       "<div>\n",
       "<table border=\"1\" class=\"dataframe\">\n",
       "  <thead>\n",
       "    <tr style=\"text-align: right;\">\n",
       "      <th></th>\n",
       "      <th>district_id</th>\n",
       "      <th>date</th>\n",
       "      <th>week</th>\n",
       "      <th>time</th>\n",
       "      <th>demand</th>\n",
       "      <th>supply</th>\n",
       "      <th>gap</th>\n",
       "    </tr>\n",
       "  </thead>\n",
       "  <tbody>\n",
       "    <tr>\n",
       "      <th>0</th>\n",
       "      <td>1</td>\n",
       "      <td>2016-01-01</td>\n",
       "      <td>5</td>\n",
       "      <td>1</td>\n",
       "      <td>187</td>\n",
       "      <td>178</td>\n",
       "      <td>9</td>\n",
       "    </tr>\n",
       "    <tr>\n",
       "      <th>1</th>\n",
       "      <td>1</td>\n",
       "      <td>2016-01-01</td>\n",
       "      <td>5</td>\n",
       "      <td>2</td>\n",
       "      <td>198</td>\n",
       "      <td>191</td>\n",
       "      <td>7</td>\n",
       "    </tr>\n",
       "  </tbody>\n",
       "</table>\n",
       "</div>"
      ],
      "text/plain": [
       "   district_id        date  week  time  demand  supply  gap\n",
       "0            1  2016-01-01     5     1     187     178    9\n",
       "1            1  2016-01-01     5     2     198     191    7"
      ]
     },
     "execution_count": 138,
     "metadata": {},
     "output_type": "execute_result"
    }
   ],
   "source": [
    "train_order[:2]"
   ]
  },
  {
   "cell_type": "code",
   "execution_count": 4,
   "metadata": {
    "collapsed": false
   },
   "outputs": [],
   "source": [
    "# Load all the weather data as train_weather and test_weather\n",
    "train_weather_path = os.path.join(TRAIN_DATA_DIR, WEATHER_SHEET_DIR)\n",
    "test_weather_path = os.path.join(TEST_DATA_DIR, WEATHER_SHEET_DIR)\n",
    "\n",
    "train_weather_files = glob.glob(os.path.join(train_weather_path, \"*.csv\"))\n",
    "test_weather_files = glob.glob(os.path.join(test_weather_path, \"*.csv\"))\n",
    "\n",
    "train_weather = pd.concat((pd.read_csv(f) for f in train_weather_files))\n",
    "test_weather = pd.concat((pd.read_csv(f) for f in test_weather_files))"
   ]
  },
  {
   "cell_type": "code",
   "execution_count": 156,
   "metadata": {
    "collapsed": false,
    "scrolled": true
   },
   "outputs": [
    {
     "name": "stdout",
     "output_type": "stream",
     "text": [
      "<class 'pandas.core.frame.DataFrame'>\n",
      "RangeIndex: 47 entries, 0 to 46\n",
      "Data columns (total 6 columns):\n",
      "Weather        47 non-null int64\n",
      "temperature    47 non-null float64\n",
      "PM2.5          47 non-null int64\n",
      "week           47 non-null int64\n",
      "date           47 non-null object\n",
      "time           47 non-null int64\n",
      "dtypes: float64(1), int64(4), object(1)\n",
      "memory usage: 2.3+ KB\n"
     ]
    }
   ],
   "source": [
    "weather_temp = pd.read_csv(os.path.join(train_weather_path, 'weather_data_2016-01-21.csv'))\n",
    "weather_temp.info()"
   ]
  },
  {
   "cell_type": "code",
   "execution_count": 157,
   "metadata": {
    "collapsed": false
   },
   "outputs": [
    {
     "name": "stdout",
     "output_type": "stream",
     "text": [
      "<class 'pandas.core.frame.DataFrame'>\n",
      "RangeIndex: 37 entries, 0 to 36\n",
      "Data columns (total 6 columns):\n",
      "date           37 non-null object\n",
      "week           37 non-null int64\n",
      "time           37 non-null int64\n",
      "Weather        37 non-null int64\n",
      "temperature    37 non-null float64\n",
      "PM2.5          37 non-null int64\n",
      "dtypes: float64(1), int64(4), object(1)\n",
      "memory usage: 1.8+ KB\n"
     ]
    }
   ],
   "source": [
    "group_temp2 = weather_temp.groupby(['date', 'week', 'time']).max().reset_index()\n",
    "group_temp2.info()"
   ]
  },
  {
   "cell_type": "code",
   "execution_count": 159,
   "metadata": {
    "collapsed": false
   },
   "outputs": [
    {
     "data": {
      "text/html": [
       "<div>\n",
       "<table border=\"1\" class=\"dataframe\">\n",
       "  <thead>\n",
       "    <tr style=\"text-align: right;\">\n",
       "      <th></th>\n",
       "      <th>date</th>\n",
       "      <th>week</th>\n",
       "      <th>time</th>\n",
       "      <th>Weather</th>\n",
       "      <th>temperature</th>\n",
       "      <th>PM2.5</th>\n",
       "    </tr>\n",
       "  </thead>\n",
       "  <tbody>\n",
       "    <tr>\n",
       "      <th>0</th>\n",
       "      <td>2016-01-21</td>\n",
       "      <td>4</td>\n",
       "      <td>43</td>\n",
       "      <td>4</td>\n",
       "      <td>1.0</td>\n",
       "      <td>49</td>\n",
       "    </tr>\n",
       "    <tr>\n",
       "      <th>1</th>\n",
       "      <td>2016-01-21</td>\n",
       "      <td>4</td>\n",
       "      <td>44</td>\n",
       "      <td>4</td>\n",
       "      <td>1.0</td>\n",
       "      <td>49</td>\n",
       "    </tr>\n",
       "    <tr>\n",
       "      <th>2</th>\n",
       "      <td>2016-01-21</td>\n",
       "      <td>4</td>\n",
       "      <td>46</td>\n",
       "      <td>4</td>\n",
       "      <td>1.0</td>\n",
       "      <td>49</td>\n",
       "    </tr>\n",
       "    <tr>\n",
       "      <th>3</th>\n",
       "      <td>2016-01-21</td>\n",
       "      <td>4</td>\n",
       "      <td>48</td>\n",
       "      <td>4</td>\n",
       "      <td>1.0</td>\n",
       "      <td>50</td>\n",
       "    </tr>\n",
       "    <tr>\n",
       "      <th>4</th>\n",
       "      <td>2016-01-21</td>\n",
       "      <td>4</td>\n",
       "      <td>50</td>\n",
       "      <td>4</td>\n",
       "      <td>1.0</td>\n",
       "      <td>50</td>\n",
       "    </tr>\n",
       "  </tbody>\n",
       "</table>\n",
       "</div>"
      ],
      "text/plain": [
       "         date  week  time  Weather  temperature  PM2.5\n",
       "0  2016-01-21     4    43        4          1.0     49\n",
       "1  2016-01-21     4    44        4          1.0     49\n",
       "2  2016-01-21     4    46        4          1.0     49\n",
       "3  2016-01-21     4    48        4          1.0     50\n",
       "4  2016-01-21     4    50        4          1.0     50"
      ]
     },
     "execution_count": 159,
     "metadata": {},
     "output_type": "execute_result"
    }
   ],
   "source": [
    "group_temp2[:5]"
   ]
  },
  {
   "cell_type": "code",
   "execution_count": 164,
   "metadata": {
    "collapsed": false
   },
   "outputs": [
    {
     "name": "stdout",
     "output_type": "stream",
     "text": [
      "<class 'pandas.core.frame.DataFrame'>\n",
      "RangeIndex: 144 entries, 0 to 143\n",
      "Data columns (total 3 columns):\n",
      "time    144 non-null int64\n",
      "date    144 non-null object\n",
      "week    144 non-null int64\n",
      "dtypes: int64(2), object(1)\n",
      "memory usage: 3.4+ KB\n"
     ]
    }
   ],
   "source": [
    "std_index1 = pd.DataFrame()\n",
    "time_slot_index = []\n",
    "id_index = []\n",
    "date_index = []\n",
    "week_index = []\n",
    "for date, i_date in group_temp2.groupby('date'):\n",
    "    for i_slot in range(1,145):\n",
    "        time_slot_index.append(int(i_slot))\n",
    "        date_index.append(date)\n",
    "            \n",
    "\n",
    "std_index1['time'] = time_slot_index\n",
    "std_index1['date'] = date_index\n",
    "std_index1['week'] = pd.to_datetime(std_index1.date).map(lambda x: x.isoweekday())\n",
    "\n",
    "std_index1.info()"
   ]
  },
  {
   "cell_type": "code",
   "execution_count": 165,
   "metadata": {
    "collapsed": false
   },
   "outputs": [
    {
     "data": {
      "text/html": [
       "<div>\n",
       "<table border=\"1\" class=\"dataframe\">\n",
       "  <thead>\n",
       "    <tr style=\"text-align: right;\">\n",
       "      <th></th>\n",
       "      <th>time</th>\n",
       "      <th>date</th>\n",
       "      <th>week</th>\n",
       "    </tr>\n",
       "  </thead>\n",
       "  <tbody>\n",
       "    <tr>\n",
       "      <th>0</th>\n",
       "      <td>1</td>\n",
       "      <td>2016-01-21</td>\n",
       "      <td>4</td>\n",
       "    </tr>\n",
       "    <tr>\n",
       "      <th>1</th>\n",
       "      <td>2</td>\n",
       "      <td>2016-01-21</td>\n",
       "      <td>4</td>\n",
       "    </tr>\n",
       "  </tbody>\n",
       "</table>\n",
       "</div>"
      ],
      "text/plain": [
       "   time        date  week\n",
       "0     1  2016-01-21     4\n",
       "1     2  2016-01-21     4"
      ]
     },
     "execution_count": 165,
     "metadata": {},
     "output_type": "execute_result"
    }
   ],
   "source": [
    "std_index1[:2]"
   ]
  },
  {
   "cell_type": "code",
   "execution_count": 166,
   "metadata": {
    "collapsed": false
   },
   "outputs": [
    {
     "name": "stdout",
     "output_type": "stream",
     "text": [
      "<class 'pandas.core.frame.DataFrame'>\n",
      "Int64Index: 144 entries, 0 to 143\n",
      "Data columns (total 6 columns):\n",
      "time           144 non-null int64\n",
      "date           144 non-null object\n",
      "week           144 non-null int64\n",
      "Weather        37 non-null float64\n",
      "temperature    37 non-null float64\n",
      "PM2.5          37 non-null float64\n",
      "dtypes: float64(3), int64(2), object(1)\n",
      "memory usage: 7.9+ KB\n"
     ]
    }
   ],
   "source": [
    "full_weather = std_index1.merge(group_temp2, on=['time', 'date', 'week'], how='left')\n",
    "full_weather.info()"
   ]
  },
  {
   "cell_type": "code",
   "execution_count": 168,
   "metadata": {
    "collapsed": false,
    "scrolled": true
   },
   "outputs": [
    {
     "name": "stdout",
     "output_type": "stream",
     "text": [
      "<class 'pandas.core.frame.DataFrame'>\n",
      "Int64Index: 144 entries, 0 to 143\n",
      "Data columns (total 6 columns):\n",
      "time           144 non-null int64\n",
      "date           144 non-null object\n",
      "week           144 non-null int64\n",
      "Weather        102 non-null float64\n",
      "temperature    102 non-null float64\n",
      "PM2.5          102 non-null float64\n",
      "dtypes: float64(3), int64(2), object(1)\n",
      "memory usage: 7.9+ KB\n"
     ]
    }
   ],
   "source": [
    "#Interpolate\n",
    "full_weather['PM2.5'] = full_weather['PM2.5'].interpolate(method='nearest')\n",
    "full_weather['date'] = full_weather['date'].interpolate(method='nearest')\n",
    "full_weather['week'] = full_weather['week'].interpolate(method='nearest')\n",
    "full_weather['Weather'] = full_weather['Weather'].interpolate(method='nearest')\n",
    "full_weather['temperature'] = full_weather['temperature'].interpolate(method='nearest')\n",
    "# date format can not be interpolated, it can be solved wi\n",
    "\n",
    "full_weather.info()"
   ]
  },
  {
   "cell_type": "code",
   "execution_count": 172,
   "metadata": {
    "collapsed": false
   },
   "outputs": [
    {
     "data": {
      "text/html": [
       "<div>\n",
       "<table border=\"1\" class=\"dataframe\">\n",
       "  <thead>\n",
       "    <tr style=\"text-align: right;\">\n",
       "      <th></th>\n",
       "      <th>time</th>\n",
       "      <th>date</th>\n",
       "      <th>week</th>\n",
       "      <th>Weather</th>\n",
       "      <th>temperature</th>\n",
       "      <th>PM2.5</th>\n",
       "    </tr>\n",
       "  </thead>\n",
       "  <tbody>\n",
       "    <tr>\n",
       "      <th>35</th>\n",
       "      <td>36</td>\n",
       "      <td>2016-01-21</td>\n",
       "      <td>4</td>\n",
       "      <td>NaN</td>\n",
       "      <td>NaN</td>\n",
       "      <td>NaN</td>\n",
       "    </tr>\n",
       "    <tr>\n",
       "      <th>36</th>\n",
       "      <td>37</td>\n",
       "      <td>2016-01-21</td>\n",
       "      <td>4</td>\n",
       "      <td>NaN</td>\n",
       "      <td>NaN</td>\n",
       "      <td>NaN</td>\n",
       "    </tr>\n",
       "    <tr>\n",
       "      <th>37</th>\n",
       "      <td>38</td>\n",
       "      <td>2016-01-21</td>\n",
       "      <td>4</td>\n",
       "      <td>NaN</td>\n",
       "      <td>NaN</td>\n",
       "      <td>NaN</td>\n",
       "    </tr>\n",
       "    <tr>\n",
       "      <th>38</th>\n",
       "      <td>39</td>\n",
       "      <td>2016-01-21</td>\n",
       "      <td>4</td>\n",
       "      <td>NaN</td>\n",
       "      <td>NaN</td>\n",
       "      <td>NaN</td>\n",
       "    </tr>\n",
       "    <tr>\n",
       "      <th>39</th>\n",
       "      <td>40</td>\n",
       "      <td>2016-01-21</td>\n",
       "      <td>4</td>\n",
       "      <td>NaN</td>\n",
       "      <td>NaN</td>\n",
       "      <td>NaN</td>\n",
       "    </tr>\n",
       "    <tr>\n",
       "      <th>40</th>\n",
       "      <td>41</td>\n",
       "      <td>2016-01-21</td>\n",
       "      <td>4</td>\n",
       "      <td>NaN</td>\n",
       "      <td>NaN</td>\n",
       "      <td>NaN</td>\n",
       "    </tr>\n",
       "    <tr>\n",
       "      <th>41</th>\n",
       "      <td>42</td>\n",
       "      <td>2016-01-21</td>\n",
       "      <td>4</td>\n",
       "      <td>NaN</td>\n",
       "      <td>NaN</td>\n",
       "      <td>NaN</td>\n",
       "    </tr>\n",
       "    <tr>\n",
       "      <th>42</th>\n",
       "      <td>43</td>\n",
       "      <td>2016-01-21</td>\n",
       "      <td>4</td>\n",
       "      <td>4.0</td>\n",
       "      <td>1.0</td>\n",
       "      <td>49.0</td>\n",
       "    </tr>\n",
       "    <tr>\n",
       "      <th>43</th>\n",
       "      <td>44</td>\n",
       "      <td>2016-01-21</td>\n",
       "      <td>4</td>\n",
       "      <td>4.0</td>\n",
       "      <td>1.0</td>\n",
       "      <td>49.0</td>\n",
       "    </tr>\n",
       "    <tr>\n",
       "      <th>44</th>\n",
       "      <td>45</td>\n",
       "      <td>2016-01-21</td>\n",
       "      <td>4</td>\n",
       "      <td>4.0</td>\n",
       "      <td>1.0</td>\n",
       "      <td>49.0</td>\n",
       "    </tr>\n",
       "  </tbody>\n",
       "</table>\n",
       "</div>"
      ],
      "text/plain": [
       "    time        date  week  Weather  temperature  PM2.5\n",
       "35    36  2016-01-21     4      NaN          NaN    NaN\n",
       "36    37  2016-01-21     4      NaN          NaN    NaN\n",
       "37    38  2016-01-21     4      NaN          NaN    NaN\n",
       "38    39  2016-01-21     4      NaN          NaN    NaN\n",
       "39    40  2016-01-21     4      NaN          NaN    NaN\n",
       "40    41  2016-01-21     4      NaN          NaN    NaN\n",
       "41    42  2016-01-21     4      NaN          NaN    NaN\n",
       "42    43  2016-01-21     4      4.0          1.0   49.0\n",
       "43    44  2016-01-21     4      4.0          1.0   49.0\n",
       "44    45  2016-01-21     4      4.0          1.0   49.0"
      ]
     },
     "execution_count": 172,
     "metadata": {},
     "output_type": "execute_result"
    }
   ],
   "source": [
    "full_weather[35:45]"
   ]
  },
  {
   "cell_type": "code",
   "execution_count": 176,
   "metadata": {
    "collapsed": false
   },
   "outputs": [
    {
     "data": {
      "text/plain": [
       "[<matplotlib.lines.Line2D at 0xa226a58>]"
      ]
     },
     "execution_count": 176,
     "metadata": {},
     "output_type": "execute_result"
    },
    {
     "data": {
      "image/png": "[encoded data removed]",
      "text/plain": [
       "<matplotlib.figure.Figure at 0xafabb70>"
      ]
     },
     "metadata": {},
     "output_type": "display_data"
    }
   ],
   "source": [
    "plt.figure()\n",
    "plt.plot(full_weather.Weather, label=str(date))"
   ]
  },
  {
   "cell_type": "code",
   "execution_count": 181,
   "metadata": {
    "collapsed": false
   },
   "outputs": [
    {
     "data": {
      "image/png": "[encoded data removed]",
      "text/plain": [
       "<matplotlib.figure.Figure at 0x1235aba8>"
      ]
     },
     "metadata": {},
     "output_type": "display_data"
    },
    {
     "data": {
      "image/png": "[encoded data removed]",
      "text/plain": [
       "<matplotlib.figure.Figure at 0x21baf7f0>"
      ]
     },
     "metadata": {},
     "output_type": "display_data"
    },
    {
     "data": {
      "image/png": "[encoded data removed]",
      "text/plain": [
       "<matplotlib.figure.Figure at 0x21439ef0>"
      ]
     },
     "metadata": {},
     "output_type": "display_data"
    },
    {
     "data": {
      "image/png": "[encoded data removed]",
      "text/plain": [
       "<matplotlib.figure.Figure at 0x216ecef0>"
      ]
     },
     "metadata": {},
     "output_type": "display_data"
    },
    {
     "data": {
      "image/png": "[encoded data removed]",
      "text/plain": [
       "<matplotlib.figure.Figure at 0x216c1358>"
      ]
     },
     "metadata": {},
     "output_type": "display_data"
    },
    {
     "data": {
      "image/png": "[encoded data removed]",
      "text/plain": [
       "<matplotlib.figure.Figure at 0x1f015e80>"
      ]
     },
     "metadata": {},
     "output_type": "display_data"
    },
    {
     "data": {
      "image/png": "[encoded data removed]",
      "text/plain": [
       "<matplotlib.figure.Figure at 0x21e1a780>"
      ]
     },
     "metadata": {},
     "output_type": "display_data"
    },
    {
     "data": {
      "image/png": "[encoded data removed]",
      "text/plain": [
       "<matplotlib.figure.Figure at 0x1ed028d0>"
      ]
     },
     "metadata": {},
     "output_type": "display_data"
    },
    {
     "data": {
      "image/png": "[encoded data removed]",
      "text/plain": [
       "<matplotlib.figure.Figure at 0x141b7630>"
      ]
     },
     "metadata": {},
     "output_type": "display_data"
    },
    {
     "data": {
      "image/png": "[encoded data removed]",
      "text/plain": [
       "<matplotlib.figure.Figure at 0x1f30da90>"
      ]
     },
     "metadata": {},
     "output_type": "display_data"
    },
    {
     "data": {
      "image/png": "[encoded data removed]",
      "text/plain": [
       "<matplotlib.figure.Figure at 0x134c2e80>"
      ]
     },
     "metadata": {},
     "output_type": "display_data"
    },
    {
     "data": {
      "image/png": "[encoded data removed]",
      "text/plain": [
       "<matplotlib.figure.Figure at 0x13e78f28>"
      ]
     },
     "metadata": {},
     "output_type": "display_data"
    },
    {
     "data": {
      "image/png": "[encoded data removed]",
      "text/plain": [
       "<matplotlib.figure.Figure at 0x2047c5c0>"
      ]
     },
     "metadata": {},
     "output_type": "display_data"
    },
    {
     "data": {
      "image/png": "[encoded data removed]",
      "text/plain": [
       "<matplotlib.figure.Figure at 0x201fd7b8>"
      ]
     },
     "metadata": {},
     "output_type": "display_data"
    },
    {
     "data": {
      "image/png": "[encoded data removed]",
      "text/plain": [
       "<matplotlib.figure.Figure at 0xb261ef0>"
      ]
     },
     "metadata": {},
     "output_type": "display_data"
    },
    {
     "data": {
      "image/png": "[encoded data removed]",
      "text/plain": [
       "<matplotlib.figure.Figure at 0x2081f828>"
      ]
     },
     "metadata": {},
     "output_type": "display_data"
    },
    {
     "data": {
      "image/png": "[encoded data removed]",
      "text/plain": [
       "<matplotlib.figure.Figure at 0x1ff3c710>"
      ]
     },
     "metadata": {},
     "output_type": "display_data"
    },
    {
     "data": {
      "image/png": "[encoded data removed]",
      "text/plain": [
       "<matplotlib.figure.Figure at 0xb23cf28>"
      ]
     },
     "metadata": {},
     "output_type": "display_data"
    },
    {
     "data": {
      "image/png": "[encoded data removed]",
      "text/plain": [
       "<matplotlib.figure.Figure at 0x13d28e10>"
      ]
     },
     "metadata": {},
     "output_type": "display_data"
    },
    {
     "data": {
      "image/png": "[encoded data removed]",
      "text/plain": [
       "<matplotlib.figure.Figure at 0x1fcbb668>"
      ]
     },
     "metadata": {},
     "output_type": "display_data"
    },
    {
     "data": {
      "image/png": "[encoded data removed]",
      "text/plain": [
       "<matplotlib.figure.Figure at 0x1f350550>"
      ]
     },
     "metadata": {},
     "output_type": "display_data"
    }
   ],
   "source": [
    "for date, drp in train_weather.groupby('date'):\n",
    "    plt.figure()\n",
    "    plt.plot(drp.groupby('time').temperature.mean(), label=str(date))\n",
    "    plt.legend(loc=0,prop={'size':8})"
   ]
  },
  {
   "cell_type": "code",
   "execution_count": null,
   "metadata": {
    "collapsed": true
   },
   "outputs": [],
   "source": [
    "for date, drp in train_weather.groupby('date'):\n",
    "    \n",
    "    #plt.figure()\n",
    "    #for date, dgr in wgr.groupby('date'):\n",
    "    ##    plt.plot(dgr.groupby('time').demand.mean(), label=str(date))\n",
    "    #plt.title('demand')\n",
    "    #plt.legend(loc=2,prop={'size':8})\n",
    "    \n",
    "    plt.figure()\n",
    "    for date, dgr in wgr.groupby('date'):\n",
    "        plt.plot(dgr.groupby('time').gap.mean(), label=str(date))\n",
    "    plt.title('gap')\n",
    "    plt.legend(loc=2,prop={'size':8})\n",
    "    \n",
    "    "
   ]
  },
  {
   "cell_type": "code",
   "execution_count": 98,
   "metadata": {
    "collapsed": false
   },
   "outputs": [
    {
     "name": "stdout",
     "output_type": "stream",
     "text": [
      "<class 'pandas.core.frame.DataFrame'>\n",
      "Int64Index: 4811 entries, 0 to 46\n",
      "Data columns (total 6 columns):\n",
      "Weather        4811 non-null int64\n",
      "temperature    4811 non-null float64\n",
      "PM2.5          4811 non-null int64\n",
      "week           4811 non-null int64\n",
      "date           4811 non-null object\n",
      "time           4811 non-null int64\n",
      "dtypes: float64(1), int64(4), object(1)\n",
      "memory usage: 263.1+ KB\n"
     ]
    }
   ],
   "source": [
    "train_weather.info()"
   ]
  },
  {
   "cell_type": "code",
   "execution_count": 73,
   "metadata": {
    "collapsed": false
   },
   "outputs": [
    {
     "data": {
      "text/html": [
       "<div>\n",
       "<table border=\"1\" class=\"dataframe\">\n",
       "  <thead>\n",
       "    <tr style=\"text-align: right;\">\n",
       "      <th></th>\n",
       "      <th>Weather</th>\n",
       "      <th>temperature</th>\n",
       "      <th>PM2.5</th>\n",
       "      <th>week</th>\n",
       "      <th>date</th>\n",
       "      <th>time</th>\n",
       "    </tr>\n",
       "  </thead>\n",
       "  <tbody>\n",
       "    <tr>\n",
       "      <th>0</th>\n",
       "      <td>1</td>\n",
       "      <td>4.0</td>\n",
       "      <td>177</td>\n",
       "      <td>5</td>\n",
       "      <td>2016-01-01</td>\n",
       "      <td>1</td>\n",
       "    </tr>\n",
       "    <tr>\n",
       "      <th>1</th>\n",
       "      <td>1</td>\n",
       "      <td>3.0</td>\n",
       "      <td>177</td>\n",
       "      <td>5</td>\n",
       "      <td>2016-01-01</td>\n",
       "      <td>1</td>\n",
       "    </tr>\n",
       "    <tr>\n",
       "      <th>2</th>\n",
       "      <td>1</td>\n",
       "      <td>3.0</td>\n",
       "      <td>177</td>\n",
       "      <td>5</td>\n",
       "      <td>2016-01-01</td>\n",
       "      <td>2</td>\n",
       "    </tr>\n",
       "    <tr>\n",
       "      <th>3</th>\n",
       "      <td>1</td>\n",
       "      <td>3.0</td>\n",
       "      <td>177</td>\n",
       "      <td>5</td>\n",
       "      <td>2016-01-01</td>\n",
       "      <td>2</td>\n",
       "    </tr>\n",
       "    <tr>\n",
       "      <th>4</th>\n",
       "      <td>1</td>\n",
       "      <td>3.0</td>\n",
       "      <td>177</td>\n",
       "      <td>5</td>\n",
       "      <td>2016-01-01</td>\n",
       "      <td>3</td>\n",
       "    </tr>\n",
       "  </tbody>\n",
       "</table>\n",
       "</div>"
      ],
      "text/plain": [
       "   Weather  temperature  PM2.5  week        date  time\n",
       "0        1          4.0    177     5  2016-01-01     1\n",
       "1        1          3.0    177     5  2016-01-01     1\n",
       "2        1          3.0    177     5  2016-01-01     2\n",
       "3        1          3.0    177     5  2016-01-01     2\n",
       "4        1          3.0    177     5  2016-01-01     3"
      ]
     },
     "execution_count": 73,
     "metadata": {},
     "output_type": "execute_result"
    }
   ],
   "source": [
    "train_weather[:5]"
   ]
  },
  {
   "cell_type": "code",
   "execution_count": 107,
   "metadata": {
    "collapsed": false
   },
   "outputs": [
    {
     "name": "stdout",
     "output_type": "stream",
     "text": [
      "<class 'pandas.core.frame.DataFrame'>\n",
      "RangeIndex: 2670 entries, 0 to 2669\n",
      "Data columns (total 6 columns):\n",
      "date           2670 non-null object\n",
      "week           2670 non-null int64\n",
      "time           2670 non-null int64\n",
      "Weather        2670 non-null int64\n",
      "temperature    2670 non-null float64\n",
      "PM2.5          2670 non-null int64\n",
      "dtypes: float64(1), int64(4), object(1)\n",
      "memory usage: 125.2+ KB\n"
     ]
    }
   ],
   "source": [
    "group_temp = train_weather.groupby(['date', 'week', 'time']).max().reset_index()\n",
    "group_temp.info()"
   ]
  },
  {
   "cell_type": "code",
   "execution_count": 109,
   "metadata": {
    "collapsed": false
   },
   "outputs": [
    {
     "data": {
      "text/html": [
       "<div>\n",
       "<table border=\"1\" class=\"dataframe\">\n",
       "  <thead>\n",
       "    <tr style=\"text-align: right;\">\n",
       "      <th></th>\n",
       "      <th>date</th>\n",
       "      <th>week</th>\n",
       "      <th>time</th>\n",
       "      <th>Weather</th>\n",
       "      <th>temperature</th>\n",
       "      <th>PM2.5</th>\n",
       "    </tr>\n",
       "  </thead>\n",
       "  <tbody>\n",
       "    <tr>\n",
       "      <th>0</th>\n",
       "      <td>2016-01-01</td>\n",
       "      <td>5</td>\n",
       "      <td>1</td>\n",
       "      <td>1</td>\n",
       "      <td>4.0</td>\n",
       "      <td>177</td>\n",
       "    </tr>\n",
       "    <tr>\n",
       "      <th>1</th>\n",
       "      <td>2016-01-01</td>\n",
       "      <td>5</td>\n",
       "      <td>2</td>\n",
       "      <td>1</td>\n",
       "      <td>3.0</td>\n",
       "      <td>177</td>\n",
       "    </tr>\n",
       "    <tr>\n",
       "      <th>2</th>\n",
       "      <td>2016-01-01</td>\n",
       "      <td>5</td>\n",
       "      <td>3</td>\n",
       "      <td>1</td>\n",
       "      <td>3.0</td>\n",
       "      <td>177</td>\n",
       "    </tr>\n",
       "    <tr>\n",
       "      <th>3</th>\n",
       "      <td>2016-01-01</td>\n",
       "      <td>5</td>\n",
       "      <td>4</td>\n",
       "      <td>1</td>\n",
       "      <td>3.0</td>\n",
       "      <td>177</td>\n",
       "    </tr>\n",
       "    <tr>\n",
       "      <th>4</th>\n",
       "      <td>2016-01-01</td>\n",
       "      <td>5</td>\n",
       "      <td>5</td>\n",
       "      <td>1</td>\n",
       "      <td>3.0</td>\n",
       "      <td>177</td>\n",
       "    </tr>\n",
       "    <tr>\n",
       "      <th>5</th>\n",
       "      <td>2016-01-01</td>\n",
       "      <td>5</td>\n",
       "      <td>6</td>\n",
       "      <td>1</td>\n",
       "      <td>3.0</td>\n",
       "      <td>177</td>\n",
       "    </tr>\n",
       "    <tr>\n",
       "      <th>6</th>\n",
       "      <td>2016-01-01</td>\n",
       "      <td>5</td>\n",
       "      <td>7</td>\n",
       "      <td>1</td>\n",
       "      <td>3.0</td>\n",
       "      <td>177</td>\n",
       "    </tr>\n",
       "    <tr>\n",
       "      <th>7</th>\n",
       "      <td>2016-01-01</td>\n",
       "      <td>5</td>\n",
       "      <td>8</td>\n",
       "      <td>1</td>\n",
       "      <td>3.0</td>\n",
       "      <td>177</td>\n",
       "    </tr>\n",
       "    <tr>\n",
       "      <th>8</th>\n",
       "      <td>2016-01-01</td>\n",
       "      <td>5</td>\n",
       "      <td>9</td>\n",
       "      <td>1</td>\n",
       "      <td>3.0</td>\n",
       "      <td>177</td>\n",
       "    </tr>\n",
       "    <tr>\n",
       "      <th>9</th>\n",
       "      <td>2016-01-01</td>\n",
       "      <td>5</td>\n",
       "      <td>10</td>\n",
       "      <td>1</td>\n",
       "      <td>3.0</td>\n",
       "      <td>177</td>\n",
       "    </tr>\n",
       "  </tbody>\n",
       "</table>\n",
       "</div>"
      ],
      "text/plain": [
       "         date  week  time  Weather  temperature  PM2.5\n",
       "0  2016-01-01     5     1        1          4.0    177\n",
       "1  2016-01-01     5     2        1          3.0    177\n",
       "2  2016-01-01     5     3        1          3.0    177\n",
       "3  2016-01-01     5     4        1          3.0    177\n",
       "4  2016-01-01     5     5        1          3.0    177\n",
       "5  2016-01-01     5     6        1          3.0    177\n",
       "6  2016-01-01     5     7        1          3.0    177\n",
       "7  2016-01-01     5     8        1          3.0    177\n",
       "8  2016-01-01     5     9        1          3.0    177\n",
       "9  2016-01-01     5    10        1          3.0    177"
      ]
     },
     "execution_count": 109,
     "metadata": {},
     "output_type": "execute_result"
    }
   ],
   "source": [
    "group_temp[:10]"
   ]
  },
  {
   "cell_type": "code",
   "execution_count": 71,
   "metadata": {
    "collapsed": false
   },
   "outputs": [],
   "source": [
    "# Load all the poi data\n",
    "train_poi_path = os.path.join(TRAIN_DATA_DIR, POI_SHEET_DIR)\n",
    "test_poi_path = os.path.join(TEST_DATA_DIR, POI_SHEET_DIR)\n",
    "\n",
    "train_poi_files = glob.glob(os.path.join(train_poi_path, \"*.csv\"))\n",
    "test_poi_files = glob.glob(os.path.join(test_poi_path, \"*.csv\"))\n",
    "\n",
    "train_poi = pd.concat((pd.read_csv(f) for f in train_poi_files))\n",
    "test_poi = pd.concat((pd.read_csv(f) for f in test_poi_files))"
   ]
  },
  {
   "cell_type": "code",
   "execution_count": 72,
   "metadata": {
    "collapsed": false
   },
   "outputs": [
    {
     "data": {
      "text/html": [
       "<div>\n",
       "<table border=\"1\" class=\"dataframe\">\n",
       "  <thead>\n",
       "    <tr style=\"text-align: right;\">\n",
       "      <th></th>\n",
       "      <th>1_1</th>\n",
       "      <th>1_2</th>\n",
       "      <th>1_3</th>\n",
       "      <th>1_4</th>\n",
       "      <th>1_5</th>\n",
       "      <th>1_6</th>\n",
       "      <th>1_7</th>\n",
       "      <th>1_8</th>\n",
       "      <th>1_9</th>\n",
       "      <th>1_10</th>\n",
       "      <th>...</th>\n",
       "      <th>25_1</th>\n",
       "      <th>25_2</th>\n",
       "      <th>25_3</th>\n",
       "      <th>25_4</th>\n",
       "      <th>25_5</th>\n",
       "      <th>25_6</th>\n",
       "      <th>25_7</th>\n",
       "      <th>25_8</th>\n",
       "      <th>25_9</th>\n",
       "      <th>district_id</th>\n",
       "    </tr>\n",
       "  </thead>\n",
       "  <tbody>\n",
       "    <tr>\n",
       "      <th>0</th>\n",
       "      <td>415</td>\n",
       "      <td>2822</td>\n",
       "      <td>498</td>\n",
       "      <td>249</td>\n",
       "      <td>12367</td>\n",
       "      <td>83</td>\n",
       "      <td>166</td>\n",
       "      <td>4316</td>\n",
       "      <td>166</td>\n",
       "      <td>249</td>\n",
       "      <td>...</td>\n",
       "      <td>0</td>\n",
       "      <td>0</td>\n",
       "      <td>581</td>\n",
       "      <td>0</td>\n",
       "      <td>249</td>\n",
       "      <td>415</td>\n",
       "      <td>4980</td>\n",
       "      <td>1909</td>\n",
       "      <td>6142</td>\n",
       "      <td>12</td>\n",
       "    </tr>\n",
       "    <tr>\n",
       "      <th>1</th>\n",
       "      <td>332</td>\n",
       "      <td>83</td>\n",
       "      <td>0</td>\n",
       "      <td>166</td>\n",
       "      <td>0</td>\n",
       "      <td>249</td>\n",
       "      <td>83</td>\n",
       "      <td>332</td>\n",
       "      <td>0</td>\n",
       "      <td>0</td>\n",
       "      <td>...</td>\n",
       "      <td>0</td>\n",
       "      <td>0</td>\n",
       "      <td>0</td>\n",
       "      <td>0</td>\n",
       "      <td>0</td>\n",
       "      <td>83</td>\n",
       "      <td>249</td>\n",
       "      <td>0</td>\n",
       "      <td>83</td>\n",
       "      <td>43</td>\n",
       "    </tr>\n",
       "  </tbody>\n",
       "</table>\n",
       "<p>2 rows × 156 columns</p>\n",
       "</div>"
      ],
      "text/plain": [
       "   1_1   1_2  1_3  1_4    1_5  1_6  1_7   1_8  1_9  1_10     ...       25_1  \\\n",
       "0  415  2822  498  249  12367   83  166  4316  166   249     ...          0   \n",
       "1  332    83    0  166      0  249   83   332    0     0     ...          0   \n",
       "\n",
       "   25_2  25_3  25_4  25_5  25_6  25_7  25_8  25_9  district_id  \n",
       "0     0   581     0   249   415  4980  1909  6142           12  \n",
       "1     0     0     0     0    83   249     0    83           43  \n",
       "\n",
       "[2 rows x 156 columns]"
      ]
     },
     "execution_count": 72,
     "metadata": {},
     "output_type": "execute_result"
    }
   ],
   "source": [
    "train_poi[:2]"
   ]
  },
  {
   "cell_type": "code",
   "execution_count": 82,
   "metadata": {
    "collapsed": true
   },
   "outputs": [],
   "source": [
    "# Load all the traffic data\n",
    "train_traffic_path = os.path.join(TRAIN_DATA_DIR, TRAFFIC_SHEET_DIR)\n",
    "test_traffic_path = os.path.join(TEST_DATA_DIR, TRAFFIC_SHEET_DIR)\n",
    "\n",
    "train_traffic_files = glob.glob(os.path.join(train_traffic_path, \"*.csv\"))\n",
    "test_traffic_files = glob.glob(os.path.join(test_traffic_path, \"*.csv\"))\n",
    "\n",
    "train_traffic = pd.concat((pd.read_csv(f) for f in train_traffic_files))\n",
    "test_traffic = pd.concat((pd.read_csv(f) for f in test_traffic_files))"
   ]
  },
  {
   "cell_type": "code",
   "execution_count": 83,
   "metadata": {
    "collapsed": false
   },
   "outputs": [
    {
     "data": {
      "text/html": [
       "<div>\n",
       "<table border=\"1\" class=\"dataframe\">\n",
       "  <thead>\n",
       "    <tr style=\"text-align: right;\">\n",
       "      <th></th>\n",
       "      <th>traffic_1</th>\n",
       "      <th>traffic_2</th>\n",
       "      <th>traffic_3</th>\n",
       "      <th>traffic_4</th>\n",
       "      <th>week</th>\n",
       "      <th>date</th>\n",
       "      <th>time</th>\n",
       "      <th>district_id</th>\n",
       "    </tr>\n",
       "  </thead>\n",
       "  <tbody>\n",
       "    <tr>\n",
       "      <th>0</th>\n",
       "      <td>231</td>\n",
       "      <td>33</td>\n",
       "      <td>13</td>\n",
       "      <td>10</td>\n",
       "      <td>5</td>\n",
       "      <td>2016-01-01</td>\n",
       "      <td>142</td>\n",
       "      <td>66</td>\n",
       "    </tr>\n",
       "    <tr>\n",
       "      <th>1</th>\n",
       "      <td>305</td>\n",
       "      <td>69</td>\n",
       "      <td>13</td>\n",
       "      <td>16</td>\n",
       "      <td>5</td>\n",
       "      <td>2016-01-01</td>\n",
       "      <td>56</td>\n",
       "      <td>66</td>\n",
       "    </tr>\n",
       "  </tbody>\n",
       "</table>\n",
       "</div>"
      ],
      "text/plain": [
       "   traffic_1  traffic_2  traffic_3  traffic_4  week        date  time  \\\n",
       "0        231         33         13         10     5  2016-01-01   142   \n",
       "1        305         69         13         16     5  2016-01-01    56   \n",
       "\n",
       "   district_id  \n",
       "0           66  \n",
       "1           66  "
      ]
     },
     "execution_count": 83,
     "metadata": {},
     "output_type": "execute_result"
    }
   ],
   "source": [
    "train_traffic[:2]"
   ]
  },
  {
   "cell_type": "code",
   "execution_count": 84,
   "metadata": {
    "collapsed": false
   },
   "outputs": [
    {
     "data": {
      "text/html": [
       "<div>\n",
       "<table border=\"1\" class=\"dataframe\">\n",
       "  <thead>\n",
       "    <tr style=\"text-align: right;\">\n",
       "      <th></th>\n",
       "      <th>traffic_1</th>\n",
       "      <th>traffic_2</th>\n",
       "      <th>traffic_3</th>\n",
       "      <th>traffic_4</th>\n",
       "      <th>week</th>\n",
       "      <th>time</th>\n",
       "      <th>district_id</th>\n",
       "    </tr>\n",
       "  </thead>\n",
       "  <tbody>\n",
       "    <tr>\n",
       "      <th>count</th>\n",
       "      <td>193553.000000</td>\n",
       "      <td>193553.000000</td>\n",
       "      <td>193553.00000</td>\n",
       "      <td>193553.000000</td>\n",
       "      <td>193553.000000</td>\n",
       "      <td>193553.000000</td>\n",
       "      <td>193553.000000</td>\n",
       "    </tr>\n",
       "    <tr>\n",
       "      <th>mean</th>\n",
       "      <td>603.522338</td>\n",
       "      <td>128.780282</td>\n",
       "      <td>38.72173</td>\n",
       "      <td>26.097756</td>\n",
       "      <td>4.007672</td>\n",
       "      <td>72.641271</td>\n",
       "      <td>33.197594</td>\n",
       "    </tr>\n",
       "    <tr>\n",
       "      <th>std</th>\n",
       "      <td>704.277587</td>\n",
       "      <td>216.896741</td>\n",
       "      <td>67.77862</td>\n",
       "      <td>42.035663</td>\n",
       "      <td>2.005752</td>\n",
       "      <td>41.189142</td>\n",
       "      <td>19.025079</td>\n",
       "    </tr>\n",
       "    <tr>\n",
       "      <th>min</th>\n",
       "      <td>0.000000</td>\n",
       "      <td>0.000000</td>\n",
       "      <td>0.00000</td>\n",
       "      <td>0.000000</td>\n",
       "      <td>1.000000</td>\n",
       "      <td>2.000000</td>\n",
       "      <td>1.000000</td>\n",
       "    </tr>\n",
       "    <tr>\n",
       "      <th>25%</th>\n",
       "      <td>147.000000</td>\n",
       "      <td>16.000000</td>\n",
       "      <td>5.00000</td>\n",
       "      <td>3.000000</td>\n",
       "      <td>2.000000</td>\n",
       "      <td>37.000000</td>\n",
       "      <td>17.000000</td>\n",
       "    </tr>\n",
       "    <tr>\n",
       "      <th>50%</th>\n",
       "      <td>323.000000</td>\n",
       "      <td>49.000000</td>\n",
       "      <td>15.00000</td>\n",
       "      <td>10.000000</td>\n",
       "      <td>4.000000</td>\n",
       "      <td>73.000000</td>\n",
       "      <td>33.000000</td>\n",
       "    </tr>\n",
       "    <tr>\n",
       "      <th>75%</th>\n",
       "      <td>779.000000</td>\n",
       "      <td>146.000000</td>\n",
       "      <td>43.00000</td>\n",
       "      <td>30.000000</td>\n",
       "      <td>6.000000</td>\n",
       "      <td>108.000000</td>\n",
       "      <td>49.000000</td>\n",
       "    </tr>\n",
       "    <tr>\n",
       "      <th>max</th>\n",
       "      <td>4223.000000</td>\n",
       "      <td>2084.000000</td>\n",
       "      <td>863.00000</td>\n",
       "      <td>486.000000</td>\n",
       "      <td>7.000000</td>\n",
       "      <td>144.000000</td>\n",
       "      <td>66.000000</td>\n",
       "    </tr>\n",
       "  </tbody>\n",
       "</table>\n",
       "</div>"
      ],
      "text/plain": [
       "           traffic_1      traffic_2     traffic_3      traffic_4  \\\n",
       "count  193553.000000  193553.000000  193553.00000  193553.000000   \n",
       "mean      603.522338     128.780282      38.72173      26.097756   \n",
       "std       704.277587     216.896741      67.77862      42.035663   \n",
       "min         0.000000       0.000000       0.00000       0.000000   \n",
       "25%       147.000000      16.000000       5.00000       3.000000   \n",
       "50%       323.000000      49.000000      15.00000      10.000000   \n",
       "75%       779.000000     146.000000      43.00000      30.000000   \n",
       "max      4223.000000    2084.000000     863.00000     486.000000   \n",
       "\n",
       "                week           time    district_id  \n",
       "count  193553.000000  193553.000000  193553.000000  \n",
       "mean        4.007672      72.641271      33.197594  \n",
       "std         2.005752      41.189142      19.025079  \n",
       "min         1.000000       2.000000       1.000000  \n",
       "25%         2.000000      37.000000      17.000000  \n",
       "50%         4.000000      73.000000      33.000000  \n",
       "75%         6.000000     108.000000      49.000000  \n",
       "max         7.000000     144.000000      66.000000  "
      ]
     },
     "execution_count": 84,
     "metadata": {},
     "output_type": "execute_result"
    }
   ],
   "source": [
    "train_traffic.describe()"
   ]
  },
  {
   "cell_type": "code",
   "execution_count": 6,
   "metadata": {
    "collapsed": false
   },
   "outputs": [
    {
     "name": "stdout",
     "output_type": "stream",
     "text": [
      "<class 'pandas.core.frame.DataFrame'>\n",
      "Int64Index: 163491 entries, 0 to 7904\n",
      "Data columns (total 7 columns):\n",
      "district_id    163491 non-null int64\n",
      "date           163491 non-null object\n",
      "week           163491 non-null int64\n",
      "time           163491 non-null int64\n",
      "demand         163491 non-null int64\n",
      "supply         163491 non-null int32\n",
      "gap            163491 non-null int32\n",
      "dtypes: int32(2), int64(4), object(1)\n",
      "memory usage: 8.7+ MB\n"
     ]
    }
   ],
   "source": [
    "train_order[['supply', 'gap']] = train_order[['supply', 'gap']].astype(int)\n",
    "train_order.info()"
   ]
  },
  {
   "cell_type": "code",
   "execution_count": 7,
   "metadata": {
    "collapsed": false
   },
   "outputs": [
    {
     "name": "stdout",
     "output_type": "stream",
     "text": [
      "124.681818182\n",
      "118.409090909\n",
      "117.712121212\n",
      "116.53030303\n",
      "115.742424242\n",
      "115.893939394\n",
      "115.757575758\n",
      "117.106060606\n",
      "117.53030303\n",
      "118.090909091\n",
      "117.106060606\n",
      "116.636363636\n",
      "116.863636364\n",
      "115.96969697\n",
      "117.651515152\n",
      "119.848484848\n",
      "120.075757576\n",
      "118.242424242\n",
      "118.803030303\n",
      "118.712121212\n",
      "119.772727273\n"
     ]
    }
   ],
   "source": [
    "for date, drp in train_order.groupby('date'):\n",
    "    print len(drp.time) / 66."
   ]
  },
  {
   "cell_type": "markdown",
   "metadata": {},
   "source": [
    "**Results:** There are many time slots missing. fill interpolation into these empty slots.\n",
    "\n",
    "- The empty slots should be found first. build a standard time slots index in each district_id to compare with them."
   ]
  },
  {
   "cell_type": "code",
   "execution_count": 9,
   "metadata": {
    "collapsed": false
   },
   "outputs": [
    {
     "data": {
      "text/html": [
       "<div>\n",
       "<table border=\"1\" class=\"dataframe\">\n",
       "  <thead>\n",
       "    <tr style=\"text-align: right;\">\n",
       "      <th></th>\n",
       "      <th>district_id</th>\n",
       "      <th>week</th>\n",
       "      <th>time</th>\n",
       "      <th>demand</th>\n",
       "      <th>supply</th>\n",
       "      <th>gap</th>\n",
       "    </tr>\n",
       "  </thead>\n",
       "  <tbody>\n",
       "    <tr>\n",
       "      <th>count</th>\n",
       "      <td>163491.000000</td>\n",
       "      <td>163491.000000</td>\n",
       "      <td>163491.000000</td>\n",
       "      <td>163491.000000</td>\n",
       "      <td>163491.000000</td>\n",
       "      <td>163491.000000</td>\n",
       "    </tr>\n",
       "    <tr>\n",
       "      <th>mean</th>\n",
       "      <td>31.732909</td>\n",
       "      <td>4.011780</td>\n",
       "      <td>78.289814</td>\n",
       "      <td>52.239047</td>\n",
       "      <td>42.963552</td>\n",
       "      <td>9.275495</td>\n",
       "    </tr>\n",
       "    <tr>\n",
       "      <th>std</th>\n",
       "      <td>18.562100</td>\n",
       "      <td>1.999978</td>\n",
       "      <td>39.426369</td>\n",
       "      <td>112.348401</td>\n",
       "      <td>81.039485</td>\n",
       "      <td>49.817422</td>\n",
       "    </tr>\n",
       "    <tr>\n",
       "      <th>min</th>\n",
       "      <td>1.000000</td>\n",
       "      <td>1.000000</td>\n",
       "      <td>1.000000</td>\n",
       "      <td>1.000000</td>\n",
       "      <td>0.000000</td>\n",
       "      <td>0.000000</td>\n",
       "    </tr>\n",
       "    <tr>\n",
       "      <th>25%</th>\n",
       "      <td>16.000000</td>\n",
       "      <td>2.000000</td>\n",
       "      <td>49.000000</td>\n",
       "      <td>4.000000</td>\n",
       "      <td>3.000000</td>\n",
       "      <td>0.000000</td>\n",
       "    </tr>\n",
       "    <tr>\n",
       "      <th>50%</th>\n",
       "      <td>31.000000</td>\n",
       "      <td>4.000000</td>\n",
       "      <td>80.000000</td>\n",
       "      <td>12.000000</td>\n",
       "      <td>10.000000</td>\n",
       "      <td>1.000000</td>\n",
       "    </tr>\n",
       "    <tr>\n",
       "      <th>75%</th>\n",
       "      <td>47.000000</td>\n",
       "      <td>6.000000</td>\n",
       "      <td>112.000000</td>\n",
       "      <td>47.000000</td>\n",
       "      <td>41.000000</td>\n",
       "      <td>4.000000</td>\n",
       "    </tr>\n",
       "    <tr>\n",
       "      <th>max</th>\n",
       "      <td>66.000000</td>\n",
       "      <td>7.000000</td>\n",
       "      <td>144.000000</td>\n",
       "      <td>4362.000000</td>\n",
       "      <td>1084.000000</td>\n",
       "      <td>3872.000000</td>\n",
       "    </tr>\n",
       "  </tbody>\n",
       "</table>\n",
       "</div>"
      ],
      "text/plain": [
       "         district_id           week           time         demand  \\\n",
       "count  163491.000000  163491.000000  163491.000000  163491.000000   \n",
       "mean       31.732909       4.011780      78.289814      52.239047   \n",
       "std        18.562100       1.999978      39.426369     112.348401   \n",
       "min         1.000000       1.000000       1.000000       1.000000   \n",
       "25%        16.000000       2.000000      49.000000       4.000000   \n",
       "50%        31.000000       4.000000      80.000000      12.000000   \n",
       "75%        47.000000       6.000000     112.000000      47.000000   \n",
       "max        66.000000       7.000000     144.000000    4362.000000   \n",
       "\n",
       "              supply            gap  \n",
       "count  163491.000000  163491.000000  \n",
       "mean       42.963552       9.275495  \n",
       "std        81.039485      49.817422  \n",
       "min         0.000000       0.000000  \n",
       "25%         3.000000       0.000000  \n",
       "50%        10.000000       1.000000  \n",
       "75%        41.000000       4.000000  \n",
       "max      1084.000000    3872.000000  "
      ]
     },
     "execution_count": 9,
     "metadata": {},
     "output_type": "execute_result"
    }
   ],
   "source": [
    "train_order.describe()"
   ]
  },
  {
   "cell_type": "code",
   "execution_count": null,
   "metadata": {
    "collapsed": false
   },
   "outputs": [],
   "source": [
    "train_std_index[160:163]"
   ]
  },
  {
   "cell_type": "code",
   "execution_count": null,
   "metadata": {
    "collapsed": false
   },
   "outputs": [],
   "source": [
    "train_order[160:163]"
   ]
  },
  {
   "cell_type": "code",
   "execution_count": 10,
   "metadata": {
    "collapsed": false
   },
   "outputs": [],
   "source": [
    "import os\n",
    "full_data = train_std_index.merge(train_order, on=['district_id', 'time', 'week', 'date'], how='left')\n",
    "#train_order.merge(train_std_index, on=['district_id', 'date', 'time', 'week'], how='left')\n",
    "#full_data.to_csv('fulldata.csv')"
   ]
  },
  {
   "cell_type": "code",
   "execution_count": null,
   "metadata": {
    "collapsed": false
   },
   "outputs": [],
   "source": [
    "full_data[160:165]"
   ]
  },
  {
   "cell_type": "code",
   "execution_count": null,
   "metadata": {
    "collapsed": false
   },
   "outputs": [],
   "source": [
    "full_data.describe()"
   ]
  },
  {
   "cell_type": "code",
   "execution_count": 11,
   "metadata": {
    "collapsed": false
   },
   "outputs": [],
   "source": [
    "# Interpolation between missing time slots.\n",
    "full_data.demand = full_data.demand.interpolate()\n",
    "full_data.supply = full_data.supply.interpolate()\n",
    "full_data.gap = full_data.gap.interpolate()"
   ]
  },
  {
   "cell_type": "code",
   "execution_count": null,
   "metadata": {
    "collapsed": false
   },
   "outputs": [],
   "source": [
    "full_data[160:170]\n",
    "#temp.to_csv('fulldata1.csv')"
   ]
  },
  {
   "cell_type": "code",
   "execution_count": null,
   "metadata": {
    "collapsed": false
   },
   "outputs": [],
   "source": [
    "full_data.describe()"
   ]
  },
  {
   "cell_type": "code",
   "execution_count": null,
   "metadata": {
    "collapsed": false
   },
   "outputs": [],
   "source": [
    "test_order.describe()"
   ]
  },
  {
   "cell_type": "code",
   "execution_count": 12,
   "metadata": {
    "collapsed": false
   },
   "outputs": [
    {
     "data": {
      "image/png": "[encoded data removed]",
      "text/plain": [
       "<matplotlib.figure.Figure at 0xa0feb00>"
      ]
     },
     "metadata": {},
     "output_type": "display_data"
    },
    {
     "data": {
      "image/png": "[encoded data removed]",
      "text/plain": [
       "<matplotlib.figure.Figure at 0xa0fe6d8>"
      ]
     },
     "metadata": {},
     "output_type": "display_data"
    },
    {
     "data": {
      "image/png": "[encoded data removed]",
      "text/plain": [
       "<matplotlib.figure.Figure at 0xaf3d438>"
      ]
     },
     "metadata": {},
     "output_type": "display_data"
    },
    {
     "data": {
      "image/png": "[encoded data removed]",
      "text/plain": [
       "<matplotlib.figure.Figure at 0xaeb8320>"
      ]
     },
     "metadata": {},
     "output_type": "display_data"
    },
    {
     "data": {
      "image/png": "[encoded data removed]",
      "text/plain": [
       "<matplotlib.figure.Figure at 0xa65bbe0>"
      ]
     },
     "metadata": {},
     "output_type": "display_data"
    },
    {
     "data": {
      "image/png": "[encoded data removed]",
      "text/plain": [
       "<matplotlib.figure.Figure at 0xb1a8470>"
      ]
     },
     "metadata": {},
     "output_type": "display_data"
    },
    {
     "data": {
      "image/png": "[encoded data removed]",
      "text/plain": [
       "<matplotlib.figure.Figure at 0xb47da58>"
      ]
     },
     "metadata": {},
     "output_type": "display_data"
    }
   ],
   "source": [
    "for work, wgr in full_data.groupby('week'):\n",
    "    \n",
    "    #plt.figure()\n",
    "    #for date, dgr in wgr.groupby('date'):\n",
    "    ##    plt.plot(dgr.groupby('time').demand.mean(), label=str(date))\n",
    "    #plt.title('demand')\n",
    "    #plt.legend(loc=2,prop={'size':8})\n",
    "    \n",
    "    plt.figure()\n",
    "    for date, dgr in wgr.groupby('date'):\n",
    "        plt.plot(dgr.groupby('time').gap.mean(), label=str(date))\n",
    "    plt.title('gap')\n",
    "    plt.legend(loc=2,prop={'size':8})"
   ]
  },
  {
   "cell_type": "code",
   "execution_count": null,
   "metadata": {
    "collapsed": true
   },
   "outputs": [],
   "source": []
  },
  {
   "cell_type": "markdown",
   "metadata": {},
   "source": [
    "### The data analysis \n",
    "- New Year's day holiday (Jan. 1-3). Jan. 3 is normal, Jan.1-2 delete"
   ]
  },
  {
   "cell_type": "markdown",
   "metadata": {},
   "source": [
    "### Select data after 2016-01-02"
   ]
  },
  {
   "cell_type": "code",
   "execution_count": 13,
   "metadata": {
    "collapsed": false
   },
   "outputs": [
    {
     "data": {
      "text/html": [
       "<div>\n",
       "<table border=\"1\" class=\"dataframe\">\n",
       "  <thead>\n",
       "    <tr style=\"text-align: right;\">\n",
       "      <th></th>\n",
       "      <th>district_id</th>\n",
       "      <th>time</th>\n",
       "      <th>date</th>\n",
       "      <th>week</th>\n",
       "      <th>demand</th>\n",
       "      <th>supply</th>\n",
       "      <th>gap</th>\n",
       "    </tr>\n",
       "  </thead>\n",
       "  <tbody>\n",
       "    <tr>\n",
       "      <th>66528</th>\n",
       "      <td>1</td>\n",
       "      <td>1</td>\n",
       "      <td>2016-01-08</td>\n",
       "      <td>5</td>\n",
       "      <td>76.0</td>\n",
       "      <td>72.0</td>\n",
       "      <td>4.0</td>\n",
       "    </tr>\n",
       "    <tr>\n",
       "      <th>66529</th>\n",
       "      <td>1</td>\n",
       "      <td>2</td>\n",
       "      <td>2016-01-08</td>\n",
       "      <td>5</td>\n",
       "      <td>51.0</td>\n",
       "      <td>50.0</td>\n",
       "      <td>1.0</td>\n",
       "    </tr>\n",
       "  </tbody>\n",
       "</table>\n",
       "</div>"
      ],
      "text/plain": [
       "       district_id  time        date  week  demand  supply  gap\n",
       "66528            1     1  2016-01-08     5    76.0    72.0  4.0\n",
       "66529            1     2  2016-01-08     5    51.0    50.0  1.0"
      ]
     },
     "execution_count": 13,
     "metadata": {},
     "output_type": "execute_result"
    }
   ],
   "source": [
    "order_data_selected = full_data[full_data.date > '2016-01-07']\n",
    "order_data_selected[:2]"
   ]
  },
  {
   "cell_type": "markdown",
   "metadata": {},
   "source": [
    "#### Calculate gap mean in each time slot"
   ]
  },
  {
   "cell_type": "code",
   "execution_count": 14,
   "metadata": {
    "collapsed": false
   },
   "outputs": [
    {
     "data": {
      "text/html": [
       "<div>\n",
       "<table border=\"1\" class=\"dataframe\">\n",
       "  <thead>\n",
       "    <tr style=\"text-align: right;\">\n",
       "      <th></th>\n",
       "      <th>district_id</th>\n",
       "      <th>week</th>\n",
       "      <th>time</th>\n",
       "      <th>demand</th>\n",
       "      <th>supply</th>\n",
       "      <th>gap</th>\n",
       "    </tr>\n",
       "  </thead>\n",
       "  <tbody>\n",
       "    <tr>\n",
       "      <th>count</th>\n",
       "      <td>66528.000000</td>\n",
       "      <td>66528.000000</td>\n",
       "      <td>66528.000000</td>\n",
       "      <td>66528.000000</td>\n",
       "      <td>66528.000000</td>\n",
       "      <td>66528.000000</td>\n",
       "    </tr>\n",
       "    <tr>\n",
       "      <th>mean</th>\n",
       "      <td>33.500000</td>\n",
       "      <td>4.000000</td>\n",
       "      <td>72.500000</td>\n",
       "      <td>45.005073</td>\n",
       "      <td>36.874079</td>\n",
       "      <td>8.130994</td>\n",
       "    </tr>\n",
       "    <tr>\n",
       "      <th>std</th>\n",
       "      <td>19.050515</td>\n",
       "      <td>2.000015</td>\n",
       "      <td>41.568529</td>\n",
       "      <td>103.738700</td>\n",
       "      <td>76.763244</td>\n",
       "      <td>38.428352</td>\n",
       "    </tr>\n",
       "    <tr>\n",
       "      <th>min</th>\n",
       "      <td>1.000000</td>\n",
       "      <td>1.000000</td>\n",
       "      <td>1.000000</td>\n",
       "      <td>1.000000</td>\n",
       "      <td>0.000000</td>\n",
       "      <td>0.000000</td>\n",
       "    </tr>\n",
       "    <tr>\n",
       "      <th>25%</th>\n",
       "      <td>17.000000</td>\n",
       "      <td>2.000000</td>\n",
       "      <td>36.750000</td>\n",
       "      <td>2.166667</td>\n",
       "      <td>1.500000</td>\n",
       "      <td>0.500000</td>\n",
       "    </tr>\n",
       "    <tr>\n",
       "      <th>50%</th>\n",
       "      <td>33.500000</td>\n",
       "      <td>4.000000</td>\n",
       "      <td>72.500000</td>\n",
       "      <td>8.000000</td>\n",
       "      <td>6.500000</td>\n",
       "      <td>1.000000</td>\n",
       "    </tr>\n",
       "    <tr>\n",
       "      <th>75%</th>\n",
       "      <td>50.000000</td>\n",
       "      <td>6.000000</td>\n",
       "      <td>108.250000</td>\n",
       "      <td>33.500000</td>\n",
       "      <td>29.000000</td>\n",
       "      <td>3.000000</td>\n",
       "    </tr>\n",
       "    <tr>\n",
       "      <th>max</th>\n",
       "      <td>66.000000</td>\n",
       "      <td>7.000000</td>\n",
       "      <td>144.000000</td>\n",
       "      <td>1489.000000</td>\n",
       "      <td>802.500000</td>\n",
       "      <td>995.500000</td>\n",
       "    </tr>\n",
       "  </tbody>\n",
       "</table>\n",
       "</div>"
      ],
      "text/plain": [
       "        district_id          week          time        demand        supply  \\\n",
       "count  66528.000000  66528.000000  66528.000000  66528.000000  66528.000000   \n",
       "mean      33.500000      4.000000     72.500000     45.005073     36.874079   \n",
       "std       19.050515      2.000015     41.568529    103.738700     76.763244   \n",
       "min        1.000000      1.000000      1.000000      1.000000      0.000000   \n",
       "25%       17.000000      2.000000     36.750000      2.166667      1.500000   \n",
       "50%       33.500000      4.000000     72.500000      8.000000      6.500000   \n",
       "75%       50.000000      6.000000    108.250000     33.500000     29.000000   \n",
       "max       66.000000      7.000000    144.000000   1489.000000    802.500000   \n",
       "\n",
       "                gap  \n",
       "count  66528.000000  \n",
       "mean       8.130994  \n",
       "std       38.428352  \n",
       "min        0.000000  \n",
       "25%        0.500000  \n",
       "50%        1.000000  \n",
       "75%        3.000000  \n",
       "max      995.500000  "
      ]
     },
     "execution_count": 14,
     "metadata": {},
     "output_type": "execute_result"
    }
   ],
   "source": [
    "grouped_temp1 = order_data_selected.groupby(['district_id','week', 'time']).mean()\n",
    "data_average_gap = grouped_temp1.reset_index()\n",
    "data_average_gap.describe()"
   ]
  },
  {
   "cell_type": "code",
   "execution_count": 15,
   "metadata": {
    "collapsed": false
   },
   "outputs": [
    {
     "name": "stdout",
     "output_type": "stream",
     "text": [
      "<class 'pandas.core.frame.DataFrame'>\n",
      "RangeIndex: 66528 entries, 0 to 66527\n",
      "Data columns (total 6 columns):\n",
      "district_id    66528 non-null int64\n",
      "week           66528 non-null int64\n",
      "time           66528 non-null int64\n",
      "demand         66528 non-null float64\n",
      "supply         66528 non-null float64\n",
      "gap            66528 non-null float64\n",
      "dtypes: float64(3), int64(3)\n",
      "memory usage: 3.0 MB\n"
     ]
    }
   ],
   "source": [
    "data_average_gap.info()"
   ]
  },
  {
   "cell_type": "markdown",
   "metadata": {},
   "source": [
    "### Test file "
   ]
  },
  {
   "cell_type": "code",
   "execution_count": 16,
   "metadata": {
    "collapsed": false
   },
   "outputs": [
    {
     "name": "stdout",
     "output_type": "stream",
     "text": [
      "<class 'pandas.core.frame.DataFrame'>\n",
      "RangeIndex: 2838 entries, 0 to 2837\n",
      "Data columns (total 3 columns):\n",
      "district_id    2838 non-null int64\n",
      "Time           2838 non-null object\n",
      "gap            2838 non-null int64\n",
      "dtypes: int64(2), object(1)\n",
      "memory usage: 66.6+ KB\n"
     ]
    }
   ],
   "source": [
    "# Load test.csv\n",
    "test_data = pd.read_csv('season_1/test.csv', header= None)\n",
    "test_data.columns = [\"district_id\", \"Time\",\"gap\"]\n",
    "test_data.info()"
   ]
  },
  {
   "cell_type": "code",
   "execution_count": 17,
   "metadata": {
    "collapsed": false
   },
   "outputs": [
    {
     "data": {
      "text/html": [
       "<div>\n",
       "<table border=\"1\" class=\"dataframe\">\n",
       "  <thead>\n",
       "    <tr style=\"text-align: right;\">\n",
       "      <th></th>\n",
       "      <th>district_id</th>\n",
       "      <th>week</th>\n",
       "      <th>date</th>\n",
       "      <th>time</th>\n",
       "    </tr>\n",
       "  </thead>\n",
       "  <tbody>\n",
       "    <tr>\n",
       "      <th>0</th>\n",
       "      <td>1</td>\n",
       "      <td>5</td>\n",
       "      <td>2016-01-22</td>\n",
       "      <td>46</td>\n",
       "    </tr>\n",
       "    <tr>\n",
       "      <th>1</th>\n",
       "      <td>2</td>\n",
       "      <td>5</td>\n",
       "      <td>2016-01-22</td>\n",
       "      <td>46</td>\n",
       "    </tr>\n",
       "  </tbody>\n",
       "</table>\n",
       "</div>"
      ],
      "text/plain": [
       "   district_id  week        date  time\n",
       "0            1     5  2016-01-22    46\n",
       "1            2     5  2016-01-22    46"
      ]
     },
     "execution_count": 17,
     "metadata": {},
     "output_type": "execute_result"
    }
   ],
   "source": [
    "test_date =  test_data.Time.map(lambda x: x[:10])\n",
    "test_time_slice = pd.to_datetime(test_date, unit='s')\n",
    "\n",
    "test_data[\"week\"] = test_time_slice.map(lambda x: x.isoweekday())\n",
    "test_data[\"date\"] = test_time_slice.map(lambda x: x.date())\n",
    "test_data[\"time\"] = test_data.Time.map(lambda x: x[11:]).map(int)\n",
    "\n",
    "del test_data[\"gap\"]\n",
    "del test_data[\"Time\"]\n",
    "test_data[:2]"
   ]
  },
  {
   "cell_type": "code",
   "execution_count": null,
   "metadata": {
    "collapsed": false
   },
   "outputs": [],
   "source": [
    "test_data.info()"
   ]
  },
  {
   "cell_type": "code",
   "execution_count": null,
   "metadata": {
    "collapsed": false
   },
   "outputs": [],
   "source": [
    "test_order[:2]"
   ]
  },
  {
   "cell_type": "code",
   "execution_count": 18,
   "metadata": {
    "collapsed": true
   },
   "outputs": [],
   "source": [
    "gap_true_0604 = test_order['gap']"
   ]
  },
  {
   "cell_type": "code",
   "execution_count": 19,
   "metadata": {
    "collapsed": false
   },
   "outputs": [
    {
     "data": {
      "text/plain": [
       "0    4.0\n",
       "1    1.0\n",
       "Name: gap, dtype: float64"
      ]
     },
     "execution_count": 19,
     "metadata": {},
     "output_type": "execute_result"
    }
   ],
   "source": [
    "gap_true_0604[:2]"
   ]
  },
  {
   "cell_type": "code",
   "execution_count": 20,
   "metadata": {
    "collapsed": true
   },
   "outputs": [],
   "source": [
    "test_0603 = test_order.merge(data_average_gap, on = ['district_id','week', 'time'], how='left' )"
   ]
  },
  {
   "cell_type": "code",
   "execution_count": 21,
   "metadata": {
    "collapsed": false
   },
   "outputs": [
    {
     "data": {
      "text/html": [
       "<div>\n",
       "<table border=\"1\" class=\"dataframe\">\n",
       "  <thead>\n",
       "    <tr style=\"text-align: right;\">\n",
       "      <th></th>\n",
       "      <th>district_id</th>\n",
       "      <th>date</th>\n",
       "      <th>week</th>\n",
       "      <th>time</th>\n",
       "      <th>demand_x</th>\n",
       "      <th>supply_x</th>\n",
       "      <th>gap_x</th>\n",
       "      <th>demand_y</th>\n",
       "      <th>supply_y</th>\n",
       "      <th>gap_y</th>\n",
       "    </tr>\n",
       "  </thead>\n",
       "  <tbody>\n",
       "    <tr>\n",
       "      <th>0</th>\n",
       "      <td>1</td>\n",
       "      <td>2016-01-22</td>\n",
       "      <td>5</td>\n",
       "      <td>43</td>\n",
       "      <td>74</td>\n",
       "      <td>70.0</td>\n",
       "      <td>4.0</td>\n",
       "      <td>75.5</td>\n",
       "      <td>74.5</td>\n",
       "      <td>1.0</td>\n",
       "    </tr>\n",
       "    <tr>\n",
       "      <th>1</th>\n",
       "      <td>1</td>\n",
       "      <td>2016-01-22</td>\n",
       "      <td>5</td>\n",
       "      <td>44</td>\n",
       "      <td>128</td>\n",
       "      <td>127.0</td>\n",
       "      <td>1.0</td>\n",
       "      <td>113.5</td>\n",
       "      <td>112.0</td>\n",
       "      <td>1.5</td>\n",
       "    </tr>\n",
       "  </tbody>\n",
       "</table>\n",
       "</div>"
      ],
      "text/plain": [
       "   district_id        date  week  time  demand_x  supply_x  gap_x  demand_y  \\\n",
       "0            1  2016-01-22     5    43        74      70.0    4.0      75.5   \n",
       "1            1  2016-01-22     5    44       128     127.0    1.0     113.5   \n",
       "\n",
       "   supply_y  gap_y  \n",
       "0      74.5    1.0  \n",
       "1     112.0    1.5  "
      ]
     },
     "execution_count": 21,
     "metadata": {},
     "output_type": "execute_result"
    }
   ],
   "source": [
    "test_0603[:2]"
   ]
  },
  {
   "cell_type": "code",
   "execution_count": 22,
   "metadata": {
    "collapsed": false
   },
   "outputs": [
    {
     "data": {
      "text/plain": [
       "0    1.0\n",
       "1    1.5\n",
       "Name: gap_y, dtype: float64"
      ]
     },
     "execution_count": 22,
     "metadata": {},
     "output_type": "execute_result"
    }
   ],
   "source": [
    "gap_pred_0604 = test_0603['gap_y']\n",
    "gap_pred_0604[:2]"
   ]
  },
  {
   "cell_type": "code",
   "execution_count": 23,
   "metadata": {
    "collapsed": false
   },
   "outputs": [
    {
     "data": {
      "text/plain": [
       "0.79385519497606971"
      ]
     },
     "execution_count": 23,
     "metadata": {},
     "output_type": "execute_result"
    }
   ],
   "source": [
    "MAPE(gap_pred_0604,gap_true_0604)"
   ]
  },
  {
   "cell_type": "markdown",
   "metadata": {},
   "source": [
    "### Predict the gap based on average gap"
   ]
  },
  {
   "cell_type": "code",
   "execution_count": 24,
   "metadata": {
    "collapsed": false
   },
   "outputs": [
    {
     "data": {
      "text/html": [
       "<div>\n",
       "<table border=\"1\" class=\"dataframe\">\n",
       "  <thead>\n",
       "    <tr style=\"text-align: right;\">\n",
       "      <th></th>\n",
       "      <th>district_id</th>\n",
       "      <th>week</th>\n",
       "      <th>date</th>\n",
       "      <th>time</th>\n",
       "      <th>demand</th>\n",
       "      <th>supply</th>\n",
       "      <th>gap</th>\n",
       "    </tr>\n",
       "  </thead>\n",
       "  <tbody>\n",
       "    <tr>\n",
       "      <th>0</th>\n",
       "      <td>1</td>\n",
       "      <td>5</td>\n",
       "      <td>2016-01-22</td>\n",
       "      <td>46</td>\n",
       "      <td>215.5</td>\n",
       "      <td>211.5</td>\n",
       "      <td>4.0</td>\n",
       "    </tr>\n",
       "    <tr>\n",
       "      <th>1</th>\n",
       "      <td>2</td>\n",
       "      <td>5</td>\n",
       "      <td>2016-01-22</td>\n",
       "      <td>46</td>\n",
       "      <td>26.5</td>\n",
       "      <td>26.0</td>\n",
       "      <td>0.5</td>\n",
       "    </tr>\n",
       "  </tbody>\n",
       "</table>\n",
       "</div>"
      ],
      "text/plain": [
       "   district_id  week        date  time  demand  supply  gap\n",
       "0            1     5  2016-01-22    46   215.5   211.5  4.0\n",
       "1            2     5  2016-01-22    46    26.5    26.0  0.5"
      ]
     },
     "execution_count": 24,
     "metadata": {},
     "output_type": "execute_result"
    }
   ],
   "source": [
    "result = test_data.merge(data_average_gap, on = ['district_id','week', 'time'], how='left' )\n",
    "result[:2]"
   ]
  },
  {
   "cell_type": "code",
   "execution_count": 25,
   "metadata": {
    "collapsed": false
   },
   "outputs": [
    {
     "name": "stdout",
     "output_type": "stream",
     "text": [
      "<class 'pandas.core.frame.DataFrame'>\n",
      "Int64Index: 2838 entries, 0 to 2837\n",
      "Data columns (total 7 columns):\n",
      "district_id    2838 non-null int64\n",
      "week           2838 non-null int64\n",
      "date           2838 non-null object\n",
      "time           2838 non-null int64\n",
      "demand         2838 non-null float64\n",
      "supply         2838 non-null float64\n",
      "gap            2838 non-null float64\n",
      "dtypes: float64(3), int64(3), object(1)\n",
      "memory usage: 177.4+ KB\n"
     ]
    }
   ],
   "source": [
    "result.info()"
   ]
  },
  {
   "cell_type": "code",
   "execution_count": 26,
   "metadata": {
    "collapsed": false
   },
   "outputs": [
    {
     "data": {
      "text/plain": [
       "<matplotlib.legend.Legend at 0x11d9c2e8>"
      ]
     },
     "execution_count": 26,
     "metadata": {},
     "output_type": "execute_result"
    },
    {
     "data": {
      "image/png": "[encoded data removed]",
      "text/plain": [
       "<matplotlib.figure.Figure at 0xa080be0>"
      ]
     },
     "metadata": {},
     "output_type": "display_data"
    }
   ],
   "source": [
    "for date, drp in result.groupby('date'):\n",
    "    plt.plot(drp.groupby('time').demand.mean(), label=str(date))\n",
    "plt.legend()"
   ]
  },
  {
   "cell_type": "code",
   "execution_count": 27,
   "metadata": {
    "collapsed": false
   },
   "outputs": [
    {
     "name": "stdout",
     "output_type": "stream",
     "text": [
      "<class 'pandas.core.frame.DataFrame'>\n",
      "Int64Index: 2838 entries, 0 to 2837\n",
      "Data columns (total 3 columns):\n",
      "district_id    2838 non-null int64\n",
      "Time           2838 non-null object\n",
      "gap            2838 non-null float64\n",
      "dtypes: float64(1), int64(1), object(1)\n",
      "memory usage: 88.7+ KB\n"
     ]
    }
   ],
   "source": [
    "# Reformat to meet the submit format\n",
    "result['Time'] = result['date'].map(str) + '-' + result['time'].map(str)\n",
    "result_data = result.loc[:, ['district_id', 'Time', 'gap']]\n",
    "result_data.info()"
   ]
  },
  {
   "cell_type": "code",
   "execution_count": 28,
   "metadata": {
    "collapsed": false
   },
   "outputs": [
    {
     "data": {
      "text/html": [
       "<div>\n",
       "<table border=\"1\" class=\"dataframe\">\n",
       "  <thead>\n",
       "    <tr style=\"text-align: right;\">\n",
       "      <th></th>\n",
       "      <th>district_id</th>\n",
       "      <th>Time</th>\n",
       "      <th>gap</th>\n",
       "    </tr>\n",
       "  </thead>\n",
       "  <tbody>\n",
       "    <tr>\n",
       "      <th>160</th>\n",
       "      <td>29</td>\n",
       "      <td>2016-01-22-70</td>\n",
       "      <td>3.0</td>\n",
       "    </tr>\n",
       "    <tr>\n",
       "      <th>161</th>\n",
       "      <td>30</td>\n",
       "      <td>2016-01-22-70</td>\n",
       "      <td>0.5</td>\n",
       "    </tr>\n",
       "    <tr>\n",
       "      <th>162</th>\n",
       "      <td>31</td>\n",
       "      <td>2016-01-22-70</td>\n",
       "      <td>1.5</td>\n",
       "    </tr>\n",
       "    <tr>\n",
       "      <th>163</th>\n",
       "      <td>32</td>\n",
       "      <td>2016-01-22-70</td>\n",
       "      <td>0.0</td>\n",
       "    </tr>\n",
       "    <tr>\n",
       "      <th>164</th>\n",
       "      <td>33</td>\n",
       "      <td>2016-01-22-70</td>\n",
       "      <td>1.5</td>\n",
       "    </tr>\n",
       "  </tbody>\n",
       "</table>\n",
       "</div>"
      ],
      "text/plain": [
       "     district_id           Time  gap\n",
       "160           29  2016-01-22-70  3.0\n",
       "161           30  2016-01-22-70  0.5\n",
       "162           31  2016-01-22-70  1.5\n",
       "163           32  2016-01-22-70  0.0\n",
       "164           33  2016-01-22-70  1.5"
      ]
     },
     "execution_count": 28,
     "metadata": {},
     "output_type": "execute_result"
    }
   ],
   "source": [
    "# Cehck\n",
    "result_data[160:165]"
   ]
  },
  {
   "cell_type": "code",
   "execution_count": 29,
   "metadata": {
    "collapsed": false
   },
   "outputs": [],
   "source": [
    "# The prediction result output as *.csv\n",
    "result_data.to_csv('result0606.csv', index=False, header=False)"
   ]
  },
  {
   "cell_type": "markdown",
   "metadata": {},
   "source": [
    "## Predicted by regressor"
   ]
  },
  {
   "cell_type": "code",
   "execution_count": null,
   "metadata": {
    "collapsed": false
   },
   "outputs": [],
   "source": [
    "full_data = full_data.drop('date',axis = 1)\n",
    "full_data[:2]"
   ]
  },
  {
   "cell_type": "code",
   "execution_count": null,
   "metadata": {
    "collapsed": true
   },
   "outputs": [],
   "source": [
    "order_data_selected = order_data_selected.drop('date',axis = 1)"
   ]
  },
  {
   "cell_type": "code",
   "execution_count": null,
   "metadata": {
    "collapsed": false
   },
   "outputs": [],
   "source": [
    "full_data.values[:,0:6]"
   ]
  },
  {
   "cell_type": "code",
   "execution_count": null,
   "metadata": {
    "collapsed": false
   },
   "outputs": [],
   "source": [
    "full_data.info()"
   ]
  },
  {
   "cell_type": "code",
   "execution_count": null,
   "metadata": {
    "collapsed": false
   },
   "outputs": [],
   "source": [
    "test_order.info()"
   ]
  },
  {
   "cell_type": "code",
   "execution_count": null,
   "metadata": {
    "collapsed": false
   },
   "outputs": [],
   "source": [
    "test_order[:2]"
   ]
  },
  {
   "cell_type": "code",
   "execution_count": null,
   "metadata": {
    "collapsed": false
   },
   "outputs": [],
   "source": [
    "#test_order = test_order.drop('date', axis =1)\n",
    "\n",
    "#test_order = test_order.reindex(['district_id', 'week', 'time', 'date', 'demand', 'supply', 'gap'])\n",
    "test_order1 = test_order.loc[:,['district_id', 'week', 'time','date', 'demand', 'supply', 'gap']]\n",
    "test_order1[:2]"
   ]
  },
  {
   "cell_type": "code",
   "execution_count": null,
   "metadata": {
    "collapsed": false
   },
   "outputs": [],
   "source": [
    "full_data[:2]"
   ]
  },
  {
   "cell_type": "code",
   "execution_count": null,
   "metadata": {
    "collapsed": false
   },
   "outputs": [],
   "source": [
    "#full_data = order_data_selected.loc[:,['district_id', 'week', 'time','date', 'demand', 'supply', 'gap']]\n",
    "#full_data[:2]"
   ]
  },
  {
   "cell_type": "code",
   "execution_count": null,
   "metadata": {
    "collapsed": false
   },
   "outputs": [],
   "source": [
    "#train_data = order_data_selected.loc[:,['district_id', 'week', 'time','date', 'demand', 'supply', 'gap']]\n",
    "#train_data[:2]"
   ]
  },
  {
   "cell_type": "code",
   "execution_count": null,
   "metadata": {
    "collapsed": false
   },
   "outputs": [],
   "source": [
    "from sklearn.ensemble import RandomForestRegressor\n",
    "clf = RandomForestRegressor(n_estimators=100, max_depth= 3)\n",
    "clf.fit(order_data_selected.values[:,0:3], order_data_selected.values[:,5])"
   ]
  },
  {
   "cell_type": "code",
   "execution_count": null,
   "metadata": {
    "collapsed": false
   },
   "outputs": [],
   "source": [
    "from sklearn.tree import DecisionTreeRegressor\n",
    "clf1 = DecisionTreeRegressor(max_depth = 10)\n",
    "clf1.fit(order_data_selected.values[:,0:3], order_data_selected.values[:,5])"
   ]
  },
  {
   "cell_type": "code",
   "execution_count": null,
   "metadata": {
    "collapsed": false
   },
   "outputs": [],
   "source": [
    "from sklearn import svm\n",
    "clf2 = svm.SVR()\n",
    "clf2.fit(order_data_selected.values[:,0:3], order_data_selected.values[:,5])"
   ]
  },
  {
   "cell_type": "code",
   "execution_count": null,
   "metadata": {
    "collapsed": false
   },
   "outputs": [],
   "source": [
    "gap_pred = clf.predict(test_order1.values[:,0:3])\n",
    "gap_true = test_order1.values[:,6]\n",
    "\n",
    "MAPE(gap_pred, gap_true)"
   ]
  },
  {
   "cell_type": "code",
   "execution_count": null,
   "metadata": {
    "collapsed": false
   },
   "outputs": [],
   "source": [
    "gap_pred[:2]"
   ]
  },
  {
   "cell_type": "code",
   "execution_count": null,
   "metadata": {
    "collapsed": false
   },
   "outputs": [],
   "source": [
    "#test_temp = test_data.drop('date',axis=1)\n",
    "test_temp[:2]"
   ]
  },
  {
   "cell_type": "code",
   "execution_count": null,
   "metadata": {
    "collapsed": false
   },
   "outputs": [],
   "source": [
    "result_pred = clf.predict(test_temp.values)"
   ]
  },
  {
   "cell_type": "code",
   "execution_count": null,
   "metadata": {
    "collapsed": false
   },
   "outputs": [],
   "source": [
    "result_pred.shape"
   ]
  },
  {
   "cell_type": "code",
   "execution_count": null,
   "metadata": {
    "collapsed": false
   },
   "outputs": [],
   "source": [
    "test_data[:2]"
   ]
  },
  {
   "cell_type": "code",
   "execution_count": null,
   "metadata": {
    "collapsed": true
   },
   "outputs": [],
   "source": [
    "test_data['gap'] = result_pred "
   ]
  },
  {
   "cell_type": "code",
   "execution_count": null,
   "metadata": {
    "collapsed": false
   },
   "outputs": [],
   "source": [
    "test_data[:2]"
   ]
  },
  {
   "cell_type": "code",
   "execution_count": null,
   "metadata": {
    "collapsed": false
   },
   "outputs": [],
   "source": [
    "for date, drp in test_data.groupby('date'):\n",
    "    plt.plot(drp.groupby('time').gap.mean(), label=str(date))\n",
    "plt.legend()"
   ]
  },
  {
   "cell_type": "code",
   "execution_count": null,
   "metadata": {
    "collapsed": false
   },
   "outputs": [],
   "source": [
    "# Reformat to meet the submit format\n",
    "test_data['Time'] = test_data['date'].map(str) + '-' + test_data['time'].map(str)\n",
    "result_data = test_data.loc[:, ['district_id', 'Time', 'gap']]\n",
    "result_data.info()"
   ]
  },
  {
   "cell_type": "code",
   "execution_count": 30,
   "metadata": {
    "collapsed": false
   },
   "outputs": [
    {
     "data": {
      "text/html": [
       "<div>\n",
       "<table border=\"1\" class=\"dataframe\">\n",
       "  <thead>\n",
       "    <tr style=\"text-align: right;\">\n",
       "      <th></th>\n",
       "      <th>district_id</th>\n",
       "      <th>Time</th>\n",
       "      <th>gap</th>\n",
       "    </tr>\n",
       "  </thead>\n",
       "  <tbody>\n",
       "    <tr>\n",
       "      <th>0</th>\n",
       "      <td>1</td>\n",
       "      <td>2016-01-22-46</td>\n",
       "      <td>4.0</td>\n",
       "    </tr>\n",
       "    <tr>\n",
       "      <th>1</th>\n",
       "      <td>2</td>\n",
       "      <td>2016-01-22-46</td>\n",
       "      <td>0.5</td>\n",
       "    </tr>\n",
       "  </tbody>\n",
       "</table>\n",
       "</div>"
      ],
      "text/plain": [
       "   district_id           Time  gap\n",
       "0            1  2016-01-22-46  4.0\n",
       "1            2  2016-01-22-46  0.5"
      ]
     },
     "execution_count": 30,
     "metadata": {},
     "output_type": "execute_result"
    }
   ],
   "source": [
    "#check\n",
    "result_data[:2]"
   ]
  },
  {
   "cell_type": "code",
   "execution_count": null,
   "metadata": {
    "collapsed": false
   },
   "outputs": [],
   "source": [
    "# The prediction result output as *.csv\n",
    "result_data.to_csv('result0605.csv', index=False, header=False)"
   ]
  },
  {
   "cell_type": "code",
   "execution_count": 40,
   "metadata": {
    "collapsed": false
   },
   "outputs": [
    {
     "data": {
      "text/plain": [
       "array([2760, 1031, 1169,  904, 2204, 1062,  493,  669, 1060, 2492, 1053,\n",
       "       1080,  301,  534, 1205,  761, 1406,  790, 2708, 2695, 1270, 1607,\n",
       "        891, 2205,  718, 2237,   97,  437])"
      ]
     },
     "execution_count": 40,
     "metadata": {},
     "output_type": "execute_result"
    }
   ],
   "source": [
    "size = result_data.shape[0]\n",
    "vals = np.random.choice(size, size/100, replace=False)\n",
    "vals"
   ]
  },
  {
   "cell_type": "code",
   "execution_count": 53,
   "metadata": {
    "collapsed": false
   },
   "outputs": [
    {
     "data": {
      "text/plain": [
       "[]"
      ]
     },
     "execution_count": 53,
     "metadata": {},
     "output_type": "execute_result"
    }
   ],
   "source": [
    "n = len(full_data)\n",
    "cols = list(set(full_data.index[1:n+1].intersection(result_data.columns).difference(['gap','week'])))\n",
    "cols"
   ]
  },
  {
   "cell_type": "code",
   "execution_count": 56,
   "metadata": {
    "collapsed": false
   },
   "outputs": [
    {
     "data": {
      "text/html": [
       "<div>\n",
       "<table border=\"1\" class=\"dataframe\">\n",
       "  <thead>\n",
       "    <tr style=\"text-align: right;\">\n",
       "      <th></th>\n",
       "    </tr>\n",
       "  </thead>\n",
       "  <tbody>\n",
       "    <tr>\n",
       "      <th>0</th>\n",
       "    </tr>\n",
       "    <tr>\n",
       "      <th>1</th>\n",
       "    </tr>\n",
       "    <tr>\n",
       "      <th>2</th>\n",
       "    </tr>\n",
       "    <tr>\n",
       "      <th>3</th>\n",
       "    </tr>\n",
       "    <tr>\n",
       "      <th>4</th>\n",
       "    </tr>\n",
       "    <tr>\n",
       "      <th>5</th>\n",
       "    </tr>\n",
       "    <tr>\n",
       "      <th>6</th>\n",
       "    </tr>\n",
       "    <tr>\n",
       "      <th>7</th>\n",
       "    </tr>\n",
       "    <tr>\n",
       "      <th>8</th>\n",
       "    </tr>\n",
       "    <tr>\n",
       "      <th>9</th>\n",
       "    </tr>\n",
       "    <tr>\n",
       "      <th>10</th>\n",
       "    </tr>\n",
       "    <tr>\n",
       "      <th>11</th>\n",
       "    </tr>\n",
       "    <tr>\n",
       "      <th>12</th>\n",
       "    </tr>\n",
       "    <tr>\n",
       "      <th>13</th>\n",
       "    </tr>\n",
       "    <tr>\n",
       "      <th>14</th>\n",
       "    </tr>\n",
       "    <tr>\n",
       "      <th>15</th>\n",
       "    </tr>\n",
       "    <tr>\n",
       "      <th>16</th>\n",
       "    </tr>\n",
       "    <tr>\n",
       "      <th>17</th>\n",
       "    </tr>\n",
       "    <tr>\n",
       "      <th>18</th>\n",
       "    </tr>\n",
       "    <tr>\n",
       "      <th>19</th>\n",
       "    </tr>\n",
       "    <tr>\n",
       "      <th>20</th>\n",
       "    </tr>\n",
       "    <tr>\n",
       "      <th>21</th>\n",
       "    </tr>\n",
       "    <tr>\n",
       "      <th>22</th>\n",
       "    </tr>\n",
       "    <tr>\n",
       "      <th>23</th>\n",
       "    </tr>\n",
       "    <tr>\n",
       "      <th>24</th>\n",
       "    </tr>\n",
       "    <tr>\n",
       "      <th>25</th>\n",
       "    </tr>\n",
       "    <tr>\n",
       "      <th>26</th>\n",
       "    </tr>\n",
       "    <tr>\n",
       "      <th>27</th>\n",
       "    </tr>\n",
       "    <tr>\n",
       "      <th>28</th>\n",
       "    </tr>\n",
       "    <tr>\n",
       "      <th>29</th>\n",
       "    </tr>\n",
       "    <tr>\n",
       "      <th>...</th>\n",
       "    </tr>\n",
       "    <tr>\n",
       "      <th>199554</th>\n",
       "    </tr>\n",
       "    <tr>\n",
       "      <th>199555</th>\n",
       "    </tr>\n",
       "    <tr>\n",
       "      <th>199556</th>\n",
       "    </tr>\n",
       "    <tr>\n",
       "      <th>199557</th>\n",
       "    </tr>\n",
       "    <tr>\n",
       "      <th>199558</th>\n",
       "    </tr>\n",
       "    <tr>\n",
       "      <th>199559</th>\n",
       "    </tr>\n",
       "    <tr>\n",
       "      <th>199560</th>\n",
       "    </tr>\n",
       "    <tr>\n",
       "      <th>199561</th>\n",
       "    </tr>\n",
       "    <tr>\n",
       "      <th>199562</th>\n",
       "    </tr>\n",
       "    <tr>\n",
       "      <th>199563</th>\n",
       "    </tr>\n",
       "    <tr>\n",
       "      <th>199564</th>\n",
       "    </tr>\n",
       "    <tr>\n",
       "      <th>199565</th>\n",
       "    </tr>\n",
       "    <tr>\n",
       "      <th>199566</th>\n",
       "    </tr>\n",
       "    <tr>\n",
       "      <th>199567</th>\n",
       "    </tr>\n",
       "    <tr>\n",
       "      <th>199568</th>\n",
       "    </tr>\n",
       "    <tr>\n",
       "      <th>199569</th>\n",
       "    </tr>\n",
       "    <tr>\n",
       "      <th>199570</th>\n",
       "    </tr>\n",
       "    <tr>\n",
       "      <th>199571</th>\n",
       "    </tr>\n",
       "    <tr>\n",
       "      <th>199572</th>\n",
       "    </tr>\n",
       "    <tr>\n",
       "      <th>199573</th>\n",
       "    </tr>\n",
       "    <tr>\n",
       "      <th>199574</th>\n",
       "    </tr>\n",
       "    <tr>\n",
       "      <th>199575</th>\n",
       "    </tr>\n",
       "    <tr>\n",
       "      <th>199576</th>\n",
       "    </tr>\n",
       "    <tr>\n",
       "      <th>199577</th>\n",
       "    </tr>\n",
       "    <tr>\n",
       "      <th>199578</th>\n",
       "    </tr>\n",
       "    <tr>\n",
       "      <th>199579</th>\n",
       "    </tr>\n",
       "    <tr>\n",
       "      <th>199580</th>\n",
       "    </tr>\n",
       "    <tr>\n",
       "      <th>199581</th>\n",
       "    </tr>\n",
       "    <tr>\n",
       "      <th>199582</th>\n",
       "    </tr>\n",
       "    <tr>\n",
       "      <th>199583</th>\n",
       "    </tr>\n",
       "  </tbody>\n",
       "</table>\n",
       "<p>199584 rows × 0 columns</p>\n",
       "</div>"
      ],
      "text/plain": [
       "Empty DataFrame\n",
       "Columns: []\n",
       "Index: [0, 1, 2, 3, 4, 5, 6, 7, 8, 9, 10, 11, 12, 13, 14, 15, 16, 17, 18, 19, 20, 21, 22, 23, 24, 25, 26, 27, 28, 29, 30, 31, 32, 33, 34, 35, 36, 37, 38, 39, 40, 41, 42, 43, 44, 45, 46, 47, 48, 49, 50, 51, 52, 53, 54, 55, 56, 57, 58, 59, 60, 61, 62, 63, 64, 65, 66, 67, 68, 69, 70, 71, 72, 73, 74, 75, 76, 77, 78, 79, 80, 81, 82, 83, 84, 85, 86, 87, 88, 89, 90, 91, 92, 93, 94, 95, 96, 97, 98, 99, ...]\n",
       "\n",
       "[199584 rows x 0 columns]"
      ]
     },
     "execution_count": 56,
     "metadata": {},
     "output_type": "execute_result"
    }
   ],
   "source": [
    "full_data[cols]"
   ]
  },
  {
   "cell_type": "code",
   "execution_count": 55,
   "metadata": {
    "collapsed": false
   },
   "outputs": [
    {
     "data": {
      "text/plain": [
       "array([], shape=(2L, 0L), dtype=float64)"
      ]
     },
     "execution_count": 55,
     "metadata": {},
     "output_type": "execute_result"
    }
   ],
   "source": [
    "X = np.array(full_data[cols])\n",
    "X[:2]"
   ]
  },
  {
   "cell_type": "code",
   "execution_count": 44,
   "metadata": {
    "collapsed": false
   },
   "outputs": [],
   "source": [
    "trains = list(set(xrange(size)).difference(vals))\n",
    "#trains"
   ]
  },
  {
   "cell_type": "code",
   "execution_count": 45,
   "metadata": {
    "collapsed": false
   },
   "outputs": [
    {
     "data": {
      "text/plain": [
       "Index([u'district_id', u'Time', u'gap'], dtype='object')"
      ]
     },
     "execution_count": 45,
     "metadata": {},
     "output_type": "execute_result"
    }
   ],
   "source": [
    "result_data.columns"
   ]
  },
  {
   "cell_type": "code",
   "execution_count": null,
   "metadata": {
    "collapsed": true
   },
   "outputs": [],
   "source": [
    "def train_val_split(X, y, index):\n",
    "    train, val = [], []\n",
    "    np.random.seed(5150)\n",
    "    size = y.shape[0]\n",
    "    vals = np.random.choice(size, size/100, replace=False)\n",
    "    trains = list(set(xrange(size)).difference(vals))\n",
    "    return X[trains, :], X[vals, :], y[trains], y[vals], index[trains, :], index[vals, :]"
   ]
  },
  {
   "cell_type": "code",
   "execution_count": null,
   "metadata": {
    "collapsed": true
   },
   "outputs": [],
   "source": [
    "n=len(pareto)\n",
    "\n",
    "cols = (list(set(pareto.index[1:n+1]).intersection(test_data.columns)\n",
    "                                   .difference(['y', 'district_ID', 'UTC', 'Interval'])))\n",
    "\n",
    "X = np.array(training_data[cols])\n",
    "y = np.array(training_data['y'])\n",
    "index = np.array(training_data[['district_ID', 'UTC']]) #convert to np.array temporarily\n",
    "\n",
    "X_train, X_val, y_train, y_val, _, index_vals = train_val_split(X, y, index)\n",
    "\n",
    "index_val = pd.DataFrame(index_vals, columns=['district_ID', 'UTC'])\n",
    "\n",
    "X_test = np.array(test_data[cols])\n",
    "index_test = test_data[['district_ID', 'Interval']] #keep as pandas"
   ]
  },
  {
   "cell_type": "markdown",
   "metadata": {},
   "source": [
    "### Traffic Data Analysis"
   ]
  },
  {
   "cell_type": "code",
   "execution_count": 86,
   "metadata": {
    "collapsed": false
   },
   "outputs": [
    {
     "ename": "ValueError",
     "evalue": "No objects to concatenate",
     "output_type": "error",
     "traceback": [
      "\u001b[1;31m---------------------------------------------------------------------------\u001b[0m",
      "\u001b[1;31mValueError\u001b[0m                                Traceback (most recent call last)",
      "\u001b[1;32m<ipython-input-86-24e308417a6a>\u001b[0m in \u001b[0;36m<module>\u001b[1;34m()\u001b[0m\n\u001b[0;32m      8\u001b[0m \u001b[1;33m\u001b[0m\u001b[0m\n\u001b[0;32m      9\u001b[0m \u001b[1;31m# Load all the order data as train_order and test_order\u001b[0m\u001b[1;33m\u001b[0m\u001b[1;33m\u001b[0m\u001b[0m\n\u001b[1;32m---> 10\u001b[1;33m \u001b[0mtrain_traffic\u001b[0m \u001b[1;33m=\u001b[0m \u001b[0mpd\u001b[0m\u001b[1;33m.\u001b[0m\u001b[0mconcat\u001b[0m\u001b[1;33m(\u001b[0m\u001b[1;33m(\u001b[0m\u001b[0mpd\u001b[0m\u001b[1;33m.\u001b[0m\u001b[0mread_csv\u001b[0m\u001b[1;33m(\u001b[0m\u001b[0mf\u001b[0m\u001b[1;33m)\u001b[0m \u001b[1;32mfor\u001b[0m \u001b[0mf\u001b[0m \u001b[1;32min\u001b[0m \u001b[0mtrain_traffic_files\u001b[0m\u001b[1;33m)\u001b[0m\u001b[1;33m)\u001b[0m\u001b[1;33m\u001b[0m\u001b[0m\n\u001b[0m\u001b[0;32m     11\u001b[0m \u001b[0mtest_traffic\u001b[0m \u001b[1;33m=\u001b[0m \u001b[0mpd\u001b[0m\u001b[1;33m.\u001b[0m\u001b[0mconcat\u001b[0m\u001b[1;33m(\u001b[0m\u001b[1;33m(\u001b[0m\u001b[0mpd\u001b[0m\u001b[1;33m.\u001b[0m\u001b[0mread_csv\u001b[0m\u001b[1;33m(\u001b[0m\u001b[0mf\u001b[0m\u001b[1;33m)\u001b[0m \u001b[1;32mfor\u001b[0m \u001b[0mf\u001b[0m \u001b[1;32min\u001b[0m \u001b[0mtest_traffic_files\u001b[0m\u001b[1;33m)\u001b[0m\u001b[1;33m)\u001b[0m\u001b[1;33m\u001b[0m\u001b[0m\n",
      "\u001b[1;32mC:\\Users\\wang\\Anaconda2\\lib\\site-packages\\pandas\\tools\\merge.pyc\u001b[0m in \u001b[0;36mconcat\u001b[1;34m(objs, axis, join, join_axes, ignore_index, keys, levels, names, verify_integrity, copy)\u001b[0m\n\u001b[0;32m    832\u001b[0m                        \u001b[0mkeys\u001b[0m\u001b[1;33m=\u001b[0m\u001b[0mkeys\u001b[0m\u001b[1;33m,\u001b[0m \u001b[0mlevels\u001b[0m\u001b[1;33m=\u001b[0m\u001b[0mlevels\u001b[0m\u001b[1;33m,\u001b[0m \u001b[0mnames\u001b[0m\u001b[1;33m=\u001b[0m\u001b[0mnames\u001b[0m\u001b[1;33m,\u001b[0m\u001b[1;33m\u001b[0m\u001b[0m\n\u001b[0;32m    833\u001b[0m                        \u001b[0mverify_integrity\u001b[0m\u001b[1;33m=\u001b[0m\u001b[0mverify_integrity\u001b[0m\u001b[1;33m,\u001b[0m\u001b[1;33m\u001b[0m\u001b[0m\n\u001b[1;32m--> 834\u001b[1;33m                        copy=copy)\n\u001b[0m\u001b[0;32m    835\u001b[0m     \u001b[1;32mreturn\u001b[0m \u001b[0mop\u001b[0m\u001b[1;33m.\u001b[0m\u001b[0mget_result\u001b[0m\u001b[1;33m(\u001b[0m\u001b[1;33m)\u001b[0m\u001b[1;33m\u001b[0m\u001b[0m\n\u001b[0;32m    836\u001b[0m \u001b[1;33m\u001b[0m\u001b[0m\n",
      "\u001b[1;32mC:\\Users\\wang\\Anaconda2\\lib\\site-packages\\pandas\\tools\\merge.pyc\u001b[0m in \u001b[0;36m__init__\u001b[1;34m(self, objs, axis, join, join_axes, keys, levels, names, ignore_index, verify_integrity, copy)\u001b[0m\n\u001b[0;32m    865\u001b[0m \u001b[1;33m\u001b[0m\u001b[0m\n\u001b[0;32m    866\u001b[0m         \u001b[1;32mif\u001b[0m \u001b[0mlen\u001b[0m\u001b[1;33m(\u001b[0m\u001b[0mobjs\u001b[0m\u001b[1;33m)\u001b[0m \u001b[1;33m==\u001b[0m \u001b[1;36m0\u001b[0m\u001b[1;33m:\u001b[0m\u001b[1;33m\u001b[0m\u001b[0m\n\u001b[1;32m--> 867\u001b[1;33m             \u001b[1;32mraise\u001b[0m \u001b[0mValueError\u001b[0m\u001b[1;33m(\u001b[0m\u001b[1;34m'No objects to concatenate'\u001b[0m\u001b[1;33m)\u001b[0m\u001b[1;33m\u001b[0m\u001b[0m\n\u001b[0m\u001b[0;32m    868\u001b[0m \u001b[1;33m\u001b[0m\u001b[0m\n\u001b[0;32m    869\u001b[0m         \u001b[1;32mif\u001b[0m \u001b[0mkeys\u001b[0m \u001b[1;32mis\u001b[0m \u001b[0mNone\u001b[0m\u001b[1;33m:\u001b[0m\u001b[1;33m\u001b[0m\u001b[0m\n",
      "\u001b[1;31mValueError\u001b[0m: No objects to concatenate"
     ]
    }
   ],
   "source": [
    "import glob\n",
    "\n",
    "train_traffic_path = os.path.join(TRAIN_DATA_DIR, TRAFFIC_SHEET_DIR)\n",
    "test_traffic_path = os.path.join(TEST_DATA_DIR, TRAFFIC_SHEET_DIR)\n",
    "\n",
    "train_traffic_files = glob.glob(os.path.join(train_traffic_path, \"*.csv\"))\n",
    "test_traffic_files = glob.glob(os.path.join(test_traffic_path, \"*.csv\"))\n",
    "\n",
    "# Load all the order data as train_order and test_order\n",
    "train_traffic = pd.concat((pd.read_csv(f) for f in train_traffic_files))\n",
    "test_traffic = pd.concat((pd.read_csv(f) for f in test_traffic_files))"
   ]
  },
  {
   "cell_type": "code",
   "execution_count": null,
   "metadata": {
    "collapsed": false
   },
   "outputs": [],
   "source": [
    "train_traffic.head()"
   ]
  },
  {
   "cell_type": "code",
   "execution_count": null,
   "metadata": {
    "collapsed": true
   },
   "outputs": [],
   "source": []
  }
 ],
 "metadata": {
  "kernelspec": {
   "display_name": "Python 2",
   "language": "python",
   "name": "python2"
  },
  "language_info": {
   "codemirror_mode": {
    "name": "ipython",
    "version": 2
   },
   "file_extension": ".py",
   "mimetype": "text/x-python",
   "name": "python",
   "nbconvert_exporter": "python",
   "pygments_lexer": "ipython2",
   "version": "2.7.11"
  }
 },
 "nbformat": 4,
 "nbformat_minor": 0
}
