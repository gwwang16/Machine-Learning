{
 "cells": [
  {
   "cell_type": "markdown",
   "metadata": {},
   "source": [
    "## Prediction based on average gap in test_data"
   ]
  },
  {
   "cell_type": "code",
   "execution_count": 1,
   "metadata": {
    "collapsed": true
   },
   "outputs": [],
   "source": [
    "# Import libraries necessary for this project\n",
    "import numpy as np\n",
    "import pandas as pd\n",
    "import os\n",
    "import matplotlib.pyplot as plt\n",
    "# Show matplotlib plots inline\n",
    "%matplotlib inline\n",
    "bases_dir = \"season_1_data\"\n",
    "\n",
    "# Load the data path\n",
    "TRAIN_DATA_DIR = \"season_1_data/training_data\"\n",
    "TEST_DATA_DIR = \"season_1_data/test_data\"\n",
    "\n",
    "# All the data dirs\n",
    "CLUSTER_MAP_SHEET_DIR = \"cluster_map\"\n",
    "ORDER_SHEET_DIR = \"order_data\"\n",
    "TRAFFIC_SHEET_DIR = \"traffic_data\"\n",
    "WEATHER_SHEET_DIR = \"weather_data\"\n",
    "POI_SHEET_DIR = \"poi_data\""
   ]
  },
  {
   "cell_type": "markdown",
   "metadata": {},
   "source": [
    "## Load Order Data "
   ]
  },
  {
   "cell_type": "code",
   "execution_count": 106,
   "metadata": {
    "collapsed": true
   },
   "outputs": [],
   "source": [
    "import glob\n",
    "\n",
    "train_order_path = os.path.join(TRAIN_DATA_DIR, ORDER_SHEET_DIR)\n",
    "test_order_path = os.path.join(TEST_DATA_DIR, ORDER_SHEET_DIR)\n",
    "\n",
    "train_order_files = glob.glob(os.path.join(train_order_path, \"*.csv\"))\n",
    "test_order_files = glob.glob(os.path.join(test_order_path, \"*.csv\"))\n",
    "\n",
    "# Load all the order data as train_order and test_order\n",
    "train_order = pd.concat((pd.read_csv(f) for f in train_order_files))\n",
    "test_order = pd.concat((pd.read_csv(f) for f in test_order_files))"
   ]
  },
  {
   "cell_type": "code",
   "execution_count": 107,
   "metadata": {
    "collapsed": false
   },
   "outputs": [
    {
     "name": "stdout",
     "output_type": "stream",
     "text": [
      "<class 'pandas.core.frame.DataFrame'>\n",
      "Int64Index: 163491 entries, 0 to 7904\n",
      "Data columns (total 7 columns):\n",
      "district_id    163491 non-null int64\n",
      "date           163491 non-null object\n",
      "week           163491 non-null int64\n",
      "time           163491 non-null int64\n",
      "demand         163491 non-null int64\n",
      "supply         163491 non-null int32\n",
      "gap            163491 non-null int32\n",
      "dtypes: int32(2), int64(4), object(1)\n",
      "memory usage: 8.7+ MB\n"
     ]
    }
   ],
   "source": [
    "train_order[['supply', 'gap']] = train_order[['supply', 'gap']].astype(int)\n",
    "train_order.info()"
   ]
  },
  {
   "cell_type": "code",
   "execution_count": 108,
   "metadata": {
    "collapsed": false
   },
   "outputs": [
    {
     "name": "stdout",
     "output_type": "stream",
     "text": [
      "25.1666666667\n",
      "2016-01-22\n",
      "22.4242424242\n",
      "2016-01-24\n",
      "25.0\n",
      "2016-01-26\n",
      "22.3333333333\n",
      "2016-01-28\n",
      "25.1363636364\n",
      "2016-01-30\n"
     ]
    }
   ],
   "source": [
    "for date, drp in test_order.groupby('date'):\n",
    "    print len(drp.time) / 66.\n",
    "    print date"
   ]
  },
  {
   "cell_type": "code",
   "execution_count": 109,
   "metadata": {
    "collapsed": false
   },
   "outputs": [
    {
     "data": {
      "text/html": [
       "<div>\n",
       "<table border=\"1\" class=\"dataframe\">\n",
       "  <thead>\n",
       "    <tr style=\"text-align: right;\">\n",
       "      <th></th>\n",
       "      <th>district_id</th>\n",
       "      <th>week</th>\n",
       "      <th>time</th>\n",
       "      <th>demand</th>\n",
       "      <th>supply</th>\n",
       "      <th>gap</th>\n",
       "    </tr>\n",
       "  </thead>\n",
       "  <tbody>\n",
       "    <tr>\n",
       "      <th>0</th>\n",
       "      <td>1</td>\n",
       "      <td>2</td>\n",
       "      <td>43</td>\n",
       "      <td>91</td>\n",
       "      <td>89.0</td>\n",
       "      <td>2.0</td>\n",
       "    </tr>\n",
       "    <tr>\n",
       "      <th>1</th>\n",
       "      <td>1</td>\n",
       "      <td>2</td>\n",
       "      <td>44</td>\n",
       "      <td>139</td>\n",
       "      <td>136.0</td>\n",
       "      <td>3.0</td>\n",
       "    </tr>\n",
       "  </tbody>\n",
       "</table>\n",
       "</div>"
      ],
      "text/plain": [
       "   district_id  week  time  demand  supply  gap\n",
       "0            1     2    43      91    89.0  2.0\n",
       "1            1     2    44     139   136.0  3.0"
      ]
     },
     "execution_count": 109,
     "metadata": {},
     "output_type": "execute_result"
    }
   ],
   "source": [
    "test_data_grouped = test_order.groupby(['district_id','week', 'time']).mean()\n",
    "test_data_average_gap = test_data_grouped.reset_index()\n",
    "test_data_average_gap[:2]"
   ]
  },
  {
   "cell_type": "code",
   "execution_count": 110,
   "metadata": {
    "collapsed": true
   },
   "outputs": [],
   "source": [
    "test_order['time_1'] = test_order.time.apply(lambda x: x+1)"
   ]
  },
  {
   "cell_type": "code",
   "execution_count": 111,
   "metadata": {
    "collapsed": false
   },
   "outputs": [
    {
     "name": "stdout",
     "output_type": "stream",
     "text": [
      "<class 'pandas.core.frame.DataFrame'>\n",
      "Int64Index: 7924 entries, 0 to 1658\n",
      "Data columns (total 8 columns):\n",
      "district_id    7924 non-null int64\n",
      "date           7924 non-null object\n",
      "week           7924 non-null int64\n",
      "time           7924 non-null int64\n",
      "demand         7924 non-null int64\n",
      "supply         7924 non-null float64\n",
      "gap            7924 non-null float64\n",
      "time_1         7924 non-null int64\n",
      "dtypes: float64(2), int64(5), object(1)\n",
      "memory usage: 557.2+ KB\n"
     ]
    }
   ],
   "source": [
    "test_order.info()"
   ]
  },
  {
   "cell_type": "code",
   "execution_count": 127,
   "metadata": {
    "collapsed": false
   },
   "outputs": [
    {
     "data": {
      "text/html": [
       "<div>\n",
       "<table border=\"1\" class=\"dataframe\">\n",
       "  <thead>\n",
       "    <tr style=\"text-align: right;\">\n",
       "      <th></th>\n",
       "      <th>district_id</th>\n",
       "      <th>time</th>\n",
       "      <th>demand</th>\n",
       "      <th>week</th>\n",
       "      <th>date</th>\n",
       "      <th>supply</th>\n",
       "      <th>gap</th>\n",
       "    </tr>\n",
       "  </thead>\n",
       "  <tbody>\n",
       "    <tr>\n",
       "      <th>0</th>\n",
       "      <td>1</td>\n",
       "      <td>44</td>\n",
       "      <td>74</td>\n",
       "      <td>5</td>\n",
       "      <td>2016-01-22</td>\n",
       "      <td>70.0</td>\n",
       "      <td>4.0</td>\n",
       "    </tr>\n",
       "    <tr>\n",
       "      <th>1</th>\n",
       "      <td>1</td>\n",
       "      <td>45</td>\n",
       "      <td>128</td>\n",
       "      <td>5</td>\n",
       "      <td>2016-01-22</td>\n",
       "      <td>127.0</td>\n",
       "      <td>1.0</td>\n",
       "    </tr>\n",
       "  </tbody>\n",
       "</table>\n",
       "</div>"
      ],
      "text/plain": [
       "   district_id  time  demand  week        date  supply  gap\n",
       "0            1    44      74     5  2016-01-22    70.0  4.0\n",
       "1            1    45     128     5  2016-01-22   127.0  1.0"
      ]
     },
     "execution_count": 127,
     "metadata": {},
     "output_type": "execute_result"
    }
   ],
   "source": [
    "test_order_last_num = test_order.loc[:,['district_id', 'time_1', 'demand', 'week','date','supply', 'gap']]\n",
    "test_order_last_num.rename(columns={'time_1': 'time'}, inplace=True)\n",
    "test_order_last_num[:2]"
   ]
  },
  {
   "cell_type": "code",
   "execution_count": 113,
   "metadata": {
    "collapsed": true
   },
   "outputs": [],
   "source": [
    "# Load test data, get time index\n",
    "test_data = pd.read_csv('season_1/test.csv', header= None)\n",
    "test_data.columns = [\"district_id\", \"Time\",\"gap\"]"
   ]
  },
  {
   "cell_type": "code",
   "execution_count": 117,
   "metadata": {
    "collapsed": false
   },
   "outputs": [
    {
     "data": {
      "text/html": [
       "<div>\n",
       "<table border=\"1\" class=\"dataframe\">\n",
       "  <thead>\n",
       "    <tr style=\"text-align: right;\">\n",
       "      <th></th>\n",
       "      <th>district_id</th>\n",
       "      <th>week</th>\n",
       "      <th>date</th>\n",
       "      <th>time</th>\n",
       "    </tr>\n",
       "  </thead>\n",
       "  <tbody>\n",
       "    <tr>\n",
       "      <th>0</th>\n",
       "      <td>1</td>\n",
       "      <td>5</td>\n",
       "      <td>2016-01-22</td>\n",
       "      <td>46</td>\n",
       "    </tr>\n",
       "    <tr>\n",
       "      <th>1</th>\n",
       "      <td>2</td>\n",
       "      <td>5</td>\n",
       "      <td>2016-01-22</td>\n",
       "      <td>46</td>\n",
       "    </tr>\n",
       "  </tbody>\n",
       "</table>\n",
       "</div>"
      ],
      "text/plain": [
       "   district_id  week        date  time\n",
       "0            1     5  2016-01-22    46\n",
       "1            2     5  2016-01-22    46"
      ]
     },
     "execution_count": 117,
     "metadata": {},
     "output_type": "execute_result"
    }
   ],
   "source": [
    "test_date =  test_data.Time.map(lambda x: x[:10])\n",
    "test_time_slice = pd.to_datetime(test_date, unit='s')\n",
    "\n",
    "test_data[\"week\"] = test_time_slice.map(lambda x: x.isoweekday())\n",
    "test_data[\"date\"] = test_time_slice.map(lambda x: x.date())\n",
    "test_data[\"time\"] = test_data.Time.map(lambda x: x[11:]).map(int)\n",
    "\n",
    "del test_data[\"gap\"]\n",
    "del test_data[\"Time\"]\n",
    "test_data[:2]"
   ]
  },
  {
   "cell_type": "code",
   "execution_count": 118,
   "metadata": {
    "collapsed": false
   },
   "outputs": [
    {
     "name": "stdout",
     "output_type": "stream",
     "text": [
      "<class 'pandas.core.frame.DataFrame'>\n",
      "RangeIndex: 2838 entries, 0 to 2837\n",
      "Data columns (total 4 columns):\n",
      "district_id    2838 non-null int64\n",
      "week           2838 non-null int64\n",
      "date           2838 non-null object\n",
      "time           2838 non-null int64\n",
      "dtypes: int64(3), object(1)\n",
      "memory usage: 88.8+ KB\n"
     ]
    }
   ],
   "source": [
    "test_data.info()"
   ]
  },
  {
   "cell_type": "markdown",
   "metadata": {},
   "source": [
    "### Predict result based on average data in test_data "
   ]
  },
  {
   "cell_type": "code",
   "execution_count": 119,
   "metadata": {
    "collapsed": false
   },
   "outputs": [
    {
     "data": {
      "text/html": [
       "<div>\n",
       "<table border=\"1\" class=\"dataframe\">\n",
       "  <thead>\n",
       "    <tr style=\"text-align: right;\">\n",
       "      <th></th>\n",
       "      <th>district_id</th>\n",
       "      <th>week</th>\n",
       "      <th>date</th>\n",
       "      <th>time</th>\n",
       "      <th>demand</th>\n",
       "      <th>supply</th>\n",
       "      <th>gap</th>\n",
       "    </tr>\n",
       "  </thead>\n",
       "  <tbody>\n",
       "    <tr>\n",
       "      <th>0</th>\n",
       "      <td>1</td>\n",
       "      <td>5</td>\n",
       "      <td>2016-01-22</td>\n",
       "      <td>46</td>\n",
       "      <td>NaN</td>\n",
       "      <td>NaN</td>\n",
       "      <td>NaN</td>\n",
       "    </tr>\n",
       "    <tr>\n",
       "      <th>1</th>\n",
       "      <td>2</td>\n",
       "      <td>5</td>\n",
       "      <td>2016-01-22</td>\n",
       "      <td>46</td>\n",
       "      <td>NaN</td>\n",
       "      <td>NaN</td>\n",
       "      <td>NaN</td>\n",
       "    </tr>\n",
       "  </tbody>\n",
       "</table>\n",
       "</div>"
      ],
      "text/plain": [
       "   district_id  week        date  time  demand  supply  gap\n",
       "0            1     5  2016-01-22    46     NaN     NaN  NaN\n",
       "1            2     5  2016-01-22    46     NaN     NaN  NaN"
      ]
     },
     "execution_count": 119,
     "metadata": {},
     "output_type": "execute_result"
    }
   ],
   "source": [
    "result = test_data.merge(test_data_average_gap, on = ['district_id','week', 'time'], how='left' )\n",
    "result[0:2]"
   ]
  },
  {
   "cell_type": "markdown",
   "metadata": {},
   "source": [
    "## Predict gap based on previous time"
   ]
  },
  {
   "cell_type": "code",
   "execution_count": 139,
   "metadata": {
    "collapsed": false
   },
   "outputs": [
    {
     "name": "stdout",
     "output_type": "stream",
     "text": [
      "<class 'pandas.core.frame.DataFrame'>\n",
      "Int64Index: 7924 entries, 0 to 1658\n",
      "Data columns (total 7 columns):\n",
      "district_id    7924 non-null int64\n",
      "time           7924 non-null int64\n",
      "demand         7924 non-null int64\n",
      "week           7924 non-null int64\n",
      "date           7924 non-null object\n",
      "supply         7924 non-null float64\n",
      "gap            7924 non-null float64\n",
      "dtypes: float64(2), int64(4), object(1)\n",
      "memory usage: 495.2+ KB\n"
     ]
    }
   ],
   "source": [
    "test_order_last_num[['date']] = test_order_last_num[['date']].astype(str)\n",
    "test_order_last_num.info()"
   ]
  },
  {
   "cell_type": "code",
   "execution_count": 140,
   "metadata": {
    "collapsed": false
   },
   "outputs": [
    {
     "name": "stdout",
     "output_type": "stream",
     "text": [
      "<class 'pandas.core.frame.DataFrame'>\n",
      "RangeIndex: 2838 entries, 0 to 2837\n",
      "Data columns (total 4 columns):\n",
      "district_id    2838 non-null int64\n",
      "week           2838 non-null int64\n",
      "date           2838 non-null object\n",
      "time           2838 non-null int64\n",
      "dtypes: int64(3), object(1)\n",
      "memory usage: 88.8+ KB\n"
     ]
    }
   ],
   "source": [
    "test_data[['date']] = test_data[['date']].astype(str)\n",
    "test_data.info()"
   ]
  },
  {
   "cell_type": "code",
   "execution_count": 141,
   "metadata": {
    "collapsed": false
   },
   "outputs": [
    {
     "data": {
      "text/html": [
       "<div>\n",
       "<table border=\"1\" class=\"dataframe\">\n",
       "  <thead>\n",
       "    <tr style=\"text-align: right;\">\n",
       "      <th></th>\n",
       "      <th>district_id</th>\n",
       "      <th>week</th>\n",
       "      <th>date</th>\n",
       "      <th>time</th>\n",
       "      <th>demand</th>\n",
       "      <th>supply</th>\n",
       "      <th>gap</th>\n",
       "    </tr>\n",
       "  </thead>\n",
       "  <tbody>\n",
       "    <tr>\n",
       "      <th>0</th>\n",
       "      <td>1</td>\n",
       "      <td>5</td>\n",
       "      <td>2016-01-22</td>\n",
       "      <td>46</td>\n",
       "      <td>175.0</td>\n",
       "      <td>170.0</td>\n",
       "      <td>5.0</td>\n",
       "    </tr>\n",
       "    <tr>\n",
       "      <th>1</th>\n",
       "      <td>2</td>\n",
       "      <td>5</td>\n",
       "      <td>2016-01-22</td>\n",
       "      <td>46</td>\n",
       "      <td>23.0</td>\n",
       "      <td>22.0</td>\n",
       "      <td>1.0</td>\n",
       "    </tr>\n",
       "    <tr>\n",
       "      <th>2</th>\n",
       "      <td>3</td>\n",
       "      <td>5</td>\n",
       "      <td>2016-01-22</td>\n",
       "      <td>46</td>\n",
       "      <td>4.0</td>\n",
       "      <td>4.0</td>\n",
       "      <td>0.0</td>\n",
       "    </tr>\n",
       "    <tr>\n",
       "      <th>3</th>\n",
       "      <td>4</td>\n",
       "      <td>5</td>\n",
       "      <td>2016-01-22</td>\n",
       "      <td>46</td>\n",
       "      <td>76.0</td>\n",
       "      <td>71.0</td>\n",
       "      <td>5.0</td>\n",
       "    </tr>\n",
       "    <tr>\n",
       "      <th>4</th>\n",
       "      <td>5</td>\n",
       "      <td>5</td>\n",
       "      <td>2016-01-22</td>\n",
       "      <td>46</td>\n",
       "      <td>5.0</td>\n",
       "      <td>5.0</td>\n",
       "      <td>0.0</td>\n",
       "    </tr>\n",
       "  </tbody>\n",
       "</table>\n",
       "</div>"
      ],
      "text/plain": [
       "   district_id  week        date  time  demand  supply  gap\n",
       "0            1     5  2016-01-22    46   175.0   170.0  5.0\n",
       "1            2     5  2016-01-22    46    23.0    22.0  1.0\n",
       "2            3     5  2016-01-22    46     4.0     4.0  0.0\n",
       "3            4     5  2016-01-22    46    76.0    71.0  5.0\n",
       "4            5     5  2016-01-22    46     5.0     5.0  0.0"
      ]
     },
     "execution_count": 141,
     "metadata": {},
     "output_type": "execute_result"
    }
   ],
   "source": [
    "result_last_num = test_data.merge(test_order_last_num, on = ['district_id', 'week','date','time'], how='left' )\n",
    "result_last_num[:5]"
   ]
  },
  {
   "cell_type": "code",
   "execution_count": 142,
   "metadata": {
    "collapsed": false
   },
   "outputs": [
    {
     "name": "stdout",
     "output_type": "stream",
     "text": [
      "<class 'pandas.core.frame.DataFrame'>\n",
      "Int64Index: 2838 entries, 0 to 2837\n",
      "Data columns (total 7 columns):\n",
      "district_id    2838 non-null int64\n",
      "week           2838 non-null int64\n",
      "date           2838 non-null object\n",
      "time           2838 non-null int64\n",
      "demand         2664 non-null float64\n",
      "supply         2664 non-null float64\n",
      "gap            2664 non-null float64\n",
      "dtypes: float64(3), int64(3), object(1)\n",
      "memory usage: 177.4+ KB\n"
     ]
    }
   ],
   "source": [
    "result_last_num.info()"
   ]
  },
  {
   "cell_type": "code",
   "execution_count": 147,
   "metadata": {
    "collapsed": false
   },
   "outputs": [
    {
     "data": {
      "text/html": [
       "<div>\n",
       "<table border=\"1\" class=\"dataframe\">\n",
       "  <thead>\n",
       "    <tr style=\"text-align: right;\">\n",
       "      <th></th>\n",
       "      <th>district_id</th>\n",
       "      <th>week</th>\n",
       "      <th>date</th>\n",
       "      <th>time</th>\n",
       "      <th>demand</th>\n",
       "      <th>supply</th>\n",
       "      <th>gap</th>\n",
       "    </tr>\n",
       "  </thead>\n",
       "  <tbody>\n",
       "    <tr>\n",
       "      <th>127</th>\n",
       "      <td>62</td>\n",
       "      <td>5</td>\n",
       "      <td>2016-01-22</td>\n",
       "      <td>58</td>\n",
       "      <td>NaN</td>\n",
       "      <td>NaN</td>\n",
       "      <td>NaN</td>\n",
       "    </tr>\n",
       "    <tr>\n",
       "      <th>128</th>\n",
       "      <td>63</td>\n",
       "      <td>5</td>\n",
       "      <td>2016-01-22</td>\n",
       "      <td>58</td>\n",
       "      <td>NaN</td>\n",
       "      <td>NaN</td>\n",
       "      <td>NaN</td>\n",
       "    </tr>\n",
       "    <tr>\n",
       "      <th>146</th>\n",
       "      <td>15</td>\n",
       "      <td>5</td>\n",
       "      <td>2016-01-22</td>\n",
       "      <td>70</td>\n",
       "      <td>NaN</td>\n",
       "      <td>NaN</td>\n",
       "      <td>NaN</td>\n",
       "    </tr>\n",
       "    <tr>\n",
       "      <th>181</th>\n",
       "      <td>50</td>\n",
       "      <td>5</td>\n",
       "      <td>2016-01-22</td>\n",
       "      <td>70</td>\n",
       "      <td>NaN</td>\n",
       "      <td>NaN</td>\n",
       "      <td>NaN</td>\n",
       "    </tr>\n",
       "    <tr>\n",
       "      <th>183</th>\n",
       "      <td>52</td>\n",
       "      <td>5</td>\n",
       "      <td>2016-01-22</td>\n",
       "      <td>70</td>\n",
       "      <td>NaN</td>\n",
       "      <td>NaN</td>\n",
       "      <td>NaN</td>\n",
       "    </tr>\n",
       "    <tr>\n",
       "      <th>194</th>\n",
       "      <td>63</td>\n",
       "      <td>5</td>\n",
       "      <td>2016-01-22</td>\n",
       "      <td>70</td>\n",
       "      <td>NaN</td>\n",
       "      <td>NaN</td>\n",
       "      <td>NaN</td>\n",
       "    </tr>\n",
       "    <tr>\n",
       "      <th>212</th>\n",
       "      <td>15</td>\n",
       "      <td>5</td>\n",
       "      <td>2016-01-22</td>\n",
       "      <td>82</td>\n",
       "      <td>NaN</td>\n",
       "      <td>NaN</td>\n",
       "      <td>NaN</td>\n",
       "    </tr>\n",
       "    <tr>\n",
       "      <th>247</th>\n",
       "      <td>50</td>\n",
       "      <td>5</td>\n",
       "      <td>2016-01-22</td>\n",
       "      <td>82</td>\n",
       "      <td>NaN</td>\n",
       "      <td>NaN</td>\n",
       "      <td>NaN</td>\n",
       "    </tr>\n",
       "    <tr>\n",
       "      <th>259</th>\n",
       "      <td>62</td>\n",
       "      <td>5</td>\n",
       "      <td>2016-01-22</td>\n",
       "      <td>82</td>\n",
       "      <td>NaN</td>\n",
       "      <td>NaN</td>\n",
       "      <td>NaN</td>\n",
       "    </tr>\n",
       "    <tr>\n",
       "      <th>260</th>\n",
       "      <td>63</td>\n",
       "      <td>5</td>\n",
       "      <td>2016-01-22</td>\n",
       "      <td>82</td>\n",
       "      <td>NaN</td>\n",
       "      <td>NaN</td>\n",
       "      <td>NaN</td>\n",
       "    </tr>\n",
       "    <tr>\n",
       "      <th>313</th>\n",
       "      <td>50</td>\n",
       "      <td>5</td>\n",
       "      <td>2016-01-22</td>\n",
       "      <td>94</td>\n",
       "      <td>NaN</td>\n",
       "      <td>NaN</td>\n",
       "      <td>NaN</td>\n",
       "    </tr>\n",
       "    <tr>\n",
       "      <th>325</th>\n",
       "      <td>62</td>\n",
       "      <td>5</td>\n",
       "      <td>2016-01-22</td>\n",
       "      <td>94</td>\n",
       "      <td>NaN</td>\n",
       "      <td>NaN</td>\n",
       "      <td>NaN</td>\n",
       "    </tr>\n",
       "    <tr>\n",
       "      <th>326</th>\n",
       "      <td>63</td>\n",
       "      <td>5</td>\n",
       "      <td>2016-01-22</td>\n",
       "      <td>94</td>\n",
       "      <td>NaN</td>\n",
       "      <td>NaN</td>\n",
       "      <td>NaN</td>\n",
       "    </tr>\n",
       "    <tr>\n",
       "      <th>344</th>\n",
       "      <td>15</td>\n",
       "      <td>5</td>\n",
       "      <td>2016-01-22</td>\n",
       "      <td>106</td>\n",
       "      <td>NaN</td>\n",
       "      <td>NaN</td>\n",
       "      <td>NaN</td>\n",
       "    </tr>\n",
       "    <tr>\n",
       "      <th>381</th>\n",
       "      <td>52</td>\n",
       "      <td>5</td>\n",
       "      <td>2016-01-22</td>\n",
       "      <td>106</td>\n",
       "      <td>NaN</td>\n",
       "      <td>NaN</td>\n",
       "      <td>NaN</td>\n",
       "    </tr>\n",
       "  </tbody>\n",
       "</table>\n",
       "</div>"
      ],
      "text/plain": [
       "     district_id  week        date  time  demand  supply  gap\n",
       "127           62     5  2016-01-22    58     NaN     NaN  NaN\n",
       "128           63     5  2016-01-22    58     NaN     NaN  NaN\n",
       "146           15     5  2016-01-22    70     NaN     NaN  NaN\n",
       "181           50     5  2016-01-22    70     NaN     NaN  NaN\n",
       "183           52     5  2016-01-22    70     NaN     NaN  NaN\n",
       "194           63     5  2016-01-22    70     NaN     NaN  NaN\n",
       "212           15     5  2016-01-22    82     NaN     NaN  NaN\n",
       "247           50     5  2016-01-22    82     NaN     NaN  NaN\n",
       "259           62     5  2016-01-22    82     NaN     NaN  NaN\n",
       "260           63     5  2016-01-22    82     NaN     NaN  NaN\n",
       "313           50     5  2016-01-22    94     NaN     NaN  NaN\n",
       "325           62     5  2016-01-22    94     NaN     NaN  NaN\n",
       "326           63     5  2016-01-22    94     NaN     NaN  NaN\n",
       "344           15     5  2016-01-22   106     NaN     NaN  NaN\n",
       "381           52     5  2016-01-22   106     NaN     NaN  NaN"
      ]
     },
     "execution_count": 147,
     "metadata": {},
     "output_type": "execute_result"
    }
   ],
   "source": [
    "resultnull = result_last_num[result_last_num.gap.isnull()]\n",
    "resultnull[:15]"
   ]
  },
  {
   "cell_type": "code",
   "execution_count": 143,
   "metadata": {
    "collapsed": false
   },
   "outputs": [
    {
     "data": {
      "text/plain": [
       "<matplotlib.legend.Legend at 0xc1b1a58>"
      ]
     },
     "execution_count": 143,
     "metadata": {},
     "output_type": "execute_result"
    },
    {
     "data": {
      "image/png": "[encoded data removed]",
      "text/plain": [
       "<matplotlib.figure.Figure at 0xd3f2080>"
      ]
     },
     "metadata": {},
     "output_type": "display_data"
    }
   ],
   "source": [
    "for date, drp in result_last_num.groupby('date'):\n",
    "    plt.plot(drp.groupby('time').demand.mean(), label=str(date))\n",
    "plt.legend()"
   ]
  },
  {
   "cell_type": "code",
   "execution_count": 123,
   "metadata": {
    "collapsed": false
   },
   "outputs": [
    {
     "name": "stdout",
     "output_type": "stream",
     "text": [
      "<class 'pandas.core.frame.DataFrame'>\n",
      "Int64Index: 2838 entries, 0 to 2837\n",
      "Data columns (total 8 columns):\n",
      "district_id    2838 non-null int64\n",
      "week           2838 non-null int64\n",
      "date           2838 non-null object\n",
      "time           2838 non-null int64\n",
      "demand         2664 non-null float64\n",
      "supply         2664 non-null float64\n",
      "gap            2664 non-null float64\n",
      "Time           2838 non-null object\n",
      "dtypes: float64(3), int64(3), object(2)\n",
      "memory usage: 199.5+ KB\n"
     ]
    }
   ],
   "source": [
    "result_last_num.info()"
   ]
  },
  {
   "cell_type": "code",
   "execution_count": 122,
   "metadata": {
    "collapsed": false
   },
   "outputs": [
    {
     "name": "stdout",
     "output_type": "stream",
     "text": [
      "<class 'pandas.core.frame.DataFrame'>\n",
      "Int64Index: 2838 entries, 0 to 2837\n",
      "Data columns (total 3 columns):\n",
      "district_id    2838 non-null int64\n",
      "Time           2838 non-null object\n",
      "gap            2664 non-null float64\n",
      "dtypes: float64(1), int64(1), object(1)\n",
      "memory usage: 88.7+ KB\n"
     ]
    }
   ],
   "source": [
    "# Reformat to meet the submit format\n",
    "result_last_num['Time'] = result_last_num['date'].map(str) + '-' + result_last_num['time'].map(str)\n",
    "result_last_num_data = result_last_num.loc[:, ['district_id', 'Time', 'gap']]\n",
    "result_last_num_data.info()"
   ]
  },
  {
   "cell_type": "code",
   "execution_count": null,
   "metadata": {
    "collapsed": true
   },
   "outputs": [],
   "source": []
  }
 ],
 "metadata": {
  "kernelspec": {
   "display_name": "Python 2",
   "language": "python",
   "name": "python2"
  },
  "language_info": {
   "codemirror_mode": {
    "name": "ipython",
    "version": 2
   },
   "file_extension": ".py",
   "mimetype": "text/x-python",
   "name": "python",
   "nbconvert_exporter": "python",
   "pygments_lexer": "ipython2",
   "version": "2.7.11"
  }
 },
 "nbformat": 4,
 "nbformat_minor": 0
}
