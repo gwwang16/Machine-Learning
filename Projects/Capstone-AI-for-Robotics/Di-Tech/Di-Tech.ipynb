{
 "cells": [
  {
   "cell_type": "markdown",
   "metadata": {},
   "source": [
    "# Di-Tech "
   ]
  },
  {
   "cell_type": "code",
   "execution_count": 1,
   "metadata": {
    "collapsed": true
   },
   "outputs": [],
   "source": [
    "import numpy as np\n",
    "import pandas as pd\n",
    "import matplotlib.pyplot as plt"
   ]
  },
  {
   "cell_type": "markdown",
   "metadata": {},
   "source": [
    "## Load Data"
   ]
  },
  {
   "cell_type": "markdown",
   "metadata": {},
   "source": [
    "### Order Info Load Test"
   ]
  },
  {
   "cell_type": "code",
   "execution_count": 2,
   "metadata": {
    "collapsed": true
   },
   "outputs": [],
   "source": [
    "order_1 = pd.read_csv('season_1/training_data/order_data/order_data_2016-01-01', \n",
    "                      delimiter='\\t',header=None)\n",
    "order_1.columns = [\"order_id\", \"driver_id\",\"passenger_id\",\"start_district_hash\", \n",
    "                   \"dest_district_hash\", \"Price\",\"Time\"]"
   ]
  },
  {
   "cell_type": "code",
   "execution_count": 3,
   "metadata": {
    "collapsed": false
   },
   "outputs": [
    {
     "data": {
      "text/html": [
       "<div>\n",
       "<table border=\"1\" class=\"dataframe\">\n",
       "  <thead>\n",
       "    <tr style=\"text-align: right;\">\n",
       "      <th></th>\n",
       "      <th>order_id</th>\n",
       "      <th>driver_id</th>\n",
       "      <th>passenger_id</th>\n",
       "      <th>start_district_hash</th>\n",
       "      <th>dest_district_hash</th>\n",
       "      <th>Price</th>\n",
       "      <th>Time</th>\n",
       "    </tr>\n",
       "  </thead>\n",
       "  <tbody>\n",
       "    <tr>\n",
       "      <th>0</th>\n",
       "      <td>97ebd0c6680f7c0535dbfdead6e51b4b</td>\n",
       "      <td>dd65fa250fca2833a3a8c16d2cf0457c</td>\n",
       "      <td>ed180d7daf639d936f1aeae4f7fb482f</td>\n",
       "      <td>4725c39a5e5f4c188d382da3910b3f3f</td>\n",
       "      <td>3e12208dd0be281c92a6ab57d9a6fb32</td>\n",
       "      <td>24.0</td>\n",
       "      <td>2016-01-01 13:37:23</td>\n",
       "    </tr>\n",
       "    <tr>\n",
       "      <th>1</th>\n",
       "      <td>92c3ac9251cc9b5aab90b114a1e363be</td>\n",
       "      <td>c077e0297639edcb1df6189e8cda2c3d</td>\n",
       "      <td>191a180f0a262aff3267775c4fac8972</td>\n",
       "      <td>82cc4851f9e4faa4e54309f8bb73fd7c</td>\n",
       "      <td>b05379ac3f9b7d99370d443cfd5dcc28</td>\n",
       "      <td>2.0</td>\n",
       "      <td>2016-01-01 09:47:54</td>\n",
       "    </tr>\n",
       "    <tr>\n",
       "      <th>2</th>\n",
       "      <td>abeefc3e2aec952468e2fd42a1649640</td>\n",
       "      <td>86dbc1b68de435957c61b5a523854b69</td>\n",
       "      <td>7029e813bb3de8cc73a8615e2785070c</td>\n",
       "      <td>fff4e8465d1e12621bc361276b6217cf</td>\n",
       "      <td>fff4e8465d1e12621bc361276b6217cf</td>\n",
       "      <td>9.0</td>\n",
       "      <td>2016-01-01 18:24:02</td>\n",
       "    </tr>\n",
       "    <tr>\n",
       "      <th>3</th>\n",
       "      <td>cb31d0be64cda3cc66b46617bf49a05c</td>\n",
       "      <td>4fadfa6eeaa694742de036dddf02b0c4</td>\n",
       "      <td>21dc133ac68e4c07803d1c2f48988a83</td>\n",
       "      <td>4b7f6f4e2bf237b6cc58f57142bea5c0</td>\n",
       "      <td>4b7f6f4e2bf237b6cc58f57142bea5c0</td>\n",
       "      <td>11.0</td>\n",
       "      <td>2016-01-01 22:13:27</td>\n",
       "    </tr>\n",
       "    <tr>\n",
       "      <th>4</th>\n",
       "      <td>139d492189ae5a933122c098f63252b3</td>\n",
       "      <td>NaN</td>\n",
       "      <td>26963cc76da2d8450d8f23fc357db987</td>\n",
       "      <td>fc34648599753c9e74ab238e9a4a07ad</td>\n",
       "      <td>87285a66236346350541b8815c5fae94</td>\n",
       "      <td>4.0</td>\n",
       "      <td>2016-01-01 17:00:06</td>\n",
       "    </tr>\n",
       "  </tbody>\n",
       "</table>\n",
       "</div>"
      ],
      "text/plain": [
       "                           order_id                         driver_id  \\\n",
       "0  97ebd0c6680f7c0535dbfdead6e51b4b  dd65fa250fca2833a3a8c16d2cf0457c   \n",
       "1  92c3ac9251cc9b5aab90b114a1e363be  c077e0297639edcb1df6189e8cda2c3d   \n",
       "2  abeefc3e2aec952468e2fd42a1649640  86dbc1b68de435957c61b5a523854b69   \n",
       "3  cb31d0be64cda3cc66b46617bf49a05c  4fadfa6eeaa694742de036dddf02b0c4   \n",
       "4  139d492189ae5a933122c098f63252b3                               NaN   \n",
       "\n",
       "                       passenger_id               start_district_hash  \\\n",
       "0  ed180d7daf639d936f1aeae4f7fb482f  4725c39a5e5f4c188d382da3910b3f3f   \n",
       "1  191a180f0a262aff3267775c4fac8972  82cc4851f9e4faa4e54309f8bb73fd7c   \n",
       "2  7029e813bb3de8cc73a8615e2785070c  fff4e8465d1e12621bc361276b6217cf   \n",
       "3  21dc133ac68e4c07803d1c2f48988a83  4b7f6f4e2bf237b6cc58f57142bea5c0   \n",
       "4  26963cc76da2d8450d8f23fc357db987  fc34648599753c9e74ab238e9a4a07ad   \n",
       "\n",
       "                 dest_district_hash  Price                 Time  \n",
       "0  3e12208dd0be281c92a6ab57d9a6fb32   24.0  2016-01-01 13:37:23  \n",
       "1  b05379ac3f9b7d99370d443cfd5dcc28    2.0  2016-01-01 09:47:54  \n",
       "2  fff4e8465d1e12621bc361276b6217cf    9.0  2016-01-01 18:24:02  \n",
       "3  4b7f6f4e2bf237b6cc58f57142bea5c0   11.0  2016-01-01 22:13:27  \n",
       "4  87285a66236346350541b8815c5fae94    4.0  2016-01-01 17:00:06  "
      ]
     },
     "execution_count": 3,
     "metadata": {},
     "output_type": "execute_result"
    }
   ],
   "source": [
    "order_1.head()"
   ]
  },
  {
   "cell_type": "code",
   "execution_count": 4,
   "metadata": {
    "collapsed": false
   },
   "outputs": [
    {
     "name": "stdout",
     "output_type": "stream",
     "text": [
      "<class 'pandas.core.frame.DataFrame'>\n",
      "RangeIndex: 501287 entries, 0 to 501286\n",
      "Data columns (total 7 columns):\n",
      "order_id               501287 non-null object\n",
      "driver_id              325577 non-null object\n",
      "passenger_id           501287 non-null object\n",
      "start_district_hash    501287 non-null object\n",
      "dest_district_hash     501287 non-null object\n",
      "Price                  501287 non-null float64\n",
      "Time                   501287 non-null object\n",
      "dtypes: float64(1), object(6)\n",
      "memory usage: 26.8+ MB\n"
     ]
    }
   ],
   "source": [
    "order_1.info()"
   ]
  },
  {
   "cell_type": "markdown",
   "metadata": {},
   "source": [
    "## idea:\n",
    "\n",
    "How to load all the data in one csv.\n",
    "\n",
    "data = data.drop_duplicates()\n"
   ]
  },
  {
   "cell_type": "code",
   "execution_count": null,
   "metadata": {
    "collapsed": true
   },
   "outputs": [],
   "source": []
  }
 ],
 "metadata": {
  "kernelspec": {
   "display_name": "Python 2",
   "language": "python",
   "name": "python2"
  },
  "language_info": {
   "codemirror_mode": {
    "name": "ipython",
    "version": 2
   },
   "file_extension": ".py",
   "mimetype": "text/x-python",
   "name": "python",
   "nbconvert_exporter": "python",
   "pygments_lexer": "ipython2",
   "version": "2.7.11"
  }
 },
 "nbformat": 4,
 "nbformat_minor": 0
}
